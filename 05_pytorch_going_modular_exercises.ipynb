{
  "nbformat": 4,
  "nbformat_minor": 0,
  "metadata": {
    "colab": {
      "provenance": [],
      "gpuType": "T4",
      "include_colab_link": true
    },
    "kernelspec": {
      "name": "python3",
      "display_name": "Python 3"
    },
    "language_info": {
      "name": "python"
    },
    "accelerator": "GPU"
  },
  "cells": [
    {
      "cell_type": "markdown",
      "metadata": {
        "id": "view-in-github",
        "colab_type": "text"
      },
      "source": [
        "<a href=\"https://colab.research.google.com/github/juanpajedrez/pytorch_learning/blob/main/05_pytorch_going_modular_exercises.ipynb\" target=\"_parent\"><img src=\"https://colab.research.google.com/assets/colab-badge.svg\" alt=\"Open In Colab\"/></a>"
      ]
    },
    {
      "cell_type": "markdown",
      "source": [
        "# 05. PyTorch Going Modular Exercises\n",
        "\n",
        "Welcome to the 05. PyTorch Going Modular exercise template notebook.\n",
        "\n",
        "There are several questions in this notebook and it's your goal to answer them by writing Python and PyTorch code.\n",
        "\n",
        "> **Note:** There may be more than one solution to each of the exercises, don't worry too much about the *exact* right answer. Try to write some code that works first and then improve it if you can.\n",
        "\n",
        "## Resources and solutions\n",
        "\n",
        "* These exercises/solutions are based on [section 05. PyTorch Going Modular](https://www.learnpytorch.io/05_pytorch_going_modular/) of the Learn PyTorch for Deep Learning course by Zero to Mastery.\n",
        "\n",
        "**Solutions:**\n",
        "\n",
        "Try to complete the code below *before* looking at these.\n",
        "\n",
        "* See a live [walkthrough of the solutions (errors and all) on YouTube](https://youtu.be/ijgFhMK3pp4).\n",
        "* See an example [solutions notebook for these exercises on GitHub](https://github.com/mrdbourke/pytorch-deep-learning/blob/main/extras/solutions/05_pytorch_going_modular_exercise_solutions.ipynb)."
      ],
      "metadata": {
        "id": "zNqPNlYylluR"
      }
    },
    {
      "cell_type": "markdown",
      "source": [
        "## 1. Turn the code to get the data (from section 1. Get Data) into a Python script, such as `get_data.py`.\n",
        "\n",
        "* When you run the script using `python get_data.py` it should check if the data already exists and skip downloading if it does.\n",
        "* If the data download is successful, you should be able to access the `pizza_steak_sushi` images from the `data` directory."
      ],
      "metadata": {
        "id": "bicbWSrPmfTU"
      }
    },
    {
      "cell_type": "code",
      "source": [
        "# Let's create a src folder\n",
        "import os\n",
        "\n",
        "if os.path.exists(os.path.join(os.getcwd(), \"src\")) == False:\n",
        "  os.makedirs(\"src\")"
      ],
      "metadata": {
        "id": "yw11YPxXgZgP"
      },
      "execution_count": 1,
      "outputs": []
    },
    {
      "cell_type": "code",
      "source": [
        "# YOUR CODE HERE\n",
        "%%writefile src/get_data.py\n",
        "'''\n",
        "Contains functionality to download the pizza, steak, sushi dataset\n",
        "'''\n",
        "\n",
        "import os\n",
        "import zipfile\n",
        "from pathlib import Path\n",
        "import requests\n",
        "\n",
        "# Setup path to data folder\n",
        "data_path = Path(\"data/\")\n",
        "image_path = data_path / \"pizza_steak_sushi\"\n",
        "\n",
        "# If the image folder doesn't exist, download it and prepare it.\n",
        "if image_path.is_dir():\n",
        "  print(f\"{image_path} directory exists\")\n",
        "else:\n",
        "  print(f\"Did not find {image_path}, creating one\")\n",
        "  image_path.mkdir(parents=True, exist_ok = True)\n",
        "\n",
        "# Donwload pizz, steak, sushi data\n",
        "with open(data_path / \"pizza_steak_sushi.zip\", \"wb\") as f:\n",
        "  request = requests.get(\"https://github.com/mrdbourke/pytorch-deep-learning/raw/main/data/pizza_steak_sushi.zip\")\n",
        "  print(\"Downloading pizza, steak, and sushi data\")\n",
        "  f.write(request.content)\n",
        "\n",
        "#Unzip pizza, steak, sushi data\n",
        "with zipfile.ZipFile(data_path / \"pizza_steak_sushi.zip\", \"r\") as zip_ref:\n",
        "  print(\"Unzipping pizza, steak sushi data\")\n",
        "  zip_ref.extractall(image_path)\n",
        "\n",
        "#Remove zip file\n",
        "os.remove(data_path / \"pizza_steak_sushi.zip\")"
      ],
      "metadata": {
        "id": "r0BCn1XIYZ8c",
        "colab": {
          "base_uri": "https://localhost:8080/"
        },
        "outputId": "611f3579-f748-4ddd-aad9-c5bd4e4914b9"
      },
      "execution_count": 2,
      "outputs": [
        {
          "output_type": "stream",
          "name": "stdout",
          "text": [
            "Writing src/get_data.py\n"
          ]
        }
      ]
    },
    {
      "cell_type": "code",
      "source": [
        "# Example running of get_data.py\n",
        "!python src/get_data.py"
      ],
      "metadata": {
        "id": "_LrUOIC-YOP9",
        "colab": {
          "base_uri": "https://localhost:8080/"
        },
        "outputId": "7396bb37-e945-4d5d-b480-da0accdf06bc"
      },
      "execution_count": 3,
      "outputs": [
        {
          "output_type": "stream",
          "name": "stdout",
          "text": [
            "Did not find data/pizza_steak_sushi, creating one\n",
            "Downloading pizza, steak, and sushi data\n",
            "Unzipping pizza, steak sushi data\n"
          ]
        }
      ]
    },
    {
      "cell_type": "markdown",
      "source": [
        "## 2. Use [Python's `argparse` module](https://docs.python.org/3/library/argparse.html) to be able to send the `train.py` custom hyperparameter values for training procedures.\n",
        "* Add an argument flag for using a different:\n",
        "  * Training/testing directory\n",
        "  * Learning rate\n",
        "  * Batch size\n",
        "  * Number of epochs to train for\n",
        "  * Number of hidden units in the TinyVGG model\n",
        "    * Keep the default values for each of the above arguments as what they already are (as in notebook 05).\n",
        "* For example, you should be able to run something similar to the following line to train a TinyVGG model with a learning rate of 0.003 and a batch size of 64 for 20 epochs: `python train.py --learning_rate 0.003 batch_size 64 num_epochs 20`.\n",
        "* **Note:** Since `train.py` leverages the other scripts we created in section 05, such as, `model_builder.py`, `utils.py` and `engine.py`, you'll have to make sure they're available to use too. You can find these in the [`going_modular` folder on the course GitHub](https://github.com/mrdbourke/pytorch-deep-learning/tree/main/going_modular/going_modular)."
      ],
      "metadata": {
        "id": "zjyn7LU3mvkR"
      }
    },
    {
      "cell_type": "markdown",
      "source": [
        "### Testing & Learning: create `data_setup.py` with a function called create_dataloaders."
      ],
      "metadata": {
        "id": "orGNObA-L79e"
      }
    },
    {
      "cell_type": "code",
      "source": [
        "%%writefile src/data_setup.py\n",
        "'''\n",
        "Contains functionality for creating PyTorch DataLoaders for\n",
        "image classification data,\n",
        "'''\n",
        "\n",
        "import os\n",
        "from torchvision import datasets, transforms\n",
        "from torch.utils.data import DataLoader\n",
        "\n",
        "NUM_WORKERS = os.cpu_count()\n",
        "def create_dataloaders(\n",
        "    train_dir:str,\n",
        "    test_dir:str,\n",
        "    transform:transforms.Compose,\n",
        "    batch_size:int,\n",
        "    num_workers:int = NUM_WORKERS\n",
        "):\n",
        "  '''\n",
        "  Creates training and testing DataLoaders.\n",
        "\n",
        "  Takes in a training directory and testing directory path and turns them into\n",
        "  PyTorch Datasets and then into PyTorch DataLoaders.\n",
        "\n",
        "  Args:\n",
        "    train_dir: Path to training directory.\n",
        "    test_dir: Path to testing directory.\n",
        "    transform: torchvision transforms to perform on training and testing data.\n",
        "    batch_size: Number of samples per batch in each of the DataLoaders.\n",
        "    num_workers: An integer for number of workers per DataLoader.\n",
        "\n",
        "  Returns:\n",
        "    A tuple (train_dataloader, test_dataloader, class_names).\n",
        "    Where class_names is a lit of the target classes.\n",
        "\n",
        "  Example usage:\n",
        "    train_dataloader, test_dataloader, class_names =\n",
        "      create_dataloaders(train_dir=path/to/train_dir,\n",
        "      test_dir=path/to/test_dir,\n",
        "      transform=some_transform,\n",
        "      batch_size=32,\n",
        "      num_workers=4)\n",
        "  '''\n",
        "  # Create a simple transform\n",
        "  data_transform = transforms.Compose([\n",
        "      transforms.Resize((64, 64)),\n",
        "      transforms.ToTensor(),\n",
        "  ])\n",
        "\n",
        "  # Use ImageFolder to create dataset(s)\n",
        "  train_data = datasets.ImageFolder(root=train_dir,\n",
        "                                    transform=data_transform,\n",
        "                                    target_transform=None)\n",
        "\n",
        "  test_data = datasets.ImageFolder(root=test_dir,\n",
        "                                  transform=data_transform)\n",
        "\n",
        "  # Get the class names\n",
        "  class_names = train_data.classes\n",
        "\n",
        "  # Create train and test dataloaders\n",
        "  train_dataloader = DataLoader(\n",
        "      dataset=train_data,\n",
        "      batch_size = batch_size,\n",
        "      shuffle = True,\n",
        "      num_workers = num_workers,\n",
        "      pin_memory = True\n",
        "  )\n",
        "\n",
        "  test_dataloader = DataLoader(\n",
        "    dataset=test_data,\n",
        "    batch_size=batch_size,\n",
        "    num_workers=num_workers,\n",
        "    shuffle=False,\n",
        "    pin_memory=True)\n",
        "\n",
        "  return train_dataloader, test_dataloader, class_names"
      ],
      "metadata": {
        "colab": {
          "base_uri": "https://localhost:8080/"
        },
        "id": "MKT2ETXBMF0X",
        "outputId": "28302d01-b81d-4ab2-e9dc-9d73b6b8b246"
      },
      "execution_count": 4,
      "outputs": [
        {
          "output_type": "stream",
          "name": "stdout",
          "text": [
            "Writing src/data_setup.py\n"
          ]
        }
      ]
    },
    {
      "cell_type": "markdown",
      "source": [
        "### Testing and learning: Creating a model (TinyVGG) with a script (`model_builder.py`)."
      ],
      "metadata": {
        "id": "zXZZP4GxjsyD"
      }
    },
    {
      "cell_type": "code",
      "source": [
        "%%writefile src/model_builder.py\n",
        "'''\n",
        "Contains PyTorch model to instantiage a TinyVGG model from\n",
        "CNN Explainer website:\n",
        "https://poloclub.github.io/cnn-explainer/\n",
        "'''\n",
        "import torch\n",
        "from torch import nn\n",
        "\n",
        "class TinyVGG(nn.Module):\n",
        "  '''\n",
        "  Creates the TinyVGG Architecture.\n",
        "\n",
        "  Replicates the TinyVGG architecture from the CNN explainer website in PyTorch.\n",
        "  See the original architecture here: https://poloclub.github.io/cnn-explainer/\n",
        "\n",
        "  Args:\n",
        "    input_shape: An integer indicating number of input channels.\n",
        "    hidden_units: An integer indicating number of hidden units between layers.\n",
        "    output_shape: An integer indicating number of output units.\n",
        "  '''\n",
        "  def __init__(self, input_shape:int, hidden_units:int, output_shape:int) -> None:\n",
        "    super().__init__()\n",
        "    self.conv_block_1 = nn.Sequential(\n",
        "        nn.Conv2d(in_channels=input_shape,\n",
        "                  out_channels=hidden_units,\n",
        "                  kernel_size=3, # how big is the square that's going over the image?\n",
        "                  stride=1, # default\n",
        "                  padding=0), # options = \"valid\" (no padding) or \"same\" (output has same shape as input) or int for specific number\n",
        "        nn.ReLU(),\n",
        "        nn.Conv2d(in_channels=hidden_units,\n",
        "                  out_channels=hidden_units,\n",
        "                  kernel_size=3,\n",
        "                  stride=1,\n",
        "                  padding=0),\n",
        "        nn.ReLU(),\n",
        "        nn.MaxPool2d(kernel_size=2,\n",
        "                      stride=2) # default stride value is same as kernel_size\n",
        "    )\n",
        "    self.conv_block_2 = nn.Sequential(\n",
        "        nn.Conv2d(hidden_units, hidden_units, kernel_size=3, padding=0),\n",
        "        nn.ReLU(),\n",
        "        nn.Conv2d(hidden_units, hidden_units, kernel_size=3, padding=0),\n",
        "        nn.ReLU(),\n",
        "        nn.MaxPool2d(2)\n",
        "    )\n",
        "    self.classifier = nn.Sequential(\n",
        "        nn.Flatten(),\n",
        "        # Where did this in_features shape come from?\n",
        "        # It's because each layer of our network compresses and changes the shape of our inputs data.\n",
        "        nn.Linear(in_features=hidden_units*13*13,\n",
        "                  out_features=output_shape)\n",
        "    )\n",
        "\n",
        "  def forward(self, x: torch.Tensor):\n",
        "    x = self.conv_block_1(x)\n",
        "    x = self.conv_block_2(x)\n",
        "    x = self.classifier(x)\n",
        "    return x"
      ],
      "metadata": {
        "id": "MKNDUp45YaW-",
        "colab": {
          "base_uri": "https://localhost:8080/"
        },
        "outputId": "6f5bbb31-af57-4b6e-d0e5-93d64bc3d098"
      },
      "execution_count": 5,
      "outputs": [
        {
          "output_type": "stream",
          "name": "stdout",
          "text": [
            "Writing src/model_builder.py\n"
          ]
        }
      ]
    },
    {
      "cell_type": "markdown",
      "source": [
        "### Testing and learning: create `engine.py` using `train_step`, `test_step`, and `train` cells."
      ],
      "metadata": {
        "id": "88MKBMmImx07"
      }
    },
    {
      "cell_type": "code",
      "source": [
        "%%writefile src/engine.py\n",
        "'''\n",
        "This trains a PyTorch image classification model using device-agnostic\n",
        "code.\n",
        "'''\n",
        "import torch\n",
        "from typing import Tuple, Dict, List\n",
        "from tqdm import tqdm\n",
        "\n",
        "def train_step(model:torch.nn.Module,\n",
        "               dataloader:torch.utils.data.DataLoader,\n",
        "               loss_fn:torch.nn.Module,\n",
        "               optimizer:torch.optim.Optimizer,\n",
        "               device:torch.device) -> Tuple[float, float]:\n",
        "  \"\"\"Trains a PyTorch model for a single epoch.\n",
        "\n",
        "  Turns a target PyTorch model to training mode and then\n",
        "  runs through all of the required training steps (forward\n",
        "  pass, loss calculation, optimizer step).\n",
        "\n",
        "  Args:\n",
        "    model: A PyTorch model to be trained.\n",
        "    dataloader: A DataLoader instance for the model to be trained on.\n",
        "    loss_fn: A PyTorch loss function to minimize.\n",
        "    optimizer: A PyTorch optimizer to help minimize the loss function.\n",
        "    device: A target device to compute on (e.g. \"cuda\" or \"cpu\").\n",
        "\n",
        "  Returns:\n",
        "    A tuple of training loss and training accuracy metrics.\n",
        "    In the form (train_loss, train_accuracy). For example:\n",
        "\n",
        "    (0.1112, 0.8743)\n",
        "\n",
        "  \"\"\"\n",
        "  # Put model in train mode\n",
        "  model.train()\n",
        "\n",
        "  # Setup train loss and train accuracy values\n",
        "  train_loss, train_acc = 0, 0\n",
        "\n",
        "  # Loop through data loader data batches\n",
        "  for batch, (X, y) in enumerate(dataloader):\n",
        "    # Send data to target device\n",
        "    X, y = X.to(device), y.to(device)\n",
        "\n",
        "    # 1. Forward pass\n",
        "    y_pred = model(X)\n",
        "\n",
        "    # 2. Calculate the accumulate loss\n",
        "    loss = loss_fn(y_pred, y)\n",
        "    train_loss += loss.item()\n",
        "\n",
        "    # 3. Optimizer zero grad\n",
        "    optimizer.zero_grad()\n",
        "\n",
        "    # 4. Loss backward\n",
        "    loss.backward()\n",
        "\n",
        "    # 5. Optimizer step, step, step\n",
        "    optimizer.step()\n",
        "\n",
        "    # Calculate and accumulate accuracy metric across all batches\n",
        "    y_pred_class = torch.argmax(torch.softmax(y_pred, dim = 1), dim = 1)\n",
        "    train_acc += (y_pred_class == y).sum().item()/len(y_pred)\n",
        "\n",
        "  # Adjust metrics to get average loss and accuracy per batch\n",
        "  train_loss = train_loss / len(dataloader)\n",
        "  train_acc = train_acc / len(dataloader)\n",
        "  return train_loss, train_acc\n",
        "\n",
        "def test_step(model: torch.nn.Module,\n",
        "              dataloader: torch.utils.data.DataLoader,\n",
        "              loss_fn: torch.nn.Module,\n",
        "              device: torch.device) -> Tuple[float, float]:\n",
        "  \"\"\"Tests a PyTorch model for a single epoch.\n",
        "\n",
        "  Turns a target PyTorch model to \"eval\" mode and then performs\n",
        "  a forward pass on a testing dataset.\n",
        "\n",
        "  Args:\n",
        "    model: A PyTorch model to be tested.\n",
        "    dataloader: A DataLoader instance for the model to be tested on.\n",
        "    loss_fn: A PyTorch loss function to calculate loss on the test data.\n",
        "    device: A target device to compute on (e.g. \"cuda\" or \"cpu\").\n",
        "\n",
        "  Returns:\n",
        "    A tuple of testing loss and testing accuracy metrics.\n",
        "    In the form (test_loss, test_accuracy). For example:\n",
        "\n",
        "    (0.0223, 0.8985)\n",
        "  \"\"\"\n",
        "  # Put the model in eval mode\n",
        "  model.eval()\n",
        "\n",
        "  # Setup test loss and test accuracy values\n",
        "  test_loss, test_acc = 0, 0\n",
        "\n",
        "  # Turn on the inference context manager\n",
        "  with torch.inference_mode():\n",
        "    # Loop through DataLoader batches\n",
        "    for batch, (X, y) in enumerate(dataloader):\n",
        "      # Send the data to target device\n",
        "      X, y = X.to(device), y.to(device)\n",
        "\n",
        "      #1. Forward pass\n",
        "      test_pred_logits = model(X)\n",
        "\n",
        "      #2. Calculate and accumulate the loss\n",
        "      loss = loss_fn(test_pred_logits, y)\n",
        "      test_loss += loss.item()\n",
        "\n",
        "      # Calculate and accumulate accuracy\n",
        "      test_pred_labels = test_pred_logits.argmax(dim=1)\n",
        "      test_acc += ((test_pred_labels == y).sum().item()/len(test_pred_labels))\n",
        "\n",
        "  # Adjust metrics to get average loss and accuracy per batch\n",
        "  test_loss = test_loss / len(dataloader)\n",
        "  test_acc = test_acc / len(dataloader)\n",
        "  return test_loss, test_acc\n",
        "\n",
        "def train(model: torch.nn.Module,\n",
        "          train_dataloader: torch.utils.data.DataLoader,\n",
        "          test_dataloader: torch.utils.data.DataLoader,\n",
        "          optimizer: torch.optim.Optimizer,\n",
        "          loss_fn: torch.nn.Module,\n",
        "          epochs: int,\n",
        "          device: torch.device) -> Dict[str, List[float]]:\n",
        "  \"\"\"Trains and tests a PyTorch model.\n",
        "\n",
        "  Passes a target PyTorch models through train_step() and test_step()\n",
        "  functions for a number of epochs, training and testing the model\n",
        "  in the same epoch loop.\n",
        "\n",
        "  Calculates, prints and stores evaluation metrics throughout.\n",
        "\n",
        "  Args:\n",
        "    model: A PyTorch model to be trained and tested.\n",
        "    train_dataloader: A DataLoader instance for the model to be trained on.\n",
        "    test_dataloader: A DataLoader instance for the model to be tested on.\n",
        "    optimizer: A PyTorch optimizer to help minimize the loss function.\n",
        "    loss_fn: A PyTorch loss function to calculate loss on both datasets.\n",
        "    epochs: An integer indicating how many epochs to train for.\n",
        "    device: A target device to compute on (e.g. \"cuda\" or \"cpu\").\n",
        "\n",
        "  Returns:\n",
        "    A dictionary of training and testing loss as well as training and\n",
        "    testing accuracy metrics. Each metric has a value in a list for\n",
        "    each epoch.\n",
        "    In the form: {train_loss: [...],\n",
        "                  train_acc: [...],\n",
        "                  test_loss: [...],\n",
        "                  test_acc: [...]}\n",
        "    For example if training for epochs=2:\n",
        "                 {train_loss: [2.0616, 1.0537],\n",
        "                  train_acc: [0.3945, 0.3945],\n",
        "                  test_loss: [1.2641, 1.5706],\n",
        "                  test_acc: [0.3400, 0.2973]}\n",
        "  \"\"\"\n",
        "  # Create empty results dictionary\n",
        "  results = {\"train_loss\": [],\n",
        "             \"train_acc\": [],\n",
        "             \"test_loss\": [],\n",
        "             \"test_acc\": []\n",
        "  }\n",
        "\n",
        "  # Loop through training and testing steps for a number of epochs\n",
        "  for epoch in tqdm(range(epochs)):\n",
        "      train_loss, train_acc = train_step(model=model,\n",
        "                                          dataloader=train_dataloader,\n",
        "                                          loss_fn=loss_fn,\n",
        "                                          optimizer=optimizer,\n",
        "                                          device=device)\n",
        "      test_loss, test_acc = test_step(model=model,\n",
        "          dataloader=test_dataloader,\n",
        "          loss_fn=loss_fn,\n",
        "          device=device)\n",
        "\n",
        "      # Print out what's happening\n",
        "      print(\n",
        "          f\"Epoch: {epoch+1} | \"\n",
        "          f\"train_loss: {train_loss:.4f} | \"\n",
        "          f\"train_acc: {train_acc:.4f} | \"\n",
        "          f\"test_loss: {test_loss:.4f} | \"\n",
        "          f\"test_acc: {test_acc:.4f}\"\n",
        "      )\n",
        "\n",
        "      # Update results dictionary\n",
        "      results[\"train_loss\"].append(train_loss)\n",
        "      results[\"train_acc\"].append(train_acc)\n",
        "      results[\"test_loss\"].append(test_loss)\n",
        "      results[\"test_acc\"].append(test_acc)\n",
        "\n",
        "  # Return the filled results at the end of the epochs\n",
        "  return results"
      ],
      "metadata": {
        "colab": {
          "base_uri": "https://localhost:8080/"
        },
        "id": "Vw9e9x-Vm7kC",
        "outputId": "847031ca-222d-461c-b8e4-a47e97b7d070"
      },
      "execution_count": 6,
      "outputs": [
        {
          "output_type": "stream",
          "name": "stdout",
          "text": [
            "Writing src/engine.py\n"
          ]
        }
      ]
    },
    {
      "cell_type": "markdown",
      "source": [
        "### Testing and Learning: Create a function to save model"
      ],
      "metadata": {
        "id": "ZkkK277xqPxW"
      }
    },
    {
      "cell_type": "code",
      "source": [
        "%%writefile src/utils.py\n",
        "'''\n",
        "Fle containing various utility functions for PyTorch model training.\n",
        "'''\n",
        "import torch\n",
        "from pathlib import Path\n",
        "\n",
        "def save_model(model: torch.nn.Module,\n",
        "               target_dir: str,\n",
        "               model_name: str):\n",
        "  \"\"\"Saves a PyTorch model to a target directory.\n",
        "\n",
        "  Args:\n",
        "    model: A target PyTorch model to save.\n",
        "    target_dir: A directory for saving the model to.\n",
        "    model_name: A filename for the saved model. Should include\n",
        "      either \".pth\" or \".pt\" as the file extension.\n",
        "\n",
        "  Example usage:\n",
        "    save_model(model=model_0,\n",
        "               target_dir=\"models\",\n",
        "               model_name=\"05_going_modular_tingvgg_model.pth\")\n",
        "  \"\"\"\n",
        "  # Create target directory\n",
        "  target_dir_path = Path(target_dir)\n",
        "  target_dir_path.mkdir(parents=True,\n",
        "                        exist_ok=True)\n",
        "\n",
        "  # Create model save path\n",
        "  assert model_name.endswith(\".pth\") or model_name.endswith(\".pt\"), \"model_name should end with '.pt' or '.pth'\"\n",
        "  model_save_path = target_dir_path / model_name\n",
        "\n",
        "  # Save the model state_dict()\n",
        "  print(f\"[INFO] Saving model to: {model_save_path}\")\n",
        "  torch.save(obj=model.state_dict(),\n",
        "             f=model_save_path)"
      ],
      "metadata": {
        "colab": {
          "base_uri": "https://localhost:8080/"
        },
        "id": "gsyRHqyzqXwZ",
        "outputId": "7340921d-43f3-43f0-ff8c-ff536abf12f1"
      },
      "execution_count": 7,
      "outputs": [
        {
          "output_type": "stream",
          "name": "stdout",
          "text": [
            "Writing src/utils.py\n"
          ]
        }
      ]
    },
    {
      "cell_type": "code",
      "source": [
        "%%writefile src/train.py\n",
        "'''\n",
        "This trains a PyTorch image classification model using device-agnostic\n",
        "code.\n",
        "'''\n",
        "# Import necessary modules\n",
        "import argparse\n",
        "from pathlib import Path\n",
        "import torch\n",
        "import os\n",
        "from torchvision import transforms\n",
        "import data_setup, engine, model_builder, utils\n",
        "from timeit import default_timer as timer\n",
        "\n",
        "# Setup path to data folder\n",
        "data_path = Path(\"data/\")\n",
        "image_path = data_path / \"pizza_steak_sushi\"\n",
        "\n",
        "# Have some default directories\n",
        "train_dir = image_path / \"train\"\n",
        "test_dir = image_path / \"test\"\n",
        "\n",
        "# Create argparsers and add arguments\n",
        "parser = argparse.ArgumentParser()\n",
        "parser.add_argument(\"-trd\",\n",
        "                    \"--train_dir\",\n",
        "                    type = str,\n",
        "                    default = train_dir,\n",
        "                    help = \"String path: Training Directory\")\n",
        "parser.add_argument(\"-ted\",\n",
        "                     \"--test_dir\",\n",
        "                     type = str,\n",
        "                     default = test_dir,\n",
        "                     help = \"String path: Testing Directory\")\n",
        "parser.add_argument(\"-lr\",\n",
        "                      \"--learning_rate\",\n",
        "                      type = float,\n",
        "                      default = 0.001,\n",
        "                      help = \"Float: Training learning rate\")\n",
        "parser.add_argument(\"-b\",\n",
        "                      \"--batch_size\",\n",
        "                      type = int,\n",
        "                      default = 16,\n",
        "                      help = \"Integer: Batch size\")\n",
        "parser.add_argument(\"-ne\",\n",
        "                     \"--num_epochs\",\n",
        "                     type = int,\n",
        "                     default = 5,\n",
        "                     help = \"Integer: Number of epochs\")\n",
        "parser.add_argument(\"-hu\",\n",
        "                     \"--hidden_units\",\n",
        "                     type = int,\n",
        "                     default = 10,\n",
        "                     help = \"Integer: Number of hidden units TinyVGG\")\n",
        "\n",
        "#Obtain the arguments\n",
        "args = parser.parse_args()\n",
        "\n",
        "#Setup hyperparameters with parser\n",
        "TRAIN_DIR = args.train_dir\n",
        "TEST_DIR = args.test_dir\n",
        "LEARNING_RATE = args.learning_rate\n",
        "BATCH_SIZE = args.batch_size\n",
        "NUM_EPOCHS = args.num_epochs\n",
        "HIDDEN_UNITS = args.hidden_units\n",
        "\n",
        "#Setup device agnostic code\n",
        "device = \"cuda\" if torch.cuda.is_available() else \"cpu\"\n",
        "\n",
        "#Create transforms\n",
        "data_transform = transforms.Compose(\n",
        "    [\n",
        "        transforms.Resize((64, 64)),\n",
        "        transforms.ToTensor()\n",
        "    ]\n",
        ")\n",
        "\n",
        "#Create Dataloader's and get class_names\n",
        "train_dataloader, test_dataloader, class_names = data_setup.create_dataloaders(\n",
        "    train_dir=TRAIN_DIR,\n",
        "    test_dir=TEST_DIR,\n",
        "    transform=data_transform,\n",
        "    batch_size=BATCH_SIZE\n",
        ")\n",
        "\n",
        "#Create the model\n",
        "model = model_builder.TinyVGG(\n",
        "    input_shape=3,\n",
        "    hidden_units = HIDDEN_UNITS,\n",
        "    output_shape = len(class_names)).to(device)\n",
        "\n",
        "#Setup loss and optimizer\n",
        "loss_fn = torch.nn.CrossEntropyLoss()\n",
        "optimizer = torch.optim.Adam(model.parameters(),\n",
        "                              LEARNING_RATE)\n",
        "\n",
        "# Start the timer\n",
        "start_time = timer()\n",
        "\n",
        "#Train the model\n",
        "engine.train(\n",
        "  model=model,\n",
        "  train_dataloader=train_dataloader,\n",
        "  test_dataloader=test_dataloader,\n",
        "  loss_fn=loss_fn,\n",
        "  optimizer=optimizer,\n",
        "  epochs=NUM_EPOCHS,\n",
        "  device=device)\n",
        "\n",
        "# End the timer and print out how long it took\n",
        "end_time = timer()\n",
        "print(f\"[INFO] Total training time: {end_time-start_time:.3f} seconds\")\n",
        "\n",
        "#Save the model using utils\n",
        "utils.save_model(\n",
        "  model = model,\n",
        "  target_dir = \"models\",\n",
        "  model_name = \"saved_tinyvgg_model.pth\"\n",
        ")"
      ],
      "metadata": {
        "colab": {
          "base_uri": "https://localhost:8080/"
        },
        "id": "eRORIUAAQuiV",
        "outputId": "fb40025d-c610-48b7-c546-02d3829a95d2"
      },
      "execution_count": 13,
      "outputs": [
        {
          "output_type": "stream",
          "name": "stdout",
          "text": [
            "Overwriting src/train.py\n"
          ]
        }
      ]
    },
    {
      "cell_type": "code",
      "source": [
        "# Example running of train.py\n",
        "!python src/train.py --num_epochs 5 --batch_size 128 --hidden_units 128 --learning_rate 0.0003 --num_epochs 15"
      ],
      "metadata": {
        "id": "LzaJl39lC40N",
        "colab": {
          "base_uri": "https://localhost:8080/"
        },
        "outputId": "66d54668-f962-40ef-8cc5-4ea420f47e69"
      },
      "execution_count": 14,
      "outputs": [
        {
          "output_type": "stream",
          "name": "stdout",
          "text": [
            "  0% 0/15 [00:00<?, ?it/s]Epoch: 1 | train_loss: 1.1015 | train_acc: 0.2915 | test_loss: 1.1005 | test_acc: 0.3467\n",
            "  7% 1/15 [00:01<00:24,  1.74s/it]Epoch: 2 | train_loss: 1.0899 | train_acc: 0.3537 | test_loss: 1.0833 | test_acc: 0.3467\n",
            " 13% 2/15 [00:02<00:17,  1.35s/it]Epoch: 3 | train_loss: 1.0753 | train_acc: 0.3910 | test_loss: 1.0676 | test_acc: 0.4267\n",
            " 20% 3/15 [00:03<00:14,  1.24s/it]Epoch: 4 | train_loss: 1.0687 | train_acc: 0.4657 | test_loss: 1.0574 | test_acc: 0.4133\n",
            " 27% 4/15 [00:04<00:12,  1.17s/it]Epoch: 5 | train_loss: 1.0341 | train_acc: 0.4720 | test_loss: 1.0474 | test_acc: 0.4267\n",
            " 33% 5/15 [00:06<00:11,  1.12s/it]Epoch: 6 | train_loss: 0.9991 | train_acc: 0.5240 | test_loss: 1.0132 | test_acc: 0.4400\n",
            " 40% 6/15 [00:07<00:09,  1.10s/it]Epoch: 7 | train_loss: 0.9415 | train_acc: 0.5946 | test_loss: 0.9991 | test_acc: 0.4800\n",
            " 47% 7/15 [00:08<00:09,  1.14s/it]Epoch: 8 | train_loss: 0.8857 | train_acc: 0.6232 | test_loss: 0.9840 | test_acc: 0.4133\n",
            " 53% 8/15 [00:09<00:08,  1.17s/it]Epoch: 9 | train_loss: 0.8197 | train_acc: 0.6218 | test_loss: 1.0100 | test_acc: 0.4533\n",
            " 60% 9/15 [00:11<00:07,  1.28s/it]Epoch: 10 | train_loss: 0.8250 | train_acc: 0.6362 | test_loss: 1.0415 | test_acc: 0.4800\n",
            " 67% 10/15 [00:13<00:07,  1.52s/it]Epoch: 11 | train_loss: 0.8117 | train_acc: 0.6298 | test_loss: 1.0790 | test_acc: 0.4667\n",
            " 73% 11/15 [00:14<00:06,  1.61s/it]Epoch: 12 | train_loss: 0.8051 | train_acc: 0.6324 | test_loss: 1.0064 | test_acc: 0.5467\n",
            " 80% 12/15 [00:15<00:04,  1.45s/it]Epoch: 13 | train_loss: 0.7461 | train_acc: 0.6827 | test_loss: 1.0281 | test_acc: 0.4667\n",
            " 87% 13/15 [00:17<00:02,  1.37s/it]Epoch: 14 | train_loss: 0.7504 | train_acc: 0.6747 | test_loss: 0.9832 | test_acc: 0.5333\n",
            " 93% 14/15 [00:18<00:01,  1.28s/it]Epoch: 15 | train_loss: 0.7256 | train_acc: 0.7060 | test_loss: 0.9994 | test_acc: 0.5600\n",
            "100% 15/15 [00:19<00:00,  1.30s/it]\n",
            "[INFO] Total training time: 19.523 seconds\n",
            "[INFO] Saving model to: models/saved_tinyvgg_model.pth\n"
          ]
        }
      ]
    },
    {
      "cell_type": "markdown",
      "source": [
        "## 3. Create a Python script to predict (such as `predict.py`) on a target image given a file path with a saved model.\n",
        "\n",
        "* For example, you should be able to run the command `python predict.py some_image.jpeg` and have a trained PyTorch model predict on the image and return its prediction.\n",
        "* To see example prediction code, check out the [predicting on a custom image section in notebook 04](https://www.learnpytorch.io/04_pytorch_custom_datasets/#113-putting-custom-image-prediction-together-building-a-function).\n",
        "* You may also have to write code to load in a trained model."
      ],
      "metadata": {
        "id": "P2g6EEYvm-46"
      }
    },
    {
      "cell_type": "code",
      "source": [
        "# YOUR CODE HERE\n",
        "%%writefile src/predict.py\n",
        "\n",
        "# Import modules to read it\n",
        "import argparse\n",
        "import torch\n",
        "from torchvision import transforms, io\n",
        "import model_builder\n",
        "import matplotlib.pyplot as plt\n",
        "# Let's add a parser to access an image\n",
        "parser = argparse.ArgumentParser()\n",
        "\n",
        "# Lets add an argument\n",
        "parser.add_argument(\"-i\",\n",
        "                    \"--image\",\n",
        "                    type = str,\n",
        "                    default = \"data/pizza_steak_sushi/test/sushi/175783.jpg\",\n",
        "                    help = \"String path to image\")\n",
        "\n",
        "# Let's obtain in\n",
        "args = parser.parse_args()\n",
        "\n",
        "# Setup the device\n",
        "device = \"cuda\" if torch.cuda.is_available() else \"cpu\"\n",
        "\n",
        "# Read the custom image path\n",
        "custom_image_path = args.image\n",
        "\n",
        "# Load in the custom image and convert to torch.float32\n",
        "custom_image = io.read_image(str(custom_image_path)).type(torch.float32) / 255.\n",
        "\n",
        "# Transform the image\n",
        "#Create transforms\n",
        "data_transform = transforms.Compose(\n",
        "    [\n",
        "        transforms.Resize((64, 64)),\n",
        "    ]\n",
        ")\n",
        "\n",
        "custom_image_transformed = data_transform(custom_image)\n",
        "\n",
        "#Create the model\n",
        "model = model_builder.TinyVGG(\n",
        "    input_shape=3,\n",
        "    hidden_units = 128,\n",
        "    output_shape = 3 ).to(device)\n",
        "\n",
        "    # UHMMM, many here were hardcoded :(, we need to save the past args somehowlater in future\n",
        "\n",
        "# Load the saved model\n",
        "model.load_state_dict(torch.load(f = \"models/saved_tinyvgg_model.pth\"))\n",
        "model.eval()\n",
        "with torch.inference_mode():\n",
        "  custom_image_pred = model(custom_image_transformed.to(device).unsqueeze(dim = 0))\n",
        "\n",
        "plt.figure()\n",
        "print(custom_image_transformed.shape)\n",
        "plt.imshow(custom_image_transformed.permute(1, 2, 0))\n",
        "plt.show()\n",
        "\n",
        "# Convert logits -> prediction probabilities -> prediction labels\n",
        "print(torch.softmax(custom_image_pred, dim = 1).argmax(dim = 1))"
      ],
      "metadata": {
        "id": "HU7W6VZfYawP",
        "colab": {
          "base_uri": "https://localhost:8080/"
        },
        "outputId": "2c559575-a42e-4c0e-8abf-7c4863cb0593"
      },
      "execution_count": 54,
      "outputs": [
        {
          "output_type": "stream",
          "name": "stdout",
          "text": [
            "Overwriting src/predict.py\n"
          ]
        }
      ]
    },
    {
      "cell_type": "code",
      "source": [
        "# Example running of predict.py\n",
        "!python src/predict.py --image data/pizza_steak_sushi/test/sushi/175783.jpg"
      ],
      "metadata": {
        "id": "Zcvw9sitIn6r",
        "colab": {
          "base_uri": "https://localhost:8080/"
        },
        "outputId": "1878cb57-1ebc-4b9e-a297-9ec611fe54c6"
      },
      "execution_count": 55,
      "outputs": [
        {
          "output_type": "stream",
          "name": "stdout",
          "text": [
            "torch.Size([3, 64, 64])\n",
            "Figure(640x480)\n",
            "tensor([2], device='cuda:0')\n"
          ]
        }
      ]
    }
  ]
}