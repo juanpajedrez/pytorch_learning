{
  "cells": [
    {
      "cell_type": "markdown",
      "metadata": {
        "colab_type": "text",
        "id": "view-in-github"
      },
      "source": [
        "<a href=\"https://colab.research.google.com/github/juanpajedrez/pytorch_learning/blob/main/03_pytorch_computer_vision_video.ipynb\" target=\"_parent\"><img src=\"https://colab.research.google.com/assets/colab-badge.svg\" alt=\"Open In Colab\"/></a>"
      ]
    },
    {
      "cell_type": "markdown",
      "metadata": {
        "id": "8FfMheeD0T1b"
      },
      "source": [
        "# PyTorch Computer Vision\n",
        "\n",
        "* See reference notebook - https://github.com/mrdbourke/pytorch-deep-learning/blob/main/03_pytorch_computer_vision.ipynb\n",
        "* See reference online book - https://www.learnpytorch.io/03_pytorch_computer_vision/"
      ]
    },
    {
      "cell_type": "markdown",
      "metadata": {
        "id": "wyQIMlUj1FDi"
      },
      "source": [
        "## 0. Computer vision libraries in PyTorch\n",
        "\n",
        "* [`torchvision`] - base domain library for PyTorch Computer Vision.\n",
        "* `torchvision.datasets` - get datasets and data loading functions for computer vision here.\n",
        "* `torchvision.models` - get pretrained computer vision models that you can leverage for your own problems.\n",
        "* `torchvision.transforms` - functions for manipulating your vision data (images) to be suitable for use with an AI model.\n",
        "* `torch.utils.data.Dataset` - Base dataset class for PyTorch.\n",
        "* `torch.utils.data.DataLoader` - Creates a python iterable over a dataset."
      ]
    },
    {
      "cell_type": "code",
      "execution_count": 1,
      "metadata": {
        "colab": {
          "base_uri": "https://localhost:8080/"
        },
        "id": "MigVK3Dp2XgC",
        "outputId": "5bf3b910-8797-4130-adf4-3fe3b67979b2"
      },
      "outputs": [
        {
          "name": "stdout",
          "output_type": "stream",
          "text": [
            "2.6.0+cpu\n",
            "0.21.0+cpu\n"
          ]
        }
      ],
      "source": [
        "# Import PyTorch\n",
        "import torch\n",
        "from torch import nn\n",
        "\n",
        "# Import torchvision\n",
        "import torchvision\n",
        "from torchvision import datasets\n",
        "from torchvision import transforms\n",
        "from torchvision.transforms import ToTensor\n",
        "from pathlib import Path\n",
        "\n",
        "# Import matplotlib for visualization\n",
        "import matplotlib.pyplot as plt\n",
        "\n",
        "# Check versions\n",
        "print(torch.__version__)\n",
        "print(torchvision.__version__)"
      ]
    },
    {
      "cell_type": "markdown",
      "metadata": {
        "id": "P5VI3yJf6gYi"
      },
      "source": [
        "## 1. Getting a dataset\n",
        "\n",
        "The dataset we'll be using is the FashionMNIST: https://pytorch.org/vision/stable/generated/torchvision.datasets.FashionMNIST.html"
      ]
    },
    {
      "cell_type": "code",
      "execution_count": 2,
      "metadata": {
        "colab": {
          "base_uri": "https://localhost:8080/"
        },
        "id": "HwSfohK3JQ3b",
        "outputId": "52ad6d36-09cd-46ad-afae-aac47e681420"
      },
      "outputs": [
        {
          "name": "stderr",
          "output_type": "stream",
          "text": [
            "100%|██████████| 26.4M/26.4M [00:31<00:00, 833kB/s] \n",
            "100%|██████████| 29.5k/29.5k [00:00<00:00, 173kB/s]\n",
            "100%|██████████| 4.42M/4.42M [00:01<00:00, 2.46MB/s]\n",
            "100%|██████████| 5.15k/5.15k [00:00<?, ?B/s]\n"
          ]
        }
      ],
      "source": [
        "3 # Setup training data\n",
        "train_data = datasets.FashionMNIST(\n",
        "  root = \"sample_data\", # where to download data to?\n",
        "  train = True, # do we want the training dataset?\n",
        "  download = True, # do we want to download yes/no?\n",
        "  transform = ToTensor(), # How do we transform the data?\n",
        "  target_transform= None # how do we want to transform the labels/targets?\n",
        ")\n",
        "\n",
        "test_data = datasets.FashionMNIST(\n",
        "  root = \"sample_data\",\n",
        "  train = False,\n",
        "  download = True,\n",
        "  transform = ToTensor(),\n",
        "  target_transform= None\n",
        ")"
      ]
    },
    {
      "cell_type": "code",
      "execution_count": 3,
      "metadata": {
        "colab": {
          "base_uri": "https://localhost:8080/"
        },
        "id": "JHGlXsGPOl6G",
        "outputId": "cb157f5f-a1c6-4293-d61c-dfb740b5a6ef"
      },
      "outputs": [
        {
          "name": "stdout",
          "output_type": "stream",
          "text": [
            "True\n"
          ]
        }
      ],
      "source": [
        "# Get the data path\n",
        "data_path = Path(\"sample_data/FashionMNIST\")\n",
        "print(data_path.exists())"
      ]
    },
    {
      "cell_type": "code",
      "execution_count": 4,
      "metadata": {
        "colab": {
          "base_uri": "https://localhost:8080/"
        },
        "id": "TMTamQ-7Oy4S",
        "outputId": "aaaad96d-e4c2-4025-8bca-7d7c9061fea4"
      },
      "outputs": [
        {
          "data": {
            "text/plain": [
              "(60000, 10000)"
            ]
          },
          "execution_count": 4,
          "metadata": {},
          "output_type": "execute_result"
        }
      ],
      "source": [
        "len(train_data),len(test_data)"
      ]
    },
    {
      "cell_type": "code",
      "execution_count": 5,
      "metadata": {
        "id": "41NjHRxbO_fP"
      },
      "outputs": [],
      "source": [
        "# See the first training example\n",
        "image, label = train_data[0]"
      ]
    },
    {
      "cell_type": "code",
      "execution_count": 6,
      "metadata": {
        "colab": {
          "base_uri": "https://localhost:8080/"
        },
        "id": "jt2BKqLNPgMF",
        "outputId": "90a783f2-a86c-4c04-9a4a-d88744e5efcb"
      },
      "outputs": [
        {
          "data": {
            "text/plain": [
              "['T-shirt/top',\n",
              " 'Trouser',\n",
              " 'Pullover',\n",
              " 'Dress',\n",
              " 'Coat',\n",
              " 'Sandal',\n",
              " 'Shirt',\n",
              " 'Sneaker',\n",
              " 'Bag',\n",
              " 'Ankle boot']"
            ]
          },
          "execution_count": 6,
          "metadata": {},
          "output_type": "execute_result"
        }
      ],
      "source": [
        "class_names = train_data.classes\n",
        "class_names"
      ]
    },
    {
      "cell_type": "code",
      "execution_count": 7,
      "metadata": {
        "colab": {
          "base_uri": "https://localhost:8080/"
        },
        "id": "OcnyiK65Pjpv",
        "outputId": "abfc3447-b7ec-44ce-8abb-c87b14b499ce"
      },
      "outputs": [
        {
          "data": {
            "text/plain": [
              "{'T-shirt/top': 0,\n",
              " 'Trouser': 1,\n",
              " 'Pullover': 2,\n",
              " 'Dress': 3,\n",
              " 'Coat': 4,\n",
              " 'Sandal': 5,\n",
              " 'Shirt': 6,\n",
              " 'Sneaker': 7,\n",
              " 'Bag': 8,\n",
              " 'Ankle boot': 9}"
            ]
          },
          "execution_count": 7,
          "metadata": {},
          "output_type": "execute_result"
        }
      ],
      "source": [
        "class_to_idx = train_data.class_to_idx\n",
        "class_to_idx"
      ]
    },
    {
      "cell_type": "code",
      "execution_count": 8,
      "metadata": {
        "colab": {
          "base_uri": "https://localhost:8080/"
        },
        "id": "A3HIXDaNPqkE",
        "outputId": "c2d036cb-3616-475c-8439-5955d5eed71c"
      },
      "outputs": [
        {
          "data": {
            "text/plain": [
              "tensor([9, 0, 0,  ..., 3, 0, 5])"
            ]
          },
          "execution_count": 8,
          "metadata": {},
          "output_type": "execute_result"
        }
      ],
      "source": [
        "train_data.targets"
      ]
    },
    {
      "cell_type": "code",
      "execution_count": 9,
      "metadata": {
        "colab": {
          "base_uri": "https://localhost:8080/"
        },
        "id": "VHkm4RZMPul7",
        "outputId": "e5360204-82f5-45db-8f9a-2e8d032dd7b6"
      },
      "outputs": [
        {
          "name": "stdout",
          "output_type": "stream",
          "text": [
            "Image shape: torch.Size([1, 28, 28]) -> [color_channels, height, width]\n",
            "label: 9\n"
          ]
        }
      ],
      "source": [
        "print(f\"Image shape: {image.shape} -> [color_channels, height, width]\")\n",
        "print(f\"label: {label}\")"
      ]
    },
    {
      "cell_type": "markdown",
      "metadata": {
        "id": "dP7nDDr7bF9I"
      },
      "source": [
        "## 1.2 Visualizing our data"
      ]
    },
    {
      "cell_type": "code",
      "execution_count": 10,
      "metadata": {
        "colab": {
          "base_uri": "https://localhost:8080/",
          "height": 488
        },
        "id": "cdAEb6AKbI6G",
        "outputId": "e2d3f020-88f5-40bb-deb7-2d7f53893f8e"
      },
      "outputs": [
        {
          "name": "stdout",
          "output_type": "stream",
          "text": [
            "Lets see our imagetorch.Size([1, 28, 28])\n"
          ]
        },
        {
          "data": {
            "text/plain": [
              "Text(0.5, 1.0, 'Ankle boot')"
            ]
          },
          "execution_count": 10,
          "metadata": {},
          "output_type": "execute_result"
        },
        {
          "data": {
            "image/png": "[encoded data removed]",
            "text/plain": [
              "<Figure size 640x480 with 1 Axes>"
            ]
          },
          "metadata": {},
          "output_type": "display_data"
        }
      ],
      "source": [
        "image, label = train_data[0]\n",
        "print(f\"Lets see our image{image.shape}\")\n",
        "plt.imshow(image.squeeze())\n",
        "plt.title(class_names[label])\n"
      ]
    },
    {
      "cell_type": "code",
      "execution_count": 11,
      "metadata": {
        "colab": {
          "base_uri": "https://localhost:8080/",
          "height": 446
        },
        "id": "4yv7oNDKbpPt",
        "outputId": "4d083322-930a-4d0c-c224-592021fb860c"
      },
      "outputs": [
        {
          "data": {
            "text/plain": [
              "(np.float64(-0.5), np.float64(27.5), np.float64(27.5), np.float64(-0.5))"
            ]
          },
          "execution_count": 11,
          "metadata": {},
          "output_type": "execute_result"
        },
        {
          "data": {
            "image/png": "[encoded data removed]",
            "text/plain": [
              "<Figure size 640x480 with 1 Axes>"
            ]
          },
          "metadata": {},
          "output_type": "display_data"
        }
      ],
      "source": [
        "plt.imshow(image.squeeze(), cmap = \"gray\")\n",
        "plt.title(class_names[label])\n",
        "plt.axis(False)"
      ]
    },
    {
      "cell_type": "code",
      "execution_count": 12,
      "metadata": {
        "colab": {
          "base_uri": "https://localhost:8080/",
          "height": 752
        },
        "id": "WRjgmINfbzSa",
        "outputId": "da454d77-c31c-49fb-f78e-4cc425a608eb"
      },
      "outputs": [
        {
          "data": {
            "image/png": "[encoded data removed]",
            "text/plain": [
              "<Figure size 900x900 with 16 Axes>"
            ]
          },
          "metadata": {},
          "output_type": "display_data"
        }
      ],
      "source": [
        "# Plor more images\n",
        "#torch.manual_seed(42)\n",
        "fig = plt.figure(figsize=(9, 9))\n",
        "rows, cols = 4, 4\n",
        "for i in range(1, rows*cols+1):\n",
        "  random_idx = torch.randint(low = 0, high = len(train_data), size = (1, )).item()\n",
        "  image, label = train_data[random_idx]\n",
        "  fig.add_subplot(rows, cols, i)\n",
        "  plt.imshow(image.squeeze(), cmap = \"gray\")\n",
        "  plt.title(class_names[label])\n",
        "  plt.axis(False)"
      ]
    },
    {
      "cell_type": "markdown",
      "metadata": {
        "id": "ZHZ3dBMdsoZO"
      },
      "source": [
        "Do you think these items of clothing (images) could be modelled with pure linear lines? Do you think we'll need non-linearities?"
      ]
    },
    {
      "cell_type": "markdown",
      "metadata": {
        "id": "OccG1tOfsv9a"
      },
      "source": [
        "### 2. Prepare DataLoader\n",
        "\n",
        "Right now our data is in the form of PyTorch Datasets.\n",
        "\n",
        "Recall a DataLoader turns our dataset into a Python Iterable.\n",
        "\n",
        "More specifically, we want to turn our data intop mini-batches.\n",
        "\n",
        "Why would we do this?\n",
        "\n",
        "1. It is more computationally efficient, as in your computer hardware may not be able to look (store in memory) at 6000 images in one hit. So we break it down to 32 images at a time (batch size of 32).\n",
        "2. It gives our neural network more chances to update its gradients per epoch.\n",
        "\n",
        "For more on mini-batches, feel free to research more on the topic (optimizers, gradient descent, mini-batch).\n"
      ]
    },
    {
      "cell_type": "code",
      "execution_count": 13,
      "metadata": {
        "colab": {
          "base_uri": "https://localhost:8080/"
        },
        "id": "2Kh8626Zs20Y",
        "outputId": "d287d903-129e-4eb3-e584-66b3f45eb6e3"
      },
      "outputs": [
        {
          "data": {
            "text/plain": [
              "(<torch.utils.data.dataloader.DataLoader at 0x185aecd6960>,\n",
              " <torch.utils.data.dataloader.DataLoader at 0x185aba905c0>)"
            ]
          },
          "execution_count": 13,
          "metadata": {},
          "output_type": "execute_result"
        }
      ],
      "source": [
        "from torch.utils.data import DataLoader\n",
        "\n",
        "#Setup the batch_size hyperparameters\n",
        "BATCH_SIZE = 32\n",
        "\n",
        "# Turn datasets into iterables (batches)\n",
        "train_dataloader = DataLoader(train_data,\n",
        "                          batch_size=BATCH_SIZE,\n",
        "                          shuffle = True)\n",
        "\n",
        "\n",
        "test_dataloader = DataLoader(test_data,\n",
        "                         batch_size=BATCH_SIZE,\n",
        "                         shuffle = False)\n",
        "\n",
        "train_dataloader, test_dataloader"
      ]
    },
    {
      "cell_type": "code",
      "execution_count": 14,
      "metadata": {
        "colab": {
          "base_uri": "https://localhost:8080/"
        },
        "id": "tPoAJLauxuYD",
        "outputId": "1b9f0a9d-5129-4dba-8ab2-b695a8ef43ec"
      },
      "outputs": [
        {
          "name": "stdout",
          "output_type": "stream",
          "text": [
            "DataLoader: (<torch.utils.data.dataloader.DataLoader object at 0x00000185AECD6960>, <torch.utils.data.dataloader.DataLoader object at 0x00000185ABA905C0>)\n",
            "length of train dataloader: 1875 batches of 32\n",
            "length of test dataloader: 313 batches of 32\n"
          ]
        }
      ],
      "source": [
        "# Let's check out what we've created\n",
        "print(f\"DataLoader: {train_dataloader, test_dataloader}\")\n",
        "print(f\"length of train dataloader: {len(train_dataloader)} batches of {BATCH_SIZE}\")\n",
        "print(f\"length of test dataloader: {len(test_dataloader)} batches of {BATCH_SIZE}\")"
      ]
    },
    {
      "cell_type": "code",
      "execution_count": 15,
      "metadata": {
        "colab": {
          "base_uri": "https://localhost:8080/"
        },
        "id": "YeA14nL8x1v9",
        "outputId": "f1606332-0666-4f94-e0e6-8f3a54d37285"
      },
      "outputs": [
        {
          "data": {
            "text/plain": [
              "1875.0"
            ]
          },
          "execution_count": 15,
          "metadata": {},
          "output_type": "execute_result"
        }
      ],
      "source": [
        "60000/32"
      ]
    },
    {
      "cell_type": "code",
      "execution_count": 16,
      "metadata": {
        "colab": {
          "base_uri": "https://localhost:8080/"
        },
        "id": "fZkvN2WkQfq1",
        "outputId": "dccaaf0f-1df2-42ed-cd56-993c2d77627a"
      },
      "outputs": [
        {
          "data": {
            "text/plain": [
              "(torch.Size([32, 1, 28, 28]), torch.Size([32]))"
            ]
          },
          "execution_count": 16,
          "metadata": {},
          "output_type": "execute_result"
        }
      ],
      "source": [
        "# Check out whats inside the training dataloader\n",
        "train_features_batch, train_labels_batch = next(iter(train_dataloader))\n",
        "train_features_batch.shape, train_labels_batch.shape"
      ]
    },
    {
      "cell_type": "code",
      "execution_count": 17,
      "metadata": {
        "colab": {
          "base_uri": "https://localhost:8080/",
          "height": 464
        },
        "id": "i4cs5C2MQZNg",
        "outputId": "4ed8bc7c-b6fe-4d30-e9df-bab365eb4070"
      },
      "outputs": [
        {
          "name": "stdout",
          "output_type": "stream",
          "text": [
            "Image size: torch.Size([1, 28, 28])\n",
            "Label: 4, label shape: torch.Size([])\n"
          ]
        },
        {
          "data": {
            "image/png": "[encoded data removed]",
            "text/plain": [
              "<Figure size 640x480 with 1 Axes>"
            ]
          },
          "metadata": {},
          "output_type": "display_data"
        }
      ],
      "source": [
        "# Show a sample\n",
        "#torch.manual_seed(42)\n",
        "random_idx = torch.randint(0, len(train_features_batch), size=(1, )).item()\n",
        "img, label = train_features_batch[random_idx], train_labels_batch[random_idx]\n",
        "plt.imshow(img.squeeze(), cmap = \"gray\")\n",
        "plt.title(class_names[label])\n",
        "plt.axis(\"off\")\n",
        "print(f\"Image size: {img.shape}\")\n",
        "print(f\"Label: {label}, label shape: {label.shape}\")"
      ]
    },
    {
      "cell_type": "markdown",
      "metadata": {
        "id": "8gYiydCLl8Zc"
      },
      "source": [
        "### 3. Model 0: Build a baseline model\n",
        "\n",
        "When starting to build a series of machine learning modelling experimients, its best practice to start with a baseline model.\n",
        "\n",
        "A baseline model is a simple model you will try and improve up upon with subsequent models/experiments.\n",
        "\n",
        "In other words: start simply and add complexity when necessary."
      ]
    },
    {
      "cell_type": "code",
      "execution_count": 18,
      "metadata": {
        "colab": {
          "base_uri": "https://localhost:8080/"
        },
        "id": "iFGiymkAmUEE",
        "outputId": "5d88e8bc-32b4-447b-f642-a8285cbe58e8"
      },
      "outputs": [
        {
          "name": "stdout",
          "output_type": "stream",
          "text": [
            "Shape before flattening torch.Size([1, 28, 28]) -> [color_channels, height, width]\n",
            "shape after flattening torch.Size([1, 784]) -> [color_channels, height * width]\n"
          ]
        }
      ],
      "source": [
        "# Create a flatten flatten layer\n",
        "flatten_model =  nn.Flatten()\n",
        "\n",
        "# Get a single sample\n",
        "x = train_features_batch[0]\n",
        "\n",
        "# Flatten the sample\n",
        "output = flatten_model(x) # perform forward pass\n",
        "\n",
        "# Print out what happened\n",
        "print(f\"Shape before flattening {x.shape} -> [color_channels, height, width]\")\n",
        "print(f\"shape after flattening {output.shape} -> [color_channels, height * width]\")\n",
        "#print(x)"
      ]
    },
    {
      "cell_type": "code",
      "execution_count": 19,
      "metadata": {
        "id": "9rA6UEmAnWgS"
      },
      "outputs": [],
      "source": [
        "from torch import nn\n",
        "class FashionMNISTModelV0(nn.Module):\n",
        "  def __init__(self,\n",
        "              input_shape: int,\n",
        "              hidden_units: int,\n",
        "              output_shape: int):\n",
        "    super().__init__()\n",
        "    self.layer_stack = nn.Sequential(\n",
        "        nn.Flatten(),\n",
        "        nn.Linear(in_features=input_shape, out_features = hidden_units),\n",
        "        nn.Linear(in_features = hidden_units, out_features = output_shape)\n",
        "    )\n",
        "\n",
        "  def forward(self, x):\n",
        "    return self.layer_stack(x)"
      ]
    },
    {
      "cell_type": "code",
      "execution_count": 20,
      "metadata": {
        "colab": {
          "base_uri": "https://localhost:8080/"
        },
        "id": "5bXRBQJPoObv",
        "outputId": "16029e8e-4e2f-49e8-c93c-d92cbb90e107"
      },
      "outputs": [
        {
          "data": {
            "text/plain": [
              "FashionMNISTModelV0(\n",
              "  (layer_stack): Sequential(\n",
              "    (0): Flatten(start_dim=1, end_dim=-1)\n",
              "    (1): Linear(in_features=784, out_features=10, bias=True)\n",
              "    (2): Linear(in_features=10, out_features=10, bias=True)\n",
              "  )\n",
              ")"
            ]
          },
          "execution_count": 20,
          "metadata": {},
          "output_type": "execute_result"
        }
      ],
      "source": [
        "torch.manual_seed(42)\n",
        "\n",
        "# Setup model with input parameters\n",
        "model_0 = FashionMNISTModelV0(\n",
        "    input_shape = int(28*28), # this is 28 by 28\n",
        "    hidden_units = 10, # how many units in the hidden layer\n",
        "    output_shape = len(class_names) # one for every class\n",
        ").to(\"cpu\")\n",
        "\n",
        "model_0"
      ]
    },
    {
      "cell_type": "code",
      "execution_count": 21,
      "metadata": {
        "colab": {
          "base_uri": "https://localhost:8080/"
        },
        "id": "rtuh2GUioxvN",
        "outputId": "fd77c034-975d-43e4-94ed-6b1a5bcf9e52"
      },
      "outputs": [
        {
          "data": {
            "text/plain": [
              "torch.Size([1, 10])"
            ]
          },
          "execution_count": 21,
          "metadata": {},
          "output_type": "execute_result"
        }
      ],
      "source": [
        "dummy_x = torch.rand([1, 1, 28, 28])\n",
        "model_0(dummy_x).shape"
      ]
    },
    {
      "cell_type": "code",
      "execution_count": 22,
      "metadata": {
        "colab": {
          "base_uri": "https://localhost:8080/"
        },
        "id": "sQuAunFUulA0",
        "outputId": "071ff757-62d9-41e1-8e1a-38fdb8c0e44b"
      },
      "outputs": [
        {
          "data": {
            "text/plain": [
              "OrderedDict([('layer_stack.1.weight',\n",
              "              tensor([[ 0.0273,  0.0296, -0.0084,  ..., -0.0142,  0.0093,  0.0135],\n",
              "                      [-0.0188, -0.0354,  0.0187,  ..., -0.0106, -0.0001,  0.0115],\n",
              "                      [-0.0008,  0.0017,  0.0045,  ..., -0.0127, -0.0188,  0.0059],\n",
              "                      ...,\n",
              "                      [-0.0116,  0.0273, -0.0344,  ...,  0.0176,  0.0283, -0.0011],\n",
              "                      [-0.0230,  0.0257,  0.0291,  ..., -0.0187, -0.0087,  0.0001],\n",
              "                      [ 0.0176, -0.0147,  0.0053,  ..., -0.0336, -0.0221,  0.0205]])),\n",
              "             ('layer_stack.1.bias',\n",
              "              tensor([-0.0093,  0.0283, -0.0033,  0.0255,  0.0017,  0.0037, -0.0302, -0.0123,\n",
              "                       0.0018,  0.0163])),\n",
              "             ('layer_stack.2.weight',\n",
              "              tensor([[ 0.0614, -0.0687,  0.0021,  0.2718,  0.2109,  0.1079, -0.2279, -0.1063,\n",
              "                        0.2019,  0.2847],\n",
              "                      [-0.1495,  0.1344, -0.0740,  0.2006, -0.0475, -0.2514, -0.3130, -0.0118,\n",
              "                        0.0932, -0.1864],\n",
              "                      [ 0.2488,  0.1500,  0.1907,  0.1457, -0.3050, -0.0580,  0.1643,  0.1565,\n",
              "                       -0.2877, -0.1792],\n",
              "                      [ 0.2305, -0.2618,  0.2397, -0.0610,  0.0232,  0.1542,  0.0851, -0.2027,\n",
              "                        0.1030, -0.2715],\n",
              "                      [-0.1596, -0.0555, -0.0633,  0.2302, -0.1726,  0.2654,  0.1473,  0.1029,\n",
              "                        0.2252, -0.2160],\n",
              "                      [-0.2725,  0.0118,  0.1559,  0.1596,  0.0132,  0.3024,  0.1124,  0.1366,\n",
              "                       -0.1533,  0.0965],\n",
              "                      [-0.1184, -0.2555, -0.2057, -0.1909, -0.0477, -0.1324,  0.2905,  0.1307,\n",
              "                       -0.2629,  0.0133],\n",
              "                      [ 0.2727, -0.0127,  0.0513,  0.0863, -0.1043, -0.2047, -0.1185, -0.0825,\n",
              "                        0.2488, -0.2571],\n",
              "                      [ 0.0425, -0.1209, -0.0336, -0.0281, -0.1227,  0.0730,  0.0747, -0.1816,\n",
              "                        0.1943,  0.2853],\n",
              "                      [-0.1310,  0.0645, -0.1171,  0.2168, -0.0245, -0.2820,  0.0736,  0.2621,\n",
              "                        0.0012, -0.0810]])),\n",
              "             ('layer_stack.2.bias',\n",
              "              tensor([-0.0087,  0.1791,  0.2712, -0.0791,  0.1685,  0.1762,  0.2825,  0.2266,\n",
              "                      -0.2612, -0.2613]))])"
            ]
          },
          "execution_count": 22,
          "metadata": {},
          "output_type": "execute_result"
        }
      ],
      "source": [
        "model_0.state_dict()"
      ]
    },
    {
      "cell_type": "markdown",
      "metadata": {
        "id": "ibcoc_e0u3x5"
      },
      "source": [
        "### 3.1 Setup loss, optimizer and evaluation metrics.\n",
        "\n",
        "* Loss function - since we're working with multi-class data, our loss function will be `nn.crossEntropyLoss()`\n",
        "* Optimizer - our optimizer `torch.optim.SGD()` (stochastic gradient descent)\n",
        "* Evaluation metric - since we're working on a classification problem, let's use accuracy as our evaluation metric."
      ]
    },
    {
      "cell_type": "code",
      "execution_count": 23,
      "metadata": {
        "colab": {
          "base_uri": "https://localhost:8080/"
        },
        "id": "-KWHIpmDwZnk",
        "outputId": "b8ba3a52-1111-48a4-fb2c-f34a36197d5a"
      },
      "outputs": [
        {
          "name": "stdout",
          "output_type": "stream",
          "text": [
            "Downloading helper functions.py\n"
          ]
        }
      ],
      "source": [
        "import requests\n",
        "from pathlib import Path\n",
        "\n",
        "# Download\n",
        "if Path(\"helper_functions.py\").is_file():\n",
        "  print(\"helper functions.py already exists, skipping download..\")\n",
        "else:\n",
        "  print(\"Downloading helper functions.py\")\n",
        "  request = requests.get(\"https://raw.githubusercontent.com/mrdbourke/pytorch-deep-learning/refs/heads/main/helper_functions.py\")\n",
        "  with open(\"helper_functions.py\", \"wb\") as f:\n",
        "    f.write(request.content)"
      ]
    },
    {
      "cell_type": "code",
      "execution_count": 24,
      "metadata": {
        "id": "wN5_kuGwxFdZ"
      },
      "outputs": [],
      "source": [
        "# Import the accuracy metric\n",
        "from helper_functions import accuracy_fn"
      ]
    },
    {
      "cell_type": "code",
      "execution_count": 25,
      "metadata": {
        "colab": {
          "base_uri": "https://localhost:8080/",
          "height": 186
        },
        "id": "2py1ERMjxPgf",
        "outputId": "87837a15-b890-46ad-dc17-1dc53419f75f"
      },
      "outputs": [
        {
          "data": {
            "text/plain": [
              "<function helper_functions.accuracy_fn(y_true, y_pred)>"
            ]
          },
          "execution_count": 25,
          "metadata": {},
          "output_type": "execute_result"
        }
      ],
      "source": [
        "accuracy_fn"
      ]
    },
    {
      "cell_type": "code",
      "execution_count": 26,
      "metadata": {
        "id": "oAxmXYn5xUTF"
      },
      "outputs": [],
      "source": [
        "# Setup loss and optimizer\n",
        "loss_fn = nn.CrossEntropyLoss()\n",
        "optimizer = torch.optim.SGD(params = model_0.parameters(),\n",
        "                            lr = 0.1)"
      ]
    },
    {
      "cell_type": "markdown",
      "metadata": {
        "id": "uuarmlf1KNLn"
      },
      "source": [
        "### 3.2 Creating a function to time our experiments.\n",
        "\n",
        "Machine learning is very experimental.\n",
        "\n",
        "Two of the main things you'll often want to track are:\n",
        "1. Model's performance (loss and accuracy values, etc).\n",
        "2. How fast it runs"
      ]
    },
    {
      "cell_type": "code",
      "execution_count": 27,
      "metadata": {
        "id": "7nAxWgyqKve-"
      },
      "outputs": [],
      "source": [
        "from timeit import default_timer as timer\n",
        "def print_train_time(start:float,\n",
        "                     end: float,\n",
        "                     device: torch.device = None):\n",
        "  '''\n",
        "  Prints the difference between start and end time\n",
        "  '''\n",
        "  total_time = end - start\n",
        "  print(f\"Train time on {device} : {total_time:.3f} seconds\")\n",
        "  return total_time"
      ]
    },
    {
      "cell_type": "code",
      "execution_count": 28,
      "metadata": {
        "colab": {
          "base_uri": "https://localhost:8080/"
        },
        "id": "UKQ1QM6vLRHR",
        "outputId": "4a610059-f91b-4581-86a7-e0b254a56297"
      },
      "outputs": [
        {
          "name": "stdout",
          "output_type": "stream",
          "text": [
            "Train time on cpu : 0.000 seconds\n"
          ]
        },
        {
          "data": {
            "text/plain": [
              "0.00011330004781484604"
            ]
          },
          "execution_count": 28,
          "metadata": {},
          "output_type": "execute_result"
        }
      ],
      "source": [
        "start_time = timer()\n",
        "# some code...\n",
        "end_time = timer()\n",
        "print_train_time(start = start_time, end = end_time, device = \"cpu\")"
      ]
    },
    {
      "cell_type": "markdown",
      "metadata": {
        "id": "RiRwMus7NS_u"
      },
      "source": [
        "### 3.3 Creating a training loop and training a model on batches of data\n",
        "\n",
        "1. Loop through epochs\n",
        "2. Loop through training batches, perform training steps, calculate the train loss *per batch*.\n",
        "3. Loop through testing batches, perform testing steps, calculate the test loss *per batch*.\n",
        "4. Print out what's happening\n",
        "5. Time it all (for fun)."
      ]
    },
    {
      "cell_type": "code",
      "execution_count": 29,
      "metadata": {
        "colab": {
          "base_uri": "https://localhost:8080/",
          "height": 448,
          "referenced_widgets": [
            "73fe04a9bc72426f9a81bb9df0774ca6",
            "a8eb266ed34943b0b255f1e6c5bdbef5",
            "19cae0f3ee7a471fa6d1a92c97604914",
            "8c481b324d654e7e9531c16bd3b5803f",
            "031c3f9e7ec0491cb8a68e9362c21d02",
            "6a271df70a3f4c9ab0a33a1ccb9a6e2d",
            "3bd13a109ee2404cbd5e5a53d889f33f",
            "6a2194267c074e818d8b2bdd08893789",
            "74b1b8cef58d47bca9646dd33ba9369b",
            "05a02489acd043fb8d4ef8240217298c",
            "c332493862634343a5e9c5f380adddd2"
          ]
        },
        "id": "BmhFsNQiNwhv",
        "outputId": "15d6d196-3d5f-4a04-cac5-c28943ae0222"
      },
      "outputs": [
        {
          "data": {
            "application/vnd.jupyter.widget-view+json": {
              "model_id": "e97e1d036615445a8942bdff5d8a3b6e",
              "version_major": 2,
              "version_minor": 0
            },
            "text/plain": [
              "  0%|          | 0/3 [00:00<?, ?it/s]"
            ]
          },
          "metadata": {},
          "output_type": "display_data"
        },
        {
          "name": "stdout",
          "output_type": "stream",
          "text": [
            "Epoch: 0\n",
            "Looked at: 0/60000\n",
            "Looked at: 12800/60000\n",
            "Looked at: 25600/60000\n",
            "Looked at: 38400/60000\n",
            "Looked at: 51200/60000\n",
            "Train loss: 0.59039 | Test loss: 0.00098 | Test acc: 82.04\n",
            "Epoch: 1\n",
            "Looked at: 0/60000\n",
            "Looked at: 12800/60000\n",
            "Looked at: 25600/60000\n",
            "Looked at: 38400/60000\n",
            "Looked at: 51200/60000\n",
            "Train loss: 0.47633 | Test loss: 0.00088 | Test acc: 83.20\n",
            "Epoch: 2\n",
            "Looked at: 0/60000\n",
            "Looked at: 12800/60000\n",
            "Looked at: 25600/60000\n",
            "Looked at: 38400/60000\n",
            "Looked at: 51200/60000\n",
            "Train loss: 0.45503 | Test loss: 0.00105 | Test acc: 83.43\n",
            "Train time on cpu : 19.982 seconds\n"
          ]
        }
      ],
      "source": [
        "# Import tqdm for progress bar\n",
        "from tqdm.auto import tqdm # gonna recognize what environment our computer is using, giving us best progress bar\n",
        "\n",
        "# set the seed and start the timer\n",
        "torch.manual_seed(42)\n",
        "train_time_start_on_cpu = timer()\n",
        "\n",
        "# Set the number of epochs (We'll keep this small for faster training time)\n",
        "epochs = 3\n",
        "\n",
        "# Create training and test loop\n",
        "for epoch in tqdm(range(epochs)):\n",
        "  print(f\"Epoch: {epoch}\")\n",
        "\n",
        "  ###Traininig\n",
        "  train_loss = 0\n",
        "  # Add a loop to through the training batches\n",
        "  for batch, (X, y) in enumerate(train_dataloader):\n",
        "    model_0.train()\n",
        "    # 1. Forward pass\n",
        "    y_pred = model_0(X)\n",
        "\n",
        "    # 2. Calculate the loss\n",
        "    loss = loss_fn(y_pred, y)\n",
        "    train_loss += loss # accumulate train loss\n",
        "\n",
        "    # 3. Optimizer zero grad\n",
        "    optimizer.zero_grad()\n",
        "\n",
        "    # 4. Loss backward\n",
        "    loss.backward()\n",
        "\n",
        "    # 5. Optimizer step\n",
        "    optimizer.step()\n",
        "\n",
        "    # Print out what's happening\n",
        "    if batch % 400 == 0:\n",
        "      print(f\"Looked at: {batch * (len(X))}/{len(train_dataloader.dataset)}\")\n",
        "\n",
        "  # Adjust for our training loss to get average per batch, per epoch.\n",
        "  train_loss /= len(train_dataloader)\n",
        "\n",
        "  ## Testing\n",
        "  test_loss, test_acc = 0, 0\n",
        "  model_0.eval()\n",
        "  with torch.inference_mode():\n",
        "    for X_test, y_test in test_dataloader:\n",
        "      # 1. Forward pass\n",
        "      test_pred = model_0(X_test)\n",
        "\n",
        "      # 2. Calculate loss (accumulatively)\n",
        "      test_loss = loss_fn(test_pred, y_test)\n",
        "\n",
        "      # 3. Calculate accuracy (True labels and true values in the same format)\n",
        "      test_acc += accuracy_fn(y_true = y_test, y_pred = test_pred.argmax(dim = 1))\n",
        "\n",
        "    # Calculate the test loss averager per batch\n",
        "    test_loss /= len(test_dataloader)\n",
        "\n",
        "    # Calculate the test acc average per batch\n",
        "    test_acc /= len(test_dataloader)\n",
        "\n",
        "  # Print out whats happening\n",
        "  print(f\"Train loss: {train_loss:.5f} | Test loss: {test_loss:.5f} | Test acc: {test_acc:.2f}\")\n",
        "\n",
        "# Calculate training time\n",
        "train_time_end_on_cpu = timer()\n",
        "total_train_time_model_0 = print_train_time(start = train_time_start_on_cpu,\n",
        "                                            end = train_time_end_on_cpu,\n",
        "                                            device = \"cpu\")\n"
      ]
    },
    {
      "cell_type": "code",
      "execution_count": 30,
      "metadata": {
        "colab": {
          "base_uri": "https://localhost:8080/",
          "height": 36
        },
        "id": "yROmWTSGP9q4",
        "outputId": "f7d8ee38-81a9-43a3-f875-4ffe85a97ee4"
      },
      "outputs": [
        {
          "data": {
            "text/plain": [
              "'cpu'"
            ]
          },
          "execution_count": 30,
          "metadata": {},
          "output_type": "execute_result"
        }
      ],
      "source": [
        "str(next(model_0.parameters()).device)"
      ]
    },
    {
      "cell_type": "code",
      "execution_count": 31,
      "metadata": {
        "colab": {
          "base_uri": "https://localhost:8080/"
        },
        "id": "z6rTqMtOPuNl",
        "outputId": "9d2f0037-bcbf-41e3-d8c4-d8c367d5fd07"
      },
      "outputs": [
        {
          "name": "stdout",
          "output_type": "stream",
          "text": [
            "tensor([2, 1, 4])\n",
            "tensor([[0.0244, 0.0770, 0.2156, 0.3114, 0.3716],\n",
            "        [0.1729, 0.0646, 0.0431, 0.1377, 0.5817],\n",
            "        [0.3126, 0.0526, 0.1005, 0.4975, 0.0368]])\n"
          ]
        }
      ],
      "source": [
        "print(torch.empty(3, dtype=torch.long).random_(5))\n",
        "print(torch.randn(3, 5).softmax(dim = 1))"
      ]
    },
    {
      "cell_type": "markdown",
      "metadata": {
        "id": "jkDbLcumLXh3"
      },
      "source": [
        "### 4. Make predictions anf get Model 0 results"
      ]
    },
    {
      "cell_type": "code",
      "execution_count": 32,
      "metadata": {
        "colab": {
          "base_uri": "https://localhost:8080/",
          "height": 67,
          "referenced_widgets": [
            "bc17df0d182e4145af27b66330f33442",
            "8ca5401a9bca4ef38cde761232008262",
            "639d9ec782df44a6ad5edb8c59a0bcb2",
            "44f4ddfd40ca4037aa8f74951a43d236",
            "e117907c80594c35b852130413bed2e3",
            "05bb6a0119da462aad95d7f9dcfe4e62",
            "e62f19569ff74550aea1797b65f7d172",
            "051a9abd14db4858b80bd05ff894f5be",
            "e6fba31e826f49adae1a4a481f871889",
            "8aff16f37f0b43c8b7643cd7cee7b3fe",
            "19174d5f455c4f10bd1301c52851e487"
          ]
        },
        "id": "hjwIpZkFLclf",
        "outputId": "54562d20-9db7-402f-a1e7-0d6d9a09ef24"
      },
      "outputs": [
        {
          "data": {
            "application/vnd.jupyter.widget-view+json": {
              "model_id": "cadbc9ea03b94b1286fcc6036940bc81",
              "version_major": 2,
              "version_minor": 0
            },
            "text/plain": [
              "  0%|          | 0/313 [00:00<?, ?it/s]"
            ]
          },
          "metadata": {},
          "output_type": "display_data"
        },
        {
          "name": "stdout",
          "output_type": "stream",
          "text": [
            "{'model_name': 'FashionMNISTModelV0', 'model_loss': 0.47663894295692444, 'model_acc': 83.42651757188499}\n"
          ]
        }
      ],
      "source": [
        "torch.manual_seed(42)\n",
        "def eval_model(model: torch.nn.Module,\n",
        "               data_loader: torch.utils.data.DataLoader,\n",
        "               loss_fn: torch.nn.Module,\n",
        "               accuracy_fn):\n",
        "  '''\n",
        "  Returns a dictionary containing the results of model predicting on data_loader\n",
        "  '''\n",
        "  loss, acc = 0, 0\n",
        "  model.eval()\n",
        "  with torch.inference_mode():\n",
        "    for X, y in tqdm(data_loader):\n",
        "      # Make predictions\n",
        "      y_pred = model(X)\n",
        "\n",
        "      #Accumulate the loss and accc values per batch\n",
        "      loss += loss_fn(y_pred, y)\n",
        "      acc += accuracy_fn(y_true = y, y_pred = y_pred.argmax(dim = 1))\n",
        "\n",
        "    # Scale the loss and acc to find the average loss-acc per batch\n",
        "    loss /= len(data_loader)\n",
        "    acc /= len(data_loader)\n",
        "\n",
        "  return {\"model_name\": model.__class__.__name__, # Only works when model was created with model class name\n",
        "          \"model_loss\": loss.item(),\n",
        "          \"model_acc\": acc}\n",
        "\n",
        "# Calculate model 0 results on test data set\n",
        "model_0_results = eval_model(\n",
        "    model = model_0,\n",
        "    data_loader=test_dataloader,\n",
        "    loss_fn=loss_fn,\n",
        "    accuracy_fn=accuracy_fn\n",
        ")\n",
        "\n",
        "print(model_0_results)"
      ]
    },
    {
      "cell_type": "markdown",
      "metadata": {
        "id": "4XYj7WXEa8h4"
      },
      "source": [
        "## 5. Setup device agnostic-code (for using a GPU if there is one)"
      ]
    },
    {
      "cell_type": "code",
      "execution_count": 33,
      "metadata": {
        "colab": {
          "base_uri": "https://localhost:8080/"
        },
        "id": "X_rH8ySWbLd9",
        "outputId": "34e4ff13-3536-4863-80f7-43e45cce3793"
      },
      "outputs": [
        {
          "data": {
            "text/plain": [
              "False"
            ]
          },
          "execution_count": 33,
          "metadata": {},
          "output_type": "execute_result"
        }
      ],
      "source": [
        "torch.cuda.is_available()"
      ]
    },
    {
      "cell_type": "code",
      "execution_count": 34,
      "metadata": {
        "colab": {
          "base_uri": "https://localhost:8080/"
        },
        "id": "TnJqqcJKbVvB",
        "outputId": "87e66179-b083-4255-db2f-ceb9f00b3c12"
      },
      "outputs": [
        {
          "name": "stderr",
          "output_type": "stream",
          "text": [
            "'nvidia-smi' is not recognized as an internal or external command,\n",
            "operable program or batch file.\n"
          ]
        }
      ],
      "source": [
        "!nvidia-smi"
      ]
    },
    {
      "cell_type": "code",
      "execution_count": 35,
      "metadata": {
        "colab": {
          "base_uri": "https://localhost:8080/",
          "height": 36
        },
        "id": "B_5Jh5PqblrG",
        "outputId": "dafbf797-393c-4db3-d030-0ae328ffc842"
      },
      "outputs": [
        {
          "data": {
            "text/plain": [
              "'cpu'"
            ]
          },
          "execution_count": 35,
          "metadata": {},
          "output_type": "execute_result"
        }
      ],
      "source": [
        "# Setup device agnostic code\n",
        "import torch\n",
        "device = \"cuda\" if torch.cuda.is_available() else \"cpu\"\n",
        "device"
      ]
    },
    {
      "cell_type": "markdown",
      "metadata": {
        "id": "ofaJQBAJbu3Q"
      },
      "source": [
        "## 6. Model 1: Building a better model with non-linearity\n",
        "\n",
        "We learned about the power of non-linearity in notebook 02, link: https://www.learnpytorch.io/02_pytorch_classification/"
      ]
    },
    {
      "cell_type": "code",
      "execution_count": 36,
      "metadata": {
        "id": "iFxQZQJIcwVK"
      },
      "outputs": [],
      "source": [
        "class FashionMNISTModelV1(nn.Module):\n",
        "  def __init__(self,\n",
        "               input_shape:int,\n",
        "               hidden_units:int,\n",
        "               output_shape:int):\n",
        "    super().__init__()\n",
        "    self.layer_stack = nn.Sequential(\n",
        "        nn.Flatten(),\n",
        "        nn.Linear(in_features=input_shape, out_features = hidden_units),\n",
        "        nn.ReLU(),\n",
        "        nn.Linear(in_features = hidden_units, out_features = output_shape),\n",
        "        nn.ReLU()\n",
        "    )\n",
        "\n",
        "  def forward(self, x:torch.Tensor):\n",
        "    return self.layer_stack(x)"
      ]
    },
    {
      "cell_type": "code",
      "execution_count": 37,
      "metadata": {
        "colab": {
          "base_uri": "https://localhost:8080/"
        },
        "id": "gpusDO93duIW",
        "outputId": "106f2a28-31b8-44fd-eec6-d38162be5edd"
      },
      "outputs": [
        {
          "name": "stdout",
          "output_type": "stream",
          "text": [
            "cpu\n"
          ]
        }
      ],
      "source": [
        "# Create an isntance of model 1\n",
        "torch.manual_seed(42)\n",
        "torch.cuda.manual_seed(42)\n",
        "\n",
        "model_1 = FashionMNISTModelV1(\n",
        "    input_shape = int(28*28), # this is the output of the flatten after our 28*28 unitss\n",
        "    hidden_units = 10,\n",
        "    output_shape = len(class_names)\n",
        ").to(device) # Send to the GPU if it's available\n",
        "\n",
        "print(next(model_1.parameters()).device)"
      ]
    },
    {
      "cell_type": "code",
      "execution_count": 38,
      "metadata": {
        "colab": {
          "base_uri": "https://localhost:8080/",
          "height": 36
        },
        "id": "_xM5to0pdyel",
        "outputId": "415127a4-7610-4d0d-8dbb-25d924d8f7c5"
      },
      "outputs": [
        {
          "data": {
            "text/plain": [
              "'cpu'"
            ]
          },
          "execution_count": 38,
          "metadata": {},
          "output_type": "execute_result"
        }
      ],
      "source": [
        "device"
      ]
    },
    {
      "cell_type": "markdown",
      "metadata": {
        "id": "2h12yztZhp75"
      },
      "source": [
        "### 6.1 Setup loss, optimizer ane evaluation metrics"
      ]
    },
    {
      "cell_type": "code",
      "execution_count": 39,
      "metadata": {
        "id": "Dhnjfrebhsz6"
      },
      "outputs": [],
      "source": [
        "from helper_functions import accuracy_fn\n",
        "loss_fn = nn.CrossEntropyLoss() # Measure how wrong our model is\n",
        "optimizer = torch.optim.SGD(params = model_1.parameters(), # tries to update our model's parameters to reduce the loss\n",
        "                            lr = 0.1)"
      ]
    },
    {
      "cell_type": "markdown",
      "metadata": {
        "id": "QxdoB15Thuyu"
      },
      "source": [
        "### 6.2 Functionizing training and evaluation/testing loops\n",
        "\n",
        "Let's create a function for:\n",
        "* training loop - `train_step()`\n",
        "* testing loop - `test_step()`"
      ]
    },
    {
      "cell_type": "code",
      "execution_count": 40,
      "metadata": {
        "id": "TxLgtyeXiVUd"
      },
      "outputs": [],
      "source": [
        "def train_step(model: nn.Module,\n",
        "               data_loader:DataLoader,\n",
        "               loss_fn: nn.Module,\n",
        "               optimizer: torch.optim.Optimizer,\n",
        "               accuracy_fn,\n",
        "               device: torch.device = device):\n",
        "  '''\n",
        "  Performs training with model trying to learn on data_laoder\n",
        "  '''\n",
        "  train_loss, train_acc = 0, 0\n",
        "\n",
        "  # Put model into training mode\n",
        "  model.train()\n",
        "\n",
        "  # Add a loop to through the training batches\n",
        "  for batch, (X, y) in enumerate(data_loader):\n",
        "    # Put data in target.device\n",
        "    X, y = X.to(device), y.to(device)\n",
        "\n",
        "    # 1. Forward pass\n",
        "    y_pred = model(X)\n",
        "\n",
        "    # 2. Calculate the loss and accuracy per batch\n",
        "    loss = loss_fn(y_pred, y)\n",
        "    train_loss += loss # accumulate train loss\n",
        "    train_acc += accuracy_fn(y_true = y, y_pred = y_pred.argmax(dim = 1))\n",
        "\n",
        "    # 3. Optimizer zero grad\n",
        "    optimizer.zero_grad()\n",
        "\n",
        "    # 4. Loss backward\n",
        "    loss.backward()\n",
        "\n",
        "    # 5. Optimizer step\n",
        "    optimizer.step()\n",
        "\n",
        "  # Adjust for our training loss and acc to get average per batch, per epoch.\n",
        "  train_loss /= len(data_loader)\n",
        "  train_acc /= len(data_loader)\n",
        "  print(f\"%Train loss: {train_loss:.5f} | Train acc: {train_acc:.2f}%\")"
      ]
    },
    {
      "cell_type": "code",
      "execution_count": 41,
      "metadata": {
        "id": "auvYrRso2Cej"
      },
      "outputs": [],
      "source": [
        "def test_step(model: torch.nn.Module,\n",
        "            data_loader: torch.utils.data.DataLoader,\n",
        "            loss_fn: torch.nn.Module,\n",
        "            accuracy_fn,\n",
        "            device: torch.device = device):\n",
        "  '''\n",
        "  Performs a testing loop step on model going over data_loader\n",
        "  '''\n",
        "  test_loss, test_acc = 0, 0\n",
        "\n",
        "  #Put the model in eval mode\n",
        "  model.eval()\n",
        "\n",
        "  # Turn on inference mode context manager\n",
        "  with torch.inference_mode():\n",
        "    for X, y in tqdm(data_loader):\n",
        "      # Send data to the target device\n",
        "      X, y = X.to(device), y.to(device)\n",
        "\n",
        "      # 1. Forward pass (outputs raw logits)\n",
        "      test_pred = model(X)\n",
        "\n",
        "      # 2. Calculate the loss/acc\n",
        "      test_loss += loss_fn(test_pred, y)\n",
        "      test_acc += accuracy_fn(y_true = y, y_pred = test_pred.argmax(dim = 1)) # go from logits -> prediction labels\n",
        "\n",
        "    # Scale the test_loss and test_acc to find the average test_loss-test_acc per batch\n",
        "    test_loss /= len(data_loader)\n",
        "    test_acc /= len(data_loader)\n",
        "    print(f\"Test loss: {test_loss:.5f} | Test acc: {test_acc:.2f}%\\n\")\n"
      ]
    },
    {
      "cell_type": "code",
      "execution_count": 42,
      "metadata": {
        "colab": {
          "base_uri": "https://localhost:8080/",
          "height": 403,
          "referenced_widgets": [
            "93c76bf595ba425ebe01910d249a8bb9",
            "21563435ac194104a5f4ff84ff5d1b98",
            "c4c71f51a4d34472b80b33f5fa642f25",
            "5aa20747fa22456da116f14232764bb3",
            "4d7f6a4de63344268d96e9d24b89ba8e",
            "130320122687486b8bbfbcf870b94b1b",
            "5fed4d8e26d44a9ebdebccde30f7ba6a",
            "1750ca98ab204bf0a849a14c0a0790eb",
            "97bdf35248f34b83acb836839332ac14",
            "88996e603c22473482ece200cfd1a8f4",
            "06664e8f39ec4ccd8f9810f034d7a68c",
            "bdc8e1ad9d8b4547abe5e6f5c1fe1d7e",
            "ffee55c00e4c4a32896413fb473caf4e",
            "2c6fe10afe75494296ea2a7c517d06d3",
            "ae02c36fca3545598204ed1d6472b3a8",
            "0f5afc162cf147dca002219be7089496",
            "004df50bf3964cdcb489a35fb14c71d0",
            "f7c697a08da44aa0b1deb4351e524f27",
            "edcd222f3e8a41489476f3a399c7acee",
            "046a1a4bd69c47caae28470b05c7775d",
            "f91b4adb964c43bdb7c8079e222e038f",
            "58606b657fa347b28b25603ae9aa099a",
            "944acecbba084b3496a4b74ad7599bb5",
            "9bee0bcec3f242b3af0965adae535a1c",
            "789417be01b4476285e760d043889954",
            "b4cd591b985b40e48e1503326e4a315d",
            "04f6fcf8fde94472a845feec29ad7fb2",
            "1e8e691d95064085b0eb60c499698ec3",
            "45a4e4c06fdd499fa899db3ce99b1da8",
            "2fd74c03168041c6a6ea7772b4fb76a5",
            "3dbf6412144d408c8265d948448072d8",
            "a523dfbd91ce401489836bad1f1ce2f5",
            "ee124bf5960d4e7580d241a0061f7ab0"
          ]
        },
        "id": "dU-YS2A-3uP6",
        "outputId": "a6135e1a-8ffc-45f8-e6ee-f5f14a014038"
      },
      "outputs": [
        {
          "name": "stdout",
          "output_type": "stream",
          "text": [
            "Epoch: 0\n",
            "--------\n",
            "%Train loss: 1.09199 | Train acc: 61.34%\n"
          ]
        },
        {
          "data": {
            "application/vnd.jupyter.widget-view+json": {
              "model_id": "5a4ffea053064d6da3b77ab6d6b0f414",
              "version_major": 2,
              "version_minor": 0
            },
            "text/plain": [
              "  0%|          | 0/313 [00:00<?, ?it/s]"
            ]
          },
          "metadata": {},
          "output_type": "display_data"
        },
        {
          "name": "stdout",
          "output_type": "stream",
          "text": [
            "Test loss: 0.95636 | Test acc: 65.00%\n",
            "\n",
            "Epoch: 1\n",
            "--------\n",
            "%Train loss: 0.73779 | Train acc: 73.69%\n"
          ]
        },
        {
          "data": {
            "application/vnd.jupyter.widget-view+json": {
              "model_id": "57b5957518364b5dbb3226bb3afd0aa6",
              "version_major": 2,
              "version_minor": 0
            },
            "text/plain": [
              "  0%|          | 0/313 [00:00<?, ?it/s]"
            ]
          },
          "metadata": {},
          "output_type": "display_data"
        },
        {
          "name": "stdout",
          "output_type": "stream",
          "text": [
            "Test loss: 0.72300 | Test acc: 74.24%\n",
            "\n",
            "Epoch: 2\n",
            "--------\n",
            "%Train loss: 0.66776 | Train acc: 76.08%\n"
          ]
        },
        {
          "data": {
            "application/vnd.jupyter.widget-view+json": {
              "model_id": "7668d012f5834e1093f24894459fa7e1",
              "version_major": 2,
              "version_minor": 0
            },
            "text/plain": [
              "  0%|          | 0/313 [00:00<?, ?it/s]"
            ]
          },
          "metadata": {},
          "output_type": "display_data"
        },
        {
          "name": "stdout",
          "output_type": "stream",
          "text": [
            "Test loss: 0.68743 | Test acc: 75.66%\n",
            "\n",
            "Train time on cpu : 19.477 seconds\n"
          ]
        }
      ],
      "source": [
        "torch.manual_seed(42)\n",
        "\n",
        "# Measure time\n",
        "from timeit import default_timer as timer\n",
        "train_time_start_on_gpu = timer()\n",
        "\n",
        "#Set epochs\n",
        "epochs = 3\n",
        "\n",
        "#Create a optimization and evaluation loop using train_step() and test_step()\n",
        "for epoch in range(epochs):\n",
        "  print(f\"Epoch: {epoch}\\n--------\")\n",
        "\n",
        "  # Perform a batch training step\n",
        "  train_step(model = model_1,\n",
        "             data_loader=train_dataloader,\n",
        "             loss_fn=loss_fn,\n",
        "             optimizer=optimizer,\n",
        "             accuracy_fn=accuracy_fn,\n",
        "             device=device)\n",
        "\n",
        "  # Perform a batch test step\n",
        "  test_step(model=model_1,\n",
        "            data_loader=test_dataloader,\n",
        "            loss_fn=loss_fn,\n",
        "            accuracy_fn=accuracy_fn,\n",
        "            device=device)\n",
        "\n",
        "# Calculate training time\n",
        "train_time_end_on_gpu = timer()\n",
        "total_train_time_model_1 = print_train_time(start=train_time_start_on_gpu,\n",
        "                                            end=train_time_end_on_gpu,\n",
        "                                            device=device)"
      ]
    },
    {
      "cell_type": "code",
      "execution_count": 43,
      "metadata": {
        "colab": {
          "base_uri": "https://localhost:8080/",
          "height": 103,
          "referenced_widgets": [
            "3dfd324a918340e7aa495bb36ec9e71f",
            "1b9d97efcb1543dabbbe9e652c272112",
            "86a2a946260d4c789f660d19ceb579b5",
            "0e78392abe5d4779b4a6022cd8b6a06b",
            "37b064f79b4b48baa2d9191c661f89e3",
            "355a442aa6c34f239ed9b58c74f454d8",
            "d9e61fb877f444a1bfbcfd9f4d8a0abe",
            "35567e88ccaa49c7828f3191df2a3c74",
            "651a28e7b08e49e9b6e4ef754ce88d47",
            "3366aeeb7e7242f28a2d4c3b17844845",
            "19cfe7fffe3746e38eb518f404510f0f"
          ]
        },
        "id": "JK0gCSSJ8IYi",
        "outputId": "8637dc65-3947-43c0-df76-858015754740"
      },
      "outputs": [
        {
          "data": {
            "application/vnd.jupyter.widget-view+json": {
              "model_id": "8933d85aa9bc484785624dc709423982",
              "version_major": 2,
              "version_minor": 0
            },
            "text/plain": [
              "  0%|          | 0/313 [00:00<?, ?it/s]"
            ]
          },
          "metadata": {},
          "output_type": "display_data"
        },
        {
          "data": {
            "text/plain": [
              "{'model_name': 'FashionMNISTModelV1',\n",
              " 'model_loss': 0.68743497133255,\n",
              " 'model_acc': 75.65894568690096}"
            ]
          },
          "execution_count": 43,
          "metadata": {},
          "output_type": "execute_result"
        }
      ],
      "source": [
        "# Get model 1 results dictionary\n",
        "def eval_model(model: torch.nn.Module,\n",
        "               data_loader: torch.utils.data.DataLoader,\n",
        "               loss_fn: torch.nn.Module,\n",
        "               accuracy_fn,\n",
        "               device = device):\n",
        "  '''\n",
        "  Returns a dictionary containing the results of model predicting on data_loader\n",
        "  '''\n",
        "  loss, acc = 0, 0\n",
        "  model.eval()\n",
        "  with torch.inference_mode():\n",
        "    for X, y in tqdm(data_loader):\n",
        "      # Make our data device agnostic\n",
        "      X, y = X.to(device), y.to(device)\n",
        "\n",
        "      # Make predictions\n",
        "      y_pred = model(X)\n",
        "\n",
        "      #Accumulate the loss and accc values per batch\n",
        "      loss += loss_fn(y_pred, y)\n",
        "      acc += accuracy_fn(y_true = y, y_pred = y_pred.argmax(dim = 1))\n",
        "\n",
        "    # Scale the loss and acc to find the average loss-acc per batch\n",
        "    loss /= len(data_loader)\n",
        "    acc /= len(data_loader)\n",
        "\n",
        "  return {\"model_name\": model.__class__.__name__, # Only works when model was created with model class name\n",
        "          \"model_loss\": loss.item(),\n",
        "          \"model_acc\": acc}\n",
        "\n",
        "model_1_results = eval_model(\n",
        "    model = model_1,\n",
        "    data_loader=test_dataloader,\n",
        "    loss_fn=loss_fn,\n",
        "    accuracy_fn=accuracy_fn\n",
        ")\n",
        "model_1_results"
      ]
    },
    {
      "cell_type": "code",
      "execution_count": 44,
      "metadata": {
        "colab": {
          "base_uri": "https://localhost:8080/"
        },
        "id": "OAEUJl3E5Ao5",
        "outputId": "53a33bea-875e-457b-e169-085d51f58366"
      },
      "outputs": [
        {
          "name": "stdout",
          "output_type": "stream",
          "text": [
            "{'model_name': 'FashionMNISTModelV0', 'model_loss': 0.47663894295692444, 'model_acc': 83.42651757188499}\n",
            "19.98205130000133\n",
            "{'model_name': 'FashionMNISTModelV1', 'model_loss': 0.68743497133255, 'model_acc': 75.65894568690096}\n",
            "19.477109399973415\n"
          ]
        }
      ],
      "source": [
        "# Print model 0 results and train time on CPU\n",
        "print(model_0_results)\n",
        "45\n",
        "print(total_train_time_model_0)\n",
        "\n",
        "# Print model 1 train time on GPU\n",
        "print(model_1_results)\n",
        "print(total_train_time_model_1)"
      ]
    },
    {
      "cell_type": "markdown",
      "metadata": {
        "id": "EiRlEZo67I29"
      },
      "source": [
        "**Note:** Sometimes, depending on your data/hardware you might find that your model trains faster on CPU than GPU.\n",
        "\n",
        "Why is this?\n",
        "\n",
        "1. It could be that the overhead for copying data/model to and from the GPU outweights the compute benefits offered by the GPU.\n",
        "2. The hardware you're using has a better CPU in terms compute capability than the GPU (normally, when CPU is more modern).\n",
        "\n",
        "For more understanding, read here: https://horace.io/brrr_intro.html"
      ]
    },
    {
      "cell_type": "markdown",
      "metadata": {
        "id": "YGw42IV5etsS"
      },
      "source": [
        "## Model 2: Building a Convolutional Neural Network (CNN):\n",
        "\n",
        "CNN's are also known as ConvNets.\n",
        "\n",
        "CNN's are known for their capabilities to find patterns in visual data.\n",
        "\n",
        "To know what's happening in a CNN, join this website: https://poloclub.github.io/cnn-explainer/"
      ]
    },
    {
      "cell_type": "code",
      "execution_count": 45,
      "metadata": {
        "id": "NlcjzezegUrb"
      },
      "outputs": [],
      "source": [
        "# Create a convolutional neural network\n",
        "class FashionMNISTModelV2(nn.Module):\n",
        "  '''\n",
        "  Model Architecture that replicates the TinyVGG\n",
        "  model from CNN explainer website.\n",
        "  '''\n",
        "  def __init__(self,input_shape:int, hidden_units:int, output_shape:int):\n",
        "    super().__init__()\n",
        "    self.conv_block_1 = nn.Sequential(\n",
        "      # Create a conv layer: https://pytorch.org/docs/stable/generated/torch.nn.Conv2d.html\n",
        "      nn.Conv2d(in_channels=input_shape,\n",
        "                out_channels=hidden_units,\n",
        "                kernel_size=3,\n",
        "                stride = 1,\n",
        "                padding=1), # Values we can set ourselves in our NN's are called hyperparameters\n",
        "      nn.ReLU(),\n",
        "      nn.Conv2d(in_channels=hidden_units,\n",
        "                out_channels = hidden_units,\n",
        "                kernel_size=3,\n",
        "                stride=1,\n",
        "                padding=1),\n",
        "      nn.ReLU(),\n",
        "      nn.MaxPool2d(kernel_size=2)\n",
        "    )\n",
        "    self.conv_block_2 = nn.Sequential(\n",
        "      nn.Conv2d(in_channels = hidden_units,\n",
        "                out_channels = hidden_units,\n",
        "                kernel_size = 3,\n",
        "                stride = 1,\n",
        "                padding = 1), # Values we can set ourselves in our NN's are called hyperparameters\n",
        "      nn.ReLU(),\n",
        "      nn.Conv2d(in_channels = hidden_units,\n",
        "                out_channels = hidden_units,\n",
        "                kernel_size = 3,\n",
        "                stride = 1,\n",
        "                padding = 1),\n",
        "      nn.ReLU(),\n",
        "      nn.MaxPool2d(kernel_size=2)\n",
        "    )\n",
        "    self.classifier = nn.Sequential(\n",
        "        nn.Flatten(),\n",
        "        nn.Linear(in_features = hidden_units*7*7, # There's a trick to calculating this ...\n",
        "                  out_features=output_shape)\n",
        "    )\n",
        "\n",
        "  def forward(self, x):\n",
        "    x = self.conv_block_1(x)\n",
        "    # print(f\"Output shape conv_1{x.shape}\")\n",
        "    x = self.conv_block_2(x)\n",
        "    # print(f\"Output shape conv_2{x.shape}\")\n",
        "    x = self.classifier(x)\n",
        "    # print(f\"Classifier shape {x.shape}\")\n",
        "    return x"
      ]
    },
    {
      "cell_type": "code",
      "execution_count": 46,
      "metadata": {
        "id": "5wEbGtdhoN0o"
      },
      "outputs": [],
      "source": [
        "torch.manual_seed(42)\n",
        "model_2 = FashionMNISTModelV2(input_shape = 1,\n",
        "                              hidden_units = 10,\n",
        "                              output_shape = len(class_names)).to(device)"
      ]
    },
    {
      "cell_type": "code",
      "execution_count": 47,
      "metadata": {
        "colab": {
          "base_uri": "https://localhost:8080/"
        },
        "id": "3-Hi8Y_nwlyI",
        "outputId": "227ebead-8667-472e-d3fc-bea137ae7e05"
      },
      "outputs": [
        {
          "name": "stdout",
          "output_type": "stream",
          "text": [
            "torch.Size([1, 1, 28, 28])\n"
          ]
        },
        {
          "data": {
            "text/plain": [
              "tensor([[ 0.0394, -0.0659,  0.0535, -0.0325, -0.0080,  0.0151, -0.0003, -0.0165,\n",
              "          0.0250,  0.0063]], grad_fn=<AddmmBackward0>)"
            ]
          },
          "execution_count": 47,
          "metadata": {},
          "output_type": "execute_result"
        }
      ],
      "source": [
        "print(img.unsqueeze(0).shape)\n",
        "model_2(img.unsqueeze(0).to(device))"
      ]
    },
    {
      "cell_type": "markdown",
      "metadata": {
        "id": "c0wPknOFpqW7"
      },
      "source": [
        "### 7.1 Stepping through `nn.Conv2d()`\n",
        "\n",
        "See the documentation for `nn.Conv2d()` here - https://pytorch.org/docs/stable/generated/torch.nn.Conv2d.html"
      ]
    },
    {
      "cell_type": "code",
      "execution_count": 48,
      "metadata": {
        "colab": {
          "base_uri": "https://localhost:8080/"
        },
        "id": "VLTAmmnHqFnn",
        "outputId": "f821366f-2df1-4fe9-d59f-e87deaeace52"
      },
      "outputs": [
        {
          "name": "stdout",
          "output_type": "stream",
          "text": [
            "Image batch shape: torch.Size([32, 3, 64, 64])\n",
            "Single Image shape: torch.Size([3, 64, 64])\n",
            "Test_image: tensor([[[ 1.9269,  1.4873,  0.9007,  ...,  1.8446, -1.1845,  1.3835],\n",
            "         [ 1.4451,  0.8564,  2.2181,  ...,  0.3399,  0.7200,  0.4114],\n",
            "         [ 1.9312,  1.0119, -1.4364,  ..., -0.5558,  0.7043,  0.7099],\n",
            "         ...,\n",
            "         [-0.5610, -0.4830,  0.4770,  ..., -0.2713, -0.9537, -0.6737],\n",
            "         [ 0.3076, -0.1277,  0.0366,  ..., -2.0060,  0.2824, -0.8111],\n",
            "         [-1.5486,  0.0485, -0.7712,  ..., -0.1403,  0.9416, -0.0118]],\n",
            "\n",
            "        [[-0.5197,  1.8524,  1.8365,  ...,  0.8935, -1.5114, -0.8515],\n",
            "         [ 2.0818,  1.0677, -1.4277,  ...,  1.6612, -2.6223, -0.4319],\n",
            "         [-0.1010, -0.4388, -1.9775,  ...,  0.2106,  0.2536, -0.7318],\n",
            "         ...,\n",
            "         [ 0.2779,  0.7342, -0.3736,  ..., -0.4601,  0.1815,  0.1850],\n",
            "         [ 0.7205, -0.2833,  0.0937,  ..., -0.1002, -2.3609,  2.2465],\n",
            "         [-1.3242, -0.1973,  0.2920,  ...,  0.5409,  0.6940,  1.8563]],\n",
            "\n",
            "        [[-0.7978,  1.0261,  1.1465,  ...,  1.2134,  0.9354, -0.0780],\n",
            "         [-1.4647, -1.9571,  0.1017,  ..., -1.9986, -0.7409,  0.7011],\n",
            "         [-1.3938,  0.8466, -1.7191,  ..., -1.1867,  0.1320,  0.3407],\n",
            "         ...,\n",
            "         [ 0.8206, -0.3745,  1.2499,  ..., -0.0676,  0.0385,  0.6335],\n",
            "         [-0.5589, -0.3393,  0.2347,  ...,  2.1181,  2.4569,  1.3083],\n",
            "         [-0.4092,  1.5199,  0.2401,  ..., -0.2558,  0.7870,  0.9924]]])\n"
          ]
        }
      ],
      "source": [
        "torch.manual_seed(42)\n",
        "\n",
        "#Create a batch of images\n",
        "images = torch.randn(size = (32, 3, 64, 64))\n",
        "test_image = images[0]\n",
        "\n",
        "print(f\"Image batch shape: {images.shape}\")\n",
        "print(f\"Single Image shape: {test_image.shape}\")\n",
        "print(f\"Test_image: {test_image}\")"
      ]
    },
    {
      "cell_type": "code",
      "execution_count": 49,
      "metadata": {
        "colab": {
          "base_uri": "https://localhost:8080/"
        },
        "id": "SFDxfKOYqY4L",
        "outputId": "5cfe7da8-c871-4521-9307-eb4a77b60bbd"
      },
      "outputs": [
        {
          "data": {
            "text/plain": [
              "OrderedDict([('conv_block_1.0.weight',\n",
              "              tensor([[[[ 0.2548,  0.2767, -0.0781],\n",
              "                        [ 0.3062, -0.0730,  0.0673],\n",
              "                        [-0.1623,  0.1958,  0.2938]]],\n",
              "              \n",
              "              \n",
              "                      [[[-0.2445,  0.2897,  0.0624],\n",
              "                        [ 0.2463,  0.0451,  0.1607],\n",
              "                        [-0.0471,  0.2570,  0.0493]]],\n",
              "              \n",
              "              \n",
              "                      [[[-0.1556,  0.0850, -0.1536],\n",
              "                        [-0.0391, -0.1354,  0.2211],\n",
              "                        [-0.2631, -0.1537, -0.0941]]],\n",
              "              \n",
              "              \n",
              "                      [[[-0.2004,  0.0315, -0.3292],\n",
              "                        [ 0.3010, -0.2832,  0.2573],\n",
              "                        [ 0.0555, -0.1082,  0.2060]]],\n",
              "              \n",
              "              \n",
              "                      [[[ 0.0520,  0.2693,  0.0364],\n",
              "                        [-0.1051,  0.0896, -0.0904],\n",
              "                        [ 0.1403,  0.2976,  0.1927]]],\n",
              "              \n",
              "              \n",
              "                      [[[-0.1457,  0.1924,  0.0596],\n",
              "                        [ 0.1693, -0.2032, -0.3300],\n",
              "                        [-0.1288, -0.2557,  0.2735]]],\n",
              "              \n",
              "              \n",
              "                      [[[ 0.0960,  0.1381,  0.1054],\n",
              "                        [-0.0058,  0.2609, -0.2368],\n",
              "                        [ 0.0210, -0.2275,  0.1028]]],\n",
              "              \n",
              "              \n",
              "                      [[[-0.1148,  0.1021, -0.0694],\n",
              "                        [ 0.2765, -0.1976, -0.1988],\n",
              "                        [-0.1988,  0.2998,  0.1111]]],\n",
              "              \n",
              "              \n",
              "                      [[[ 0.3208, -0.2751, -0.3306],\n",
              "                        [-0.2608, -0.2242,  0.1350],\n",
              "                        [ 0.1194,  0.2770, -0.1721]]],\n",
              "              \n",
              "              \n",
              "                      [[[-0.2272,  0.1769, -0.1347],\n",
              "                        [ 0.2023, -0.0791,  0.1907],\n",
              "                        [-0.2590, -0.1682,  0.1016]]]])),\n",
              "             ('conv_block_1.0.bias',\n",
              "              tensor([ 0.0705, -0.0850,  0.1987,  0.2266, -0.2417, -0.1780,  0.3052, -0.1125,\n",
              "                      -0.1182, -0.3225])),\n",
              "             ('conv_block_1.2.weight',\n",
              "              tensor([[[[-0.0604,  0.0263, -0.0139],\n",
              "                        [-0.0765,  0.0025, -0.0720],\n",
              "                        [-0.0894, -0.0580, -0.0923]],\n",
              "              \n",
              "                       [[-0.0671,  0.1054,  0.0199],\n",
              "                        [ 0.0325, -0.0983, -0.0692],\n",
              "                        [-0.0351,  0.0165, -0.0928]],\n",
              "              \n",
              "                       [[-0.0454, -0.0631,  0.0003],\n",
              "                        [-0.0392, -0.0073, -0.0714],\n",
              "                        [-0.0724, -0.0615, -0.0361]],\n",
              "              \n",
              "                       [[-0.0832,  0.0884, -0.0209],\n",
              "                        [ 0.0907,  0.0328, -0.0893],\n",
              "                        [ 0.0729, -0.0290, -0.0404]],\n",
              "              \n",
              "                       [[-0.0875, -0.1048,  0.0302],\n",
              "                        [-0.0230,  0.0410, -0.0865],\n",
              "                        [ 0.0783, -0.0774, -0.0182]],\n",
              "              \n",
              "                       [[ 0.0220,  0.0544,  0.0851],\n",
              "                        [ 0.0960, -0.0836,  0.0265],\n",
              "                        [-0.0453, -0.0116, -0.0789]],\n",
              "              \n",
              "                       [[ 0.0960, -0.0774,  0.0563],\n",
              "                        [ 0.0370,  0.0343, -0.0570],\n",
              "                        [ 0.0958,  0.0232,  0.0136]],\n",
              "              \n",
              "                       [[-0.0929,  0.0442, -0.0158],\n",
              "                        [-0.0483,  0.0905,  0.0235],\n",
              "                        [-0.0583, -0.0534, -0.0050]],\n",
              "              \n",
              "                       [[ 0.0589, -0.0269, -0.0601],\n",
              "                        [-0.0361, -0.0787,  0.0376],\n",
              "                        [ 0.0816, -0.0992,  0.0245]],\n",
              "              \n",
              "                       [[ 0.0545,  0.0191, -0.0375],\n",
              "                        [ 0.0550,  0.0554,  0.0394],\n",
              "                        [-0.0185, -0.0279,  0.0113]]],\n",
              "              \n",
              "              \n",
              "                      [[[-0.0186, -0.0314,  0.0674],\n",
              "                        [ 0.0906, -0.0104, -0.0236],\n",
              "                        [ 0.0015, -0.0063,  0.0253]],\n",
              "              \n",
              "                       [[ 0.0295, -0.0957, -0.0389],\n",
              "                        [ 0.0888,  0.0411, -0.0052],\n",
              "                        [-0.0636, -0.0645, -0.0944]],\n",
              "              \n",
              "                       [[-0.0344,  0.0356,  0.0672],\n",
              "                        [ 0.0487, -0.0932, -0.0634],\n",
              "                        [-0.0166,  0.1020,  0.0152]],\n",
              "              \n",
              "                       [[-0.0273,  0.0436, -0.0401],\n",
              "                        [-0.0682,  0.0769, -0.0479],\n",
              "                        [-0.0211, -0.1049,  0.0705]],\n",
              "              \n",
              "                       [[ 0.0799,  0.0384, -0.0735],\n",
              "                        [-0.1040, -0.0856,  0.0786],\n",
              "                        [ 0.0506,  0.0887,  0.0552]],\n",
              "              \n",
              "                       [[ 0.0267, -0.0010, -0.0802],\n",
              "                        [-0.0903, -0.0986,  0.0432],\n",
              "                        [-0.0518, -0.0212, -0.0607]],\n",
              "              \n",
              "                       [[-0.0192, -0.0742, -0.0689],\n",
              "                        [ 0.0350, -0.0313,  0.0651],\n",
              "                        [-0.0338, -0.0773, -0.0186]],\n",
              "              \n",
              "                       [[-0.0511, -0.0322, -0.1003],\n",
              "                        [ 0.0590, -0.0734,  0.0530],\n",
              "                        [ 0.0478,  0.0753, -0.0809]],\n",
              "              \n",
              "                       [[ 0.0758, -0.0498,  0.0391],\n",
              "                        [ 0.0990, -0.0149, -0.0008],\n",
              "                        [-0.0243, -0.0880,  0.0506]],\n",
              "              \n",
              "                       [[-0.1046,  0.0654,  0.0789],\n",
              "                        [ 0.0997, -0.0249, -0.0866],\n",
              "                        [ 0.0237,  0.0582, -0.1049]]],\n",
              "              \n",
              "              \n",
              "                      [[[-0.0239, -0.0632, -0.0092],\n",
              "                        [-0.0519, -0.0431, -0.0335],\n",
              "                        [-0.1002,  0.0865,  0.0884]],\n",
              "              \n",
              "                       [[-0.0165, -0.0120, -0.0430],\n",
              "                        [-0.0952, -0.1026,  0.0392],\n",
              "                        [-0.0579, -0.0678, -0.0082]],\n",
              "              \n",
              "                       [[-0.0351, -0.0341,  0.0034],\n",
              "                        [-0.0224, -0.0363, -0.0505],\n",
              "                        [-0.0858,  0.0884, -0.0422]],\n",
              "              \n",
              "                       [[ 0.0279, -0.0366,  0.0086],\n",
              "                        [ 0.0983,  0.0486, -0.0913],\n",
              "                        [ 0.0418,  0.1001,  0.0277]],\n",
              "              \n",
              "                       [[ 0.0707,  0.1039, -0.0162],\n",
              "                        [ 0.0219, -0.0733, -0.0217],\n",
              "                        [ 0.0781,  0.0540, -0.0667]],\n",
              "              \n",
              "                       [[-0.0845, -0.0720, -0.1040],\n",
              "                        [-0.0813, -0.0261,  0.0711],\n",
              "                        [ 0.0176, -0.0802, -0.0846]],\n",
              "              \n",
              "                       [[ 0.0524, -0.0784, -0.0130],\n",
              "                        [ 0.0506, -0.0488, -0.0115],\n",
              "                        [-0.0092, -0.0249, -0.0534]],\n",
              "              \n",
              "                       [[-0.0940, -0.0852, -0.0564],\n",
              "                        [ 0.1018, -0.0509, -0.0708],\n",
              "                        [ 0.0256,  0.0291,  0.0578]],\n",
              "              \n",
              "                       [[ 0.0801,  0.0587, -0.1045],\n",
              "                        [ 0.0093,  0.0639, -0.0097],\n",
              "                        [-0.0621,  0.1005, -0.0394]],\n",
              "              \n",
              "                       [[-0.0600, -0.0950,  0.0047],\n",
              "                        [ 0.0467,  0.0233,  0.0208],\n",
              "                        [-0.0799, -0.0984,  0.0019]]],\n",
              "              \n",
              "              \n",
              "                      [[[ 0.0961,  0.0608, -0.0614],\n",
              "                        [-0.0137, -0.0777, -0.0509],\n",
              "                        [ 0.0191,  0.0574,  0.0873]],\n",
              "              \n",
              "                       [[-0.0968,  0.0705, -0.0743],\n",
              "                        [ 0.0395,  0.0892,  0.0015],\n",
              "                        [ 0.0959, -0.0898, -0.0403]],\n",
              "              \n",
              "                       [[ 0.0615, -0.0230, -0.0216],\n",
              "                        [-0.0439,  0.0727,  0.0517],\n",
              "                        [ 0.0338, -0.0592, -0.0856]],\n",
              "              \n",
              "                       [[ 0.0114,  0.0312, -0.0487],\n",
              "                        [-0.0295,  0.0712,  0.0084],\n",
              "                        [ 0.0048, -0.0259, -0.0955]],\n",
              "              \n",
              "                       [[-0.0991, -0.0504, -0.0536],\n",
              "                        [ 0.0328, -0.0307, -0.0412],\n",
              "                        [ 0.1005,  0.0367,  0.0751]],\n",
              "              \n",
              "                       [[-0.0510, -0.0431,  0.0387],\n",
              "                        [-0.0702, -0.0689, -0.0051],\n",
              "                        [-0.0386, -0.0790,  0.0625]],\n",
              "              \n",
              "                       [[ 0.0848,  0.0171, -0.0184],\n",
              "                        [-0.0976, -0.0384,  0.0268],\n",
              "                        [ 0.0497, -0.0133, -0.0417]],\n",
              "              \n",
              "                       [[ 0.0587, -0.0839,  0.0666],\n",
              "                        [-0.0409,  0.0016, -0.0208],\n",
              "                        [ 0.0128, -0.0319,  0.0766]],\n",
              "              \n",
              "                       [[-0.0027,  0.0823,  0.1013],\n",
              "                        [-0.0514, -0.0769,  0.0846],\n",
              "                        [ 0.0826, -0.0805, -0.0081]],\n",
              "              \n",
              "                       [[-0.1039, -0.0863,  0.0204],\n",
              "                        [ 0.0280,  0.0223, -0.0287],\n",
              "                        [ 0.0972,  0.0151, -0.0622]]],\n",
              "              \n",
              "              \n",
              "                      [[[-0.0060,  0.0253,  0.0369],\n",
              "                        [-0.0745,  0.0395, -0.0539],\n",
              "                        [-0.0876, -0.0576,  0.1017]],\n",
              "              \n",
              "                       [[ 0.0901,  0.0944,  0.0619],\n",
              "                        [ 0.0796, -0.0141, -0.0580],\n",
              "                        [ 0.0527, -0.0546, -0.0711]],\n",
              "              \n",
              "                       [[-0.0337,  0.0221,  0.0543],\n",
              "                        [-0.0409, -0.0620,  0.0142],\n",
              "                        [-0.0621, -0.0686,  0.0549]],\n",
              "              \n",
              "                       [[-0.0177,  0.0963,  0.1025],\n",
              "                        [ 0.0315,  0.0363,  0.0243],\n",
              "                        [ 0.0017, -0.0077,  0.0014]],\n",
              "              \n",
              "                       [[ 0.0394,  0.0980, -0.0273],\n",
              "                        [-0.0446, -0.0255, -0.0509],\n",
              "                        [ 0.0179,  0.0787,  0.0824]],\n",
              "              \n",
              "                       [[ 0.0484, -0.0776, -0.0566],\n",
              "                        [-0.0232, -0.0194,  0.0087],\n",
              "                        [-0.0968,  0.0328, -0.0804]],\n",
              "              \n",
              "                       [[-0.0667, -0.0876,  0.0918],\n",
              "                        [-0.0998,  0.0795, -0.0035],\n",
              "                        [-0.0123,  0.0659, -0.0097]],\n",
              "              \n",
              "                       [[ 0.0661,  0.0762, -0.0915],\n",
              "                        [ 0.0406,  0.0199,  0.0227],\n",
              "                        [ 0.0154,  0.0288, -0.0507]],\n",
              "              \n",
              "                       [[-0.0135,  0.1002,  0.0708],\n",
              "                        [-0.0040, -0.0991,  0.0046],\n",
              "                        [-0.0718,  0.0857, -0.0640]],\n",
              "              \n",
              "                       [[-0.0076, -0.0234,  0.0188],\n",
              "                        [ 0.0992,  0.0100,  0.0610],\n",
              "                        [ 0.0818,  0.0851, -0.0364]]],\n",
              "              \n",
              "              \n",
              "                      [[[-0.0236,  0.0508, -0.0288],\n",
              "                        [ 0.0494, -0.0230, -0.0715],\n",
              "                        [ 0.0429,  0.0162,  0.0470]],\n",
              "              \n",
              "                       [[ 0.1047,  0.0720,  0.0999],\n",
              "                        [ 0.0056, -0.0907, -0.0739],\n",
              "                        [-0.0655, -0.0929, -0.0528]],\n",
              "              \n",
              "                       [[-0.0970, -0.0973, -0.0630],\n",
              "                        [-0.1039, -0.0647,  0.0402],\n",
              "                        [ 0.0879, -0.0314, -0.0307]],\n",
              "              \n",
              "                       [[ 0.0563, -0.0520, -0.0498],\n",
              "                        [ 0.0649, -0.0918,  0.0129],\n",
              "                        [ 0.0931,  0.0181,  0.0287]],\n",
              "              \n",
              "                       [[-0.0614, -0.0015,  0.0058],\n",
              "                        [ 0.0259,  0.0410,  0.0916],\n",
              "                        [-0.0805,  0.0032, -0.0527]],\n",
              "              \n",
              "                       [[-0.0834, -0.0084, -0.0928],\n",
              "                        [ 0.0736,  0.0122, -0.0568],\n",
              "                        [ 0.0551, -0.0998, -0.0408]],\n",
              "              \n",
              "                       [[-0.0205, -0.0896, -0.0670],\n",
              "                        [-0.0172,  0.0800,  0.1018],\n",
              "                        [ 0.0671, -0.0629, -0.0690]],\n",
              "              \n",
              "                       [[ 0.0920,  0.0373,  0.0028],\n",
              "                        [ 0.0143, -0.0847, -0.0352],\n",
              "                        [ 0.1015, -0.0260, -0.0053]],\n",
              "              \n",
              "                       [[-0.0875, -0.0590, -0.0022],\n",
              "                        [-0.0655, -0.0131,  0.0429],\n",
              "                        [-0.1031,  0.0313, -0.0697]],\n",
              "              \n",
              "                       [[-0.0514,  0.0405,  0.0838],\n",
              "                        [-0.0288, -0.0433, -0.0953],\n",
              "                        [-0.0544, -0.0923, -0.0241]]],\n",
              "              \n",
              "              \n",
              "                      [[[ 0.0215, -0.0988,  0.0920],\n",
              "                        [ 0.0661, -0.1032, -0.0503],\n",
              "                        [ 0.0344, -0.0217, -0.0115]],\n",
              "              \n",
              "                       [[-0.0476,  0.0847, -0.0589],\n",
              "                        [ 0.0874,  0.0068,  0.0212],\n",
              "                        [ 0.0822, -0.0174, -0.0600]],\n",
              "              \n",
              "                       [[-0.0170,  0.0855, -0.0782],\n",
              "                        [ 0.0239, -0.1036,  0.0553],\n",
              "                        [ 0.0389,  0.0045,  0.0452]],\n",
              "              \n",
              "                       [[ 0.0001,  0.0583, -0.0834],\n",
              "                        [-0.0155,  0.0468,  0.1050],\n",
              "                        [ 0.0537, -0.0767,  0.0811]],\n",
              "              \n",
              "                       [[-0.0235, -0.0225, -0.0958],\n",
              "                        [-0.0166,  0.0746,  0.0147],\n",
              "                        [-0.0614,  0.0324, -0.0338]],\n",
              "              \n",
              "                       [[ 0.0962, -0.0915, -0.0333],\n",
              "                        [-0.1018, -0.0415,  0.0332],\n",
              "                        [ 0.1015,  0.0177,  0.1033]],\n",
              "              \n",
              "                       [[ 0.0206,  0.0609,  0.0845],\n",
              "                        [ 0.0881, -0.0590,  0.0969],\n",
              "                        [ 0.0639, -0.0493, -0.0503]],\n",
              "              \n",
              "                       [[-0.0884,  0.0265, -0.0854],\n",
              "                        [ 0.0445,  0.0333, -0.0916],\n",
              "                        [ 0.0287, -0.0086,  0.0482]],\n",
              "              \n",
              "                       [[ 0.0605, -0.1048,  0.0967],\n",
              "                        [ 0.0884,  0.0419, -0.0963],\n",
              "                        [-0.0377, -0.0305, -0.0271]],\n",
              "              \n",
              "                       [[ 0.0594,  0.0383,  0.0835],\n",
              "                        [-0.0395,  0.0355,  0.0375],\n",
              "                        [-0.0878, -0.1022, -0.0547]]],\n",
              "              \n",
              "              \n",
              "                      [[[ 0.0722, -0.0992, -0.0918],\n",
              "                        [ 0.0591,  0.0569,  0.0867],\n",
              "                        [-0.0796, -0.0771,  0.0541]],\n",
              "              \n",
              "                       [[ 0.0917,  0.0631,  0.0165],\n",
              "                        [ 0.0347,  0.1000, -0.0680],\n",
              "                        [-0.0479,  0.0737, -0.0721]],\n",
              "              \n",
              "                       [[-0.0581,  0.0769,  0.0333],\n",
              "                        [ 0.0341, -0.0447, -0.0015],\n",
              "                        [ 0.0965, -0.0633,  0.0008]],\n",
              "              \n",
              "                       [[ 0.0501, -0.0728,  0.1024],\n",
              "                        [-0.0527, -0.0253, -0.0285],\n",
              "                        [-0.0687, -0.1034,  0.0594]],\n",
              "              \n",
              "                       [[ 0.0280, -0.0987, -0.0678],\n",
              "                        [ 0.1042,  0.0403,  0.0423],\n",
              "                        [-0.0631, -0.0462, -0.0159]],\n",
              "              \n",
              "                       [[-0.0193, -0.0722,  0.0087],\n",
              "                        [ 0.0105, -0.0133,  0.0146],\n",
              "                        [-0.0418,  0.0274,  0.0398]],\n",
              "              \n",
              "                       [[-0.0555, -0.1045,  0.0552],\n",
              "                        [ 0.0251, -0.0536,  0.1016],\n",
              "                        [-0.0477,  0.0712,  0.0535]],\n",
              "              \n",
              "                       [[-0.0884,  0.0680, -0.0969],\n",
              "                        [-0.0584, -0.0176, -0.0711],\n",
              "                        [ 0.1030, -0.0211,  0.0419]],\n",
              "              \n",
              "                       [[-0.0941,  0.0607, -0.0328],\n",
              "                        [-0.0802,  0.0154,  0.0511],\n",
              "                        [ 0.0912, -0.0644, -0.0519]],\n",
              "              \n",
              "                       [[ 0.0203,  0.0286,  0.0405],\n",
              "                        [ 0.0579, -0.0239,  0.0586],\n",
              "                        [ 0.0777, -0.0275,  0.0750]]],\n",
              "              \n",
              "              \n",
              "                      [[[ 0.0515,  0.0930, -0.0599],\n",
              "                        [-0.0521, -0.0305,  0.0053],\n",
              "                        [ 0.0633, -0.0602,  0.0528]],\n",
              "              \n",
              "                       [[-0.0378,  0.0637, -0.0050],\n",
              "                        [-0.0923, -0.0580, -0.0763],\n",
              "                        [ 0.0523, -0.0707, -0.0088]],\n",
              "              \n",
              "                       [[ 0.0227, -0.0578,  0.0304],\n",
              "                        [-0.1029, -0.0754, -0.0955],\n",
              "                        [-0.0319, -0.0384,  0.0151]],\n",
              "              \n",
              "                       [[-0.0195,  0.0496,  0.0966],\n",
              "                        [ 0.0378, -0.0415, -0.0987],\n",
              "                        [ 0.0382, -0.0522,  0.0536]],\n",
              "              \n",
              "                       [[ 0.0705,  0.0407,  0.0989],\n",
              "                        [ 0.1001,  0.0223, -0.0768],\n",
              "                        [ 0.0942, -0.0500, -0.0498]],\n",
              "              \n",
              "                       [[ 0.0882,  0.0817,  0.0318],\n",
              "                        [ 0.0066, -0.0887, -0.0109],\n",
              "                        [ 0.1011,  0.0268,  0.0090]],\n",
              "              \n",
              "                       [[-0.0219, -0.0368,  0.0628],\n",
              "                        [ 0.0065,  0.0686, -0.0187],\n",
              "                        [ 0.0461,  0.0435,  0.0168]],\n",
              "              \n",
              "                       [[ 0.0662,  0.0661,  0.0977],\n",
              "                        [ 0.0810, -0.0270, -0.0892],\n",
              "                        [ 0.0193, -0.0009, -0.0275]],\n",
              "              \n",
              "                       [[-0.0177,  0.0050,  0.0769],\n",
              "                        [ 0.0329, -0.0374, -0.0433],\n",
              "                        [-0.0261, -0.0407,  0.0948]],\n",
              "              \n",
              "                       [[ 0.0558,  0.0952,  0.0003],\n",
              "                        [ 0.0213,  0.0366, -0.0998],\n",
              "                        [ 0.0094, -0.0071, -0.0591]]],\n",
              "              \n",
              "              \n",
              "                      [[[-0.0818,  0.0933,  0.0857],\n",
              "                        [ 0.0489,  0.1006, -0.0428],\n",
              "                        [-0.0182,  0.0399, -0.0174]],\n",
              "              \n",
              "                       [[-0.0207, -0.0871,  0.0283],\n",
              "                        [-0.0637,  0.0038,  0.1028],\n",
              "                        [-0.0324, -0.0332,  0.0636]],\n",
              "              \n",
              "                       [[-0.0388, -0.0091,  0.0984],\n",
              "                        [-0.0432, -0.0754, -0.0590],\n",
              "                        [-0.0292, -0.0500, -0.0547]],\n",
              "              \n",
              "                       [[ 0.0426,  0.0179, -0.0337],\n",
              "                        [-0.0819, -0.0332, -0.0445],\n",
              "                        [-0.0343, -0.0951,  0.0227]],\n",
              "              \n",
              "                       [[-0.0774, -0.0821, -0.0861],\n",
              "                        [ 0.0440, -0.0635, -0.0435],\n",
              "                        [ 0.0826,  0.0560,  0.0604]],\n",
              "              \n",
              "                       [[-0.1001, -0.0756, -0.0398],\n",
              "                        [ 0.0871,  0.0108, -0.0788],\n",
              "                        [ 0.0007, -0.0819, -0.0231]],\n",
              "              \n",
              "                       [[-0.0290,  0.0912,  0.0326],\n",
              "                        [-0.0184,  0.0178, -0.0304],\n",
              "                        [ 0.0414,  0.0417,  0.0283]],\n",
              "              \n",
              "                       [[-0.0411,  0.0899, -0.0152],\n",
              "                        [-0.0410,  0.0660,  0.0859],\n",
              "                        [ 0.1049,  0.0312, -0.0359]],\n",
              "              \n",
              "                       [[ 0.0535,  0.0904, -0.1034],\n",
              "                        [-0.0131, -0.0719,  0.0196],\n",
              "                        [ 0.0436, -0.0218, -0.0088]],\n",
              "              \n",
              "                       [[ 0.0474, -0.0177, -0.0885],\n",
              "                        [ 0.0843, -0.0531, -0.0116],\n",
              "                        [ 0.0099, -0.0063, -0.0992]]]])),\n",
              "             ('conv_block_1.2.bias',\n",
              "              tensor([ 0.0484, -0.0479, -0.0547,  0.0252, -0.0550, -0.0487, -0.0355, -0.0396,\n",
              "                      -0.0440, -0.0284])),\n",
              "             ('conv_block_2.0.weight',\n",
              "              tensor([[[[ 2.7393e-02, -8.5299e-02, -6.3802e-02],\n",
              "                        [ 1.5381e-03,  1.4659e-02,  5.8217e-02],\n",
              "                        [-7.4044e-02,  3.3646e-02,  5.9914e-02]],\n",
              "              \n",
              "                       [[ 5.8530e-02, -9.8180e-02, -4.0225e-02],\n",
              "                        [-9.0606e-02, -6.6704e-02,  5.8711e-02],\n",
              "                        [-1.5740e-02,  4.4769e-02, -6.1876e-02]],\n",
              "              \n",
              "                       [[ 1.6018e-02, -6.3758e-02,  5.2693e-02],\n",
              "                        [-4.6104e-02, -2.6432e-02, -9.1456e-02],\n",
              "                        [ 3.4823e-04,  1.0008e-01,  5.1163e-02]],\n",
              "              \n",
              "                       [[-5.6240e-02,  1.4176e-03, -1.1558e-02],\n",
              "                        [-8.4862e-02,  8.2650e-02,  1.6993e-03],\n",
              "                        [ 2.2199e-02, -4.2567e-02, -4.9323e-02]],\n",
              "              \n",
              "                       [[ 1.7381e-02,  3.8971e-02,  2.3643e-02],\n",
              "                        [-5.0801e-02,  1.0234e-01, -1.5517e-02],\n",
              "                        [-6.4554e-02, -4.9301e-02,  1.0377e-01]],\n",
              "              \n",
              "                       [[ 5.0738e-06, -1.4309e-02, -4.3867e-02],\n",
              "                        [-2.7633e-02, -8.8779e-02, -8.3767e-02],\n",
              "                        [ 6.1695e-02,  9.0172e-02,  1.0059e-01]],\n",
              "              \n",
              "                       [[-7.6099e-02,  5.7012e-02, -6.5245e-02],\n",
              "                        [ 6.2883e-02,  7.6058e-02,  8.1573e-02],\n",
              "                        [ 7.5900e-02,  6.5941e-02,  2.0517e-03]],\n",
              "              \n",
              "                       [[ 4.8434e-02, -3.7712e-02,  4.5899e-02],\n",
              "                        [-3.3879e-02, -1.7700e-03, -9.1746e-02],\n",
              "                        [-2.7562e-02, -5.5432e-02, -3.5557e-02]],\n",
              "              \n",
              "                       [[-6.7313e-02, -9.4810e-02,  6.8639e-03],\n",
              "                        [ 6.8408e-02,  9.6001e-02,  6.1512e-02],\n",
              "                        [-5.4638e-02, -1.0425e-01,  3.9983e-02]],\n",
              "              \n",
              "                       [[ 5.9062e-02, -9.0495e-02,  3.7798e-02],\n",
              "                        [ 8.9121e-02,  6.3853e-03, -6.3505e-02],\n",
              "                        [ 8.6423e-02,  4.5011e-02,  6.9802e-02]]],\n",
              "              \n",
              "              \n",
              "                      [[[-7.1287e-02,  6.1342e-02, -7.2002e-02],\n",
              "                        [ 1.0430e-01, -4.4662e-02,  6.3516e-02],\n",
              "                        [ 2.1107e-02,  2.7935e-02, -1.6165e-02]],\n",
              "              \n",
              "                       [[ 4.3295e-02, -4.3932e-02, -9.9357e-02],\n",
              "                        [-4.0499e-02,  8.2592e-02, -2.7751e-02],\n",
              "                        [ 3.3132e-02, -3.8973e-02,  7.9073e-02]],\n",
              "              \n",
              "                       [[ 6.3086e-02,  3.7211e-02, -5.3881e-02],\n",
              "                        [-8.6133e-02,  3.9686e-03, -6.1839e-02],\n",
              "                        [ 8.6667e-02, -1.0130e-01,  4.7104e-02]],\n",
              "              \n",
              "                       [[ 1.0508e-01,  5.2792e-02,  3.5942e-02],\n",
              "                        [-1.0142e-01,  1.0139e-01, -1.8030e-02],\n",
              "                        [-9.8495e-02,  1.0406e-01, -4.2894e-02]],\n",
              "              \n",
              "                       [[-7.4575e-03,  9.6479e-02, -7.3070e-02],\n",
              "                        [-7.4576e-02,  1.7141e-02, -1.4109e-02],\n",
              "                        [ 2.4280e-02, -8.8407e-02,  3.1524e-03]],\n",
              "              \n",
              "                       [[-4.6882e-02, -5.1820e-02, -9.6517e-02],\n",
              "                        [ 5.5890e-02,  2.0306e-02, -8.9118e-02],\n",
              "                        [ 8.3648e-02,  3.1794e-02,  1.9560e-02]],\n",
              "              \n",
              "                       [[-6.1890e-02,  1.5896e-02,  1.0157e-01],\n",
              "                        [ 7.2299e-02, -8.2100e-02,  9.6220e-02],\n",
              "                        [ 8.1702e-03,  5.0698e-02,  8.1869e-02]],\n",
              "              \n",
              "                       [[ 8.9862e-02, -8.2170e-02,  9.2303e-02],\n",
              "                        [-7.1591e-02,  7.9021e-03, -7.3656e-02],\n",
              "                        [-2.3109e-02, -4.7901e-03, -1.2611e-02]],\n",
              "              \n",
              "                       [[-1.6652e-02,  8.3137e-03,  1.0398e-01],\n",
              "                        [ 6.1244e-02,  5.8973e-02,  4.2190e-02],\n",
              "                        [ 8.1606e-02, -4.8645e-03,  8.3813e-03]],\n",
              "              \n",
              "                       [[ 2.1693e-02, -9.1931e-02, -8.4913e-02],\n",
              "                        [ 1.2923e-02, -4.1241e-02, -1.9342e-03],\n",
              "                        [-2.4187e-02,  1.6408e-02,  6.8581e-02]]],\n",
              "              \n",
              "              \n",
              "                      [[[-3.4958e-02,  8.4418e-02,  8.3227e-02],\n",
              "                        [-8.0901e-02, -8.1400e-02, -8.5284e-02],\n",
              "                        [-5.7766e-02, -4.1033e-02, -7.9341e-03]],\n",
              "              \n",
              "                       [[-2.5635e-02, -5.3258e-02, -3.3488e-02],\n",
              "                        [-3.8131e-02,  1.0341e-01, -3.9068e-02],\n",
              "                        [-7.5473e-02,  4.3818e-02, -6.0886e-03]],\n",
              "              \n",
              "                       [[ 8.0698e-02,  6.5863e-02,  9.6843e-02],\n",
              "                        [-7.7197e-02,  6.7764e-02,  8.8464e-02],\n",
              "                        [-5.2054e-02,  9.6890e-02,  7.9019e-02]],\n",
              "              \n",
              "                       [[ 1.1544e-03,  5.0823e-02, -3.6853e-02],\n",
              "                        [-9.1936e-02,  2.6645e-02,  3.1425e-02],\n",
              "                        [-6.8891e-02,  5.1123e-02, -9.0043e-02]],\n",
              "              \n",
              "                       [[ 9.0718e-02,  1.0208e-01,  2.8699e-02],\n",
              "                        [-6.6137e-02,  5.1300e-02,  1.7963e-02],\n",
              "                        [ 2.8663e-02,  3.4643e-02,  8.0254e-02]],\n",
              "              \n",
              "                       [[-4.5309e-02, -2.3711e-02,  2.8746e-02],\n",
              "                        [ 1.1486e-02,  8.5000e-02, -5.5365e-02],\n",
              "                        [-3.8387e-03,  1.9696e-02, -2.7996e-02]],\n",
              "              \n",
              "                       [[ 7.1859e-02,  1.1530e-02, -9.7422e-02],\n",
              "                        [-1.1420e-02, -4.7809e-02,  1.0243e-02],\n",
              "                        [-1.2250e-02, -1.0456e-01, -1.9208e-02]],\n",
              "              \n",
              "                       [[-1.0096e-02, -3.1083e-02,  9.6848e-02],\n",
              "                        [-2.3000e-02,  6.7717e-02,  2.6112e-02],\n",
              "                        [-8.8979e-02,  2.4770e-02,  8.7356e-02]],\n",
              "              \n",
              "                       [[-6.8948e-02, -6.8134e-02,  1.0318e-01],\n",
              "                        [ 8.4697e-02, -5.8807e-02,  6.3429e-02],\n",
              "                        [-1.3485e-02, -1.0393e-01,  7.9198e-03]],\n",
              "              \n",
              "                       [[ 3.4057e-02, -3.1619e-02,  3.6670e-02],\n",
              "                        [-9.0136e-02,  7.3050e-02,  8.9865e-02],\n",
              "                        [ 5.8130e-02,  1.7866e-02,  3.4716e-02]]],\n",
              "              \n",
              "              \n",
              "                      [[[-7.6269e-02, -2.6339e-02, -1.0063e-02],\n",
              "                        [-5.8659e-02, -7.7857e-02,  7.0900e-02],\n",
              "                        [ 7.1535e-02, -9.5731e-02,  3.3542e-02]],\n",
              "              \n",
              "                       [[ 4.2881e-02,  1.0014e-01,  6.0985e-02],\n",
              "                        [ 9.6907e-02, -3.4510e-02,  7.3827e-02],\n",
              "                        [ 8.5740e-02, -9.9541e-02, -8.4613e-02]],\n",
              "              \n",
              "                       [[ 2.1335e-02,  5.7557e-02, -5.2369e-02],\n",
              "                        [ 1.1609e-02, -1.5303e-04,  2.6680e-02],\n",
              "                        [-5.6642e-02,  5.9455e-02,  7.0098e-02]],\n",
              "              \n",
              "                       [[-7.3139e-02,  1.0211e-03,  2.9247e-04],\n",
              "                        [ 3.3849e-02,  9.8198e-02,  3.0913e-02],\n",
              "                        [-2.3951e-02,  9.4672e-02, -4.0112e-02]],\n",
              "              \n",
              "                       [[-3.0608e-02,  7.1969e-03, -8.0270e-02],\n",
              "                        [ 1.1470e-02, -7.1518e-02,  1.0838e-02],\n",
              "                        [ 1.0099e-02,  1.4591e-02, -8.8891e-02]],\n",
              "              \n",
              "                       [[-1.0012e-01,  4.8501e-02,  9.0399e-02],\n",
              "                        [-9.3537e-02,  3.9043e-02, -7.7594e-02],\n",
              "                        [ 6.6082e-03,  9.8068e-02,  7.9965e-02]],\n",
              "              \n",
              "                       [[-7.7069e-02,  6.5203e-02,  5.5057e-02],\n",
              "                        [-1.6169e-04,  1.0211e-01, -4.1866e-02],\n",
              "                        [-2.4530e-02, -5.3275e-02,  1.5168e-02]],\n",
              "              \n",
              "                       [[ 2.7911e-02,  8.3990e-03, -5.9307e-02],\n",
              "                        [-4.7452e-02,  3.5855e-02, -9.2426e-02],\n",
              "                        [-1.6416e-02, -2.3350e-03, -4.2708e-02]],\n",
              "              \n",
              "                       [[ 3.8360e-02,  6.7940e-03,  7.4004e-02],\n",
              "                        [-9.3616e-03, -6.6528e-02,  7.4477e-02],\n",
              "                        [ 1.4720e-02, -3.0189e-02, -6.9476e-02]],\n",
              "              \n",
              "                       [[ 2.4707e-02, -1.0053e-01,  2.7762e-02],\n",
              "                        [ 5.2119e-02, -9.2465e-02, -6.9009e-02],\n",
              "                        [-7.5781e-02,  8.8597e-02,  8.9611e-02]]],\n",
              "              \n",
              "              \n",
              "                      [[[ 6.5987e-03,  9.8959e-02, -3.5239e-02],\n",
              "                        [-1.0233e-01,  3.6819e-02,  3.7343e-02],\n",
              "                        [ 1.0334e-01, -3.0510e-05,  8.0785e-02]],\n",
              "              \n",
              "                       [[ 6.4612e-02,  7.6292e-02, -1.0460e-01],\n",
              "                        [ 8.6800e-02, -8.9856e-02,  9.4501e-02],\n",
              "                        [-4.3682e-03, -9.3415e-02,  2.9314e-02]],\n",
              "              \n",
              "                       [[-2.1456e-02, -9.4678e-02, -3.8215e-02],\n",
              "                        [ 1.0868e-02,  8.2098e-02, -3.2406e-02],\n",
              "                        [ 6.2610e-02,  1.3200e-02,  3.5531e-03]],\n",
              "              \n",
              "                       [[ 2.0170e-02, -6.9177e-02, -8.7616e-02],\n",
              "                        [-3.3121e-02, -9.8226e-02, -4.9158e-02],\n",
              "                        [ 4.8494e-03, -6.9424e-02, -4.3723e-02]],\n",
              "              \n",
              "                       [[-1.8941e-02, -1.2144e-02, -5.8187e-02],\n",
              "                        [ 5.0650e-03, -1.4795e-02,  3.0147e-02],\n",
              "                        [ 4.7611e-03, -5.2638e-02, -3.6291e-02]],\n",
              "              \n",
              "                       [[-1.2149e-03, -6.5774e-02,  8.2520e-03],\n",
              "                        [-7.4425e-03,  4.0897e-02,  2.4947e-02],\n",
              "                        [ 7.8887e-02, -3.4749e-03, -7.7887e-02]],\n",
              "              \n",
              "                       [[ 4.7119e-02, -7.1240e-02, -1.4489e-02],\n",
              "                        [-3.4132e-02, -3.9997e-02, -3.9000e-02],\n",
              "                        [ 9.6863e-02,  6.0342e-02,  2.9213e-02]],\n",
              "              \n",
              "                       [[ 9.8975e-02, -9.5524e-02,  1.7010e-02],\n",
              "                        [ 6.7481e-02,  7.0022e-02, -8.3890e-02],\n",
              "                        [ 3.7514e-02, -6.0050e-02, -4.1187e-03]],\n",
              "              \n",
              "                       [[-2.1996e-02, -8.8013e-02, -1.0055e-01],\n",
              "                        [-6.9349e-02,  4.7832e-02,  4.8218e-02],\n",
              "                        [-9.1681e-02, -3.9586e-02,  1.7218e-03]],\n",
              "              \n",
              "                       [[-9.1135e-02,  5.9393e-02,  9.5473e-02],\n",
              "                        [ 1.8643e-02, -7.8321e-02,  2.4580e-02],\n",
              "                        [ 3.8265e-02,  8.3468e-02, -5.6085e-02]]],\n",
              "              \n",
              "              \n",
              "                      [[[-9.4437e-02,  4.6312e-02,  6.5624e-03],\n",
              "                        [-3.4345e-02, -4.4169e-02, -5.4351e-02],\n",
              "                        [ 8.5328e-02, -1.8187e-02,  7.6022e-02]],\n",
              "              \n",
              "                       [[ 9.4094e-02,  1.3353e-02,  2.2454e-02],\n",
              "                        [-7.1789e-03,  7.2397e-02, -9.4983e-02],\n",
              "                        [ 4.1919e-02, -1.7174e-02,  4.8132e-02]],\n",
              "              \n",
              "                       [[-4.6949e-04, -3.9029e-02, -1.1379e-02],\n",
              "                        [ 5.6920e-02, -7.3210e-02, -6.6629e-02],\n",
              "                        [-2.3611e-02, -3.8235e-02,  4.1409e-02]],\n",
              "              \n",
              "                       [[ 7.0937e-02, -1.1289e-02,  9.9672e-02],\n",
              "                        [-4.4042e-02, -5.9151e-02, -4.7191e-02],\n",
              "                        [-7.2624e-02, -7.3885e-02, -9.3921e-02]],\n",
              "              \n",
              "                       [[-9.3422e-02,  2.7512e-02,  6.4284e-02],\n",
              "                        [ 9.8963e-02,  8.9787e-02, -6.0709e-03],\n",
              "                        [ 2.0454e-02, -6.3068e-02,  4.0743e-02]],\n",
              "              \n",
              "                       [[-1.0107e-01,  4.9719e-02,  1.9334e-02],\n",
              "                        [ 3.2393e-02,  3.8595e-02, -4.8394e-02],\n",
              "                        [ 9.0452e-02,  5.0307e-02,  6.9243e-02]],\n",
              "              \n",
              "                       [[ 1.3922e-02,  6.6196e-02,  7.0941e-02],\n",
              "                        [ 4.7775e-02,  8.0297e-02, -1.9119e-02],\n",
              "                        [ 6.9310e-02,  2.4286e-02,  6.3424e-02]],\n",
              "              \n",
              "                       [[ 1.0267e-01,  2.3869e-02, -3.9124e-02],\n",
              "                        [-1.0488e-02,  2.9676e-02,  1.7773e-02],\n",
              "                        [-2.8795e-02,  8.2590e-02,  6.3331e-02]],\n",
              "              \n",
              "                       [[-6.5475e-02, -8.5889e-03, -1.0119e-02],\n",
              "                        [-6.6063e-02,  1.5374e-02, -3.2360e-02],\n",
              "                        [-5.4419e-02, -3.3894e-02, -3.7584e-02]],\n",
              "              \n",
              "                       [[ 1.0084e-01,  4.0432e-02,  1.0373e-01],\n",
              "                        [ 2.8903e-02,  2.3868e-02,  4.3333e-02],\n",
              "                        [ 1.8092e-02, -8.2722e-02, -6.2334e-02]]],\n",
              "              \n",
              "              \n",
              "                      [[[-2.5538e-02,  1.5846e-03,  3.9709e-02],\n",
              "                        [ 4.0588e-02,  8.3623e-02,  2.1458e-02],\n",
              "                        [-3.5975e-02, -7.9271e-02, -7.7203e-02]],\n",
              "              \n",
              "                       [[-6.2965e-02,  3.1792e-02,  5.6950e-02],\n",
              "                        [ 9.2224e-02, -3.3342e-02, -8.3150e-03],\n",
              "                        [-3.1303e-02, -3.8517e-04,  3.3837e-02]],\n",
              "              \n",
              "                       [[-2.3160e-03,  4.8799e-03,  1.3354e-02],\n",
              "                        [ 3.9256e-02, -3.1981e-02, -6.2855e-02],\n",
              "                        [ 2.4869e-02, -1.2481e-02, -4.7753e-02]],\n",
              "              \n",
              "                       [[ 4.4268e-02,  9.5597e-04, -1.5333e-02],\n",
              "                        [-5.1027e-02, -1.3868e-02, -8.9632e-02],\n",
              "                        [ 2.3980e-02,  1.5818e-03,  6.3966e-02]],\n",
              "              \n",
              "                       [[ 6.8063e-03,  8.4277e-03,  2.8715e-02],\n",
              "                        [ 8.0210e-02, -4.9812e-02,  6.2930e-02],\n",
              "                        [ 2.5779e-02, -7.0320e-02,  3.6702e-02]],\n",
              "              \n",
              "                       [[-6.3217e-02, -3.3181e-02, -5.0245e-02],\n",
              "                        [-7.1711e-02,  8.3017e-02, -9.4217e-02],\n",
              "                        [ 5.2706e-02, -9.4870e-02, -1.2829e-02]],\n",
              "              \n",
              "                       [[ 6.2868e-03,  7.4937e-02, -3.8147e-02],\n",
              "                        [ 3.0340e-02,  1.6329e-02,  6.2021e-02],\n",
              "                        [ 6.2668e-03,  3.9470e-02, -6.3677e-02]],\n",
              "              \n",
              "                       [[-7.3250e-02,  9.3928e-02, -7.6808e-02],\n",
              "                        [-1.7945e-02, -1.2742e-02,  1.0308e-01],\n",
              "                        [-2.2780e-02, -8.0249e-02, -2.6721e-02]],\n",
              "              \n",
              "                       [[ 5.4372e-02,  4.1773e-02,  8.7204e-02],\n",
              "                        [-2.1579e-02,  4.9653e-02, -9.9194e-02],\n",
              "                        [ 4.0787e-02,  4.8432e-02,  6.7998e-02]],\n",
              "              \n",
              "                       [[-6.0446e-02, -2.8142e-02,  2.5502e-02],\n",
              "                        [-7.4905e-02, -8.3851e-02, -1.0141e-01],\n",
              "                        [ 5.8842e-03,  6.5458e-02,  2.7075e-02]]],\n",
              "              \n",
              "              \n",
              "                      [[[ 6.4263e-03,  3.6727e-02, -6.6240e-02],\n",
              "                        [ 1.1113e-02, -2.6186e-02, -5.2193e-02],\n",
              "                        [ 9.0902e-02, -8.1550e-02,  1.5448e-02]],\n",
              "              \n",
              "                       [[-9.2624e-02, -3.5762e-03, -4.6840e-02],\n",
              "                        [ 3.4695e-02, -5.9191e-02,  6.7466e-02],\n",
              "                        [-8.5536e-02,  6.3313e-02, -7.9181e-02]],\n",
              "              \n",
              "                       [[ 5.6456e-02, -4.4384e-02, -2.4556e-04],\n",
              "                        [-1.9238e-02,  6.8414e-02,  3.4546e-02],\n",
              "                        [-9.2887e-02,  9.6914e-03, -7.2718e-02]],\n",
              "              \n",
              "                       [[ 7.8800e-02,  1.7319e-02, -2.7109e-02],\n",
              "                        [-5.3777e-02,  3.6485e-02, -6.3129e-02],\n",
              "                        [ 4.9992e-02,  5.7519e-02,  6.4701e-02]],\n",
              "              \n",
              "                       [[ 2.7537e-02, -9.2272e-02,  7.5823e-02],\n",
              "                        [-3.2700e-02, -3.1163e-02, -1.1325e-02],\n",
              "                        [ 7.7068e-02,  8.1052e-02,  1.6276e-02]],\n",
              "              \n",
              "                       [[ 5.0296e-02, -9.8241e-02,  2.4901e-04],\n",
              "                        [-9.3254e-02,  3.5876e-02, -7.5099e-02],\n",
              "                        [-3.7568e-02,  7.3684e-02,  1.0074e-01]],\n",
              "              \n",
              "                       [[-6.3286e-02, -5.8503e-02,  1.3055e-02],\n",
              "                        [ 4.1437e-02, -1.7168e-02, -3.2918e-02],\n",
              "                        [-6.9237e-02,  4.4997e-02,  1.0328e-01]],\n",
              "              \n",
              "                       [[-5.1026e-02,  4.9718e-02,  5.1481e-02],\n",
              "                        [ 8.4728e-02, -1.2001e-02,  3.3202e-03],\n",
              "                        [ 7.7444e-02,  6.6631e-02,  1.0411e-01]],\n",
              "              \n",
              "                       [[-3.0207e-02,  4.1709e-02,  7.3605e-02],\n",
              "                        [-7.1553e-02,  2.0940e-02, -2.3586e-02],\n",
              "                        [ 6.7760e-02, -4.7342e-02,  7.3933e-03]],\n",
              "              \n",
              "                       [[ 6.3067e-02, -9.6567e-02, -8.9004e-02],\n",
              "                        [-5.3989e-02,  6.7611e-02,  7.0680e-02],\n",
              "                        [-7.1991e-02,  2.0100e-02, -5.5854e-02]]],\n",
              "              \n",
              "              \n",
              "                      [[[-4.8926e-02,  9.0907e-02,  5.0914e-02],\n",
              "                        [-2.8828e-02,  1.5516e-02,  2.0424e-02],\n",
              "                        [ 2.4691e-02, -3.6079e-02, -6.2074e-02]],\n",
              "              \n",
              "                       [[ 6.9788e-02,  1.4164e-02,  4.4119e-02],\n",
              "                        [-3.9922e-02,  5.1057e-02,  7.6713e-02],\n",
              "                        [ 6.4107e-02,  2.8660e-02,  1.0371e-01]],\n",
              "              \n",
              "                       [[-2.3053e-04,  2.2441e-02,  1.0015e-01],\n",
              "                        [ 1.0245e-01, -4.4506e-02,  9.4953e-02],\n",
              "                        [ 3.8902e-02, -1.1799e-02,  9.2038e-02]],\n",
              "              \n",
              "                       [[-5.4605e-02,  6.8490e-02,  1.0445e-01],\n",
              "                        [-7.2701e-02, -6.2201e-02, -1.0445e-01],\n",
              "                        [-1.8970e-02, -9.5733e-02, -3.5304e-02]],\n",
              "              \n",
              "                       [[ 3.2002e-02,  7.4511e-02,  5.8717e-02],\n",
              "                        [ 5.8511e-02,  4.3730e-02, -6.5378e-02],\n",
              "                        [-8.3694e-02,  4.3696e-03,  1.0009e-01]],\n",
              "              \n",
              "                       [[ 5.9351e-03, -9.0662e-03, -7.1545e-02],\n",
              "                        [-5.2266e-02, -8.1256e-02,  8.4398e-02],\n",
              "                        [-1.7174e-02, -9.3119e-02,  1.1308e-02]],\n",
              "              \n",
              "                       [[ 7.6494e-03, -1.3023e-02,  3.7733e-02],\n",
              "                        [ 5.6687e-02, -9.9128e-02, -8.0753e-02],\n",
              "                        [-5.0639e-03, -9.7729e-02, -9.5750e-02]],\n",
              "              \n",
              "                       [[ 9.3067e-02, -8.0174e-03, -5.2113e-02],\n",
              "                        [-3.6157e-02, -8.2295e-02,  8.2258e-02],\n",
              "                        [-2.2857e-02, -5.9265e-02, -7.9944e-02]],\n",
              "              \n",
              "                       [[ 6.1611e-02, -1.4571e-02, -1.1074e-02],\n",
              "                        [-2.7473e-02, -5.0883e-02,  1.8751e-02],\n",
              "                        [ 8.1099e-02, -6.1093e-02,  5.0504e-03]],\n",
              "              \n",
              "                       [[-8.0165e-02, -4.9426e-02,  9.2525e-02],\n",
              "                        [ 1.1052e-03,  1.0154e-01, -1.8468e-02],\n",
              "                        [-5.7453e-02, -6.2981e-02,  9.3426e-02]]],\n",
              "              \n",
              "              \n",
              "                      [[[-8.1058e-02,  5.5318e-02,  2.6203e-02],\n",
              "                        [ 3.1107e-02,  5.9476e-02, -2.7577e-02],\n",
              "                        [ 6.5223e-02, -8.3982e-02, -3.7087e-02]],\n",
              "              \n",
              "                       [[ 7.7164e-02,  3.1283e-02, -1.4038e-02],\n",
              "                        [-2.4616e-02, -6.4364e-02,  6.4098e-02],\n",
              "                        [-3.3520e-03, -3.5664e-03,  2.4929e-02]],\n",
              "              \n",
              "                       [[ 7.7787e-02, -5.3778e-02, -3.6303e-02],\n",
              "                        [ 7.1429e-02,  5.9532e-02, -5.1855e-02],\n",
              "                        [-1.0428e-01,  1.9555e-02,  5.5434e-02]],\n",
              "              \n",
              "                       [[ 2.5178e-02,  7.4768e-02, -8.3640e-02],\n",
              "                        [ 5.3156e-02, -6.5531e-02,  5.9325e-02],\n",
              "                        [ 7.8394e-02,  3.3385e-02,  8.5284e-02]],\n",
              "              \n",
              "                       [[-6.9481e-02, -9.4275e-02, -1.0135e-01],\n",
              "                        [ 6.6179e-02,  3.6926e-02, -7.7188e-02],\n",
              "                        [ 5.1048e-02,  9.6177e-02, -1.0394e-01]],\n",
              "              \n",
              "                       [[ 7.6466e-02,  1.6167e-02,  9.8053e-03],\n",
              "                        [ 9.4847e-02,  9.5458e-02,  4.4414e-02],\n",
              "                        [ 8.3288e-02,  4.3853e-02,  1.7176e-02]],\n",
              "              \n",
              "                       [[-9.2656e-02,  1.9689e-02, -7.4993e-02],\n",
              "                        [ 3.2452e-02,  1.8598e-02,  2.3681e-03],\n",
              "                        [-7.2071e-02, -6.3899e-02,  7.7912e-02]],\n",
              "              \n",
              "                       [[ 5.1336e-02,  5.5576e-02, -3.1410e-02],\n",
              "                        [-1.8151e-02, -2.7014e-02,  7.2489e-02],\n",
              "                        [-4.5504e-02,  6.6394e-02,  7.2679e-02]],\n",
              "              \n",
              "                       [[-9.6403e-02,  6.4369e-04, -2.0076e-02],\n",
              "                        [-5.8273e-02,  4.5507e-02, -1.2807e-02],\n",
              "                        [ 9.2287e-02, -6.5976e-02,  4.8976e-02]],\n",
              "              \n",
              "                       [[-8.9998e-02, -5.2833e-02,  7.1903e-03],\n",
              "                        [ 8.3283e-02,  5.5521e-02, -8.6550e-02],\n",
              "                        [ 1.1676e-02, -6.2138e-02,  4.5674e-03]]]])),\n",
              "             ('conv_block_2.0.bias',\n",
              "              tensor([-0.0878, -0.0309,  0.0723, -0.0967, -0.1005,  0.0192,  0.0144, -0.0193,\n",
              "                       0.0920, -0.0635])),\n",
              "             ('conv_block_2.2.weight',\n",
              "              tensor([[[[-6.3992e-02, -7.8791e-02, -1.9619e-02],\n",
              "                        [-2.6901e-02,  6.5222e-02, -5.9186e-03],\n",
              "                        [ 3.3663e-02, -4.3804e-02,  8.5507e-02]],\n",
              "              \n",
              "                       [[ 8.8862e-02, -9.4401e-02, -2.7090e-02],\n",
              "                        [-8.9439e-02,  4.4781e-02, -9.2094e-02],\n",
              "                        [-4.9839e-02,  1.0532e-01, -1.0066e-01]],\n",
              "              \n",
              "                       [[ 7.7771e-02,  8.9049e-03,  8.4289e-02],\n",
              "                        [-5.3494e-02,  6.9236e-02,  1.2718e-02],\n",
              "                        [ 8.1073e-03,  7.1945e-02, -1.0019e-01]],\n",
              "              \n",
              "                       [[-8.4902e-02,  1.0180e-01, -6.3298e-02],\n",
              "                        [-7.5980e-02, -5.1539e-03, -3.3742e-02],\n",
              "                        [-1.4421e-02, -7.0623e-02,  3.8034e-02]],\n",
              "              \n",
              "                       [[-9.0703e-02,  8.5374e-03,  6.1510e-02],\n",
              "                        [ 2.0253e-02,  1.4006e-02,  1.5418e-02],\n",
              "                        [-3.0880e-02, -2.0080e-02, -4.4450e-02]],\n",
              "              \n",
              "                       [[-7.1207e-02, -5.5810e-02,  1.0420e-01],\n",
              "                        [-1.7641e-02,  3.6924e-02,  7.2896e-02],\n",
              "                        [-8.2343e-03, -5.6707e-02, -7.1419e-02]],\n",
              "              \n",
              "                       [[-3.8833e-02,  3.7624e-02, -8.8771e-02],\n",
              "                        [-1.2870e-02,  4.0096e-02,  8.5999e-02],\n",
              "                        [ 3.1721e-02,  2.0846e-02,  7.2162e-02]],\n",
              "              \n",
              "                       [[ 4.8708e-02,  3.5661e-02, -3.2682e-02],\n",
              "                        [-8.4528e-02, -2.2769e-02, -1.9117e-02],\n",
              "                        [ 7.7410e-03, -1.1593e-02,  4.2616e-02]],\n",
              "              \n",
              "                       [[ 7.0050e-02, -4.2735e-02, -1.0002e-01],\n",
              "                        [-5.4081e-02, -5.0436e-02,  5.9750e-02],\n",
              "                        [-6.7994e-02, -9.9145e-03, -2.2340e-02]],\n",
              "              \n",
              "                       [[-6.3976e-02,  4.7780e-02, -4.3909e-02],\n",
              "                        [-5.4531e-03, -7.4112e-02, -1.0632e-02],\n",
              "                        [ 1.4977e-02, -4.2894e-03, -3.9386e-02]]],\n",
              "              \n",
              "              \n",
              "                      [[[ 3.1315e-02, -2.7311e-02, -5.8439e-02],\n",
              "                        [-7.7732e-02, -2.2329e-02, -9.9578e-02],\n",
              "                        [ 8.7492e-02, -5.0357e-02, -4.3684e-02]],\n",
              "              \n",
              "                       [[ 9.7439e-03,  2.7326e-02, -9.9393e-03],\n",
              "                        [ 7.2313e-02, -6.1448e-02,  3.7777e-02],\n",
              "                        [-2.3773e-04, -8.5747e-02, -4.0824e-02]],\n",
              "              \n",
              "                       [[ 2.6825e-02,  2.0138e-02,  7.6647e-02],\n",
              "                        [ 7.0518e-02, -5.7493e-02, -4.5013e-02],\n",
              "                        [-2.2351e-02, -7.5517e-02, -2.8459e-02]],\n",
              "              \n",
              "                       [[-8.6258e-02,  4.0092e-02,  7.4583e-02],\n",
              "                        [ 8.3459e-03, -7.5460e-02, -7.9827e-02],\n",
              "                        [-4.1036e-02,  3.0659e-02,  2.5711e-03]],\n",
              "              \n",
              "                       [[ 1.9166e-02,  9.9346e-02,  4.8956e-02],\n",
              "                        [ 2.2665e-02, -2.1327e-02,  4.9864e-02],\n",
              "                        [ 3.8563e-02, -9.4879e-02, -6.2266e-02]],\n",
              "              \n",
              "                       [[ 3.5381e-03,  3.9997e-02,  5.1282e-02],\n",
              "                        [-6.2748e-02, -1.0458e-01, -5.4909e-03],\n",
              "                        [-1.2050e-02,  3.0588e-02, -2.8988e-02]],\n",
              "              \n",
              "                       [[ 8.0588e-02,  7.0333e-03,  7.6975e-02],\n",
              "                        [-7.3398e-02,  4.2167e-02,  1.2560e-02],\n",
              "                        [-5.2720e-02,  5.2256e-02, -1.0372e-01]],\n",
              "              \n",
              "                       [[ 8.5220e-02,  8.4947e-03,  1.0178e-02],\n",
              "                        [ 4.8746e-02,  8.7503e-03,  4.5184e-02],\n",
              "                        [ 6.7063e-02, -8.2268e-02,  6.9735e-02]],\n",
              "              \n",
              "                       [[-1.5784e-02, -2.4513e-02,  2.1217e-02],\n",
              "                        [ 8.2446e-02, -5.7302e-02, -7.1039e-02],\n",
              "                        [ 6.5418e-02, -4.9507e-02,  3.3937e-02]],\n",
              "              \n",
              "                       [[-1.5530e-02,  2.9014e-02,  8.0439e-02],\n",
              "                        [-5.3421e-02, -5.1151e-02,  5.1716e-02],\n",
              "                        [ 5.7714e-03, -1.1601e-02, -9.2590e-02]]],\n",
              "              \n",
              "              \n",
              "                      [[[ 8.9309e-02, -3.9919e-03, -1.9415e-02],\n",
              "                        [-4.3269e-02, -2.0801e-02,  5.1233e-02],\n",
              "                        [-2.4227e-03,  9.0147e-02, -6.0858e-03]],\n",
              "              \n",
              "                       [[-1.5122e-02,  5.9498e-02, -2.7275e-03],\n",
              "                        [-2.1039e-02,  3.5231e-02,  8.3129e-02],\n",
              "                        [ 2.6305e-02,  7.3398e-02,  6.8309e-02]],\n",
              "              \n",
              "                       [[ 2.9810e-02,  3.6650e-02,  3.4014e-02],\n",
              "                        [ 1.0934e-02,  8.9675e-02,  9.7308e-02],\n",
              "                        [ 3.7524e-02, -5.2640e-03,  9.4509e-02]],\n",
              "              \n",
              "                       [[-8.2042e-02,  7.7453e-02,  5.5849e-02],\n",
              "                        [ 6.7687e-02, -8.0992e-03, -7.8646e-02],\n",
              "                        [ 7.5193e-02, -4.6091e-02,  2.7734e-02]],\n",
              "              \n",
              "                       [[ 5.9719e-02, -9.8508e-02,  6.9954e-03],\n",
              "                        [-3.7444e-02,  7.4815e-02, -6.7114e-02],\n",
              "                        [ 6.4001e-02,  6.5730e-02,  5.8156e-02]],\n",
              "              \n",
              "                       [[ 1.0119e-01,  1.5964e-02, -9.5541e-02],\n",
              "                        [ 7.5248e-02,  9.6499e-03,  2.0918e-03],\n",
              "                        [-1.0041e-01, -2.3691e-02, -5.1162e-02]],\n",
              "              \n",
              "                       [[ 1.0324e-01,  7.5054e-02,  7.8634e-02],\n",
              "                        [ 7.2188e-02, -6.5340e-02, -4.5270e-02],\n",
              "                        [-4.1252e-02, -4.2257e-02,  8.2054e-02]],\n",
              "              \n",
              "                       [[ 3.5815e-02,  8.4470e-02, -4.9309e-03],\n",
              "                        [-9.3965e-02, -3.0582e-02,  7.4081e-02],\n",
              "                        [ 6.4174e-02,  3.2632e-02, -3.0919e-02]],\n",
              "              \n",
              "                       [[-9.8386e-02, -5.6639e-02,  5.4958e-02],\n",
              "                        [-4.2518e-02,  5.0421e-02,  2.8781e-02],\n",
              "                        [-4.0486e-02,  6.4202e-02, -3.3871e-02]],\n",
              "              \n",
              "                       [[-3.5020e-03, -4.0152e-02, -9.9988e-02],\n",
              "                        [ 1.6996e-02,  3.0460e-02, -5.3072e-02],\n",
              "                        [ 6.4663e-02, -9.4558e-02, -1.0161e-01]]],\n",
              "              \n",
              "              \n",
              "                      [[[-6.5106e-02, -3.6430e-02, -1.1707e-02],\n",
              "                        [-2.0370e-02,  4.8108e-02, -9.2510e-02],\n",
              "                        [ 1.5521e-02,  1.8254e-03,  2.7842e-02]],\n",
              "              \n",
              "                       [[ 1.0479e-01,  6.4874e-02, -5.8366e-02],\n",
              "                        [-8.6378e-02, -2.5520e-02, -5.2876e-02],\n",
              "                        [ 3.6820e-02,  9.6628e-04,  8.4783e-02]],\n",
              "              \n",
              "                       [[ 4.1405e-02, -1.9382e-02,  3.6229e-03],\n",
              "                        [ 2.5244e-02, -1.3080e-02,  8.5058e-02],\n",
              "                        [-8.2420e-02,  5.1377e-02, -6.7192e-02]],\n",
              "              \n",
              "                       [[-9.2347e-02, -2.1640e-02,  5.1366e-02],\n",
              "                        [ 7.4478e-02,  2.6452e-02, -9.1104e-03],\n",
              "                        [-5.9092e-03, -4.2731e-02, -9.4592e-03]],\n",
              "              \n",
              "                       [[-7.2831e-03,  8.9699e-02,  6.1690e-02],\n",
              "                        [-8.4351e-02,  4.3605e-04, -6.4834e-02],\n",
              "                        [-1.6733e-02, -8.3776e-02,  2.7402e-02]],\n",
              "              \n",
              "                       [[-7.6008e-02,  1.0406e-01,  7.9605e-02],\n",
              "                        [-7.2559e-02, -9.9239e-02,  4.1128e-03],\n",
              "                        [-2.9425e-02,  3.0945e-02, -7.1353e-02]],\n",
              "              \n",
              "                       [[ 4.3148e-02, -9.1047e-02, -5.5632e-02],\n",
              "                        [-5.5414e-02,  5.1007e-02, -2.7597e-03],\n",
              "                        [-1.0130e-01, -6.0201e-02, -4.8781e-02]],\n",
              "              \n",
              "                       [[-9.7802e-02,  1.3497e-02,  3.7561e-02],\n",
              "                        [-1.9340e-02, -4.1947e-02, -6.3926e-04],\n",
              "                        [-8.3725e-02, -6.4184e-02, -2.4040e-03]],\n",
              "              \n",
              "                       [[ 9.3643e-02, -3.2414e-02,  5.2247e-02],\n",
              "                        [-4.1484e-02, -2.8060e-02, -1.0034e-01],\n",
              "                        [ 8.7330e-02,  1.0264e-01, -2.2139e-03]],\n",
              "              \n",
              "                       [[ 6.6974e-02,  8.6219e-02,  5.2359e-02],\n",
              "                        [ 5.4288e-02, -1.0035e-01, -9.9050e-02],\n",
              "                        [-8.0906e-02,  3.2970e-02, -9.1177e-02]]],\n",
              "              \n",
              "              \n",
              "                      [[[-8.0464e-02, -5.1092e-02, -9.7154e-02],\n",
              "                        [ 1.4203e-04,  1.5207e-02, -6.1686e-02],\n",
              "                        [ 6.9018e-02, -4.0018e-02, -2.9676e-02]],\n",
              "              \n",
              "                       [[ 8.0309e-02,  9.0499e-02, -1.2093e-02],\n",
              "                        [-7.5671e-02, -5.2881e-02,  1.3423e-02],\n",
              "                        [ 6.1790e-02,  5.2477e-02, -4.6547e-02]],\n",
              "              \n",
              "                       [[-9.9650e-02, -9.2249e-02, -3.3537e-02],\n",
              "                        [ 1.3223e-03, -4.7347e-02, -8.3348e-02],\n",
              "                        [ 1.1109e-02, -8.3668e-02, -8.0946e-02]],\n",
              "              \n",
              "                       [[-8.5692e-02, -2.8563e-02,  9.3104e-02],\n",
              "                        [ 4.1207e-02, -1.2498e-02,  2.1694e-02],\n",
              "                        [ 4.1975e-02,  6.1414e-04, -8.5020e-02]],\n",
              "              \n",
              "                       [[-6.4944e-02, -7.1610e-02, -2.6766e-03],\n",
              "                        [-9.6492e-02, -1.9166e-02, -3.8545e-02],\n",
              "                        [ 1.0345e-01,  8.5679e-02,  6.1227e-02]],\n",
              "              \n",
              "                       [[ 5.9116e-03, -3.4129e-02,  2.6887e-02],\n",
              "                        [-7.2830e-02, -4.4957e-02, -2.1175e-02],\n",
              "                        [-2.4766e-02, -9.9854e-02,  4.1903e-02]],\n",
              "              \n",
              "                       [[ 8.6803e-02, -5.8141e-02,  2.8415e-02],\n",
              "                        [-1.2225e-02, -3.8445e-03,  6.1443e-03],\n",
              "                        [ 9.1346e-02,  1.4124e-02, -6.6690e-02]],\n",
              "              \n",
              "                       [[-3.7917e-02,  5.1495e-02,  3.2893e-02],\n",
              "                        [ 2.0487e-03, -1.3912e-02, -4.1012e-02],\n",
              "                        [-3.7413e-02, -5.5602e-02,  1.7273e-02]],\n",
              "              \n",
              "                       [[ 2.9603e-02,  8.0717e-02, -2.3813e-02],\n",
              "                        [ 7.5461e-03,  6.8125e-02,  4.5852e-02],\n",
              "                        [ 1.3544e-02,  3.2390e-02,  5.4714e-03]],\n",
              "              \n",
              "                       [[-9.0419e-02,  4.0636e-03, -2.3040e-02],\n",
              "                        [ 9.5123e-02,  9.5145e-02,  2.0912e-02],\n",
              "                        [ 9.4215e-02, -5.4288e-02,  9.1619e-02]]],\n",
              "              \n",
              "              \n",
              "                      [[[ 9.0756e-02, -4.0288e-03, -8.4592e-02],\n",
              "                        [-3.4015e-02, -2.8189e-02,  1.7411e-03],\n",
              "                        [-9.5569e-02,  1.9535e-02, -4.3839e-02]],\n",
              "              \n",
              "                       [[-2.6989e-02, -5.4443e-02, -2.2255e-02],\n",
              "                        [-9.7896e-02, -5.5885e-02,  9.7108e-03],\n",
              "                        [ 6.9072e-02,  9.5790e-02, -7.9737e-02]],\n",
              "              \n",
              "                       [[ 4.4264e-02, -5.9419e-02, -8.1498e-02],\n",
              "                        [-4.6417e-03, -6.0468e-02, -9.0783e-02],\n",
              "                        [-9.8509e-02, -7.0556e-02,  8.6619e-02]],\n",
              "              \n",
              "                       [[ 5.8788e-02, -4.1726e-02, -7.0553e-02],\n",
              "                        [-8.1085e-02, -6.2246e-02, -4.3376e-02],\n",
              "                        [ 6.3308e-02,  3.4496e-02, -4.0622e-02]],\n",
              "              \n",
              "                       [[ 7.2567e-02, -6.5484e-02, -8.5876e-02],\n",
              "                        [ 2.3006e-02, -5.8123e-02,  2.9987e-02],\n",
              "                        [ 8.9306e-02, -4.9849e-02, -7.3556e-02]],\n",
              "              \n",
              "                       [[ 3.9676e-02, -9.5200e-02,  9.4044e-02],\n",
              "                        [-4.9780e-02,  5.0961e-02, -8.3818e-02],\n",
              "                        [-7.1348e-02,  1.1611e-02,  3.7463e-02]],\n",
              "              \n",
              "                       [[ 8.1734e-02,  8.8158e-02, -6.0623e-03],\n",
              "                        [-1.3552e-02,  1.7424e-02, -2.4486e-02],\n",
              "                        [ 3.5882e-03, -9.9828e-02, -8.6531e-02]],\n",
              "              \n",
              "                       [[ 7.2233e-02, -6.1597e-02,  8.3008e-02],\n",
              "                        [ 1.1568e-02,  2.5676e-02,  9.5804e-02],\n",
              "                        [-5.8628e-02, -1.6640e-02,  1.8675e-02]],\n",
              "              \n",
              "                       [[ 3.6012e-02, -1.0259e-01,  3.7464e-02],\n",
              "                        [-6.2163e-02,  1.3846e-02,  7.1315e-02],\n",
              "                        [-1.0500e-02, -3.3346e-03, -7.8757e-03]],\n",
              "              \n",
              "                       [[ 8.7962e-02,  5.9907e-02,  1.7727e-02],\n",
              "                        [-6.3437e-02, -5.7241e-02,  8.3964e-02],\n",
              "                        [ 7.5834e-02,  6.1033e-02, -8.2189e-02]]],\n",
              "              \n",
              "              \n",
              "                      [[[ 8.2092e-02, -1.0076e-02,  7.7661e-02],\n",
              "                        [ 9.1553e-02,  1.1554e-02, -4.3863e-02],\n",
              "                        [ 9.9153e-02, -5.4931e-02,  6.8876e-02]],\n",
              "              \n",
              "                       [[-1.0108e-01, -3.3153e-02, -9.1902e-02],\n",
              "                        [-4.7284e-02,  4.4759e-02, -7.5529e-02],\n",
              "                        [-9.1158e-02,  7.5371e-02,  5.6270e-02]],\n",
              "              \n",
              "                       [[-1.1527e-03, -7.4309e-02, -2.7927e-02],\n",
              "                        [-3.4129e-02,  6.5100e-02, -3.4478e-02],\n",
              "                        [-3.0360e-02, -7.4720e-02, -4.9646e-02]],\n",
              "              \n",
              "                       [[ 5.7074e-02,  6.7914e-02,  1.5315e-02],\n",
              "                        [-3.9549e-02,  1.0124e-01,  2.0806e-02],\n",
              "                        [-4.0688e-02, -3.6535e-02, -1.4752e-02]],\n",
              "              \n",
              "                       [[ 4.9974e-02,  3.8555e-02,  7.6418e-02],\n",
              "                        [-4.7494e-03,  8.7183e-02, -4.2816e-02],\n",
              "                        [-4.8547e-02, -3.8927e-02, -9.8896e-02]],\n",
              "              \n",
              "                       [[-6.9195e-02, -9.5382e-02, -6.2294e-03],\n",
              "                        [ 9.9374e-04, -2.7358e-02, -7.2035e-02],\n",
              "                        [ 9.5637e-02, -3.4926e-02,  5.0233e-02]],\n",
              "              \n",
              "                       [[ 7.3408e-02, -6.9292e-02, -1.3179e-02],\n",
              "                        [ 6.0923e-02,  1.0218e-01, -1.3299e-02],\n",
              "                        [ 7.6382e-02, -8.2732e-02, -6.8489e-02]],\n",
              "              \n",
              "                       [[ 8.6682e-02, -9.9801e-03,  1.0414e-01],\n",
              "                        [ 7.6651e-03, -4.3714e-02,  1.0011e-01],\n",
              "                        [ 9.2179e-02,  9.7826e-03, -6.3900e-02]],\n",
              "              \n",
              "                       [[-4.5639e-03, -5.0693e-02,  7.6810e-02],\n",
              "                        [ 4.8829e-03,  2.2191e-02,  6.3927e-02],\n",
              "                        [ 3.4916e-02, -6.5803e-02,  8.7566e-02]],\n",
              "              \n",
              "                       [[ 6.4758e-02, -6.5073e-02,  7.9700e-02],\n",
              "                        [ 2.9905e-02, -2.0750e-02, -7.5385e-02],\n",
              "                        [-1.7490e-02, -1.0335e-01,  6.0163e-02]]],\n",
              "              \n",
              "              \n",
              "                      [[[ 7.6343e-02, -3.0347e-02,  9.7720e-02],\n",
              "                        [-3.9032e-02,  1.8051e-02, -7.3459e-02],\n",
              "                        [-4.4565e-03,  4.2610e-02,  4.5403e-02]],\n",
              "              \n",
              "                       [[-3.5346e-03, -5.3154e-02,  7.3680e-02],\n",
              "                        [ 6.9788e-02,  1.6916e-02, -4.8475e-02],\n",
              "                        [ 2.2349e-02,  2.8186e-04,  9.6302e-02]],\n",
              "              \n",
              "                       [[ 1.5621e-02,  8.1301e-03,  7.2057e-03],\n",
              "                        [ 5.6079e-02, -1.3024e-03,  9.0351e-02],\n",
              "                        [ 5.4917e-02, -7.9650e-02, -1.2070e-06]],\n",
              "              \n",
              "                       [[-8.9472e-02, -8.0934e-02,  2.0480e-02],\n",
              "                        [ 2.3687e-02, -9.2246e-03,  1.0019e-01],\n",
              "                        [-5.6627e-02, -4.4176e-02, -1.6881e-02]],\n",
              "              \n",
              "                       [[ 6.3911e-04, -8.9284e-03,  9.4909e-02],\n",
              "                        [-4.4519e-02, -5.5137e-02,  9.0599e-03],\n",
              "                        [ 7.9171e-02,  2.5019e-02,  5.6787e-02]],\n",
              "              \n",
              "                       [[ 2.0406e-02,  8.9839e-02,  6.3311e-02],\n",
              "                        [ 7.5428e-02, -1.4198e-02, -8.7268e-02],\n",
              "                        [-5.0002e-02,  3.5910e-02,  7.3950e-02]],\n",
              "              \n",
              "                       [[-4.1184e-02,  8.7218e-02,  1.5150e-02],\n",
              "                        [ 4.1869e-04,  4.1093e-03, -1.8623e-02],\n",
              "                        [ 9.8683e-02,  4.5784e-03,  6.4564e-02]],\n",
              "              \n",
              "                       [[-8.8967e-02, -5.4309e-02,  1.1852e-02],\n",
              "                        [ 8.4169e-02,  5.0184e-02,  2.0076e-02],\n",
              "                        [-1.0414e-01,  1.9816e-03, -6.9581e-02]],\n",
              "              \n",
              "                       [[-9.0006e-02,  1.4414e-02, -6.6693e-02],\n",
              "                        [ 9.5674e-02, -5.7294e-02,  3.3970e-02],\n",
              "                        [ 6.1871e-02, -8.1928e-02,  5.3946e-02]],\n",
              "              \n",
              "                       [[-1.4114e-02,  5.4619e-02,  1.0201e-01],\n",
              "                        [-4.4922e-02, -4.5653e-02,  8.3753e-02],\n",
              "                        [ 1.1722e-02, -1.0513e-02,  7.9971e-02]]],\n",
              "              \n",
              "              \n",
              "                      [[[-5.0928e-02, -5.2047e-03,  7.2403e-02],\n",
              "                        [ 4.1195e-02, -6.8180e-02,  2.7398e-02],\n",
              "                        [-8.0368e-02, -5.7245e-02,  6.7779e-02]],\n",
              "              \n",
              "                       [[-2.8093e-02, -5.3691e-02,  7.4717e-03],\n",
              "                        [ 2.5759e-02, -6.5524e-02, -7.1084e-02],\n",
              "                        [-1.0209e-01,  2.7236e-02, -6.8013e-02]],\n",
              "              \n",
              "                       [[ 8.0331e-03, -2.3576e-02, -6.8923e-02],\n",
              "                        [-3.3636e-02, -8.1027e-02, -5.5797e-02],\n",
              "                        [-3.2857e-03, -9.0116e-02, -9.2447e-02]],\n",
              "              \n",
              "                       [[ 7.8958e-02,  9.9188e-03, -4.6618e-02],\n",
              "                        [-3.5047e-03,  7.8168e-02, -8.7939e-02],\n",
              "                        [-5.5886e-02, -7.6226e-02, -7.6634e-03]],\n",
              "              \n",
              "                       [[-3.6274e-03, -8.2146e-02,  7.3163e-02],\n",
              "                        [-8.0946e-02,  9.8414e-02, -7.2560e-02],\n",
              "                        [-1.4446e-02,  1.9710e-02, -4.6852e-02]],\n",
              "              \n",
              "                       [[ 9.6939e-02, -7.2673e-02, -5.8427e-03],\n",
              "                        [-7.7398e-02,  2.9261e-02,  8.9871e-02],\n",
              "                        [ 9.7776e-02,  1.2514e-02, -5.2773e-02]],\n",
              "              \n",
              "                       [[ 1.0244e-01,  7.8667e-03,  7.1317e-02],\n",
              "                        [-5.4751e-02, -4.8920e-02, -8.7504e-02],\n",
              "                        [ 9.6990e-02,  1.7486e-02, -7.5704e-02]],\n",
              "              \n",
              "                       [[ 9.0535e-03, -4.5211e-02,  5.2659e-03],\n",
              "                        [ 3.4988e-02, -5.2308e-02,  1.8394e-02],\n",
              "                        [-6.6553e-02,  2.0312e-02, -1.0178e-01]],\n",
              "              \n",
              "                       [[ 1.6797e-02,  1.0473e-01,  9.7094e-02],\n",
              "                        [ 3.8451e-02,  7.7563e-02,  1.0248e-01],\n",
              "                        [ 2.9870e-02,  3.5156e-02,  1.3707e-02]],\n",
              "              \n",
              "                       [[ 9.3322e-02,  9.0551e-02, -4.9570e-02],\n",
              "                        [-4.3333e-03, -5.3110e-02,  3.7824e-02],\n",
              "                        [-1.0214e-01,  3.7301e-02, -2.8929e-02]]],\n",
              "              \n",
              "              \n",
              "                      [[[ 3.8227e-02,  3.2899e-02, -5.2454e-02],\n",
              "                        [ 5.4687e-02,  4.4762e-02, -8.9602e-02],\n",
              "                        [ 1.0517e-01,  9.0731e-02,  6.5584e-02]],\n",
              "              \n",
              "                       [[-1.0699e-02,  3.7345e-02, -5.7028e-02],\n",
              "                        [-3.5818e-02,  4.9749e-02,  4.6925e-02],\n",
              "                        [ 4.1741e-02, -1.0053e-01,  8.7350e-02]],\n",
              "              \n",
              "                       [[-4.4028e-02,  9.1223e-02,  8.6852e-02],\n",
              "                        [ 3.9070e-02,  1.0502e-01,  6.0528e-02],\n",
              "                        [ 6.1821e-02, -3.5794e-02,  9.7766e-02]],\n",
              "              \n",
              "                       [[ 2.7627e-02,  6.2280e-02, -2.3834e-02],\n",
              "                        [ 7.6340e-02,  9.3509e-02, -8.0770e-02],\n",
              "                        [ 8.6415e-02, -6.9664e-02, -7.2571e-02]],\n",
              "              \n",
              "                       [[-8.8089e-02,  3.0459e-02, -7.9144e-02],\n",
              "                        [-3.9680e-02, -5.2988e-02,  2.8172e-02],\n",
              "                        [-1.0349e-01, -4.8324e-02,  7.7112e-04]],\n",
              "              \n",
              "                       [[ 9.4660e-03, -4.7605e-02,  3.7764e-02],\n",
              "                        [-6.9544e-02, -8.9270e-02, -1.4986e-02],\n",
              "                        [-5.6989e-02,  6.6443e-02, -7.2049e-02]],\n",
              "              \n",
              "                       [[-8.8494e-03,  4.3782e-02, -9.2311e-02],\n",
              "                        [ 8.1599e-02, -4.7895e-02, -2.8684e-02],\n",
              "                        [-6.4480e-02, -3.9279e-02, -4.0645e-02]],\n",
              "              \n",
              "                       [[-9.3801e-02,  3.6019e-02, -3.3768e-04],\n",
              "                        [ 1.0311e-01,  7.1117e-02,  9.1699e-02],\n",
              "                        [ 3.1014e-02,  5.5388e-02,  9.8704e-02]],\n",
              "              \n",
              "                       [[ 8.6545e-02, -8.0996e-02, -2.3636e-02],\n",
              "                        [-1.0166e-01,  3.9877e-03, -3.7229e-02],\n",
              "                        [ 9.1486e-02,  1.6666e-02,  1.1601e-03]],\n",
              "              \n",
              "                       [[-7.6248e-02, -8.2718e-02,  1.6594e-02],\n",
              "                        [-5.2376e-02, -4.8409e-02,  7.3938e-02],\n",
              "                        [-5.4952e-02, -4.6918e-02,  8.0934e-02]]]])),\n",
              "             ('conv_block_2.2.bias',\n",
              "              tensor([ 0.0412, -0.0599,  0.0319,  0.0531, -0.0936,  0.0197,  0.0241, -0.0041,\n",
              "                       0.1011, -0.0697])),\n",
              "             ('classifier.1.weight',\n",
              "              tensor([[ 0.0245, -0.0240, -0.0387,  ...,  0.0094, -0.0015, -0.0225],\n",
              "                      [ 0.0228,  0.0067, -0.0439,  ..., -0.0302,  0.0368,  0.0293],\n",
              "                      [ 0.0303,  0.0347, -0.0211,  ...,  0.0207, -0.0423, -0.0240],\n",
              "                      ...,\n",
              "                      [-0.0359, -0.0343,  0.0166,  ...,  0.0324,  0.0113, -0.0143],\n",
              "                      [-0.0294, -0.0316,  0.0251,  ..., -0.0056,  0.0300, -0.0396],\n",
              "                      [-0.0246, -0.0035, -0.0046,  ..., -0.0146, -0.0358,  0.0175]])),\n",
              "             ('classifier.1.bias',\n",
              "              tensor([ 0.0320, -0.0445,  0.0246, -0.0357, -0.0442,  0.0156, -0.0010, -0.0277,\n",
              "                       0.0404,  0.0037]))])"
            ]
          },
          "execution_count": 49,
          "metadata": {},
          "output_type": "execute_result"
        }
      ],
      "source": [
        "model_2.state_dict()"
      ]
    },
    {
      "cell_type": "code",
      "execution_count": 50,
      "metadata": {
        "colab": {
          "base_uri": "https://localhost:8080/"
        },
        "id": "lP-mT5PFrReW",
        "outputId": "1dc3b7d3-b56a-4dbd-d75e-e17d75cff42d"
      },
      "outputs": [
        {
          "name": "stdout",
          "output_type": "stream",
          "text": [
            "torch.Size([3, 64, 64])\n",
            "torch.Size([10, 64, 64])\n",
            "torch.Size([32, 3, 64, 64])\n",
            "torch.Size([32, 10, 64, 64])\n"
          ]
        }
      ],
      "source": [
        "# Create a single layer\n",
        "conv_layer = nn.Conv2d(in_channels = 3,\n",
        "                       out_channels = 10,\n",
        "                       kernel_size=(3, 3),\n",
        "                       stride = 1,\n",
        "                       padding = 1)\n",
        "\n",
        "# Pass the data through the convolutional layer\n",
        "conv_output = conv_layer(test_image)\n",
        "print(test_image.shape)\n",
        "print(conv_output.shape)\n",
        "conv_outputs = conv_layer(images)\n",
        "print(images.shape)\n",
        "print(conv_outputs.shape)"
      ]
    },
    {
      "cell_type": "markdown",
      "metadata": {
        "id": "Vk_mjWo-r1pP"
      },
      "source": [
        "### 7.2 Stepping through `nn.MaxPool2d()`.\n",
        "\n",
        "Link: https://pytorch.org/docs/stable/generated/torch.nn.MaxPool2d.html"
      ]
    },
    {
      "cell_type": "code",
      "execution_count": 51,
      "metadata": {
        "colab": {
          "base_uri": "https://localhost:8080/"
        },
        "id": "rGbGoI7Tr6zA",
        "outputId": "f3af3554-f715-484d-ba29-e7a9ecec64fe"
      },
      "outputs": [
        {
          "name": "stdout",
          "output_type": "stream",
          "text": [
            "Test Image original shape: torch.Size([3, 64, 64])\n",
            "Test Image with unsqueezed dimension: torch.Size([1, 3, 64, 64])\n",
            "Shape after going thought conv_layer(): torch.Size([1, 10, 64, 64])\n",
            "Shape after going through max_pool_layer(): torch.Size([1, 10, 32, 32])\n"
          ]
        }
      ],
      "source": [
        "# Print out original image shape without unsqueezed dimension\n",
        "print(f\"Test Image original shape: {test_image.shape}\")\n",
        "print(f\"Test Image with unsqueezed dimension: {test_image.unsqueeze(0).shape}\")\n",
        "\n",
        "# Create a smaple nn.MaxPool2d()\n",
        "max_pool_layer = nn.MaxPool2d(kernel_size = 2)\n",
        "\n",
        "#Pass data through just the conv_layer\n",
        "test_image_through_conv = conv_layer(test_image.unsqueeze(dim = 0))\n",
        "print(f\"Shape after going thought conv_layer(): {test_image_through_conv.shape}\")\n",
        "\n",
        "# Pass data through the max_pool_layer\n",
        "test_image_through_pool = max_pool_layer(test_image_through_conv)\n",
        "print(f\"Shape after going through max_pool_layer(): {test_image_through_pool.shape}\")"
      ]
    },
    {
      "cell_type": "code",
      "execution_count": 52,
      "metadata": {
        "colab": {
          "base_uri": "https://localhost:8080/"
        },
        "id": "vXBfJNUCtMZF",
        "outputId": "c7d6c03b-a8ae-4397-a816-a7cfc3b8d8ed"
      },
      "outputs": [
        {
          "data": {
            "text/plain": [
              "torch.Size([3, 64, 64])"
            ]
          },
          "execution_count": 52,
          "metadata": {},
          "output_type": "execute_result"
        }
      ],
      "source": [
        "test_image.shape"
      ]
    },
    {
      "cell_type": "code",
      "execution_count": 53,
      "metadata": {
        "colab": {
          "base_uri": "https://localhost:8080/"
        },
        "id": "CyQnGbUpufxn",
        "outputId": "6715e43c-2ce9-417f-e834-8949933a382e"
      },
      "outputs": [
        {
          "name": "stdout",
          "output_type": "stream",
          "text": [
            "\n",
            "Random tensor:\n",
            " tensor([[[[0.3367, 0.1288],\n",
            "          [0.2345, 0.2303]]]])\n",
            "\n",
            "Random tensor shape:\n",
            " torch.Size([1, 1, 2, 2])\n",
            "\n",
            "Max pool tensor:\n",
            " tensor([[[[0.3367]]]])\n",
            "\n",
            "Max pool tensor shape:\n",
            " torch.Size([1, 1, 1, 1])\n"
          ]
        }
      ],
      "source": [
        "torch.manual_seed(42)\n",
        "# Create a random tensor witha  similar number of dimensions to our images\n",
        "random_tensor = torch.randn(size=(1, 1, 2, 2))\n",
        "\n",
        "# Create a max pool layer\n",
        "max_pool_layer = nn.MaxPool2d(kernel_size = 2)\n",
        "\n",
        "#Pass the random tensor through the max pool layer\n",
        "max_pool_tensor = max_pool_layer(random_tensor)\n",
        "print(f\"\\nRandom tensor:\\n {random_tensor}\")\n",
        "print(f\"\\nRandom tensor shape:\\n {random_tensor.shape}\")\n",
        "print(f\"\\nMax pool tensor:\\n {max_pool_tensor}\")\n",
        "print(f\"\\nMax pool tensor shape:\\n {max_pool_tensor.shape}\")"
      ]
    },
    {
      "cell_type": "markdown",
      "metadata": {
        "id": "pJ4nbT2ezWz1"
      },
      "source": [
        "## 7.3 Setup a loss function and optimizer for `model_2`"
      ]
    },
    {
      "cell_type": "code",
      "execution_count": 54,
      "metadata": {
        "id": "85fbSuK3zcgl"
      },
      "outputs": [],
      "source": [
        "# Setup loss function/eval metrics/optimizer\n",
        "from helper_functions import accuracy_fn\n",
        "loss_fn = nn.CrossEntropyLoss()\n",
        "optimizer = torch.optim.SGD(params = model_2.parameters(), lr = 0.1)"
      ]
    },
    {
      "cell_type": "code",
      "execution_count": 55,
      "metadata": {
        "colab": {
          "base_uri": "https://localhost:8080/",
          "height": 403,
          "referenced_widgets": [
            "d664929d96ca43548c803d993a72d5a1",
            "378d2f48e1d74efa9305f36fa1b26c43",
            "436149406f22414e8632541be43b6dfa",
            "ef5292d1077a429eb5b220defd562c13",
            "ad24e7c0887844f88c2b9d067005bff5",
            "55cff771e5bc45059ba4ef56fa98717a",
            "213607a36ce24e58a643f94c9414b1dd",
            "ad5d6391d552417e880577ddde969626",
            "75a13d94362441f09c79d0cd2f2a9ca5",
            "a8c39268ced84ac380e79820add1207f",
            "b43800f9bdd14913b85d5a827699e878",
            "9a4d09f11df34c56ba737a0b53b74f33",
            "f3b7226375364d9fafb35aa00c6a3bd3",
            "cfa1e62421734695b6c87df2c62fd315",
            "905de5f4f2e84afb8500592171c5a9a7",
            "e7cad8db8af247c1b177e3c8428595d3",
            "77945f919fcf4c31b88cd888519cdec6",
            "b80dcb54b22846609531f260f6e21186",
            "070987404bd649099cafa871b50cb8bc",
            "dbb988a13efe4f4285d232d0ea95a2f7",
            "5d4edac7d0e246d6bd8acbc0a55c3927",
            "7e7e7f4f1fc340e0bc025c9de5f4b0f2",
            "75054eb2805f4a4880cddffcaf7f5286",
            "59a37914b0c74977946cbff6f6cc8279",
            "70fb91abeaed43e6ba61472d4962c52c",
            "0a1eb480e9b74e5c81eba75aa69cfba2",
            "e76380b86b9743caa1f78294f945407d",
            "767ecdbd9b2a4eeb9ab882c1c38f7daf",
            "610d32df756c415fb09abed4eb912236",
            "4bc0b368de1d4c3e99877588790e2210",
            "99bd329137b7446ca57d5fbdb142f38f",
            "017a175e3d77471c8935b8728deba38b",
            "90c9197a45b04a1984219ac0cbd7984a"
          ]
        },
        "id": "yfAxWDO31OyA",
        "outputId": "464d23c4-7b3e-434c-f3cf-227eea895b5d"
      },
      "outputs": [
        {
          "name": "stdout",
          "output_type": "stream",
          "text": [
            "Epoch: 0\n",
            "-----------\n",
            "%Train loss: 0.58818 | Train acc: 78.61%\n"
          ]
        },
        {
          "data": {
            "application/vnd.jupyter.widget-view+json": {
              "model_id": "5d6733f63998423ca640d1b53cdd4ba5",
              "version_major": 2,
              "version_minor": 0
            },
            "text/plain": [
              "  0%|          | 0/313 [00:00<?, ?it/s]"
            ]
          },
          "metadata": {},
          "output_type": "display_data"
        },
        {
          "name": "stdout",
          "output_type": "stream",
          "text": [
            "Test loss: 0.40278 | Test acc: 85.70%\n",
            "\n",
            "Epoch: 1\n",
            "-----------\n",
            "%Train loss: 0.36256 | Train acc: 86.88%\n"
          ]
        },
        {
          "data": {
            "application/vnd.jupyter.widget-view+json": {
              "model_id": "57b3c95882dd42df9403c98f57881e49",
              "version_major": 2,
              "version_minor": 0
            },
            "text/plain": [
              "  0%|          | 0/313 [00:00<?, ?it/s]"
            ]
          },
          "metadata": {},
          "output_type": "display_data"
        },
        {
          "name": "stdout",
          "output_type": "stream",
          "text": [
            "Test loss: 0.37907 | Test acc: 86.29%\n",
            "\n",
            "Epoch: 2\n",
            "-----------\n",
            "%Train loss: 0.32546 | Train acc: 88.23%\n"
          ]
        },
        {
          "data": {
            "application/vnd.jupyter.widget-view+json": {
              "model_id": "022ad53f7a43464dad0411a7341f85b9",
              "version_major": 2,
              "version_minor": 0
            },
            "text/plain": [
              "  0%|          | 0/313 [00:00<?, ?it/s]"
            ]
          },
          "metadata": {},
          "output_type": "display_data"
        },
        {
          "name": "stdout",
          "output_type": "stream",
          "text": [
            "Test loss: 0.33715 | Test acc: 87.93%\n",
            "\n",
            "Train time on cpu : 88.105 seconds\n"
          ]
        }
      ],
      "source": [
        "torch.manual_seed(42)\n",
        "\n",
        "# Measure time\n",
        "from timeit import default_timer as timer\n",
        "train_time_start_on_model_2 = timer()\n",
        "\n",
        "#Set epochs\n",
        "epochs = 3\n",
        "\n",
        "# Create optimization and evaluation loop using train_step() and test_step()\n",
        "for epoch in range(epochs):\n",
        "  print(f\"Epoch: {epoch}\\n-----------\")\n",
        "\n",
        "  #Perform a batch training step\n",
        "  train_step(model = model_2,\n",
        "             data_loader = train_dataloader,\n",
        "             loss_fn = loss_fn,\n",
        "             optimizer = optimizer,\n",
        "             accuracy_fn = accuracy_fn,\n",
        "             device = device)\n",
        "\n",
        "  #Perform a batch test step\n",
        "  test_step(model = model_2,\n",
        "            data_loader = test_dataloader,\n",
        "            loss_fn = loss_fn,\n",
        "            accuracy_fn=accuracy_fn,\n",
        "            device = device)\n",
        "\n",
        "#Calculate the training time\n",
        "train_time_end_on_model_2 = timer()\n",
        "total_train_time_model_2 = print_train_time(start=train_time_start_on_model_2,\n",
        "                                            end=train_time_end_on_model_2,\n",
        "                                            device=device)"
      ]
    },
    {
      "cell_type": "code",
      "execution_count": 56,
      "metadata": {
        "colab": {
          "base_uri": "https://localhost:8080/",
          "height": 67,
          "referenced_widgets": [
            "a9a432678f6c4daaaa36b4bb364f4046",
            "abfd0436df7e4437b5b49e99eb34b9ce",
            "36754b78be874d8e9d52bca9b9e32937",
            "4b40141f607e49d888d7892db10fe814",
            "7d4216f540284138b16b271b8c4bc022",
            "719451ad32d041c3a96e64a7b53277c6",
            "1b7435163f73433c956701bafd1cedc5",
            "1d18e519057a4552ad1c2b0c1af8da36",
            "476b3e1246fd4d4d920ff6c3f2e56366",
            "ac0dafcc407a4da29d5437db8654cc36",
            "9150cc4e2bfa472da8fe62a176a189c7"
          ]
        },
        "id": "hAyMOqv2481d",
        "outputId": "d143ec66-3428-4206-bffc-b2d55cb9afba"
      },
      "outputs": [
        {
          "data": {
            "application/vnd.jupyter.widget-view+json": {
              "model_id": "5acdc75d8c5a49edb4102a3b98b241b1",
              "version_major": 2,
              "version_minor": 0
            },
            "text/plain": [
              "  0%|          | 0/313 [00:00<?, ?it/s]"
            ]
          },
          "metadata": {},
          "output_type": "display_data"
        },
        {
          "name": "stdout",
          "output_type": "stream",
          "text": [
            "{'model_name': 'FashionMNISTModelV2', 'model_loss': 0.33715078234672546, 'model_acc': 87.92931309904154}\n"
          ]
        }
      ],
      "source": [
        "model_2_results = eval_model(\n",
        "    model = model_2,\n",
        "    data_loader=test_dataloader,\n",
        "    loss_fn=loss_fn,\n",
        "    accuracy_fn=accuracy_fn,\n",
        "    device = device\n",
        ")\n",
        "\n",
        "print(model_2_results)"
      ]
    },
    {
      "cell_type": "code",
      "execution_count": 57,
      "metadata": {
        "colab": {
          "base_uri": "https://localhost:8080/"
        },
        "id": "_oKI-zlo80mZ",
        "outputId": "50d6d25a-e76d-454f-f792-742f0510b55c"
      },
      "outputs": [
        {
          "name": "stdout",
          "output_type": "stream",
          "text": [
            "{'model_name': 'FashionMNISTModelV0', 'model_loss': 0.47663894295692444, 'model_acc': 83.42651757188499}\n"
          ]
        }
      ],
      "source": [
        "print(model_0_results)"
      ]
    },
    {
      "cell_type": "code",
      "execution_count": 58,
      "metadata": {
        "colab": {
          "base_uri": "https://localhost:8080/"
        },
        "id": "69W6q-HJ82hw",
        "outputId": "828f931c-35e9-46cc-fce1-79051cbd1958"
      },
      "outputs": [
        {
          "name": "stdout",
          "output_type": "stream",
          "text": [
            "{'model_name': 'FashionMNISTModelV1', 'model_loss': 0.68743497133255, 'model_acc': 75.65894568690096}\n"
          ]
        }
      ],
      "source": [
        "print(model_1_results)"
      ]
    },
    {
      "cell_type": "markdown",
      "metadata": {
        "id": "NkHxdGLg9BOk"
      },
      "source": [
        "## 8 Compare model results and training time"
      ]
    },
    {
      "cell_type": "code",
      "execution_count": 59,
      "metadata": {
        "colab": {
          "base_uri": "https://localhost:8080/",
          "height": 143
        },
        "id": "7-b_yjDq9D4k",
        "outputId": "776aee66-27be-419d-a9ae-68a23c4c7832"
      },
      "outputs": [
        {
          "data": {
            "text/html": [
              "<div>\n",
              "<style scoped>\n",
              "    .dataframe tbody tr th:only-of-type {\n",
              "        vertical-align: middle;\n",
              "    }\n",
              "\n",
              "    .dataframe tbody tr th {\n",
              "        vertical-align: top;\n",
              "    }\n",
              "\n",
              "    .dataframe thead th {\n",
              "        text-align: right;\n",
              "    }\n",
              "</style>\n",
              "<table border=\"1\" class=\"dataframe\">\n",
              "  <thead>\n",
              "    <tr style=\"text-align: right;\">\n",
              "      <th></th>\n",
              "      <th>model_name</th>\n",
              "      <th>model_loss</th>\n",
              "      <th>model_acc</th>\n",
              "    </tr>\n",
              "  </thead>\n",
              "  <tbody>\n",
              "    <tr>\n",
              "      <th>0</th>\n",
              "      <td>FashionMNISTModelV0</td>\n",
              "      <td>0.476639</td>\n",
              "      <td>83.426518</td>\n",
              "    </tr>\n",
              "    <tr>\n",
              "      <th>1</th>\n",
              "      <td>FashionMNISTModelV1</td>\n",
              "      <td>0.687435</td>\n",
              "      <td>75.658946</td>\n",
              "    </tr>\n",
              "    <tr>\n",
              "      <th>2</th>\n",
              "      <td>FashionMNISTModelV2</td>\n",
              "      <td>0.337151</td>\n",
              "      <td>87.929313</td>\n",
              "    </tr>\n",
              "  </tbody>\n",
              "</table>\n",
              "</div>"
            ],
            "text/plain": [
              "            model_name  model_loss  model_acc\n",
              "0  FashionMNISTModelV0    0.476639  83.426518\n",
              "1  FashionMNISTModelV1    0.687435  75.658946\n",
              "2  FashionMNISTModelV2    0.337151  87.929313"
            ]
          },
          "execution_count": 59,
          "metadata": {},
          "output_type": "execute_result"
        }
      ],
      "source": [
        "import pandas as pd\n",
        "data_dict = [model_0_results,\n",
        "             model_1_results,\n",
        "             model_2_results]\n",
        "compare_results = pd.DataFrame(data_dict)\n",
        "compare_results"
      ]
    },
    {
      "cell_type": "code",
      "execution_count": 60,
      "metadata": {
        "colab": {
          "base_uri": "https://localhost:8080/"
        },
        "id": "ShXr6YptgDtN",
        "outputId": "0927d678-4512-4123-a4c6-172486dde865"
      },
      "outputs": [
        {
          "name": "stdout",
          "output_type": "stream",
          "text": [
            "            model_name  model_loss  model_acc  training_time\n",
            "0  FashionMNISTModelV0    0.476639  83.426518      19.982051\n",
            "1  FashionMNISTModelV1    0.687435  75.658946      19.477109\n",
            "2  FashionMNISTModelV2    0.337151  87.929313      88.105095\n"
          ]
        }
      ],
      "source": [
        "# Add training time to results comparison\n",
        "compare_results[\"training_time\"] = [total_train_time_model_0,\n",
        "                                    total_train_time_model_1,\n",
        "                                    total_train_time_model_2]\n",
        "print(compare_results)"
      ]
    },
    {
      "cell_type": "code",
      "execution_count": 61,
      "metadata": {
        "colab": {
          "base_uri": "https://localhost:8080/",
          "height": 467
        },
        "id": "eVe3IgfCgexo",
        "outputId": "6e607e6b-7df3-4c53-da3f-542a6a720561"
      },
      "outputs": [
        {
          "data": {
            "text/plain": [
              "Text(0, 0.5, 'Model')"
            ]
          },
          "execution_count": 61,
          "metadata": {},
          "output_type": "execute_result"
        },
        {
          "data": {
            "image/png": "[encoded data removed]",
            "text/plain": [
              "<Figure size 640x480 with 1 Axes>"
            ]
          },
          "metadata": {},
          "output_type": "display_data"
        }
      ],
      "source": [
        "# Visualize our model results\n",
        "compare_results.set_index(\"model_name\")[\"model_acc\"].plot(kind = \"barh\")\n",
        "plt.xlabel(\"accuracy (%)\")\n",
        "plt.ylabel(\"Model\")"
      ]
    },
    {
      "cell_type": "markdown",
      "metadata": {
        "id": "jU7h8d1THrx8"
      },
      "source": [
        "## 9 Make and evaluate random predictions with best model"
      ]
    },
    {
      "cell_type": "code",
      "execution_count": 62,
      "metadata": {
        "id": "KP9GtqjkHw7e"
      },
      "outputs": [],
      "source": [
        "def make_predictions(model:torch.nn.Module,\n",
        "                     data:list,\n",
        "                     device:torch.device = device):\n",
        "  pred_probs = []\n",
        "  model.eval()\n",
        "  with torch.inference_mode():\n",
        "    for sample in data:\n",
        "      #Prepare the sample, (add a batch dimension and pass to target device)\n",
        "      sample = torch.unsqueeze(sample, dim = 0).to(device)\n",
        "\n",
        "      # Forward pass (model outputs raw logits)\n",
        "      pred_logit = model(sample)\n",
        "\n",
        "      # Get prediction probability (logit -> prediction probability)\n",
        "      pred_prob = torch.softmax(pred_logit.squeeze(), dim = 0)\n",
        "\n",
        "      # Get pred_prob off the GPU for further calculations\n",
        "      pred_probs.append(pred_prob.cpu().detach())\n",
        "\n",
        "  # Stack tge pred_probs to turn list into a tensor\n",
        "  return torch.stack(pred_probs)\n"
      ]
    },
    {
      "cell_type": "code",
      "execution_count": 63,
      "metadata": {
        "colab": {
          "base_uri": "https://localhost:8080/"
        },
        "id": "MU46lf8bIt_r",
        "outputId": "e9b86b3a-a3f3-445a-e2b1-0b574400bc3a"
      },
      "outputs": [
        {
          "name": "stdout",
          "output_type": "stream",
          "text": [
            "torch.Size([1, 28, 28])\n",
            "0\n"
          ]
        }
      ],
      "source": [
        "import random\n",
        "#random.seed(42)\n",
        "test_samples = []\n",
        "test_labels = []\n",
        "\n",
        "for sample, label in random.sample(list(test_data), k = 9):\n",
        "  test_samples.append(sample)\n",
        "  test_labels.append(label)\n",
        "\n",
        "# View the first sample shape\n",
        "print(test_samples[0].shape)\n",
        "print(test_labels[0])"
      ]
    },
    {
      "cell_type": "code",
      "execution_count": 64,
      "metadata": {
        "colab": {
          "base_uri": "https://localhost:8080/",
          "height": 470
        },
        "id": "unTe-bJ-JbXr",
        "outputId": "2d77fa01-ad3b-4042-9052-60db92fca777"
      },
      "outputs": [
        {
          "data": {
            "text/plain": [
              "Text(0.5, 1.0, 'T-shirt/top')"
            ]
          },
          "execution_count": 64,
          "metadata": {},
          "output_type": "execute_result"
        },
        {
          "data": {
            "image/png": "[encoded data removed]",
            "text/plain": [
              "<Figure size 640x480 with 1 Axes>"
            ]
          },
          "metadata": {},
          "output_type": "display_data"
        }
      ],
      "source": [
        "plt.imshow(test_samples[0].squeeze(), cmap = \"gray\")\n",
        "plt.title(class_names[test_labels[0]])"
      ]
    },
    {
      "cell_type": "code",
      "execution_count": 65,
      "metadata": {
        "colab": {
          "base_uri": "https://localhost:8080/"
        },
        "id": "iwy9h7vTJjqK",
        "outputId": "42e55cb1-67d5-412d-d771-f5e60b787a8d"
      },
      "outputs": [
        {
          "data": {
            "text/plain": [
              "tensor([[9.8534e-01, 1.0145e-05, 2.5685e-04, 5.5101e-03, 7.4920e-07, 7.0392e-09,\n",
              "         8.8793e-03, 4.0932e-08, 6.0023e-06, 9.8428e-09],\n",
              "        [1.3562e-05, 1.2172e-07, 5.3727e-05, 9.4236e-08, 4.5301e-06, 9.8927e-01,\n",
              "         2.3600e-05, 2.6018e-05, 1.0606e-02, 1.2420e-06]])"
            ]
          },
          "execution_count": 65,
          "metadata": {},
          "output_type": "execute_result"
        }
      ],
      "source": [
        "# Make predictions\n",
        "pred_probs = make_predictions(model = model_2,\n",
        "                              data = test_samples)\n",
        "\n",
        "# View the first two prediction probabilities\n",
        "pred_probs[:2]"
      ]
    },
    {
      "cell_type": "code",
      "execution_count": 66,
      "metadata": {
        "colab": {
          "base_uri": "https://localhost:8080/"
        },
        "id": "V7noG5wMJ-Fq",
        "outputId": "7e6d22cd-bb0f-4fee-80b0-bad0e30721d1"
      },
      "outputs": [
        {
          "data": {
            "text/plain": [
              "tensor([0, 5, 2, 2, 0, 7, 1, 0, 2])"
            ]
          },
          "execution_count": 66,
          "metadata": {},
          "output_type": "execute_result"
        }
      ],
      "source": [
        "pred_classes = pred_probs.argmax(dim = 1)\n",
        "pred_classes"
      ]
    },
    {
      "cell_type": "code",
      "execution_count": 67,
      "metadata": {
        "colab": {
          "base_uri": "https://localhost:8080/"
        },
        "id": "LmsgNDlrJ1Mo",
        "outputId": "df62ac59-5cd6-4eb1-f7bc-0ca72eee21c1"
      },
      "outputs": [
        {
          "data": {
            "text/plain": [
              "[0, 5, 2, 6, 0, 7, 1, 0, 2]"
            ]
          },
          "execution_count": 67,
          "metadata": {},
          "output_type": "execute_result"
        }
      ],
      "source": [
        "test_labels"
      ]
    },
    {
      "cell_type": "code",
      "execution_count": 68,
      "metadata": {
        "colab": {
          "base_uri": "https://localhost:8080/",
          "height": 749
        },
        "id": "q1vzlcjTKRJH",
        "outputId": "8aebeddb-5f06-4f54-daf5-ad1e47c6b75a"
      },
      "outputs": [
        {
          "data": {
            "image/png": "[encoded data removed]",
            "text/plain": [
              "<Figure size 900x900 with 9 Axes>"
            ]
          },
          "metadata": {},
          "output_type": "display_data"
        }
      ],
      "source": [
        "# Plot predictions\n",
        "plt.figure(figsize = (9, 9))\n",
        "nrows = 3\n",
        "ncols = 3\n",
        "for i, sample in enumerate(test_samples):\n",
        "  #Create a subplot\n",
        "  plt.subplot(nrows, ncols, i+1)\n",
        "\n",
        "  #Plot the target image\n",
        "  plt.imshow(sample.squeeze(), cmap = \"gray\")\n",
        "\n",
        "  #Find the prediction (in text form, e.g \"Sandal\")\n",
        "  pred_label = class_names[pred_classes[i]]\n",
        "\n",
        "  #Get the truth label (in text form)\n",
        "  truth_label = class_names[test_labels[i]]\n",
        "\n",
        "  #Create a title for the plot\n",
        "  title_text = f\"Pred: {pred_label} | Truth: {truth_label}\"\n",
        "\n",
        "  #Check for equality between pred and truth, and change colors between them\n",
        "  if pred_label == truth_label:\n",
        "    plt.title(title_text, fontsize = 10, color = \"g\") # green if pred == truth\n",
        "  else:\n",
        "    plt.title(title_text, fontsize = 10, color = \"r\") # red if pred != truth\\\n",
        "\n",
        "  plt.axis(\"off\")"
      ]
    },
    {
      "cell_type": "markdown",
      "metadata": {
        "id": "wnKV98pdMZBc"
      },
      "source": [
        "## 10 Making a confusion matrix for further prediction evaluation\n",
        "\n",
        "A confusion matrix is a fantastic way of evaluation your classification models visually: https://www.learnpytorch.io/02_pytorch_classification/#9-more-classification-evaluation-metrics\n",
        "\n",
        "1. Make predictions with our trained model on the test dataset\n",
        "2. Make a confusion matrix `torchmetrics.ConfusionMatrix` link: https://torchmetrics.readthedocs.io/en/v0.8.2/classification/confusion_matrix.html\n",
        "3. Plot the confusion matrix using `mlxtend.plotting.plot_confusion_matrix()`\n",
        "https://rasbt.github.io/mlxtend/user_guide/plotting/plot_confusion_matrix/"
      ]
    },
    {
      "cell_type": "code",
      "execution_count": 69,
      "metadata": {
        "colab": {
          "base_uri": "https://localhost:8080/",
          "height": 67,
          "referenced_widgets": [
            "04e3cc32a88a4a5b83ae907c7d0264b4",
            "d71505d74b5440f98de98761417bf44b",
            "f43c6d661e8941d1b2dc5330db83172f",
            "80e4362bba8f43629514161bfab752e2",
            "a5ac817fd4dd40fbbddd7dcb79b28310",
            "36f7a7a2ce3b47a1a5585fc96155662f",
            "a96067c611ef49858507131896cd43d7",
            "1f44374018ca4b27a5682694514ecf8f",
            "c774f3320d9a4b5daf2e22b05841ab96",
            "f636776c9bfa433a8119b39100bc64ad",
            "ac669f3c26294bfe8a7dfc262b42ce36"
          ]
        },
        "id": "lSkWVYYxNmCT",
        "outputId": "bb71634f-47b5-4c21-aee0-969a415e20d2"
      },
      "outputs": [
        {
          "data": {
            "application/vnd.jupyter.widget-view+json": {
              "model_id": "204f284155fc4e8d9a7e864f0bf87db8",
              "version_major": 2,
              "version_minor": 0
            },
            "text/plain": [
              "Making predictions...:   0%|          | 0/313 [00:00<?, ?it/s]"
            ]
          },
          "metadata": {},
          "output_type": "display_data"
        },
        {
          "name": "stdout",
          "output_type": "stream",
          "text": [
            "tensor([9, 2, 1])\n"
          ]
        }
      ],
      "source": [
        "# Import tqdm.auto\n",
        "from tqdm.auto import tqdm\n",
        "\n",
        "# Make predictions with trained model\n",
        "y_preds = []\n",
        "model_2.eval()\n",
        "with torch.inference_mode():\n",
        "  for X, y in tqdm(test_dataloader, desc = \"Making predictions...\"):\n",
        "    # Sending data to device\n",
        "    X, y = X.to(device), y.to(device)\n",
        "\n",
        "    # Do the forward pass\n",
        "    y_logit = model_2(X)\n",
        "\n",
        "    # Turn predictions from logits -> prediction probabilities -> prediction labels\n",
        "    y_pred = torch.softmax(y_logit.squeeze(), dim = 0).argmax(dim = 1)\n",
        "\n",
        "    # Append to y_preds\n",
        "    y_preds.append(y_pred.cpu())\n",
        "\n",
        "# Concatanate them\n",
        "#print(y_preds)\n",
        "y_preds_tensor = torch.cat(y_preds)\n",
        "print(y_preds_tensor[:3])"
      ]
    },
    {
      "cell_type": "code",
      "execution_count": 70,
      "metadata": {
        "colab": {
          "base_uri": "https://localhost:8080/"
        },
        "id": "AepIm4KkOev5",
        "outputId": "e3aad6f7-af7d-418c-b421-4cd340354b20"
      },
      "outputs": [
        {
          "data": {
            "text/plain": [
              "torch.Size([10000])"
            ]
          },
          "execution_count": 70,
          "metadata": {},
          "output_type": "execute_result"
        }
      ],
      "source": [
        "y_preds_tensor.shape"
      ]
    },
    {
      "cell_type": "code",
      "execution_count": 71,
      "metadata": {
        "colab": {
          "base_uri": "https://localhost:8080/"
        },
        "id": "zvZqRBHQewxR",
        "outputId": "81e9216b-c287-46fc-f9e5-e4b1ef3a2f07"
      },
      "outputs": [
        {
          "name": "stdout",
          "output_type": "stream",
          "text": [
            "Requirement already satisfied: torchmetrics in c:\\users\\ajedr\\onedrive\\documentos\\masters_post_cert_ai_stanford_usd_2023_2026\\masters_ai_workspace\\venv\\lib\\site-packages (1.6.3)\n",
            "Collecting torchmetrics\n",
            "  Downloading torchmetrics-1.7.1-py3-none-any.whl.metadata (21 kB)\n",
            "Collecting mlxtend\n",
            "  Downloading mlxtend-0.23.4-py3-none-any.whl.metadata (7.3 kB)\n",
            "Requirement already satisfied: numpy>1.20.0 in c:\\users\\ajedr\\onedrive\\documentos\\masters_post_cert_ai_stanford_usd_2023_2026\\masters_ai_workspace\\venv\\lib\\site-packages (from torchmetrics) (2.1.3)\n",
            "Requirement already satisfied: packaging>17.1 in c:\\users\\ajedr\\onedrive\\documentos\\masters_post_cert_ai_stanford_usd_2023_2026\\masters_ai_workspace\\venv\\lib\\site-packages (from torchmetrics) (24.2)\n",
            "Requirement already satisfied: torch>=2.0.0 in c:\\users\\ajedr\\onedrive\\documentos\\masters_post_cert_ai_stanford_usd_2023_2026\\masters_ai_workspace\\venv\\lib\\site-packages (from torchmetrics) (2.6.0)\n",
            "Requirement already satisfied: lightning-utilities>=0.8.0 in c:\\users\\ajedr\\onedrive\\documentos\\masters_post_cert_ai_stanford_usd_2023_2026\\masters_ai_workspace\\venv\\lib\\site-packages (from torchmetrics) (0.14.1)\n",
            "Requirement already satisfied: scipy>=1.2.1 in c:\\users\\ajedr\\onedrive\\documentos\\masters_post_cert_ai_stanford_usd_2023_2026\\masters_ai_workspace\\venv\\lib\\site-packages (from mlxtend) (1.15.2)\n",
            "Requirement already satisfied: pandas>=0.24.2 in c:\\users\\ajedr\\onedrive\\documentos\\masters_post_cert_ai_stanford_usd_2023_2026\\masters_ai_workspace\\venv\\lib\\site-packages (from mlxtend) (2.2.3)\n",
            "Requirement already satisfied: scikit-learn>=1.3.1 in c:\\users\\ajedr\\onedrive\\documentos\\masters_post_cert_ai_stanford_usd_2023_2026\\masters_ai_workspace\\venv\\lib\\site-packages (from mlxtend) (1.6.1)\n",
            "Requirement already satisfied: matplotlib>=3.0.0 in c:\\users\\ajedr\\onedrive\\documentos\\masters_post_cert_ai_stanford_usd_2023_2026\\masters_ai_workspace\\venv\\lib\\site-packages (from mlxtend) (3.10.1)\n",
            "Requirement already satisfied: joblib>=0.13.2 in c:\\users\\ajedr\\onedrive\\documentos\\masters_post_cert_ai_stanford_usd_2023_2026\\masters_ai_workspace\\venv\\lib\\site-packages (from mlxtend) (1.4.2)\n",
            "Requirement already satisfied: setuptools in c:\\users\\ajedr\\onedrive\\documentos\\masters_post_cert_ai_stanford_usd_2023_2026\\masters_ai_workspace\\venv\\lib\\site-packages (from lightning-utilities>=0.8.0->torchmetrics) (76.0.0)\n",
            "Requirement already satisfied: typing_extensions in c:\\users\\ajedr\\onedrive\\documentos\\masters_post_cert_ai_stanford_usd_2023_2026\\masters_ai_workspace\\venv\\lib\\site-packages (from lightning-utilities>=0.8.0->torchmetrics) (4.12.2)\n",
            "Requirement already satisfied: contourpy>=1.0.1 in c:\\users\\ajedr\\onedrive\\documentos\\masters_post_cert_ai_stanford_usd_2023_2026\\masters_ai_workspace\\venv\\lib\\site-packages (from matplotlib>=3.0.0->mlxtend) (1.3.1)\n",
            "Requirement already satisfied: cycler>=0.10 in c:\\users\\ajedr\\onedrive\\documentos\\masters_post_cert_ai_stanford_usd_2023_2026\\masters_ai_workspace\\venv\\lib\\site-packages (from matplotlib>=3.0.0->mlxtend) (0.12.1)\n",
            "Requirement already satisfied: fonttools>=4.22.0 in c:\\users\\ajedr\\onedrive\\documentos\\masters_post_cert_ai_stanford_usd_2023_2026\\masters_ai_workspace\\venv\\lib\\site-packages (from matplotlib>=3.0.0->mlxtend) (4.56.0)\n",
            "Requirement already satisfied: kiwisolver>=1.3.1 in c:\\users\\ajedr\\onedrive\\documentos\\masters_post_cert_ai_stanford_usd_2023_2026\\masters_ai_workspace\\venv\\lib\\site-packages (from matplotlib>=3.0.0->mlxtend) (1.4.8)\n",
            "Requirement already satisfied: pillow>=8 in c:\\users\\ajedr\\onedrive\\documentos\\masters_post_cert_ai_stanford_usd_2023_2026\\masters_ai_workspace\\venv\\lib\\site-packages (from matplotlib>=3.0.0->mlxtend) (11.1.0)\n",
            "Requirement already satisfied: pyparsing>=2.3.1 in c:\\users\\ajedr\\onedrive\\documentos\\masters_post_cert_ai_stanford_usd_2023_2026\\masters_ai_workspace\\venv\\lib\\site-packages (from matplotlib>=3.0.0->mlxtend) (3.2.1)\n",
            "Requirement already satisfied: python-dateutil>=2.7 in c:\\users\\ajedr\\onedrive\\documentos\\masters_post_cert_ai_stanford_usd_2023_2026\\masters_ai_workspace\\venv\\lib\\site-packages (from matplotlib>=3.0.0->mlxtend) (2.9.0.post0)\n",
            "Requirement already satisfied: pytz>=2020.1 in c:\\users\\ajedr\\onedrive\\documentos\\masters_post_cert_ai_stanford_usd_2023_2026\\masters_ai_workspace\\venv\\lib\\site-packages (from pandas>=0.24.2->mlxtend) (2025.1)\n",
            "Requirement already satisfied: tzdata>=2022.7 in c:\\users\\ajedr\\onedrive\\documentos\\masters_post_cert_ai_stanford_usd_2023_2026\\masters_ai_workspace\\venv\\lib\\site-packages (from pandas>=0.24.2->mlxtend) (2025.1)\n",
            "Requirement already satisfied: threadpoolctl>=3.1.0 in c:\\users\\ajedr\\onedrive\\documentos\\masters_post_cert_ai_stanford_usd_2023_2026\\masters_ai_workspace\\venv\\lib\\site-packages (from scikit-learn>=1.3.1->mlxtend) (3.6.0)\n",
            "Requirement already satisfied: filelock in c:\\users\\ajedr\\onedrive\\documentos\\masters_post_cert_ai_stanford_usd_2023_2026\\masters_ai_workspace\\venv\\lib\\site-packages (from torch>=2.0.0->torchmetrics) (3.18.0)\n",
            "Requirement already satisfied: networkx in c:\\users\\ajedr\\onedrive\\documentos\\masters_post_cert_ai_stanford_usd_2023_2026\\masters_ai_workspace\\venv\\lib\\site-packages (from torch>=2.0.0->torchmetrics) (3.4.2)\n",
            "Requirement already satisfied: jinja2 in c:\\users\\ajedr\\onedrive\\documentos\\masters_post_cert_ai_stanford_usd_2023_2026\\masters_ai_workspace\\venv\\lib\\site-packages (from torch>=2.0.0->torchmetrics) (3.1.6)\n",
            "Requirement already satisfied: fsspec in c:\\users\\ajedr\\onedrive\\documentos\\masters_post_cert_ai_stanford_usd_2023_2026\\masters_ai_workspace\\venv\\lib\\site-packages (from torch>=2.0.0->torchmetrics) (2024.12.0)\n",
            "Requirement already satisfied: sympy==1.13.1 in c:\\users\\ajedr\\onedrive\\documentos\\masters_post_cert_ai_stanford_usd_2023_2026\\masters_ai_workspace\\venv\\lib\\site-packages (from torch>=2.0.0->torchmetrics) (1.13.1)\n",
            "Requirement already satisfied: mpmath<1.4,>=1.1.0 in c:\\users\\ajedr\\onedrive\\documentos\\masters_post_cert_ai_stanford_usd_2023_2026\\masters_ai_workspace\\venv\\lib\\site-packages (from sympy==1.13.1->torch>=2.0.0->torchmetrics) (1.3.0)\n",
            "Requirement already satisfied: six>=1.5 in c:\\users\\ajedr\\onedrive\\documentos\\masters_post_cert_ai_stanford_usd_2023_2026\\masters_ai_workspace\\venv\\lib\\site-packages (from python-dateutil>=2.7->matplotlib>=3.0.0->mlxtend) (1.17.0)\n",
            "Requirement already satisfied: MarkupSafe>=2.0 in c:\\users\\ajedr\\onedrive\\documentos\\masters_post_cert_ai_stanford_usd_2023_2026\\masters_ai_workspace\\venv\\lib\\site-packages (from jinja2->torch>=2.0.0->torchmetrics) (3.0.2)\n",
            "Downloading torchmetrics-1.7.1-py3-none-any.whl (961 kB)\n",
            "   ---------------------------------------- 0.0/961.5 kB ? eta -:--:--\n",
            "   --------------------- ------------------ 524.3/961.5 kB 3.4 MB/s eta 0:00:01\n",
            "   ---------------------------------------- 961.5/961.5 kB 3.4 MB/s eta 0:00:00\n",
            "Downloading mlxtend-0.23.4-py3-none-any.whl (1.4 MB)\n",
            "   ---------------------------------------- 0.0/1.4 MB ? eta -:--:--\n",
            "   --------------- ------------------------ 0.5/1.4 MB 3.3 MB/s eta 0:00:01\n",
            "   ---------------------------------------- 1.4/1.4 MB 3.9 MB/s eta 0:00:00\n",
            "Installing collected packages: torchmetrics, mlxtend\n",
            "  Attempting uninstall: torchmetrics\n",
            "    Found existing installation: torchmetrics 1.6.3\n",
            "    Uninstalling torchmetrics-1.6.3:\n",
            "      Successfully uninstalled torchmetrics-1.6.3\n",
            "Successfully installed mlxtend-0.23.4 torchmetrics-1.7.1\n",
            "torchmetrics version: 1.6.3\n",
            "mlxtend version: 0.23.4\n"
          ]
        },
        {
          "name": "stderr",
          "output_type": "stream",
          "text": [
            "\n",
            "[notice] A new release of pip is available: 24.2 -> 25.0.1\n",
            "[notice] To update, run: python.exe -m pip install --upgrade pip\n"
          ]
        }
      ],
      "source": [
        "try:\n",
        "  import torchmetrics, mlxtend\n",
        "  print(f\"torchmetrics version: {torchmetrics.__version__}\")\n",
        "  assert int(mlxtend.__version__.split(\".\")[1] >= \"mltxtend version should be 0.19.0 or higher\")\n",
        "  print(f\"mlxtend version: {mlxtend.__version__}\")\n",
        "except:\n",
        "  !pip install torchmetrics -U mlxtend\n",
        "  import torchmetrics, mlxtend\n",
        "  print(f\"torchmetrics version: {torchmetrics.__version__}\")\n",
        "  print(f\"mlxtend version: {mlxtend.__version__}\")"
      ]
    },
    {
      "cell_type": "code",
      "execution_count": 72,
      "metadata": {
        "colab": {
          "base_uri": "https://localhost:8080/"
        },
        "id": "_pY7FzfzgqMi",
        "outputId": "cb25dbe0-646d-4111-9f81-f637d5fa88fd"
      },
      "outputs": [
        {
          "name": "stdout",
          "output_type": "stream",
          "text": [
            "tensor([9, 2, 1,  ..., 8, 1, 5])\n",
            "tensor([9, 2, 1,  ..., 8, 1, 2])\n"
          ]
        }
      ],
      "source": [
        "print(test_data.targets)\n",
        "print(y_preds_tensor)"
      ]
    },
    {
      "cell_type": "code",
      "execution_count": 73,
      "metadata": {
        "colab": {
          "base_uri": "https://localhost:8080/",
          "height": 667
        },
        "id": "B7YxItQ-gSiC",
        "outputId": "ff16c5bb-0404-48e2-a916-3842b1cb24cb"
      },
      "outputs": [
        {
          "data": {
            "image/png": "[encoded data removed]",
            "text/plain": [
              "<Figure size 1000x700 with 2 Axes>"
            ]
          },
          "metadata": {},
          "output_type": "display_data"
        }
      ],
      "source": [
        "from torchmetrics import ConfusionMatrix\n",
        "from mlxtend.plotting import plot_confusion_matrix\n",
        "\n",
        "# 2. Setup confusion instance and compare predictions to targets\n",
        "confmat = ConfusionMatrix(task = \"multiclass\", num_classes = len(class_names))\n",
        "confmat_tensor = confmat(preds = y_preds_tensor, target = test_data.targets)\n",
        "\n",
        "# 3. Plot the confusion matrix\n",
        "fig, ax = plot_confusion_matrix(conf_mat = confmat_tensor.numpy(),\n",
        "                                class_names = class_names,\n",
        "                                figsize = (10, 7),\n",
        "                                show_normed = True,\n",
        "                                colorbar = True,\n",
        "                                cmap = plt.cm.Blues)"
      ]
    },
    {
      "cell_type": "markdown",
      "metadata": {
        "id": "fcnVilgzh3kA"
      },
      "source": [
        "## 11. Save and load best performing model"
      ]
    },
    {
      "cell_type": "code",
      "execution_count": 74,
      "metadata": {
        "colab": {
          "base_uri": "https://localhost:8080/"
        },
        "id": "r0CtNymah6su",
        "outputId": "3a8d0bf6-abd5-4046-da1e-28fbff663a4a"
      },
      "outputs": [
        {
          "name": "stdout",
          "output_type": "stream",
          "text": [
            "Saving model to: models\\03_pytorch_computer_vision_model_2.pth\n"
          ]
        }
      ],
      "source": [
        "from pathlib import Path\n",
        "\n",
        "# Create model directory path\n",
        "MODEL_PATH = Path(\"models\")\n",
        "MODEL_PATH.mkdir(parents = True,\n",
        "                 exist_ok=True)\n",
        "\n",
        "#Create model save path\n",
        "MODEL_NAME = \"03_pytorch_computer_vision_model_2.pth\"\n",
        "MODEL_SAVE_PATH = MODEL_PATH / MODEL_NAME\n",
        "\n",
        "#Save the model state dict\n",
        "print(f\"Saving model to: {MODEL_SAVE_PATH}\")\n",
        "torch.save(obj=model_2.state_dict(),\n",
        "           f = MODEL_SAVE_PATH)"
      ]
    },
    {
      "cell_type": "code",
      "execution_count": 75,
      "metadata": {
        "colab": {
          "base_uri": "https://localhost:8080/"
        },
        "id": "Iul_-dWMqQqu",
        "outputId": "4a1f7548-ade1-4c93-e9e2-1f17577ba70e"
      },
      "outputs": [
        {
          "data": {
            "text/plain": [
              "FashionMNISTModelV2(\n",
              "  (conv_block_1): Sequential(\n",
              "    (0): Conv2d(1, 10, kernel_size=(3, 3), stride=(1, 1), padding=(1, 1))\n",
              "    (1): ReLU()\n",
              "    (2): Conv2d(10, 10, kernel_size=(3, 3), stride=(1, 1), padding=(1, 1))\n",
              "    (3): ReLU()\n",
              "    (4): MaxPool2d(kernel_size=2, stride=2, padding=0, dilation=1, ceil_mode=False)\n",
              "  )\n",
              "  (conv_block_2): Sequential(\n",
              "    (0): Conv2d(10, 10, kernel_size=(3, 3), stride=(1, 1), padding=(1, 1))\n",
              "    (1): ReLU()\n",
              "    (2): Conv2d(10, 10, kernel_size=(3, 3), stride=(1, 1), padding=(1, 1))\n",
              "    (3): ReLU()\n",
              "    (4): MaxPool2d(kernel_size=2, stride=2, padding=0, dilation=1, ceil_mode=False)\n",
              "  )\n",
              "  (classifier): Sequential(\n",
              "    (0): Flatten(start_dim=1, end_dim=-1)\n",
              "    (1): Linear(in_features=490, out_features=10, bias=True)\n",
              "  )\n",
              ")"
            ]
          },
          "execution_count": 75,
          "metadata": {},
          "output_type": "execute_result"
        }
      ],
      "source": [
        "# Create a new instance\n",
        "torch.manual_seed(42)\n",
        "\n",
        "loaded_model_2 = FashionMNISTModelV2(input_shape=1,\n",
        "                                     hidden_units = 10,\n",
        "                                     output_shape=len(class_names))\n",
        "\n",
        "# Load in the save state_dict()\n",
        "loaded_model_2.load_state_dict(torch.load(f = MODEL_SAVE_PATH))\n",
        "\n",
        "# Send the model to target device\n",
        "loaded_model_2.to(device)"
      ]
    },
    {
      "cell_type": "code",
      "execution_count": 76,
      "metadata": {
        "colab": {
          "base_uri": "https://localhost:8080/",
          "height": 49,
          "referenced_widgets": [
            "41ad72a0133b4f8b90d41cb9e8d2d14b",
            "09c89f581e6245ddacc8864ad168a1a8",
            "1e6d862700ab41348bced7525a225044",
            "857b358853334470a5e2e952b559df42",
            "c8cbc2f0301c4429bf87f9dc714b7f43",
            "ea53ed953b8a4685b4d94231ca46f22f",
            "61caf732b5404935a536670b18df105a",
            "fcaca5c2e59c40bcb246082b5279e8ad",
            "dffd262c4eef420291bf37ee8f088012",
            "1000a5c5eb1242d69a28abb42563399f",
            "eb04a8f74baa4398a25a9b10abfb25b3"
          ]
        },
        "id": "c9S1EvwNrGoq",
        "outputId": "d7b68ced-1a8c-4985-d3c3-4d6eba6d3ea4"
      },
      "outputs": [
        {
          "data": {
            "application/vnd.jupyter.widget-view+json": {
              "model_id": "a9b069c35bae48cd8282c25343829e3f",
              "version_major": 2,
              "version_minor": 0
            },
            "text/plain": [
              "  0%|          | 0/313 [00:00<?, ?it/s]"
            ]
          },
          "metadata": {},
          "output_type": "display_data"
        }
      ],
      "source": [
        "# Evaluate loaded model\n",
        "torch.manual_seed(42)\n",
        "\n",
        "loaded_model_2_results = eval_model(\n",
        "    model = loaded_model_2,\n",
        "    data_loader=test_dataloader,\n",
        "    loss_fn=loss_fn,\n",
        "    accuracy_fn=accuracy_fn,\n",
        "    device = device\n",
        ")"
      ]
    },
    {
      "cell_type": "code",
      "execution_count": 77,
      "metadata": {
        "colab": {
          "base_uri": "https://localhost:8080/"
        },
        "id": "wBKjtNXVrRJq",
        "outputId": "d549df1d-b472-4fa3-8dd5-47f1b3c39264"
      },
      "outputs": [
        {
          "data": {
            "text/plain": [
              "{'model_name': 'FashionMNISTModelV2',\n",
              " 'model_loss': 0.33715078234672546,\n",
              " 'model_acc': 87.92931309904154}"
            ]
          },
          "execution_count": 77,
          "metadata": {},
          "output_type": "execute_result"
        }
      ],
      "source": [
        "loaded_model_2_results"
      ]
    },
    {
      "cell_type": "code",
      "execution_count": 78,
      "metadata": {
        "colab": {
          "base_uri": "https://localhost:8080/"
        },
        "id": "tjTs4X_zrVFB",
        "outputId": "4769c268-8a99-4c46-e8da-b395a8d93d60"
      },
      "outputs": [
        {
          "data": {
            "text/plain": [
              "{'model_name': 'FashionMNISTModelV2',\n",
              " 'model_loss': 0.33715078234672546,\n",
              " 'model_acc': 87.92931309904154}"
            ]
          },
          "execution_count": 78,
          "metadata": {},
          "output_type": "execute_result"
        }
      ],
      "source": [
        "model_2_results"
      ]
    },
    {
      "cell_type": "code",
      "execution_count": 79,
      "metadata": {
        "colab": {
          "base_uri": "https://localhost:8080/"
        },
        "id": "AA6CYTPJrXjK",
        "outputId": "fd1338a8-fec4-419c-f5d5-0e884f58692d"
      },
      "outputs": [
        {
          "data": {
            "text/plain": [
              "tensor(True)"
            ]
          },
          "execution_count": 79,
          "metadata": {},
          "output_type": "execute_result"
        }
      ],
      "source": [
        "# Check if model results are close to each other\n",
        "torch.isclose(torch.tensor(model_2_results[\"model_loss\"]),\n",
        "              torch.tensor(loaded_model_2_results[\"model_loss\"]),\n",
        "              atol = 1e-02)"
      ]
    }
  ],
  "metadata": {
    "accelerator": "GPU",
    "colab": {
      "authorship_tag": "ABX9TyNJMoo54bxQbktTSfNzXQRB",
      "gpuType": "T4",
      "include_colab_link": true,
      "provenance": [],
      "toc_visible": true
    },
    "kernelspec": {
      "display_name": "venv",
      "language": "python",
      "name": "python3"
    },
    "language_info": {
      "codemirror_mode": {
        "name": "ipython",
        "version": 3
      },
      "file_extension": ".py",
      "mimetype": "text/x-python",
      "name": "python",
      "nbconvert_exporter": "python",
      "pygments_lexer": "ipython3",
      "version": "3.12.5"
    },
    "widgets": {
      "application/vnd.jupyter.widget-state+json": {
        "004df50bf3964cdcb489a35fb14c71d0": {
          "model_module": "@jupyter-widgets/base",
          "model_module_version": "1.2.0",
          "model_name": "LayoutModel",
          "state": {
            "_model_module": "@jupyter-widgets/base",
            "_model_module_version": "1.2.0",
            "_model_name": "LayoutModel",
            "_view_count": null,
            "_view_module": "@jupyter-widgets/base",
            "_view_module_version": "1.2.0",
            "_view_name": "LayoutView",
            "align_content": null,
            "align_items": null,
            "align_self": null,
            "border": null,
            "bottom": null,
            "display": null,
            "flex": null,
            "flex_flow": null,
            "grid_area": null,
            "grid_auto_columns": null,
            "grid_auto_flow": null,
            "grid_auto_rows": null,
            "grid_column": null,
            "grid_gap": null,
            "grid_row": null,
            "grid_template_areas": null,
            "grid_template_columns": null,
            "grid_template_rows": null,
            "height": null,
            "justify_content": null,
            "justify_items": null,
            "left": null,
            "margin": null,
            "max_height": null,
            "max_width": null,
            "min_height": null,
            "min_width": null,
            "object_fit": null,
            "object_position": null,
            "order": null,
            "overflow": null,
            "overflow_x": null,
            "overflow_y": null,
            "padding": null,
            "right": null,
            "top": null,
            "visibility": null,
            "width": null
          }
        },
        "017a175e3d77471c8935b8728deba38b": {
          "model_module": "@jupyter-widgets/base",
          "model_module_version": "1.2.0",
          "model_name": "LayoutModel",
          "state": {
            "_model_module": "@jupyter-widgets/base",
            "_model_module_version": "1.2.0",
            "_model_name": "LayoutModel",
            "_view_count": null,
            "_view_module": "@jupyter-widgets/base",
            "_view_module_version": "1.2.0",
            "_view_name": "LayoutView",
            "align_content": null,
            "align_items": null,
            "align_self": null,
            "border": null,
            "bottom": null,
            "display": null,
            "flex": null,
            "flex_flow": null,
            "grid_area": null,
            "grid_auto_columns": null,
            "grid_auto_flow": null,
            "grid_auto_rows": null,
            "grid_column": null,
            "grid_gap": null,
            "grid_row": null,
            "grid_template_areas": null,
            "grid_template_columns": null,
            "grid_template_rows": null,
            "height": null,
            "justify_content": null,
            "justify_items": null,
            "left": null,
            "margin": null,
            "max_height": null,
            "max_width": null,
            "min_height": null,
            "min_width": null,
            "object_fit": null,
            "object_position": null,
            "order": null,
            "overflow": null,
            "overflow_x": null,
            "overflow_y": null,
            "padding": null,
            "right": null,
            "top": null,
            "visibility": null,
            "width": null
          }
        },
        "031c3f9e7ec0491cb8a68e9362c21d02": {
          "model_module": "@jupyter-widgets/base",
          "model_module_version": "1.2.0",
          "model_name": "LayoutModel",
          "state": {
            "_model_module": "@jupyter-widgets/base",
            "_model_module_version": "1.2.0",
            "_model_name": "LayoutModel",
            "_view_count": null,
            "_view_module": "@jupyter-widgets/base",
            "_view_module_version": "1.2.0",
            "_view_name": "LayoutView",
            "align_content": null,
            "align_items": null,
            "align_self": null,
            "border": null,
            "bottom": null,
            "display": null,
            "flex": null,
            "flex_flow": null,
            "grid_area": null,
            "grid_auto_columns": null,
            "grid_auto_flow": null,
            "grid_auto_rows": null,
            "grid_column": null,
            "grid_gap": null,
            "grid_row": null,
            "grid_template_areas": null,
            "grid_template_columns": null,
            "grid_template_rows": null,
            "height": null,
            "justify_content": null,
            "justify_items": null,
            "left": null,
            "margin": null,
            "max_height": null,
            "max_width": null,
            "min_height": null,
            "min_width": null,
            "object_fit": null,
            "object_position": null,
            "order": null,
            "overflow": null,
            "overflow_x": null,
            "overflow_y": null,
            "padding": null,
            "right": null,
            "top": null,
            "visibility": null,
            "width": null
          }
        },
        "046a1a4bd69c47caae28470b05c7775d": {
          "model_module": "@jupyter-widgets/controls",
          "model_module_version": "1.5.0",
          "model_name": "ProgressStyleModel",
          "state": {
            "_model_module": "@jupyter-widgets/controls",
            "_model_module_version": "1.5.0",
            "_model_name": "ProgressStyleModel",
            "_view_count": null,
            "_view_module": "@jupyter-widgets/base",
            "_view_module_version": "1.2.0",
            "_view_name": "StyleView",
            "bar_color": null,
            "description_width": ""
          }
        },
        "04e3cc32a88a4a5b83ae907c7d0264b4": {
          "model_module": "@jupyter-widgets/controls",
          "model_module_version": "1.5.0",
          "model_name": "HBoxModel",
          "state": {
            "_dom_classes": [],
            "_model_module": "@jupyter-widgets/controls",
            "_model_module_version": "1.5.0",
            "_model_name": "HBoxModel",
            "_view_count": null,
            "_view_module": "@jupyter-widgets/controls",
            "_view_module_version": "1.5.0",
            "_view_name": "HBoxView",
            "box_style": "",
            "children": [
              "IPY_MODEL_d71505d74b5440f98de98761417bf44b",
              "IPY_MODEL_f43c6d661e8941d1b2dc5330db83172f",
              "IPY_MODEL_80e4362bba8f43629514161bfab752e2"
            ],
            "layout": "IPY_MODEL_a5ac817fd4dd40fbbddd7dcb79b28310"
          }
        },
        "04f6fcf8fde94472a845feec29ad7fb2": {
          "model_module": "@jupyter-widgets/base",
          "model_module_version": "1.2.0",
          "model_name": "LayoutModel",
          "state": {
            "_model_module": "@jupyter-widgets/base",
            "_model_module_version": "1.2.0",
            "_model_name": "LayoutModel",
            "_view_count": null,
            "_view_module": "@jupyter-widgets/base",
            "_view_module_version": "1.2.0",
            "_view_name": "LayoutView",
            "align_content": null,
            "align_items": null,
            "align_self": null,
            "border": null,
            "bottom": null,
            "display": null,
            "flex": null,
            "flex_flow": null,
            "grid_area": null,
            "grid_auto_columns": null,
            "grid_auto_flow": null,
            "grid_auto_rows": null,
            "grid_column": null,
            "grid_gap": null,
            "grid_row": null,
            "grid_template_areas": null,
            "grid_template_columns": null,
            "grid_template_rows": null,
            "height": null,
            "justify_content": null,
            "justify_items": null,
            "left": null,
            "margin": null,
            "max_height": null,
            "max_width": null,
            "min_height": null,
            "min_width": null,
            "object_fit": null,
            "object_position": null,
            "order": null,
            "overflow": null,
            "overflow_x": null,
            "overflow_y": null,
            "padding": null,
            "right": null,
            "top": null,
            "visibility": null,
            "width": null
          }
        },
        "051a9abd14db4858b80bd05ff894f5be": {
          "model_module": "@jupyter-widgets/base",
          "model_module_version": "1.2.0",
          "model_name": "LayoutModel",
          "state": {
            "_model_module": "@jupyter-widgets/base",
            "_model_module_version": "1.2.0",
            "_model_name": "LayoutModel",
            "_view_count": null,
            "_view_module": "@jupyter-widgets/base",
            "_view_module_version": "1.2.0",
            "_view_name": "LayoutView",
            "align_content": null,
            "align_items": null,
            "align_self": null,
            "border": null,
            "bottom": null,
            "display": null,
            "flex": null,
            "flex_flow": null,
            "grid_area": null,
            "grid_auto_columns": null,
            "grid_auto_flow": null,
            "grid_auto_rows": null,
            "grid_column": null,
            "grid_gap": null,
            "grid_row": null,
            "grid_template_areas": null,
            "grid_template_columns": null,
            "grid_template_rows": null,
            "height": null,
            "justify_content": null,
            "justify_items": null,
            "left": null,
            "margin": null,
            "max_height": null,
            "max_width": null,
            "min_height": null,
            "min_width": null,
            "object_fit": null,
            "object_position": null,
            "order": null,
            "overflow": null,
            "overflow_x": null,
            "overflow_y": null,
            "padding": null,
            "right": null,
            "top": null,
            "visibility": null,
            "width": null
          }
        },
        "05a02489acd043fb8d4ef8240217298c": {
          "model_module": "@jupyter-widgets/base",
          "model_module_version": "1.2.0",
          "model_name": "LayoutModel",
          "state": {
            "_model_module": "@jupyter-widgets/base",
            "_model_module_version": "1.2.0",
            "_model_name": "LayoutModel",
            "_view_count": null,
            "_view_module": "@jupyter-widgets/base",
            "_view_module_version": "1.2.0",
            "_view_name": "LayoutView",
            "align_content": null,
            "align_items": null,
            "align_self": null,
            "border": null,
            "bottom": null,
            "display": null,
            "flex": null,
            "flex_flow": null,
            "grid_area": null,
            "grid_auto_columns": null,
            "grid_auto_flow": null,
            "grid_auto_rows": null,
            "grid_column": null,
            "grid_gap": null,
            "grid_row": null,
            "grid_template_areas": null,
            "grid_template_columns": null,
            "grid_template_rows": null,
            "height": null,
            "justify_content": null,
            "justify_items": null,
            "left": null,
            "margin": null,
            "max_height": null,
            "max_width": null,
            "min_height": null,
            "min_width": null,
            "object_fit": null,
            "object_position": null,
            "order": null,
            "overflow": null,
            "overflow_x": null,
            "overflow_y": null,
            "padding": null,
            "right": null,
            "top": null,
            "visibility": null,
            "width": null
          }
        },
        "05bb6a0119da462aad95d7f9dcfe4e62": {
          "model_module": "@jupyter-widgets/base",
          "model_module_version": "1.2.0",
          "model_name": "LayoutModel",
          "state": {
            "_model_module": "@jupyter-widgets/base",
            "_model_module_version": "1.2.0",
            "_model_name": "LayoutModel",
            "_view_count": null,
            "_view_module": "@jupyter-widgets/base",
            "_view_module_version": "1.2.0",
            "_view_name": "LayoutView",
            "align_content": null,
            "align_items": null,
            "align_self": null,
            "border": null,
            "bottom": null,
            "display": null,
            "flex": null,
            "flex_flow": null,
            "grid_area": null,
            "grid_auto_columns": null,
            "grid_auto_flow": null,
            "grid_auto_rows": null,
            "grid_column": null,
            "grid_gap": null,
            "grid_row": null,
            "grid_template_areas": null,
            "grid_template_columns": null,
            "grid_template_rows": null,
            "height": null,
            "justify_content": null,
            "justify_items": null,
            "left": null,
            "margin": null,
            "max_height": null,
            "max_width": null,
            "min_height": null,
            "min_width": null,
            "object_fit": null,
            "object_position": null,
            "order": null,
            "overflow": null,
            "overflow_x": null,
            "overflow_y": null,
            "padding": null,
            "right": null,
            "top": null,
            "visibility": null,
            "width": null
          }
        },
        "06664e8f39ec4ccd8f9810f034d7a68c": {
          "model_module": "@jupyter-widgets/controls",
          "model_module_version": "1.5.0",
          "model_name": "DescriptionStyleModel",
          "state": {
            "_model_module": "@jupyter-widgets/controls",
            "_model_module_version": "1.5.0",
            "_model_name": "DescriptionStyleModel",
            "_view_count": null,
            "_view_module": "@jupyter-widgets/base",
            "_view_module_version": "1.2.0",
            "_view_name": "StyleView",
            "description_width": ""
          }
        },
        "070987404bd649099cafa871b50cb8bc": {
          "model_module": "@jupyter-widgets/base",
          "model_module_version": "1.2.0",
          "model_name": "LayoutModel",
          "state": {
            "_model_module": "@jupyter-widgets/base",
            "_model_module_version": "1.2.0",
            "_model_name": "LayoutModel",
            "_view_count": null,
            "_view_module": "@jupyter-widgets/base",
            "_view_module_version": "1.2.0",
            "_view_name": "LayoutView",
            "align_content": null,
            "align_items": null,
            "align_self": null,
            "border": null,
            "bottom": null,
            "display": null,
            "flex": null,
            "flex_flow": null,
            "grid_area": null,
            "grid_auto_columns": null,
            "grid_auto_flow": null,
            "grid_auto_rows": null,
            "grid_column": null,
            "grid_gap": null,
            "grid_row": null,
            "grid_template_areas": null,
            "grid_template_columns": null,
            "grid_template_rows": null,
            "height": null,
            "justify_content": null,
            "justify_items": null,
            "left": null,
            "margin": null,
            "max_height": null,
            "max_width": null,
            "min_height": null,
            "min_width": null,
            "object_fit": null,
            "object_position": null,
            "order": null,
            "overflow": null,
            "overflow_x": null,
            "overflow_y": null,
            "padding": null,
            "right": null,
            "top": null,
            "visibility": null,
            "width": null
          }
        },
        "09c89f581e6245ddacc8864ad168a1a8": {
          "model_module": "@jupyter-widgets/controls",
          "model_module_version": "1.5.0",
          "model_name": "HTMLModel",
          "state": {
            "_dom_classes": [],
            "_model_module": "@jupyter-widgets/controls",
            "_model_module_version": "1.5.0",
            "_model_name": "HTMLModel",
            "_view_count": null,
            "_view_module": "@jupyter-widgets/controls",
            "_view_module_version": "1.5.0",
            "_view_name": "HTMLView",
            "description": "",
            "description_tooltip": null,
            "layout": "IPY_MODEL_ea53ed953b8a4685b4d94231ca46f22f",
            "placeholder": "​",
            "style": "IPY_MODEL_61caf732b5404935a536670b18df105a",
            "value": "100%"
          }
        },
        "0a1eb480e9b74e5c81eba75aa69cfba2": {
          "model_module": "@jupyter-widgets/controls",
          "model_module_version": "1.5.0",
          "model_name": "HTMLModel",
          "state": {
            "_dom_classes": [],
            "_model_module": "@jupyter-widgets/controls",
            "_model_module_version": "1.5.0",
            "_model_name": "HTMLModel",
            "_view_count": null,
            "_view_module": "@jupyter-widgets/controls",
            "_view_module_version": "1.5.0",
            "_view_name": "HTMLView",
            "description": "",
            "description_tooltip": null,
            "layout": "IPY_MODEL_017a175e3d77471c8935b8728deba38b",
            "placeholder": "​",
            "style": "IPY_MODEL_90c9197a45b04a1984219ac0cbd7984a",
            "value": " 313/313 [00:03&lt;00:00, 81.57it/s]"
          }
        },
        "0e78392abe5d4779b4a6022cd8b6a06b": {
          "model_module": "@jupyter-widgets/controls",
          "model_module_version": "1.5.0",
          "model_name": "HTMLModel",
          "state": {
            "_dom_classes": [],
            "_model_module": "@jupyter-widgets/controls",
            "_model_module_version": "1.5.0",
            "_model_name": "HTMLModel",
            "_view_count": null,
            "_view_module": "@jupyter-widgets/controls",
            "_view_module_version": "1.5.0",
            "_view_name": "HTMLView",
            "description": "",
            "description_tooltip": null,
            "layout": "IPY_MODEL_3366aeeb7e7242f28a2d4c3b17844845",
            "placeholder": "​",
            "style": "IPY_MODEL_19cfe7fffe3746e38eb518f404510f0f",
            "value": " 313/313 [00:01&lt;00:00, 286.13it/s]"
          }
        },
        "0f5afc162cf147dca002219be7089496": {
          "model_module": "@jupyter-widgets/base",
          "model_module_version": "1.2.0",
          "model_name": "LayoutModel",
          "state": {
            "_model_module": "@jupyter-widgets/base",
            "_model_module_version": "1.2.0",
            "_model_name": "LayoutModel",
            "_view_count": null,
            "_view_module": "@jupyter-widgets/base",
            "_view_module_version": "1.2.0",
            "_view_name": "LayoutView",
            "align_content": null,
            "align_items": null,
            "align_self": null,
            "border": null,
            "bottom": null,
            "display": null,
            "flex": null,
            "flex_flow": null,
            "grid_area": null,
            "grid_auto_columns": null,
            "grid_auto_flow": null,
            "grid_auto_rows": null,
            "grid_column": null,
            "grid_gap": null,
            "grid_row": null,
            "grid_template_areas": null,
            "grid_template_columns": null,
            "grid_template_rows": null,
            "height": null,
            "justify_content": null,
            "justify_items": null,
            "left": null,
            "margin": null,
            "max_height": null,
            "max_width": null,
            "min_height": null,
            "min_width": null,
            "object_fit": null,
            "object_position": null,
            "order": null,
            "overflow": null,
            "overflow_x": null,
            "overflow_y": null,
            "padding": null,
            "right": null,
            "top": null,
            "visibility": null,
            "width": null
          }
        },
        "1000a5c5eb1242d69a28abb42563399f": {
          "model_module": "@jupyter-widgets/base",
          "model_module_version": "1.2.0",
          "model_name": "LayoutModel",
          "state": {
            "_model_module": "@jupyter-widgets/base",
            "_model_module_version": "1.2.0",
            "_model_name": "LayoutModel",
            "_view_count": null,
            "_view_module": "@jupyter-widgets/base",
            "_view_module_version": "1.2.0",
            "_view_name": "LayoutView",
            "align_content": null,
            "align_items": null,
            "align_self": null,
            "border": null,
            "bottom": null,
            "display": null,
            "flex": null,
            "flex_flow": null,
            "grid_area": null,
            "grid_auto_columns": null,
            "grid_auto_flow": null,
            "grid_auto_rows": null,
            "grid_column": null,
            "grid_gap": null,
            "grid_row": null,
            "grid_template_areas": null,
            "grid_template_columns": null,
            "grid_template_rows": null,
            "height": null,
            "justify_content": null,
            "justify_items": null,
            "left": null,
            "margin": null,
            "max_height": null,
            "max_width": null,
            "min_height": null,
            "min_width": null,
            "object_fit": null,
            "object_position": null,
            "order": null,
            "overflow": null,
            "overflow_x": null,
            "overflow_y": null,
            "padding": null,
            "right": null,
            "top": null,
            "visibility": null,
            "width": null
          }
        },
        "130320122687486b8bbfbcf870b94b1b": {
          "model_module": "@jupyter-widgets/base",
          "model_module_version": "1.2.0",
          "model_name": "LayoutModel",
          "state": {
            "_model_module": "@jupyter-widgets/base",
            "_model_module_version": "1.2.0",
            "_model_name": "LayoutModel",
            "_view_count": null,
            "_view_module": "@jupyter-widgets/base",
            "_view_module_version": "1.2.0",
            "_view_name": "LayoutView",
            "align_content": null,
            "align_items": null,
            "align_self": null,
            "border": null,
            "bottom": null,
            "display": null,
            "flex": null,
            "flex_flow": null,
            "grid_area": null,
            "grid_auto_columns": null,
            "grid_auto_flow": null,
            "grid_auto_rows": null,
            "grid_column": null,
            "grid_gap": null,
            "grid_row": null,
            "grid_template_areas": null,
            "grid_template_columns": null,
            "grid_template_rows": null,
            "height": null,
            "justify_content": null,
            "justify_items": null,
            "left": null,
            "margin": null,
            "max_height": null,
            "max_width": null,
            "min_height": null,
            "min_width": null,
            "object_fit": null,
            "object_position": null,
            "order": null,
            "overflow": null,
            "overflow_x": null,
            "overflow_y": null,
            "padding": null,
            "right": null,
            "top": null,
            "visibility": null,
            "width": null
          }
        },
        "1750ca98ab204bf0a849a14c0a0790eb": {
          "model_module": "@jupyter-widgets/base",
          "model_module_version": "1.2.0",
          "model_name": "LayoutModel",
          "state": {
            "_model_module": "@jupyter-widgets/base",
            "_model_module_version": "1.2.0",
            "_model_name": "LayoutModel",
            "_view_count": null,
            "_view_module": "@jupyter-widgets/base",
            "_view_module_version": "1.2.0",
            "_view_name": "LayoutView",
            "align_content": null,
            "align_items": null,
            "align_self": null,
            "border": null,
            "bottom": null,
            "display": null,
            "flex": null,
            "flex_flow": null,
            "grid_area": null,
            "grid_auto_columns": null,
            "grid_auto_flow": null,
            "grid_auto_rows": null,
            "grid_column": null,
            "grid_gap": null,
            "grid_row": null,
            "grid_template_areas": null,
            "grid_template_columns": null,
            "grid_template_rows": null,
            "height": null,
            "justify_content": null,
            "justify_items": null,
            "left": null,
            "margin": null,
            "max_height": null,
            "max_width": null,
            "min_height": null,
            "min_width": null,
            "object_fit": null,
            "object_position": null,
            "order": null,
            "overflow": null,
            "overflow_x": null,
            "overflow_y": null,
            "padding": null,
            "right": null,
            "top": null,
            "visibility": null,
            "width": null
          }
        },
        "19174d5f455c4f10bd1301c52851e487": {
          "model_module": "@jupyter-widgets/controls",
          "model_module_version": "1.5.0",
          "model_name": "DescriptionStyleModel",
          "state": {
            "_model_module": "@jupyter-widgets/controls",
            "_model_module_version": "1.5.0",
            "_model_name": "DescriptionStyleModel",
            "_view_count": null,
            "_view_module": "@jupyter-widgets/base",
            "_view_module_version": "1.2.0",
            "_view_name": "StyleView",
            "description_width": ""
          }
        },
        "19cae0f3ee7a471fa6d1a92c97604914": {
          "model_module": "@jupyter-widgets/controls",
          "model_module_version": "1.5.0",
          "model_name": "FloatProgressModel",
          "state": {
            "_dom_classes": [],
            "_model_module": "@jupyter-widgets/controls",
            "_model_module_version": "1.5.0",
            "_model_name": "FloatProgressModel",
            "_view_count": null,
            "_view_module": "@jupyter-widgets/controls",
            "_view_module_version": "1.5.0",
            "_view_name": "ProgressView",
            "bar_style": "success",
            "description": "",
            "description_tooltip": null,
            "layout": "IPY_MODEL_6a2194267c074e818d8b2bdd08893789",
            "max": 3,
            "min": 0,
            "orientation": "horizontal",
            "style": "IPY_MODEL_74b1b8cef58d47bca9646dd33ba9369b",
            "value": 3
          }
        },
        "19cfe7fffe3746e38eb518f404510f0f": {
          "model_module": "@jupyter-widgets/controls",
          "model_module_version": "1.5.0",
          "model_name": "DescriptionStyleModel",
          "state": {
            "_model_module": "@jupyter-widgets/controls",
            "_model_module_version": "1.5.0",
            "_model_name": "DescriptionStyleModel",
            "_view_count": null,
            "_view_module": "@jupyter-widgets/base",
            "_view_module_version": "1.2.0",
            "_view_name": "StyleView",
            "description_width": ""
          }
        },
        "1b7435163f73433c956701bafd1cedc5": {
          "model_module": "@jupyter-widgets/controls",
          "model_module_version": "1.5.0",
          "model_name": "DescriptionStyleModel",
          "state": {
            "_model_module": "@jupyter-widgets/controls",
            "_model_module_version": "1.5.0",
            "_model_name": "DescriptionStyleModel",
            "_view_count": null,
            "_view_module": "@jupyter-widgets/base",
            "_view_module_version": "1.2.0",
            "_view_name": "StyleView",
            "description_width": ""
          }
        },
        "1b9d97efcb1543dabbbe9e652c272112": {
          "model_module": "@jupyter-widgets/controls",
          "model_module_version": "1.5.0",
          "model_name": "HTMLModel",
          "state": {
            "_dom_classes": [],
            "_model_module": "@jupyter-widgets/controls",
            "_model_module_version": "1.5.0",
            "_model_name": "HTMLModel",
            "_view_count": null,
            "_view_module": "@jupyter-widgets/controls",
            "_view_module_version": "1.5.0",
            "_view_name": "HTMLView",
            "description": "",
            "description_tooltip": null,
            "layout": "IPY_MODEL_355a442aa6c34f239ed9b58c74f454d8",
            "placeholder": "​",
            "style": "IPY_MODEL_d9e61fb877f444a1bfbcfd9f4d8a0abe",
            "value": "100%"
          }
        },
        "1d18e519057a4552ad1c2b0c1af8da36": {
          "model_module": "@jupyter-widgets/base",
          "model_module_version": "1.2.0",
          "model_name": "LayoutModel",
          "state": {
            "_model_module": "@jupyter-widgets/base",
            "_model_module_version": "1.2.0",
            "_model_name": "LayoutModel",
            "_view_count": null,
            "_view_module": "@jupyter-widgets/base",
            "_view_module_version": "1.2.0",
            "_view_name": "LayoutView",
            "align_content": null,
            "align_items": null,
            "align_self": null,
            "border": null,
            "bottom": null,
            "display": null,
            "flex": null,
            "flex_flow": null,
            "grid_area": null,
            "grid_auto_columns": null,
            "grid_auto_flow": null,
            "grid_auto_rows": null,
            "grid_column": null,
            "grid_gap": null,
            "grid_row": null,
            "grid_template_areas": null,
            "grid_template_columns": null,
            "grid_template_rows": null,
            "height": null,
            "justify_content": null,
            "justify_items": null,
            "left": null,
            "margin": null,
            "max_height": null,
            "max_width": null,
            "min_height": null,
            "min_width": null,
            "object_fit": null,
            "object_position": null,
            "order": null,
            "overflow": null,
            "overflow_x": null,
            "overflow_y": null,
            "padding": null,
            "right": null,
            "top": null,
            "visibility": null,
            "width": null
          }
        },
        "1e6d862700ab41348bced7525a225044": {
          "model_module": "@jupyter-widgets/controls",
          "model_module_version": "1.5.0",
          "model_name": "FloatProgressModel",
          "state": {
            "_dom_classes": [],
            "_model_module": "@jupyter-widgets/controls",
            "_model_module_version": "1.5.0",
            "_model_name": "FloatProgressModel",
            "_view_count": null,
            "_view_module": "@jupyter-widgets/controls",
            "_view_module_version": "1.5.0",
            "_view_name": "ProgressView",
            "bar_style": "success",
            "description": "",
            "description_tooltip": null,
            "layout": "IPY_MODEL_fcaca5c2e59c40bcb246082b5279e8ad",
            "max": 313,
            "min": 0,
            "orientation": "horizontal",
            "style": "IPY_MODEL_dffd262c4eef420291bf37ee8f088012",
            "value": 313
          }
        },
        "1e8e691d95064085b0eb60c499698ec3": {
          "model_module": "@jupyter-widgets/base",
          "model_module_version": "1.2.0",
          "model_name": "LayoutModel",
          "state": {
            "_model_module": "@jupyter-widgets/base",
            "_model_module_version": "1.2.0",
            "_model_name": "LayoutModel",
            "_view_count": null,
            "_view_module": "@jupyter-widgets/base",
            "_view_module_version": "1.2.0",
            "_view_name": "LayoutView",
            "align_content": null,
            "align_items": null,
            "align_self": null,
            "border": null,
            "bottom": null,
            "display": null,
            "flex": null,
            "flex_flow": null,
            "grid_area": null,
            "grid_auto_columns": null,
            "grid_auto_flow": null,
            "grid_auto_rows": null,
            "grid_column": null,
            "grid_gap": null,
            "grid_row": null,
            "grid_template_areas": null,
            "grid_template_columns": null,
            "grid_template_rows": null,
            "height": null,
            "justify_content": null,
            "justify_items": null,
            "left": null,
            "margin": null,
            "max_height": null,
            "max_width": null,
            "min_height": null,
            "min_width": null,
            "object_fit": null,
            "object_position": null,
            "order": null,
            "overflow": null,
            "overflow_x": null,
            "overflow_y": null,
            "padding": null,
            "right": null,
            "top": null,
            "visibility": null,
            "width": null
          }
        },
        "1f44374018ca4b27a5682694514ecf8f": {
          "model_module": "@jupyter-widgets/base",
          "model_module_version": "1.2.0",
          "model_name": "LayoutModel",
          "state": {
            "_model_module": "@jupyter-widgets/base",
            "_model_module_version": "1.2.0",
            "_model_name": "LayoutModel",
            "_view_count": null,
            "_view_module": "@jupyter-widgets/base",
            "_view_module_version": "1.2.0",
            "_view_name": "LayoutView",
            "align_content": null,
            "align_items": null,
            "align_self": null,
            "border": null,
            "bottom": null,
            "display": null,
            "flex": null,
            "flex_flow": null,
            "grid_area": null,
            "grid_auto_columns": null,
            "grid_auto_flow": null,
            "grid_auto_rows": null,
            "grid_column": null,
            "grid_gap": null,
            "grid_row": null,
            "grid_template_areas": null,
            "grid_template_columns": null,
            "grid_template_rows": null,
            "height": null,
            "justify_content": null,
            "justify_items": null,
            "left": null,
            "margin": null,
            "max_height": null,
            "max_width": null,
            "min_height": null,
            "min_width": null,
            "object_fit": null,
            "object_position": null,
            "order": null,
            "overflow": null,
            "overflow_x": null,
            "overflow_y": null,
            "padding": null,
            "right": null,
            "top": null,
            "visibility": null,
            "width": null
          }
        },
        "213607a36ce24e58a643f94c9414b1dd": {
          "model_module": "@jupyter-widgets/controls",
          "model_module_version": "1.5.0",
          "model_name": "DescriptionStyleModel",
          "state": {
            "_model_module": "@jupyter-widgets/controls",
            "_model_module_version": "1.5.0",
            "_model_name": "DescriptionStyleModel",
            "_view_count": null,
            "_view_module": "@jupyter-widgets/base",
            "_view_module_version": "1.2.0",
            "_view_name": "StyleView",
            "description_width": ""
          }
        },
        "21563435ac194104a5f4ff84ff5d1b98": {
          "model_module": "@jupyter-widgets/controls",
          "model_module_version": "1.5.0",
          "model_name": "HTMLModel",
          "state": {
            "_dom_classes": [],
            "_model_module": "@jupyter-widgets/controls",
            "_model_module_version": "1.5.0",
            "_model_name": "HTMLModel",
            "_view_count": null,
            "_view_module": "@jupyter-widgets/controls",
            "_view_module_version": "1.5.0",
            "_view_name": "HTMLView",
            "description": "",
            "description_tooltip": null,
            "layout": "IPY_MODEL_130320122687486b8bbfbcf870b94b1b",
            "placeholder": "​",
            "style": "IPY_MODEL_5fed4d8e26d44a9ebdebccde30f7ba6a",
            "value": "100%"
          }
        },
        "2c6fe10afe75494296ea2a7c517d06d3": {
          "model_module": "@jupyter-widgets/controls",
          "model_module_version": "1.5.0",
          "model_name": "FloatProgressModel",
          "state": {
            "_dom_classes": [],
            "_model_module": "@jupyter-widgets/controls",
            "_model_module_version": "1.5.0",
            "_model_name": "FloatProgressModel",
            "_view_count": null,
            "_view_module": "@jupyter-widgets/controls",
            "_view_module_version": "1.5.0",
            "_view_name": "ProgressView",
            "bar_style": "success",
            "description": "",
            "description_tooltip": null,
            "layout": "IPY_MODEL_edcd222f3e8a41489476f3a399c7acee",
            "max": 313,
            "min": 0,
            "orientation": "horizontal",
            "style": "IPY_MODEL_046a1a4bd69c47caae28470b05c7775d",
            "value": 313
          }
        },
        "2fd74c03168041c6a6ea7772b4fb76a5": {
          "model_module": "@jupyter-widgets/base",
          "model_module_version": "1.2.0",
          "model_name": "LayoutModel",
          "state": {
            "_model_module": "@jupyter-widgets/base",
            "_model_module_version": "1.2.0",
            "_model_name": "LayoutModel",
            "_view_count": null,
            "_view_module": "@jupyter-widgets/base",
            "_view_module_version": "1.2.0",
            "_view_name": "LayoutView",
            "align_content": null,
            "align_items": null,
            "align_self": null,
            "border": null,
            "bottom": null,
            "display": null,
            "flex": null,
            "flex_flow": null,
            "grid_area": null,
            "grid_auto_columns": null,
            "grid_auto_flow": null,
            "grid_auto_rows": null,
            "grid_column": null,
            "grid_gap": null,
            "grid_row": null,
            "grid_template_areas": null,
            "grid_template_columns": null,
            "grid_template_rows": null,
            "height": null,
            "justify_content": null,
            "justify_items": null,
            "left": null,
            "margin": null,
            "max_height": null,
            "max_width": null,
            "min_height": null,
            "min_width": null,
            "object_fit": null,
            "object_position": null,
            "order": null,
            "overflow": null,
            "overflow_x": null,
            "overflow_y": null,
            "padding": null,
            "right": null,
            "top": null,
            "visibility": null,
            "width": null
          }
        },
        "3366aeeb7e7242f28a2d4c3b17844845": {
          "model_module": "@jupyter-widgets/base",
          "model_module_version": "1.2.0",
          "model_name": "LayoutModel",
          "state": {
            "_model_module": "@jupyter-widgets/base",
            "_model_module_version": "1.2.0",
            "_model_name": "LayoutModel",
            "_view_count": null,
            "_view_module": "@jupyter-widgets/base",
            "_view_module_version": "1.2.0",
            "_view_name": "LayoutView",
            "align_content": null,
            "align_items": null,
            "align_self": null,
            "border": null,
            "bottom": null,
            "display": null,
            "flex": null,
            "flex_flow": null,
            "grid_area": null,
            "grid_auto_columns": null,
            "grid_auto_flow": null,
            "grid_auto_rows": null,
            "grid_column": null,
            "grid_gap": null,
            "grid_row": null,
            "grid_template_areas": null,
            "grid_template_columns": null,
            "grid_template_rows": null,
            "height": null,
            "justify_content": null,
            "justify_items": null,
            "left": null,
            "margin": null,
            "max_height": null,
            "max_width": null,
            "min_height": null,
            "min_width": null,
            "object_fit": null,
            "object_position": null,
            "order": null,
            "overflow": null,
            "overflow_x": null,
            "overflow_y": null,
            "padding": null,
            "right": null,
            "top": null,
            "visibility": null,
            "width": null
          }
        },
        "35567e88ccaa49c7828f3191df2a3c74": {
          "model_module": "@jupyter-widgets/base",
          "model_module_version": "1.2.0",
          "model_name": "LayoutModel",
          "state": {
            "_model_module": "@jupyter-widgets/base",
            "_model_module_version": "1.2.0",
            "_model_name": "LayoutModel",
            "_view_count": null,
            "_view_module": "@jupyter-widgets/base",
            "_view_module_version": "1.2.0",
            "_view_name": "LayoutView",
            "align_content": null,
            "align_items": null,
            "align_self": null,
            "border": null,
            "bottom": null,
            "display": null,
            "flex": null,
            "flex_flow": null,
            "grid_area": null,
            "grid_auto_columns": null,
            "grid_auto_flow": null,
            "grid_auto_rows": null,
            "grid_column": null,
            "grid_gap": null,
            "grid_row": null,
            "grid_template_areas": null,
            "grid_template_columns": null,
            "grid_template_rows": null,
            "height": null,
            "justify_content": null,
            "justify_items": null,
            "left": null,
            "margin": null,
            "max_height": null,
            "max_width": null,
            "min_height": null,
            "min_width": null,
            "object_fit": null,
            "object_position": null,
            "order": null,
            "overflow": null,
            "overflow_x": null,
            "overflow_y": null,
            "padding": null,
            "right": null,
            "top": null,
            "visibility": null,
            "width": null
          }
        },
        "355a442aa6c34f239ed9b58c74f454d8": {
          "model_module": "@jupyter-widgets/base",
          "model_module_version": "1.2.0",
          "model_name": "LayoutModel",
          "state": {
            "_model_module": "@jupyter-widgets/base",
            "_model_module_version": "1.2.0",
            "_model_name": "LayoutModel",
            "_view_count": null,
            "_view_module": "@jupyter-widgets/base",
            "_view_module_version": "1.2.0",
            "_view_name": "LayoutView",
            "align_content": null,
            "align_items": null,
            "align_self": null,
            "border": null,
            "bottom": null,
            "display": null,
            "flex": null,
            "flex_flow": null,
            "grid_area": null,
            "grid_auto_columns": null,
            "grid_auto_flow": null,
            "grid_auto_rows": null,
            "grid_column": null,
            "grid_gap": null,
            "grid_row": null,
            "grid_template_areas": null,
            "grid_template_columns": null,
            "grid_template_rows": null,
            "height": null,
            "justify_content": null,
            "justify_items": null,
            "left": null,
            "margin": null,
            "max_height": null,
            "max_width": null,
            "min_height": null,
            "min_width": null,
            "object_fit": null,
            "object_position": null,
            "order": null,
            "overflow": null,
            "overflow_x": null,
            "overflow_y": null,
            "padding": null,
            "right": null,
            "top": null,
            "visibility": null,
            "width": null
          }
        },
        "36754b78be874d8e9d52bca9b9e32937": {
          "model_module": "@jupyter-widgets/controls",
          "model_module_version": "1.5.0",
          "model_name": "FloatProgressModel",
          "state": {
            "_dom_classes": [],
            "_model_module": "@jupyter-widgets/controls",
            "_model_module_version": "1.5.0",
            "_model_name": "FloatProgressModel",
            "_view_count": null,
            "_view_module": "@jupyter-widgets/controls",
            "_view_module_version": "1.5.0",
            "_view_name": "ProgressView",
            "bar_style": "success",
            "description": "",
            "description_tooltip": null,
            "layout": "IPY_MODEL_1d18e519057a4552ad1c2b0c1af8da36",
            "max": 313,
            "min": 0,
            "orientation": "horizontal",
            "style": "IPY_MODEL_476b3e1246fd4d4d920ff6c3f2e56366",
            "value": 313
          }
        },
        "36f7a7a2ce3b47a1a5585fc96155662f": {
          "model_module": "@jupyter-widgets/base",
          "model_module_version": "1.2.0",
          "model_name": "LayoutModel",
          "state": {
            "_model_module": "@jupyter-widgets/base",
            "_model_module_version": "1.2.0",
            "_model_name": "LayoutModel",
            "_view_count": null,
            "_view_module": "@jupyter-widgets/base",
            "_view_module_version": "1.2.0",
            "_view_name": "LayoutView",
            "align_content": null,
            "align_items": null,
            "align_self": null,
            "border": null,
            "bottom": null,
            "display": null,
            "flex": null,
            "flex_flow": null,
            "grid_area": null,
            "grid_auto_columns": null,
            "grid_auto_flow": null,
            "grid_auto_rows": null,
            "grid_column": null,
            "grid_gap": null,
            "grid_row": null,
            "grid_template_areas": null,
            "grid_template_columns": null,
            "grid_template_rows": null,
            "height": null,
            "justify_content": null,
            "justify_items": null,
            "left": null,
            "margin": null,
            "max_height": null,
            "max_width": null,
            "min_height": null,
            "min_width": null,
            "object_fit": null,
            "object_position": null,
            "order": null,
            "overflow": null,
            "overflow_x": null,
            "overflow_y": null,
            "padding": null,
            "right": null,
            "top": null,
            "visibility": null,
            "width": null
          }
        },
        "378d2f48e1d74efa9305f36fa1b26c43": {
          "model_module": "@jupyter-widgets/controls",
          "model_module_version": "1.5.0",
          "model_name": "HTMLModel",
          "state": {
            "_dom_classes": [],
            "_model_module": "@jupyter-widgets/controls",
            "_model_module_version": "1.5.0",
            "_model_name": "HTMLModel",
            "_view_count": null,
            "_view_module": "@jupyter-widgets/controls",
            "_view_module_version": "1.5.0",
            "_view_name": "HTMLView",
            "description": "",
            "description_tooltip": null,
            "layout": "IPY_MODEL_55cff771e5bc45059ba4ef56fa98717a",
            "placeholder": "​",
            "style": "IPY_MODEL_213607a36ce24e58a643f94c9414b1dd",
            "value": "100%"
          }
        },
        "37b064f79b4b48baa2d9191c661f89e3": {
          "model_module": "@jupyter-widgets/base",
          "model_module_version": "1.2.0",
          "model_name": "LayoutModel",
          "state": {
            "_model_module": "@jupyter-widgets/base",
            "_model_module_version": "1.2.0",
            "_model_name": "LayoutModel",
            "_view_count": null,
            "_view_module": "@jupyter-widgets/base",
            "_view_module_version": "1.2.0",
            "_view_name": "LayoutView",
            "align_content": null,
            "align_items": null,
            "align_self": null,
            "border": null,
            "bottom": null,
            "display": null,
            "flex": null,
            "flex_flow": null,
            "grid_area": null,
            "grid_auto_columns": null,
            "grid_auto_flow": null,
            "grid_auto_rows": null,
            "grid_column": null,
            "grid_gap": null,
            "grid_row": null,
            "grid_template_areas": null,
            "grid_template_columns": null,
            "grid_template_rows": null,
            "height": null,
            "justify_content": null,
            "justify_items": null,
            "left": null,
            "margin": null,
            "max_height": null,
            "max_width": null,
            "min_height": null,
            "min_width": null,
            "object_fit": null,
            "object_position": null,
            "order": null,
            "overflow": null,
            "overflow_x": null,
            "overflow_y": null,
            "padding": null,
            "right": null,
            "top": null,
            "visibility": null,
            "width": null
          }
        },
        "3bd13a109ee2404cbd5e5a53d889f33f": {
          "model_module": "@jupyter-widgets/controls",
          "model_module_version": "1.5.0",
          "model_name": "DescriptionStyleModel",
          "state": {
            "_model_module": "@jupyter-widgets/controls",
            "_model_module_version": "1.5.0",
            "_model_name": "DescriptionStyleModel",
            "_view_count": null,
            "_view_module": "@jupyter-widgets/base",
            "_view_module_version": "1.2.0",
            "_view_name": "StyleView",
            "description_width": ""
          }
        },
        "3dbf6412144d408c8265d948448072d8": {
          "model_module": "@jupyter-widgets/controls",
          "model_module_version": "1.5.0",
          "model_name": "ProgressStyleModel",
          "state": {
            "_model_module": "@jupyter-widgets/controls",
            "_model_module_version": "1.5.0",
            "_model_name": "ProgressStyleModel",
            "_view_count": null,
            "_view_module": "@jupyter-widgets/base",
            "_view_module_version": "1.2.0",
            "_view_name": "StyleView",
            "bar_color": null,
            "description_width": ""
          }
        },
        "3dfd324a918340e7aa495bb36ec9e71f": {
          "model_module": "@jupyter-widgets/controls",
          "model_module_version": "1.5.0",
          "model_name": "HBoxModel",
          "state": {
            "_dom_classes": [],
            "_model_module": "@jupyter-widgets/controls",
            "_model_module_version": "1.5.0",
            "_model_name": "HBoxModel",
            "_view_count": null,
            "_view_module": "@jupyter-widgets/controls",
            "_view_module_version": "1.5.0",
            "_view_name": "HBoxView",
            "box_style": "",
            "children": [
              "IPY_MODEL_1b9d97efcb1543dabbbe9e652c272112",
              "IPY_MODEL_86a2a946260d4c789f660d19ceb579b5",
              "IPY_MODEL_0e78392abe5d4779b4a6022cd8b6a06b"
            ],
            "layout": "IPY_MODEL_37b064f79b4b48baa2d9191c661f89e3"
          }
        },
        "41ad72a0133b4f8b90d41cb9e8d2d14b": {
          "model_module": "@jupyter-widgets/controls",
          "model_module_version": "1.5.0",
          "model_name": "HBoxModel",
          "state": {
            "_dom_classes": [],
            "_model_module": "@jupyter-widgets/controls",
            "_model_module_version": "1.5.0",
            "_model_name": "HBoxModel",
            "_view_count": null,
            "_view_module": "@jupyter-widgets/controls",
            "_view_module_version": "1.5.0",
            "_view_name": "HBoxView",
            "box_style": "",
            "children": [
              "IPY_MODEL_09c89f581e6245ddacc8864ad168a1a8",
              "IPY_MODEL_1e6d862700ab41348bced7525a225044",
              "IPY_MODEL_857b358853334470a5e2e952b559df42"
            ],
            "layout": "IPY_MODEL_c8cbc2f0301c4429bf87f9dc714b7f43"
          }
        },
        "436149406f22414e8632541be43b6dfa": {
          "model_module": "@jupyter-widgets/controls",
          "model_module_version": "1.5.0",
          "model_name": "FloatProgressModel",
          "state": {
            "_dom_classes": [],
            "_model_module": "@jupyter-widgets/controls",
            "_model_module_version": "1.5.0",
            "_model_name": "FloatProgressModel",
            "_view_count": null,
            "_view_module": "@jupyter-widgets/controls",
            "_view_module_version": "1.5.0",
            "_view_name": "ProgressView",
            "bar_style": "success",
            "description": "",
            "description_tooltip": null,
            "layout": "IPY_MODEL_ad5d6391d552417e880577ddde969626",
            "max": 313,
            "min": 0,
            "orientation": "horizontal",
            "style": "IPY_MODEL_75a13d94362441f09c79d0cd2f2a9ca5",
            "value": 313
          }
        },
        "44f4ddfd40ca4037aa8f74951a43d236": {
          "model_module": "@jupyter-widgets/controls",
          "model_module_version": "1.5.0",
          "model_name": "HTMLModel",
          "state": {
            "_dom_classes": [],
            "_model_module": "@jupyter-widgets/controls",
            "_model_module_version": "1.5.0",
            "_model_name": "HTMLModel",
            "_view_count": null,
            "_view_module": "@jupyter-widgets/controls",
            "_view_module_version": "1.5.0",
            "_view_name": "HTMLView",
            "description": "",
            "description_tooltip": null,
            "layout": "IPY_MODEL_8aff16f37f0b43c8b7643cd7cee7b3fe",
            "placeholder": "​",
            "style": "IPY_MODEL_19174d5f455c4f10bd1301c52851e487",
            "value": " 313/313 [00:01&lt;00:00, 286.13it/s]"
          }
        },
        "45a4e4c06fdd499fa899db3ce99b1da8": {
          "model_module": "@jupyter-widgets/controls",
          "model_module_version": "1.5.0",
          "model_name": "DescriptionStyleModel",
          "state": {
            "_model_module": "@jupyter-widgets/controls",
            "_model_module_version": "1.5.0",
            "_model_name": "DescriptionStyleModel",
            "_view_count": null,
            "_view_module": "@jupyter-widgets/base",
            "_view_module_version": "1.2.0",
            "_view_name": "StyleView",
            "description_width": ""
          }
        },
        "476b3e1246fd4d4d920ff6c3f2e56366": {
          "model_module": "@jupyter-widgets/controls",
          "model_module_version": "1.5.0",
          "model_name": "ProgressStyleModel",
          "state": {
            "_model_module": "@jupyter-widgets/controls",
            "_model_module_version": "1.5.0",
            "_model_name": "ProgressStyleModel",
            "_view_count": null,
            "_view_module": "@jupyter-widgets/base",
            "_view_module_version": "1.2.0",
            "_view_name": "StyleView",
            "bar_color": null,
            "description_width": ""
          }
        },
        "4b40141f607e49d888d7892db10fe814": {
          "model_module": "@jupyter-widgets/controls",
          "model_module_version": "1.5.0",
          "model_name": "HTMLModel",
          "state": {
            "_dom_classes": [],
            "_model_module": "@jupyter-widgets/controls",
            "_model_module_version": "1.5.0",
            "_model_name": "HTMLModel",
            "_view_count": null,
            "_view_module": "@jupyter-widgets/controls",
            "_view_module_version": "1.5.0",
            "_view_name": "HTMLView",
            "description": "",
            "description_tooltip": null,
            "layout": "IPY_MODEL_ac0dafcc407a4da29d5437db8654cc36",
            "placeholder": "​",
            "style": "IPY_MODEL_9150cc4e2bfa472da8fe62a176a189c7",
            "value": " 313/313 [00:03&lt;00:00, 82.17it/s]"
          }
        },
        "4bc0b368de1d4c3e99877588790e2210": {
          "model_module": "@jupyter-widgets/base",
          "model_module_version": "1.2.0",
          "model_name": "LayoutModel",
          "state": {
            "_model_module": "@jupyter-widgets/base",
            "_model_module_version": "1.2.0",
            "_model_name": "LayoutModel",
            "_view_count": null,
            "_view_module": "@jupyter-widgets/base",
            "_view_module_version": "1.2.0",
            "_view_name": "LayoutView",
            "align_content": null,
            "align_items": null,
            "align_self": null,
            "border": null,
            "bottom": null,
            "display": null,
            "flex": null,
            "flex_flow": null,
            "grid_area": null,
            "grid_auto_columns": null,
            "grid_auto_flow": null,
            "grid_auto_rows": null,
            "grid_column": null,
            "grid_gap": null,
            "grid_row": null,
            "grid_template_areas": null,
            "grid_template_columns": null,
            "grid_template_rows": null,
            "height": null,
            "justify_content": null,
            "justify_items": null,
            "left": null,
            "margin": null,
            "max_height": null,
            "max_width": null,
            "min_height": null,
            "min_width": null,
            "object_fit": null,
            "object_position": null,
            "order": null,
            "overflow": null,
            "overflow_x": null,
            "overflow_y": null,
            "padding": null,
            "right": null,
            "top": null,
            "visibility": null,
            "width": null
          }
        },
        "4d7f6a4de63344268d96e9d24b89ba8e": {
          "model_module": "@jupyter-widgets/base",
          "model_module_version": "1.2.0",
          "model_name": "LayoutModel",
          "state": {
            "_model_module": "@jupyter-widgets/base",
            "_model_module_version": "1.2.0",
            "_model_name": "LayoutModel",
            "_view_count": null,
            "_view_module": "@jupyter-widgets/base",
            "_view_module_version": "1.2.0",
            "_view_name": "LayoutView",
            "align_content": null,
            "align_items": null,
            "align_self": null,
            "border": null,
            "bottom": null,
            "display": null,
            "flex": null,
            "flex_flow": null,
            "grid_area": null,
            "grid_auto_columns": null,
            "grid_auto_flow": null,
            "grid_auto_rows": null,
            "grid_column": null,
            "grid_gap": null,
            "grid_row": null,
            "grid_template_areas": null,
            "grid_template_columns": null,
            "grid_template_rows": null,
            "height": null,
            "justify_content": null,
            "justify_items": null,
            "left": null,
            "margin": null,
            "max_height": null,
            "max_width": null,
            "min_height": null,
            "min_width": null,
            "object_fit": null,
            "object_position": null,
            "order": null,
            "overflow": null,
            "overflow_x": null,
            "overflow_y": null,
            "padding": null,
            "right": null,
            "top": null,
            "visibility": null,
            "width": null
          }
        },
        "55cff771e5bc45059ba4ef56fa98717a": {
          "model_module": "@jupyter-widgets/base",
          "model_module_version": "1.2.0",
          "model_name": "LayoutModel",
          "state": {
            "_model_module": "@jupyter-widgets/base",
            "_model_module_version": "1.2.0",
            "_model_name": "LayoutModel",
            "_view_count": null,
            "_view_module": "@jupyter-widgets/base",
            "_view_module_version": "1.2.0",
            "_view_name": "LayoutView",
            "align_content": null,
            "align_items": null,
            "align_self": null,
            "border": null,
            "bottom": null,
            "display": null,
            "flex": null,
            "flex_flow": null,
            "grid_area": null,
            "grid_auto_columns": null,
            "grid_auto_flow": null,
            "grid_auto_rows": null,
            "grid_column": null,
            "grid_gap": null,
            "grid_row": null,
            "grid_template_areas": null,
            "grid_template_columns": null,
            "grid_template_rows": null,
            "height": null,
            "justify_content": null,
            "justify_items": null,
            "left": null,
            "margin": null,
            "max_height": null,
            "max_width": null,
            "min_height": null,
            "min_width": null,
            "object_fit": null,
            "object_position": null,
            "order": null,
            "overflow": null,
            "overflow_x": null,
            "overflow_y": null,
            "padding": null,
            "right": null,
            "top": null,
            "visibility": null,
            "width": null
          }
        },
        "58606b657fa347b28b25603ae9aa099a": {
          "model_module": "@jupyter-widgets/controls",
          "model_module_version": "1.5.0",
          "model_name": "DescriptionStyleModel",
          "state": {
            "_model_module": "@jupyter-widgets/controls",
            "_model_module_version": "1.5.0",
            "_model_name": "DescriptionStyleModel",
            "_view_count": null,
            "_view_module": "@jupyter-widgets/base",
            "_view_module_version": "1.2.0",
            "_view_name": "StyleView",
            "description_width": ""
          }
        },
        "59a37914b0c74977946cbff6f6cc8279": {
          "model_module": "@jupyter-widgets/controls",
          "model_module_version": "1.5.0",
          "model_name": "HTMLModel",
          "state": {
            "_dom_classes": [],
            "_model_module": "@jupyter-widgets/controls",
            "_model_module_version": "1.5.0",
            "_model_name": "HTMLModel",
            "_view_count": null,
            "_view_module": "@jupyter-widgets/controls",
            "_view_module_version": "1.5.0",
            "_view_name": "HTMLView",
            "description": "",
            "description_tooltip": null,
            "layout": "IPY_MODEL_767ecdbd9b2a4eeb9ab882c1c38f7daf",
            "placeholder": "​",
            "style": "IPY_MODEL_610d32df756c415fb09abed4eb912236",
            "value": "100%"
          }
        },
        "5aa20747fa22456da116f14232764bb3": {
          "model_module": "@jupyter-widgets/controls",
          "model_module_version": "1.5.0",
          "model_name": "HTMLModel",
          "state": {
            "_dom_classes": [],
            "_model_module": "@jupyter-widgets/controls",
            "_model_module_version": "1.5.0",
            "_model_name": "HTMLModel",
            "_view_count": null,
            "_view_module": "@jupyter-widgets/controls",
            "_view_module_version": "1.5.0",
            "_view_name": "HTMLView",
            "description": "",
            "description_tooltip": null,
            "layout": "IPY_MODEL_88996e603c22473482ece200cfd1a8f4",
            "placeholder": "​",
            "style": "IPY_MODEL_06664e8f39ec4ccd8f9810f034d7a68c",
            "value": " 313/313 [00:01&lt;00:00, 198.30it/s]"
          }
        },
        "5d4edac7d0e246d6bd8acbc0a55c3927": {
          "model_module": "@jupyter-widgets/base",
          "model_module_version": "1.2.0",
          "model_name": "LayoutModel",
          "state": {
            "_model_module": "@jupyter-widgets/base",
            "_model_module_version": "1.2.0",
            "_model_name": "LayoutModel",
            "_view_count": null,
            "_view_module": "@jupyter-widgets/base",
            "_view_module_version": "1.2.0",
            "_view_name": "LayoutView",
            "align_content": null,
            "align_items": null,
            "align_self": null,
            "border": null,
            "bottom": null,
            "display": null,
            "flex": null,
            "flex_flow": null,
            "grid_area": null,
            "grid_auto_columns": null,
            "grid_auto_flow": null,
            "grid_auto_rows": null,
            "grid_column": null,
            "grid_gap": null,
            "grid_row": null,
            "grid_template_areas": null,
            "grid_template_columns": null,
            "grid_template_rows": null,
            "height": null,
            "justify_content": null,
            "justify_items": null,
            "left": null,
            "margin": null,
            "max_height": null,
            "max_width": null,
            "min_height": null,
            "min_width": null,
            "object_fit": null,
            "object_position": null,
            "order": null,
            "overflow": null,
            "overflow_x": null,
            "overflow_y": null,
            "padding": null,
            "right": null,
            "top": null,
            "visibility": null,
            "width": null
          }
        },
        "5fed4d8e26d44a9ebdebccde30f7ba6a": {
          "model_module": "@jupyter-widgets/controls",
          "model_module_version": "1.5.0",
          "model_name": "DescriptionStyleModel",
          "state": {
            "_model_module": "@jupyter-widgets/controls",
            "_model_module_version": "1.5.0",
            "_model_name": "DescriptionStyleModel",
            "_view_count": null,
            "_view_module": "@jupyter-widgets/base",
            "_view_module_version": "1.2.0",
            "_view_name": "StyleView",
            "description_width": ""
          }
        },
        "610d32df756c415fb09abed4eb912236": {
          "model_module": "@jupyter-widgets/controls",
          "model_module_version": "1.5.0",
          "model_name": "DescriptionStyleModel",
          "state": {
            "_model_module": "@jupyter-widgets/controls",
            "_model_module_version": "1.5.0",
            "_model_name": "DescriptionStyleModel",
            "_view_count": null,
            "_view_module": "@jupyter-widgets/base",
            "_view_module_version": "1.2.0",
            "_view_name": "StyleView",
            "description_width": ""
          }
        },
        "61caf732b5404935a536670b18df105a": {
          "model_module": "@jupyter-widgets/controls",
          "model_module_version": "1.5.0",
          "model_name": "DescriptionStyleModel",
          "state": {
            "_model_module": "@jupyter-widgets/controls",
            "_model_module_version": "1.5.0",
            "_model_name": "DescriptionStyleModel",
            "_view_count": null,
            "_view_module": "@jupyter-widgets/base",
            "_view_module_version": "1.2.0",
            "_view_name": "StyleView",
            "description_width": ""
          }
        },
        "639d9ec782df44a6ad5edb8c59a0bcb2": {
          "model_module": "@jupyter-widgets/controls",
          "model_module_version": "1.5.0",
          "model_name": "FloatProgressModel",
          "state": {
            "_dom_classes": [],
            "_model_module": "@jupyter-widgets/controls",
            "_model_module_version": "1.5.0",
            "_model_name": "FloatProgressModel",
            "_view_count": null,
            "_view_module": "@jupyter-widgets/controls",
            "_view_module_version": "1.5.0",
            "_view_name": "ProgressView",
            "bar_style": "success",
            "description": "",
            "description_tooltip": null,
            "layout": "IPY_MODEL_051a9abd14db4858b80bd05ff894f5be",
            "max": 313,
            "min": 0,
            "orientation": "horizontal",
            "style": "IPY_MODEL_e6fba31e826f49adae1a4a481f871889",
            "value": 313
          }
        },
        "651a28e7b08e49e9b6e4ef754ce88d47": {
          "model_module": "@jupyter-widgets/controls",
          "model_module_version": "1.5.0",
          "model_name": "ProgressStyleModel",
          "state": {
            "_model_module": "@jupyter-widgets/controls",
            "_model_module_version": "1.5.0",
            "_model_name": "ProgressStyleModel",
            "_view_count": null,
            "_view_module": "@jupyter-widgets/base",
            "_view_module_version": "1.2.0",
            "_view_name": "StyleView",
            "bar_color": null,
            "description_width": ""
          }
        },
        "6a2194267c074e818d8b2bdd08893789": {
          "model_module": "@jupyter-widgets/base",
          "model_module_version": "1.2.0",
          "model_name": "LayoutModel",
          "state": {
            "_model_module": "@jupyter-widgets/base",
            "_model_module_version": "1.2.0",
            "_model_name": "LayoutModel",
            "_view_count": null,
            "_view_module": "@jupyter-widgets/base",
            "_view_module_version": "1.2.0",
            "_view_name": "LayoutView",
            "align_content": null,
            "align_items": null,
            "align_self": null,
            "border": null,
            "bottom": null,
            "display": null,
            "flex": null,
            "flex_flow": null,
            "grid_area": null,
            "grid_auto_columns": null,
            "grid_auto_flow": null,
            "grid_auto_rows": null,
            "grid_column": null,
            "grid_gap": null,
            "grid_row": null,
            "grid_template_areas": null,
            "grid_template_columns": null,
            "grid_template_rows": null,
            "height": null,
            "justify_content": null,
            "justify_items": null,
            "left": null,
            "margin": null,
            "max_height": null,
            "max_width": null,
            "min_height": null,
            "min_width": null,
            "object_fit": null,
            "object_position": null,
            "order": null,
            "overflow": null,
            "overflow_x": null,
            "overflow_y": null,
            "padding": null,
            "right": null,
            "top": null,
            "visibility": null,
            "width": null
          }
        },
        "6a271df70a3f4c9ab0a33a1ccb9a6e2d": {
          "model_module": "@jupyter-widgets/base",
          "model_module_version": "1.2.0",
          "model_name": "LayoutModel",
          "state": {
            "_model_module": "@jupyter-widgets/base",
            "_model_module_version": "1.2.0",
            "_model_name": "LayoutModel",
            "_view_count": null,
            "_view_module": "@jupyter-widgets/base",
            "_view_module_version": "1.2.0",
            "_view_name": "LayoutView",
            "align_content": null,
            "align_items": null,
            "align_self": null,
            "border": null,
            "bottom": null,
            "display": null,
            "flex": null,
            "flex_flow": null,
            "grid_area": null,
            "grid_auto_columns": null,
            "grid_auto_flow": null,
            "grid_auto_rows": null,
            "grid_column": null,
            "grid_gap": null,
            "grid_row": null,
            "grid_template_areas": null,
            "grid_template_columns": null,
            "grid_template_rows": null,
            "height": null,
            "justify_content": null,
            "justify_items": null,
            "left": null,
            "margin": null,
            "max_height": null,
            "max_width": null,
            "min_height": null,
            "min_width": null,
            "object_fit": null,
            "object_position": null,
            "order": null,
            "overflow": null,
            "overflow_x": null,
            "overflow_y": null,
            "padding": null,
            "right": null,
            "top": null,
            "visibility": null,
            "width": null
          }
        },
        "70fb91abeaed43e6ba61472d4962c52c": {
          "model_module": "@jupyter-widgets/controls",
          "model_module_version": "1.5.0",
          "model_name": "FloatProgressModel",
          "state": {
            "_dom_classes": [],
            "_model_module": "@jupyter-widgets/controls",
            "_model_module_version": "1.5.0",
            "_model_name": "FloatProgressModel",
            "_view_count": null,
            "_view_module": "@jupyter-widgets/controls",
            "_view_module_version": "1.5.0",
            "_view_name": "ProgressView",
            "bar_style": "success",
            "description": "",
            "description_tooltip": null,
            "layout": "IPY_MODEL_4bc0b368de1d4c3e99877588790e2210",
            "max": 313,
            "min": 0,
            "orientation": "horizontal",
            "style": "IPY_MODEL_99bd329137b7446ca57d5fbdb142f38f",
            "value": 313
          }
        },
        "719451ad32d041c3a96e64a7b53277c6": {
          "model_module": "@jupyter-widgets/base",
          "model_module_version": "1.2.0",
          "model_name": "LayoutModel",
          "state": {
            "_model_module": "@jupyter-widgets/base",
            "_model_module_version": "1.2.0",
            "_model_name": "LayoutModel",
            "_view_count": null,
            "_view_module": "@jupyter-widgets/base",
            "_view_module_version": "1.2.0",
            "_view_name": "LayoutView",
            "align_content": null,
            "align_items": null,
            "align_self": null,
            "border": null,
            "bottom": null,
            "display": null,
            "flex": null,
            "flex_flow": null,
            "grid_area": null,
            "grid_auto_columns": null,
            "grid_auto_flow": null,
            "grid_auto_rows": null,
            "grid_column": null,
            "grid_gap": null,
            "grid_row": null,
            "grid_template_areas": null,
            "grid_template_columns": null,
            "grid_template_rows": null,
            "height": null,
            "justify_content": null,
            "justify_items": null,
            "left": null,
            "margin": null,
            "max_height": null,
            "max_width": null,
            "min_height": null,
            "min_width": null,
            "object_fit": null,
            "object_position": null,
            "order": null,
            "overflow": null,
            "overflow_x": null,
            "overflow_y": null,
            "padding": null,
            "right": null,
            "top": null,
            "visibility": null,
            "width": null
          }
        },
        "73fe04a9bc72426f9a81bb9df0774ca6": {
          "model_module": "@jupyter-widgets/controls",
          "model_module_version": "1.5.0",
          "model_name": "HBoxModel",
          "state": {
            "_dom_classes": [],
            "_model_module": "@jupyter-widgets/controls",
            "_model_module_version": "1.5.0",
            "_model_name": "HBoxModel",
            "_view_count": null,
            "_view_module": "@jupyter-widgets/controls",
            "_view_module_version": "1.5.0",
            "_view_name": "HBoxView",
            "box_style": "",
            "children": [
              "IPY_MODEL_a8eb266ed34943b0b255f1e6c5bdbef5",
              "IPY_MODEL_19cae0f3ee7a471fa6d1a92c97604914",
              "IPY_MODEL_8c481b324d654e7e9531c16bd3b5803f"
            ],
            "layout": "IPY_MODEL_031c3f9e7ec0491cb8a68e9362c21d02"
          }
        },
        "74b1b8cef58d47bca9646dd33ba9369b": {
          "model_module": "@jupyter-widgets/controls",
          "model_module_version": "1.5.0",
          "model_name": "ProgressStyleModel",
          "state": {
            "_model_module": "@jupyter-widgets/controls",
            "_model_module_version": "1.5.0",
            "_model_name": "ProgressStyleModel",
            "_view_count": null,
            "_view_module": "@jupyter-widgets/base",
            "_view_module_version": "1.2.0",
            "_view_name": "StyleView",
            "bar_color": null,
            "description_width": ""
          }
        },
        "75054eb2805f4a4880cddffcaf7f5286": {
          "model_module": "@jupyter-widgets/controls",
          "model_module_version": "1.5.0",
          "model_name": "HBoxModel",
          "state": {
            "_dom_classes": [],
            "_model_module": "@jupyter-widgets/controls",
            "_model_module_version": "1.5.0",
            "_model_name": "HBoxModel",
            "_view_count": null,
            "_view_module": "@jupyter-widgets/controls",
            "_view_module_version": "1.5.0",
            "_view_name": "HBoxView",
            "box_style": "",
            "children": [
              "IPY_MODEL_59a37914b0c74977946cbff6f6cc8279",
              "IPY_MODEL_70fb91abeaed43e6ba61472d4962c52c",
              "IPY_MODEL_0a1eb480e9b74e5c81eba75aa69cfba2"
            ],
            "layout": "IPY_MODEL_e76380b86b9743caa1f78294f945407d"
          }
        },
        "75a13d94362441f09c79d0cd2f2a9ca5": {
          "model_module": "@jupyter-widgets/controls",
          "model_module_version": "1.5.0",
          "model_name": "ProgressStyleModel",
          "state": {
            "_model_module": "@jupyter-widgets/controls",
            "_model_module_version": "1.5.0",
            "_model_name": "ProgressStyleModel",
            "_view_count": null,
            "_view_module": "@jupyter-widgets/base",
            "_view_module_version": "1.2.0",
            "_view_name": "StyleView",
            "bar_color": null,
            "description_width": ""
          }
        },
        "767ecdbd9b2a4eeb9ab882c1c38f7daf": {
          "model_module": "@jupyter-widgets/base",
          "model_module_version": "1.2.0",
          "model_name": "LayoutModel",
          "state": {
            "_model_module": "@jupyter-widgets/base",
            "_model_module_version": "1.2.0",
            "_model_name": "LayoutModel",
            "_view_count": null,
            "_view_module": "@jupyter-widgets/base",
            "_view_module_version": "1.2.0",
            "_view_name": "LayoutView",
            "align_content": null,
            "align_items": null,
            "align_self": null,
            "border": null,
            "bottom": null,
            "display": null,
            "flex": null,
            "flex_flow": null,
            "grid_area": null,
            "grid_auto_columns": null,
            "grid_auto_flow": null,
            "grid_auto_rows": null,
            "grid_column": null,
            "grid_gap": null,
            "grid_row": null,
            "grid_template_areas": null,
            "grid_template_columns": null,
            "grid_template_rows": null,
            "height": null,
            "justify_content": null,
            "justify_items": null,
            "left": null,
            "margin": null,
            "max_height": null,
            "max_width": null,
            "min_height": null,
            "min_width": null,
            "object_fit": null,
            "object_position": null,
            "order": null,
            "overflow": null,
            "overflow_x": null,
            "overflow_y": null,
            "padding": null,
            "right": null,
            "top": null,
            "visibility": null,
            "width": null
          }
        },
        "77945f919fcf4c31b88cd888519cdec6": {
          "model_module": "@jupyter-widgets/base",
          "model_module_version": "1.2.0",
          "model_name": "LayoutModel",
          "state": {
            "_model_module": "@jupyter-widgets/base",
            "_model_module_version": "1.2.0",
            "_model_name": "LayoutModel",
            "_view_count": null,
            "_view_module": "@jupyter-widgets/base",
            "_view_module_version": "1.2.0",
            "_view_name": "LayoutView",
            "align_content": null,
            "align_items": null,
            "align_self": null,
            "border": null,
            "bottom": null,
            "display": null,
            "flex": null,
            "flex_flow": null,
            "grid_area": null,
            "grid_auto_columns": null,
            "grid_auto_flow": null,
            "grid_auto_rows": null,
            "grid_column": null,
            "grid_gap": null,
            "grid_row": null,
            "grid_template_areas": null,
            "grid_template_columns": null,
            "grid_template_rows": null,
            "height": null,
            "justify_content": null,
            "justify_items": null,
            "left": null,
            "margin": null,
            "max_height": null,
            "max_width": null,
            "min_height": null,
            "min_width": null,
            "object_fit": null,
            "object_position": null,
            "order": null,
            "overflow": null,
            "overflow_x": null,
            "overflow_y": null,
            "padding": null,
            "right": null,
            "top": null,
            "visibility": null,
            "width": null
          }
        },
        "789417be01b4476285e760d043889954": {
          "model_module": "@jupyter-widgets/controls",
          "model_module_version": "1.5.0",
          "model_name": "FloatProgressModel",
          "state": {
            "_dom_classes": [],
            "_model_module": "@jupyter-widgets/controls",
            "_model_module_version": "1.5.0",
            "_model_name": "FloatProgressModel",
            "_view_count": null,
            "_view_module": "@jupyter-widgets/controls",
            "_view_module_version": "1.5.0",
            "_view_name": "ProgressView",
            "bar_style": "success",
            "description": "",
            "description_tooltip": null,
            "layout": "IPY_MODEL_2fd74c03168041c6a6ea7772b4fb76a5",
            "max": 313,
            "min": 0,
            "orientation": "horizontal",
            "style": "IPY_MODEL_3dbf6412144d408c8265d948448072d8",
            "value": 313
          }
        },
        "7d4216f540284138b16b271b8c4bc022": {
          "model_module": "@jupyter-widgets/base",
          "model_module_version": "1.2.0",
          "model_name": "LayoutModel",
          "state": {
            "_model_module": "@jupyter-widgets/base",
            "_model_module_version": "1.2.0",
            "_model_name": "LayoutModel",
            "_view_count": null,
            "_view_module": "@jupyter-widgets/base",
            "_view_module_version": "1.2.0",
            "_view_name": "LayoutView",
            "align_content": null,
            "align_items": null,
            "align_self": null,
            "border": null,
            "bottom": null,
            "display": null,
            "flex": null,
            "flex_flow": null,
            "grid_area": null,
            "grid_auto_columns": null,
            "grid_auto_flow": null,
            "grid_auto_rows": null,
            "grid_column": null,
            "grid_gap": null,
            "grid_row": null,
            "grid_template_areas": null,
            "grid_template_columns": null,
            "grid_template_rows": null,
            "height": null,
            "justify_content": null,
            "justify_items": null,
            "left": null,
            "margin": null,
            "max_height": null,
            "max_width": null,
            "min_height": null,
            "min_width": null,
            "object_fit": null,
            "object_position": null,
            "order": null,
            "overflow": null,
            "overflow_x": null,
            "overflow_y": null,
            "padding": null,
            "right": null,
            "top": null,
            "visibility": null,
            "width": null
          }
        },
        "7e7e7f4f1fc340e0bc025c9de5f4b0f2": {
          "model_module": "@jupyter-widgets/controls",
          "model_module_version": "1.5.0",
          "model_name": "DescriptionStyleModel",
          "state": {
            "_model_module": "@jupyter-widgets/controls",
            "_model_module_version": "1.5.0",
            "_model_name": "DescriptionStyleModel",
            "_view_count": null,
            "_view_module": "@jupyter-widgets/base",
            "_view_module_version": "1.2.0",
            "_view_name": "StyleView",
            "description_width": ""
          }
        },
        "80e4362bba8f43629514161bfab752e2": {
          "model_module": "@jupyter-widgets/controls",
          "model_module_version": "1.5.0",
          "model_name": "HTMLModel",
          "state": {
            "_dom_classes": [],
            "_model_module": "@jupyter-widgets/controls",
            "_model_module_version": "1.5.0",
            "_model_name": "HTMLModel",
            "_view_count": null,
            "_view_module": "@jupyter-widgets/controls",
            "_view_module_version": "1.5.0",
            "_view_name": "HTMLView",
            "description": "",
            "description_tooltip": null,
            "layout": "IPY_MODEL_f636776c9bfa433a8119b39100bc64ad",
            "placeholder": "​",
            "style": "IPY_MODEL_ac669f3c26294bfe8a7dfc262b42ce36",
            "value": " 313/313 [00:04&lt;00:00, 85.46it/s]"
          }
        },
        "857b358853334470a5e2e952b559df42": {
          "model_module": "@jupyter-widgets/controls",
          "model_module_version": "1.5.0",
          "model_name": "HTMLModel",
          "state": {
            "_dom_classes": [],
            "_model_module": "@jupyter-widgets/controls",
            "_model_module_version": "1.5.0",
            "_model_name": "HTMLModel",
            "_view_count": null,
            "_view_module": "@jupyter-widgets/controls",
            "_view_module_version": "1.5.0",
            "_view_name": "HTMLView",
            "description": "",
            "description_tooltip": null,
            "layout": "IPY_MODEL_1000a5c5eb1242d69a28abb42563399f",
            "placeholder": "​",
            "style": "IPY_MODEL_eb04a8f74baa4398a25a9b10abfb25b3",
            "value": " 313/313 [00:07&lt;00:00, 34.17it/s]"
          }
        },
        "86a2a946260d4c789f660d19ceb579b5": {
          "model_module": "@jupyter-widgets/controls",
          "model_module_version": "1.5.0",
          "model_name": "FloatProgressModel",
          "state": {
            "_dom_classes": [],
            "_model_module": "@jupyter-widgets/controls",
            "_model_module_version": "1.5.0",
            "_model_name": "FloatProgressModel",
            "_view_count": null,
            "_view_module": "@jupyter-widgets/controls",
            "_view_module_version": "1.5.0",
            "_view_name": "ProgressView",
            "bar_style": "success",
            "description": "",
            "description_tooltip": null,
            "layout": "IPY_MODEL_35567e88ccaa49c7828f3191df2a3c74",
            "max": 313,
            "min": 0,
            "orientation": "horizontal",
            "style": "IPY_MODEL_651a28e7b08e49e9b6e4ef754ce88d47",
            "value": 313
          }
        },
        "88996e603c22473482ece200cfd1a8f4": {
          "model_module": "@jupyter-widgets/base",
          "model_module_version": "1.2.0",
          "model_name": "LayoutModel",
          "state": {
            "_model_module": "@jupyter-widgets/base",
            "_model_module_version": "1.2.0",
            "_model_name": "LayoutModel",
            "_view_count": null,
            "_view_module": "@jupyter-widgets/base",
            "_view_module_version": "1.2.0",
            "_view_name": "LayoutView",
            "align_content": null,
            "align_items": null,
            "align_self": null,
            "border": null,
            "bottom": null,
            "display": null,
            "flex": null,
            "flex_flow": null,
            "grid_area": null,
            "grid_auto_columns": null,
            "grid_auto_flow": null,
            "grid_auto_rows": null,
            "grid_column": null,
            "grid_gap": null,
            "grid_row": null,
            "grid_template_areas": null,
            "grid_template_columns": null,
            "grid_template_rows": null,
            "height": null,
            "justify_content": null,
            "justify_items": null,
            "left": null,
            "margin": null,
            "max_height": null,
            "max_width": null,
            "min_height": null,
            "min_width": null,
            "object_fit": null,
            "object_position": null,
            "order": null,
            "overflow": null,
            "overflow_x": null,
            "overflow_y": null,
            "padding": null,
            "right": null,
            "top": null,
            "visibility": null,
            "width": null
          }
        },
        "8aff16f37f0b43c8b7643cd7cee7b3fe": {
          "model_module": "@jupyter-widgets/base",
          "model_module_version": "1.2.0",
          "model_name": "LayoutModel",
          "state": {
            "_model_module": "@jupyter-widgets/base",
            "_model_module_version": "1.2.0",
            "_model_name": "LayoutModel",
            "_view_count": null,
            "_view_module": "@jupyter-widgets/base",
            "_view_module_version": "1.2.0",
            "_view_name": "LayoutView",
            "align_content": null,
            "align_items": null,
            "align_self": null,
            "border": null,
            "bottom": null,
            "display": null,
            "flex": null,
            "flex_flow": null,
            "grid_area": null,
            "grid_auto_columns": null,
            "grid_auto_flow": null,
            "grid_auto_rows": null,
            "grid_column": null,
            "grid_gap": null,
            "grid_row": null,
            "grid_template_areas": null,
            "grid_template_columns": null,
            "grid_template_rows": null,
            "height": null,
            "justify_content": null,
            "justify_items": null,
            "left": null,
            "margin": null,
            "max_height": null,
            "max_width": null,
            "min_height": null,
            "min_width": null,
            "object_fit": null,
            "object_position": null,
            "order": null,
            "overflow": null,
            "overflow_x": null,
            "overflow_y": null,
            "padding": null,
            "right": null,
            "top": null,
            "visibility": null,
            "width": null
          }
        },
        "8c481b324d654e7e9531c16bd3b5803f": {
          "model_module": "@jupyter-widgets/controls",
          "model_module_version": "1.5.0",
          "model_name": "HTMLModel",
          "state": {
            "_dom_classes": [],
            "_model_module": "@jupyter-widgets/controls",
            "_model_module_version": "1.5.0",
            "_model_name": "HTMLModel",
            "_view_count": null,
            "_view_module": "@jupyter-widgets/controls",
            "_view_module_version": "1.5.0",
            "_view_name": "HTMLView",
            "description": "",
            "description_tooltip": null,
            "layout": "IPY_MODEL_05a02489acd043fb8d4ef8240217298c",
            "placeholder": "​",
            "style": "IPY_MODEL_c332493862634343a5e9c5f380adddd2",
            "value": " 3/3 [00:29&lt;00:00,  9.81s/it]"
          }
        },
        "8ca5401a9bca4ef38cde761232008262": {
          "model_module": "@jupyter-widgets/controls",
          "model_module_version": "1.5.0",
          "model_name": "HTMLModel",
          "state": {
            "_dom_classes": [],
            "_model_module": "@jupyter-widgets/controls",
            "_model_module_version": "1.5.0",
            "_model_name": "HTMLModel",
            "_view_count": null,
            "_view_module": "@jupyter-widgets/controls",
            "_view_module_version": "1.5.0",
            "_view_name": "HTMLView",
            "description": "",
            "description_tooltip": null,
            "layout": "IPY_MODEL_05bb6a0119da462aad95d7f9dcfe4e62",
            "placeholder": "​",
            "style": "IPY_MODEL_e62f19569ff74550aea1797b65f7d172",
            "value": "100%"
          }
        },
        "905de5f4f2e84afb8500592171c5a9a7": {
          "model_module": "@jupyter-widgets/controls",
          "model_module_version": "1.5.0",
          "model_name": "HTMLModel",
          "state": {
            "_dom_classes": [],
            "_model_module": "@jupyter-widgets/controls",
            "_model_module_version": "1.5.0",
            "_model_name": "HTMLModel",
            "_view_count": null,
            "_view_module": "@jupyter-widgets/controls",
            "_view_module_version": "1.5.0",
            "_view_name": "HTMLView",
            "description": "",
            "description_tooltip": null,
            "layout": "IPY_MODEL_5d4edac7d0e246d6bd8acbc0a55c3927",
            "placeholder": "​",
            "style": "IPY_MODEL_7e7e7f4f1fc340e0bc025c9de5f4b0f2",
            "value": " 313/313 [00:04&lt;00:00, 80.09it/s]"
          }
        },
        "90c9197a45b04a1984219ac0cbd7984a": {
          "model_module": "@jupyter-widgets/controls",
          "model_module_version": "1.5.0",
          "model_name": "DescriptionStyleModel",
          "state": {
            "_model_module": "@jupyter-widgets/controls",
            "_model_module_version": "1.5.0",
            "_model_name": "DescriptionStyleModel",
            "_view_count": null,
            "_view_module": "@jupyter-widgets/base",
            "_view_module_version": "1.2.0",
            "_view_name": "StyleView",
            "description_width": ""
          }
        },
        "9150cc4e2bfa472da8fe62a176a189c7": {
          "model_module": "@jupyter-widgets/controls",
          "model_module_version": "1.5.0",
          "model_name": "DescriptionStyleModel",
          "state": {
            "_model_module": "@jupyter-widgets/controls",
            "_model_module_version": "1.5.0",
            "_model_name": "DescriptionStyleModel",
            "_view_count": null,
            "_view_module": "@jupyter-widgets/base",
            "_view_module_version": "1.2.0",
            "_view_name": "StyleView",
            "description_width": ""
          }
        },
        "93c76bf595ba425ebe01910d249a8bb9": {
          "model_module": "@jupyter-widgets/controls",
          "model_module_version": "1.5.0",
          "model_name": "HBoxModel",
          "state": {
            "_dom_classes": [],
            "_model_module": "@jupyter-widgets/controls",
            "_model_module_version": "1.5.0",
            "_model_name": "HBoxModel",
            "_view_count": null,
            "_view_module": "@jupyter-widgets/controls",
            "_view_module_version": "1.5.0",
            "_view_name": "HBoxView",
            "box_style": "",
            "children": [
              "IPY_MODEL_21563435ac194104a5f4ff84ff5d1b98",
              "IPY_MODEL_c4c71f51a4d34472b80b33f5fa642f25",
              "IPY_MODEL_5aa20747fa22456da116f14232764bb3"
            ],
            "layout": "IPY_MODEL_4d7f6a4de63344268d96e9d24b89ba8e"
          }
        },
        "944acecbba084b3496a4b74ad7599bb5": {
          "model_module": "@jupyter-widgets/controls",
          "model_module_version": "1.5.0",
          "model_name": "HBoxModel",
          "state": {
            "_dom_classes": [],
            "_model_module": "@jupyter-widgets/controls",
            "_model_module_version": "1.5.0",
            "_model_name": "HBoxModel",
            "_view_count": null,
            "_view_module": "@jupyter-widgets/controls",
            "_view_module_version": "1.5.0",
            "_view_name": "HBoxView",
            "box_style": "",
            "children": [
              "IPY_MODEL_9bee0bcec3f242b3af0965adae535a1c",
              "IPY_MODEL_789417be01b4476285e760d043889954",
              "IPY_MODEL_b4cd591b985b40e48e1503326e4a315d"
            ],
            "layout": "IPY_MODEL_04f6fcf8fde94472a845feec29ad7fb2"
          }
        },
        "97bdf35248f34b83acb836839332ac14": {
          "model_module": "@jupyter-widgets/controls",
          "model_module_version": "1.5.0",
          "model_name": "ProgressStyleModel",
          "state": {
            "_model_module": "@jupyter-widgets/controls",
            "_model_module_version": "1.5.0",
            "_model_name": "ProgressStyleModel",
            "_view_count": null,
            "_view_module": "@jupyter-widgets/base",
            "_view_module_version": "1.2.0",
            "_view_name": "StyleView",
            "bar_color": null,
            "description_width": ""
          }
        },
        "99bd329137b7446ca57d5fbdb142f38f": {
          "model_module": "@jupyter-widgets/controls",
          "model_module_version": "1.5.0",
          "model_name": "ProgressStyleModel",
          "state": {
            "_model_module": "@jupyter-widgets/controls",
            "_model_module_version": "1.5.0",
            "_model_name": "ProgressStyleModel",
            "_view_count": null,
            "_view_module": "@jupyter-widgets/base",
            "_view_module_version": "1.2.0",
            "_view_name": "StyleView",
            "bar_color": null,
            "description_width": ""
          }
        },
        "9a4d09f11df34c56ba737a0b53b74f33": {
          "model_module": "@jupyter-widgets/controls",
          "model_module_version": "1.5.0",
          "model_name": "HBoxModel",
          "state": {
            "_dom_classes": [],
            "_model_module": "@jupyter-widgets/controls",
            "_model_module_version": "1.5.0",
            "_model_name": "HBoxModel",
            "_view_count": null,
            "_view_module": "@jupyter-widgets/controls",
            "_view_module_version": "1.5.0",
            "_view_name": "HBoxView",
            "box_style": "",
            "children": [
              "IPY_MODEL_f3b7226375364d9fafb35aa00c6a3bd3",
              "IPY_MODEL_cfa1e62421734695b6c87df2c62fd315",
              "IPY_MODEL_905de5f4f2e84afb8500592171c5a9a7"
            ],
            "layout": "IPY_MODEL_e7cad8db8af247c1b177e3c8428595d3"
          }
        },
        "9bee0bcec3f242b3af0965adae535a1c": {
          "model_module": "@jupyter-widgets/controls",
          "model_module_version": "1.5.0",
          "model_name": "HTMLModel",
          "state": {
            "_dom_classes": [],
            "_model_module": "@jupyter-widgets/controls",
            "_model_module_version": "1.5.0",
            "_model_name": "HTMLModel",
            "_view_count": null,
            "_view_module": "@jupyter-widgets/controls",
            "_view_module_version": "1.5.0",
            "_view_name": "HTMLView",
            "description": "",
            "description_tooltip": null,
            "layout": "IPY_MODEL_1e8e691d95064085b0eb60c499698ec3",
            "placeholder": "​",
            "style": "IPY_MODEL_45a4e4c06fdd499fa899db3ce99b1da8",
            "value": "100%"
          }
        },
        "a523dfbd91ce401489836bad1f1ce2f5": {
          "model_module": "@jupyter-widgets/base",
          "model_module_version": "1.2.0",
          "model_name": "LayoutModel",
          "state": {
            "_model_module": "@jupyter-widgets/base",
            "_model_module_version": "1.2.0",
            "_model_name": "LayoutModel",
            "_view_count": null,
            "_view_module": "@jupyter-widgets/base",
            "_view_module_version": "1.2.0",
            "_view_name": "LayoutView",
            "align_content": null,
            "align_items": null,
            "align_self": null,
            "border": null,
            "bottom": null,
            "display": null,
            "flex": null,
            "flex_flow": null,
            "grid_area": null,
            "grid_auto_columns": null,
            "grid_auto_flow": null,
            "grid_auto_rows": null,
            "grid_column": null,
            "grid_gap": null,
            "grid_row": null,
            "grid_template_areas": null,
            "grid_template_columns": null,
            "grid_template_rows": null,
            "height": null,
            "justify_content": null,
            "justify_items": null,
            "left": null,
            "margin": null,
            "max_height": null,
            "max_width": null,
            "min_height": null,
            "min_width": null,
            "object_fit": null,
            "object_position": null,
            "order": null,
            "overflow": null,
            "overflow_x": null,
            "overflow_y": null,
            "padding": null,
            "right": null,
            "top": null,
            "visibility": null,
            "width": null
          }
        },
        "a5ac817fd4dd40fbbddd7dcb79b28310": {
          "model_module": "@jupyter-widgets/base",
          "model_module_version": "1.2.0",
          "model_name": "LayoutModel",
          "state": {
            "_model_module": "@jupyter-widgets/base",
            "_model_module_version": "1.2.0",
            "_model_name": "LayoutModel",
            "_view_count": null,
            "_view_module": "@jupyter-widgets/base",
            "_view_module_version": "1.2.0",
            "_view_name": "LayoutView",
            "align_content": null,
            "align_items": null,
            "align_self": null,
            "border": null,
            "bottom": null,
            "display": null,
            "flex": null,
            "flex_flow": null,
            "grid_area": null,
            "grid_auto_columns": null,
            "grid_auto_flow": null,
            "grid_auto_rows": null,
            "grid_column": null,
            "grid_gap": null,
            "grid_row": null,
            "grid_template_areas": null,
            "grid_template_columns": null,
            "grid_template_rows": null,
            "height": null,
            "justify_content": null,
            "justify_items": null,
            "left": null,
            "margin": null,
            "max_height": null,
            "max_width": null,
            "min_height": null,
            "min_width": null,
            "object_fit": null,
            "object_position": null,
            "order": null,
            "overflow": null,
            "overflow_x": null,
            "overflow_y": null,
            "padding": null,
            "right": null,
            "top": null,
            "visibility": null,
            "width": null
          }
        },
        "a8c39268ced84ac380e79820add1207f": {
          "model_module": "@jupyter-widgets/base",
          "model_module_version": "1.2.0",
          "model_name": "LayoutModel",
          "state": {
            "_model_module": "@jupyter-widgets/base",
            "_model_module_version": "1.2.0",
            "_model_name": "LayoutModel",
            "_view_count": null,
            "_view_module": "@jupyter-widgets/base",
            "_view_module_version": "1.2.0",
            "_view_name": "LayoutView",
            "align_content": null,
            "align_items": null,
            "align_self": null,
            "border": null,
            "bottom": null,
            "display": null,
            "flex": null,
            "flex_flow": null,
            "grid_area": null,
            "grid_auto_columns": null,
            "grid_auto_flow": null,
            "grid_auto_rows": null,
            "grid_column": null,
            "grid_gap": null,
            "grid_row": null,
            "grid_template_areas": null,
            "grid_template_columns": null,
            "grid_template_rows": null,
            "height": null,
            "justify_content": null,
            "justify_items": null,
            "left": null,
            "margin": null,
            "max_height": null,
            "max_width": null,
            "min_height": null,
            "min_width": null,
            "object_fit": null,
            "object_position": null,
            "order": null,
            "overflow": null,
            "overflow_x": null,
            "overflow_y": null,
            "padding": null,
            "right": null,
            "top": null,
            "visibility": null,
            "width": null
          }
        },
        "a8eb266ed34943b0b255f1e6c5bdbef5": {
          "model_module": "@jupyter-widgets/controls",
          "model_module_version": "1.5.0",
          "model_name": "HTMLModel",
          "state": {
            "_dom_classes": [],
            "_model_module": "@jupyter-widgets/controls",
            "_model_module_version": "1.5.0",
            "_model_name": "HTMLModel",
            "_view_count": null,
            "_view_module": "@jupyter-widgets/controls",
            "_view_module_version": "1.5.0",
            "_view_name": "HTMLView",
            "description": "",
            "description_tooltip": null,
            "layout": "IPY_MODEL_6a271df70a3f4c9ab0a33a1ccb9a6e2d",
            "placeholder": "​",
            "style": "IPY_MODEL_3bd13a109ee2404cbd5e5a53d889f33f",
            "value": "100%"
          }
        },
        "a96067c611ef49858507131896cd43d7": {
          "model_module": "@jupyter-widgets/controls",
          "model_module_version": "1.5.0",
          "model_name": "DescriptionStyleModel",
          "state": {
            "_model_module": "@jupyter-widgets/controls",
            "_model_module_version": "1.5.0",
            "_model_name": "DescriptionStyleModel",
            "_view_count": null,
            "_view_module": "@jupyter-widgets/base",
            "_view_module_version": "1.2.0",
            "_view_name": "StyleView",
            "description_width": ""
          }
        },
        "a9a432678f6c4daaaa36b4bb364f4046": {
          "model_module": "@jupyter-widgets/controls",
          "model_module_version": "1.5.0",
          "model_name": "HBoxModel",
          "state": {
            "_dom_classes": [],
            "_model_module": "@jupyter-widgets/controls",
            "_model_module_version": "1.5.0",
            "_model_name": "HBoxModel",
            "_view_count": null,
            "_view_module": "@jupyter-widgets/controls",
            "_view_module_version": "1.5.0",
            "_view_name": "HBoxView",
            "box_style": "",
            "children": [
              "IPY_MODEL_abfd0436df7e4437b5b49e99eb34b9ce",
              "IPY_MODEL_36754b78be874d8e9d52bca9b9e32937",
              "IPY_MODEL_4b40141f607e49d888d7892db10fe814"
            ],
            "layout": "IPY_MODEL_7d4216f540284138b16b271b8c4bc022"
          }
        },
        "abfd0436df7e4437b5b49e99eb34b9ce": {
          "model_module": "@jupyter-widgets/controls",
          "model_module_version": "1.5.0",
          "model_name": "HTMLModel",
          "state": {
            "_dom_classes": [],
            "_model_module": "@jupyter-widgets/controls",
            "_model_module_version": "1.5.0",
            "_model_name": "HTMLModel",
            "_view_count": null,
            "_view_module": "@jupyter-widgets/controls",
            "_view_module_version": "1.5.0",
            "_view_name": "HTMLView",
            "description": "",
            "description_tooltip": null,
            "layout": "IPY_MODEL_719451ad32d041c3a96e64a7b53277c6",
            "placeholder": "​",
            "style": "IPY_MODEL_1b7435163f73433c956701bafd1cedc5",
            "value": "100%"
          }
        },
        "ac0dafcc407a4da29d5437db8654cc36": {
          "model_module": "@jupyter-widgets/base",
          "model_module_version": "1.2.0",
          "model_name": "LayoutModel",
          "state": {
            "_model_module": "@jupyter-widgets/base",
            "_model_module_version": "1.2.0",
            "_model_name": "LayoutModel",
            "_view_count": null,
            "_view_module": "@jupyter-widgets/base",
            "_view_module_version": "1.2.0",
            "_view_name": "LayoutView",
            "align_content": null,
            "align_items": null,
            "align_self": null,
            "border": null,
            "bottom": null,
            "display": null,
            "flex": null,
            "flex_flow": null,
            "grid_area": null,
            "grid_auto_columns": null,
            "grid_auto_flow": null,
            "grid_auto_rows": null,
            "grid_column": null,
            "grid_gap": null,
            "grid_row": null,
            "grid_template_areas": null,
            "grid_template_columns": null,
            "grid_template_rows": null,
            "height": null,
            "justify_content": null,
            "justify_items": null,
            "left": null,
            "margin": null,
            "max_height": null,
            "max_width": null,
            "min_height": null,
            "min_width": null,
            "object_fit": null,
            "object_position": null,
            "order": null,
            "overflow": null,
            "overflow_x": null,
            "overflow_y": null,
            "padding": null,
            "right": null,
            "top": null,
            "visibility": null,
            "width": null
          }
        },
        "ac669f3c26294bfe8a7dfc262b42ce36": {
          "model_module": "@jupyter-widgets/controls",
          "model_module_version": "1.5.0",
          "model_name": "DescriptionStyleModel",
          "state": {
            "_model_module": "@jupyter-widgets/controls",
            "_model_module_version": "1.5.0",
            "_model_name": "DescriptionStyleModel",
            "_view_count": null,
            "_view_module": "@jupyter-widgets/base",
            "_view_module_version": "1.2.0",
            "_view_name": "StyleView",
            "description_width": ""
          }
        },
        "ad24e7c0887844f88c2b9d067005bff5": {
          "model_module": "@jupyter-widgets/base",
          "model_module_version": "1.2.0",
          "model_name": "LayoutModel",
          "state": {
            "_model_module": "@jupyter-widgets/base",
            "_model_module_version": "1.2.0",
            "_model_name": "LayoutModel",
            "_view_count": null,
            "_view_module": "@jupyter-widgets/base",
            "_view_module_version": "1.2.0",
            "_view_name": "LayoutView",
            "align_content": null,
            "align_items": null,
            "align_self": null,
            "border": null,
            "bottom": null,
            "display": null,
            "flex": null,
            "flex_flow": null,
            "grid_area": null,
            "grid_auto_columns": null,
            "grid_auto_flow": null,
            "grid_auto_rows": null,
            "grid_column": null,
            "grid_gap": null,
            "grid_row": null,
            "grid_template_areas": null,
            "grid_template_columns": null,
            "grid_template_rows": null,
            "height": null,
            "justify_content": null,
            "justify_items": null,
            "left": null,
            "margin": null,
            "max_height": null,
            "max_width": null,
            "min_height": null,
            "min_width": null,
            "object_fit": null,
            "object_position": null,
            "order": null,
            "overflow": null,
            "overflow_x": null,
            "overflow_y": null,
            "padding": null,
            "right": null,
            "top": null,
            "visibility": null,
            "width": null
          }
        },
        "ad5d6391d552417e880577ddde969626": {
          "model_module": "@jupyter-widgets/base",
          "model_module_version": "1.2.0",
          "model_name": "LayoutModel",
          "state": {
            "_model_module": "@jupyter-widgets/base",
            "_model_module_version": "1.2.0",
            "_model_name": "LayoutModel",
            "_view_count": null,
            "_view_module": "@jupyter-widgets/base",
            "_view_module_version": "1.2.0",
            "_view_name": "LayoutView",
            "align_content": null,
            "align_items": null,
            "align_self": null,
            "border": null,
            "bottom": null,
            "display": null,
            "flex": null,
            "flex_flow": null,
            "grid_area": null,
            "grid_auto_columns": null,
            "grid_auto_flow": null,
            "grid_auto_rows": null,
            "grid_column": null,
            "grid_gap": null,
            "grid_row": null,
            "grid_template_areas": null,
            "grid_template_columns": null,
            "grid_template_rows": null,
            "height": null,
            "justify_content": null,
            "justify_items": null,
            "left": null,
            "margin": null,
            "max_height": null,
            "max_width": null,
            "min_height": null,
            "min_width": null,
            "object_fit": null,
            "object_position": null,
            "order": null,
            "overflow": null,
            "overflow_x": null,
            "overflow_y": null,
            "padding": null,
            "right": null,
            "top": null,
            "visibility": null,
            "width": null
          }
        },
        "ae02c36fca3545598204ed1d6472b3a8": {
          "model_module": "@jupyter-widgets/controls",
          "model_module_version": "1.5.0",
          "model_name": "HTMLModel",
          "state": {
            "_dom_classes": [],
            "_model_module": "@jupyter-widgets/controls",
            "_model_module_version": "1.5.0",
            "_model_name": "HTMLModel",
            "_view_count": null,
            "_view_module": "@jupyter-widgets/controls",
            "_view_module_version": "1.5.0",
            "_view_name": "HTMLView",
            "description": "",
            "description_tooltip": null,
            "layout": "IPY_MODEL_f91b4adb964c43bdb7c8079e222e038f",
            "placeholder": "​",
            "style": "IPY_MODEL_58606b657fa347b28b25603ae9aa099a",
            "value": " 313/313 [00:01&lt;00:00, 274.90it/s]"
          }
        },
        "b43800f9bdd14913b85d5a827699e878": {
          "model_module": "@jupyter-widgets/controls",
          "model_module_version": "1.5.0",
          "model_name": "DescriptionStyleModel",
          "state": {
            "_model_module": "@jupyter-widgets/controls",
            "_model_module_version": "1.5.0",
            "_model_name": "DescriptionStyleModel",
            "_view_count": null,
            "_view_module": "@jupyter-widgets/base",
            "_view_module_version": "1.2.0",
            "_view_name": "StyleView",
            "description_width": ""
          }
        },
        "b4cd591b985b40e48e1503326e4a315d": {
          "model_module": "@jupyter-widgets/controls",
          "model_module_version": "1.5.0",
          "model_name": "HTMLModel",
          "state": {
            "_dom_classes": [],
            "_model_module": "@jupyter-widgets/controls",
            "_model_module_version": "1.5.0",
            "_model_name": "HTMLModel",
            "_view_count": null,
            "_view_module": "@jupyter-widgets/controls",
            "_view_module_version": "1.5.0",
            "_view_name": "HTMLView",
            "description": "",
            "description_tooltip": null,
            "layout": "IPY_MODEL_a523dfbd91ce401489836bad1f1ce2f5",
            "placeholder": "​",
            "style": "IPY_MODEL_ee124bf5960d4e7580d241a0061f7ab0",
            "value": " 313/313 [00:01&lt;00:00, 295.36it/s]"
          }
        },
        "b80dcb54b22846609531f260f6e21186": {
          "model_module": "@jupyter-widgets/controls",
          "model_module_version": "1.5.0",
          "model_name": "DescriptionStyleModel",
          "state": {
            "_model_module": "@jupyter-widgets/controls",
            "_model_module_version": "1.5.0",
            "_model_name": "DescriptionStyleModel",
            "_view_count": null,
            "_view_module": "@jupyter-widgets/base",
            "_view_module_version": "1.2.0",
            "_view_name": "StyleView",
            "description_width": ""
          }
        },
        "bc17df0d182e4145af27b66330f33442": {
          "model_module": "@jupyter-widgets/controls",
          "model_module_version": "1.5.0",
          "model_name": "HBoxModel",
          "state": {
            "_dom_classes": [],
            "_model_module": "@jupyter-widgets/controls",
            "_model_module_version": "1.5.0",
            "_model_name": "HBoxModel",
            "_view_count": null,
            "_view_module": "@jupyter-widgets/controls",
            "_view_module_version": "1.5.0",
            "_view_name": "HBoxView",
            "box_style": "",
            "children": [
              "IPY_MODEL_8ca5401a9bca4ef38cde761232008262",
              "IPY_MODEL_639d9ec782df44a6ad5edb8c59a0bcb2",
              "IPY_MODEL_44f4ddfd40ca4037aa8f74951a43d236"
            ],
            "layout": "IPY_MODEL_e117907c80594c35b852130413bed2e3"
          }
        },
        "bdc8e1ad9d8b4547abe5e6f5c1fe1d7e": {
          "model_module": "@jupyter-widgets/controls",
          "model_module_version": "1.5.0",
          "model_name": "HBoxModel",
          "state": {
            "_dom_classes": [],
            "_model_module": "@jupyter-widgets/controls",
            "_model_module_version": "1.5.0",
            "_model_name": "HBoxModel",
            "_view_count": null,
            "_view_module": "@jupyter-widgets/controls",
            "_view_module_version": "1.5.0",
            "_view_name": "HBoxView",
            "box_style": "",
            "children": [
              "IPY_MODEL_ffee55c00e4c4a32896413fb473caf4e",
              "IPY_MODEL_2c6fe10afe75494296ea2a7c517d06d3",
              "IPY_MODEL_ae02c36fca3545598204ed1d6472b3a8"
            ],
            "layout": "IPY_MODEL_0f5afc162cf147dca002219be7089496"
          }
        },
        "c332493862634343a5e9c5f380adddd2": {
          "model_module": "@jupyter-widgets/controls",
          "model_module_version": "1.5.0",
          "model_name": "DescriptionStyleModel",
          "state": {
            "_model_module": "@jupyter-widgets/controls",
            "_model_module_version": "1.5.0",
            "_model_name": "DescriptionStyleModel",
            "_view_count": null,
            "_view_module": "@jupyter-widgets/base",
            "_view_module_version": "1.2.0",
            "_view_name": "StyleView",
            "description_width": ""
          }
        },
        "c4c71f51a4d34472b80b33f5fa642f25": {
          "model_module": "@jupyter-widgets/controls",
          "model_module_version": "1.5.0",
          "model_name": "FloatProgressModel",
          "state": {
            "_dom_classes": [],
            "_model_module": "@jupyter-widgets/controls",
            "_model_module_version": "1.5.0",
            "_model_name": "FloatProgressModel",
            "_view_count": null,
            "_view_module": "@jupyter-widgets/controls",
            "_view_module_version": "1.5.0",
            "_view_name": "ProgressView",
            "bar_style": "success",
            "description": "",
            "description_tooltip": null,
            "layout": "IPY_MODEL_1750ca98ab204bf0a849a14c0a0790eb",
            "max": 313,
            "min": 0,
            "orientation": "horizontal",
            "style": "IPY_MODEL_97bdf35248f34b83acb836839332ac14",
            "value": 313
          }
        },
        "c774f3320d9a4b5daf2e22b05841ab96": {
          "model_module": "@jupyter-widgets/controls",
          "model_module_version": "1.5.0",
          "model_name": "ProgressStyleModel",
          "state": {
            "_model_module": "@jupyter-widgets/controls",
            "_model_module_version": "1.5.0",
            "_model_name": "ProgressStyleModel",
            "_view_count": null,
            "_view_module": "@jupyter-widgets/base",
            "_view_module_version": "1.2.0",
            "_view_name": "StyleView",
            "bar_color": null,
            "description_width": ""
          }
        },
        "c8cbc2f0301c4429bf87f9dc714b7f43": {
          "model_module": "@jupyter-widgets/base",
          "model_module_version": "1.2.0",
          "model_name": "LayoutModel",
          "state": {
            "_model_module": "@jupyter-widgets/base",
            "_model_module_version": "1.2.0",
            "_model_name": "LayoutModel",
            "_view_count": null,
            "_view_module": "@jupyter-widgets/base",
            "_view_module_version": "1.2.0",
            "_view_name": "LayoutView",
            "align_content": null,
            "align_items": null,
            "align_self": null,
            "border": null,
            "bottom": null,
            "display": null,
            "flex": null,
            "flex_flow": null,
            "grid_area": null,
            "grid_auto_columns": null,
            "grid_auto_flow": null,
            "grid_auto_rows": null,
            "grid_column": null,
            "grid_gap": null,
            "grid_row": null,
            "grid_template_areas": null,
            "grid_template_columns": null,
            "grid_template_rows": null,
            "height": null,
            "justify_content": null,
            "justify_items": null,
            "left": null,
            "margin": null,
            "max_height": null,
            "max_width": null,
            "min_height": null,
            "min_width": null,
            "object_fit": null,
            "object_position": null,
            "order": null,
            "overflow": null,
            "overflow_x": null,
            "overflow_y": null,
            "padding": null,
            "right": null,
            "top": null,
            "visibility": null,
            "width": null
          }
        },
        "cfa1e62421734695b6c87df2c62fd315": {
          "model_module": "@jupyter-widgets/controls",
          "model_module_version": "1.5.0",
          "model_name": "FloatProgressModel",
          "state": {
            "_dom_classes": [],
            "_model_module": "@jupyter-widgets/controls",
            "_model_module_version": "1.5.0",
            "_model_name": "FloatProgressModel",
            "_view_count": null,
            "_view_module": "@jupyter-widgets/controls",
            "_view_module_version": "1.5.0",
            "_view_name": "ProgressView",
            "bar_style": "success",
            "description": "",
            "description_tooltip": null,
            "layout": "IPY_MODEL_070987404bd649099cafa871b50cb8bc",
            "max": 313,
            "min": 0,
            "orientation": "horizontal",
            "style": "IPY_MODEL_dbb988a13efe4f4285d232d0ea95a2f7",
            "value": 313
          }
        },
        "d664929d96ca43548c803d993a72d5a1": {
          "model_module": "@jupyter-widgets/controls",
          "model_module_version": "1.5.0",
          "model_name": "HBoxModel",
          "state": {
            "_dom_classes": [],
            "_model_module": "@jupyter-widgets/controls",
            "_model_module_version": "1.5.0",
            "_model_name": "HBoxModel",
            "_view_count": null,
            "_view_module": "@jupyter-widgets/controls",
            "_view_module_version": "1.5.0",
            "_view_name": "HBoxView",
            "box_style": "",
            "children": [
              "IPY_MODEL_378d2f48e1d74efa9305f36fa1b26c43",
              "IPY_MODEL_436149406f22414e8632541be43b6dfa",
              "IPY_MODEL_ef5292d1077a429eb5b220defd562c13"
            ],
            "layout": "IPY_MODEL_ad24e7c0887844f88c2b9d067005bff5"
          }
        },
        "d71505d74b5440f98de98761417bf44b": {
          "model_module": "@jupyter-widgets/controls",
          "model_module_version": "1.5.0",
          "model_name": "HTMLModel",
          "state": {
            "_dom_classes": [],
            "_model_module": "@jupyter-widgets/controls",
            "_model_module_version": "1.5.0",
            "_model_name": "HTMLModel",
            "_view_count": null,
            "_view_module": "@jupyter-widgets/controls",
            "_view_module_version": "1.5.0",
            "_view_name": "HTMLView",
            "description": "",
            "description_tooltip": null,
            "layout": "IPY_MODEL_36f7a7a2ce3b47a1a5585fc96155662f",
            "placeholder": "​",
            "style": "IPY_MODEL_a96067c611ef49858507131896cd43d7",
            "value": "Making predictions...: 100%"
          }
        },
        "d9e61fb877f444a1bfbcfd9f4d8a0abe": {
          "model_module": "@jupyter-widgets/controls",
          "model_module_version": "1.5.0",
          "model_name": "DescriptionStyleModel",
          "state": {
            "_model_module": "@jupyter-widgets/controls",
            "_model_module_version": "1.5.0",
            "_model_name": "DescriptionStyleModel",
            "_view_count": null,
            "_view_module": "@jupyter-widgets/base",
            "_view_module_version": "1.2.0",
            "_view_name": "StyleView",
            "description_width": ""
          }
        },
        "dbb988a13efe4f4285d232d0ea95a2f7": {
          "model_module": "@jupyter-widgets/controls",
          "model_module_version": "1.5.0",
          "model_name": "ProgressStyleModel",
          "state": {
            "_model_module": "@jupyter-widgets/controls",
            "_model_module_version": "1.5.0",
            "_model_name": "ProgressStyleModel",
            "_view_count": null,
            "_view_module": "@jupyter-widgets/base",
            "_view_module_version": "1.2.0",
            "_view_name": "StyleView",
            "bar_color": null,
            "description_width": ""
          }
        },
        "dffd262c4eef420291bf37ee8f088012": {
          "model_module": "@jupyter-widgets/controls",
          "model_module_version": "1.5.0",
          "model_name": "ProgressStyleModel",
          "state": {
            "_model_module": "@jupyter-widgets/controls",
            "_model_module_version": "1.5.0",
            "_model_name": "ProgressStyleModel",
            "_view_count": null,
            "_view_module": "@jupyter-widgets/base",
            "_view_module_version": "1.2.0",
            "_view_name": "StyleView",
            "bar_color": null,
            "description_width": ""
          }
        },
        "e117907c80594c35b852130413bed2e3": {
          "model_module": "@jupyter-widgets/base",
          "model_module_version": "1.2.0",
          "model_name": "LayoutModel",
          "state": {
            "_model_module": "@jupyter-widgets/base",
            "_model_module_version": "1.2.0",
            "_model_name": "LayoutModel",
            "_view_count": null,
            "_view_module": "@jupyter-widgets/base",
            "_view_module_version": "1.2.0",
            "_view_name": "LayoutView",
            "align_content": null,
            "align_items": null,
            "align_self": null,
            "border": null,
            "bottom": null,
            "display": null,
            "flex": null,
            "flex_flow": null,
            "grid_area": null,
            "grid_auto_columns": null,
            "grid_auto_flow": null,
            "grid_auto_rows": null,
            "grid_column": null,
            "grid_gap": null,
            "grid_row": null,
            "grid_template_areas": null,
            "grid_template_columns": null,
            "grid_template_rows": null,
            "height": null,
            "justify_content": null,
            "justify_items": null,
            "left": null,
            "margin": null,
            "max_height": null,
            "max_width": null,
            "min_height": null,
            "min_width": null,
            "object_fit": null,
            "object_position": null,
            "order": null,
            "overflow": null,
            "overflow_x": null,
            "overflow_y": null,
            "padding": null,
            "right": null,
            "top": null,
            "visibility": null,
            "width": null
          }
        },
        "e62f19569ff74550aea1797b65f7d172": {
          "model_module": "@jupyter-widgets/controls",
          "model_module_version": "1.5.0",
          "model_name": "DescriptionStyleModel",
          "state": {
            "_model_module": "@jupyter-widgets/controls",
            "_model_module_version": "1.5.0",
            "_model_name": "DescriptionStyleModel",
            "_view_count": null,
            "_view_module": "@jupyter-widgets/base",
            "_view_module_version": "1.2.0",
            "_view_name": "StyleView",
            "description_width": ""
          }
        },
        "e6fba31e826f49adae1a4a481f871889": {
          "model_module": "@jupyter-widgets/controls",
          "model_module_version": "1.5.0",
          "model_name": "ProgressStyleModel",
          "state": {
            "_model_module": "@jupyter-widgets/controls",
            "_model_module_version": "1.5.0",
            "_model_name": "ProgressStyleModel",
            "_view_count": null,
            "_view_module": "@jupyter-widgets/base",
            "_view_module_version": "1.2.0",
            "_view_name": "StyleView",
            "bar_color": null,
            "description_width": ""
          }
        },
        "e76380b86b9743caa1f78294f945407d": {
          "model_module": "@jupyter-widgets/base",
          "model_module_version": "1.2.0",
          "model_name": "LayoutModel",
          "state": {
            "_model_module": "@jupyter-widgets/base",
            "_model_module_version": "1.2.0",
            "_model_name": "LayoutModel",
            "_view_count": null,
            "_view_module": "@jupyter-widgets/base",
            "_view_module_version": "1.2.0",
            "_view_name": "LayoutView",
            "align_content": null,
            "align_items": null,
            "align_self": null,
            "border": null,
            "bottom": null,
            "display": null,
            "flex": null,
            "flex_flow": null,
            "grid_area": null,
            "grid_auto_columns": null,
            "grid_auto_flow": null,
            "grid_auto_rows": null,
            "grid_column": null,
            "grid_gap": null,
            "grid_row": null,
            "grid_template_areas": null,
            "grid_template_columns": null,
            "grid_template_rows": null,
            "height": null,
            "justify_content": null,
            "justify_items": null,
            "left": null,
            "margin": null,
            "max_height": null,
            "max_width": null,
            "min_height": null,
            "min_width": null,
            "object_fit": null,
            "object_position": null,
            "order": null,
            "overflow": null,
            "overflow_x": null,
            "overflow_y": null,
            "padding": null,
            "right": null,
            "top": null,
            "visibility": null,
            "width": null
          }
        },
        "e7cad8db8af247c1b177e3c8428595d3": {
          "model_module": "@jupyter-widgets/base",
          "model_module_version": "1.2.0",
          "model_name": "LayoutModel",
          "state": {
            "_model_module": "@jupyter-widgets/base",
            "_model_module_version": "1.2.0",
            "_model_name": "LayoutModel",
            "_view_count": null,
            "_view_module": "@jupyter-widgets/base",
            "_view_module_version": "1.2.0",
            "_view_name": "LayoutView",
            "align_content": null,
            "align_items": null,
            "align_self": null,
            "border": null,
            "bottom": null,
            "display": null,
            "flex": null,
            "flex_flow": null,
            "grid_area": null,
            "grid_auto_columns": null,
            "grid_auto_flow": null,
            "grid_auto_rows": null,
            "grid_column": null,
            "grid_gap": null,
            "grid_row": null,
            "grid_template_areas": null,
            "grid_template_columns": null,
            "grid_template_rows": null,
            "height": null,
            "justify_content": null,
            "justify_items": null,
            "left": null,
            "margin": null,
            "max_height": null,
            "max_width": null,
            "min_height": null,
            "min_width": null,
            "object_fit": null,
            "object_position": null,
            "order": null,
            "overflow": null,
            "overflow_x": null,
            "overflow_y": null,
            "padding": null,
            "right": null,
            "top": null,
            "visibility": null,
            "width": null
          }
        },
        "ea53ed953b8a4685b4d94231ca46f22f": {
          "model_module": "@jupyter-widgets/base",
          "model_module_version": "1.2.0",
          "model_name": "LayoutModel",
          "state": {
            "_model_module": "@jupyter-widgets/base",
            "_model_module_version": "1.2.0",
            "_model_name": "LayoutModel",
            "_view_count": null,
            "_view_module": "@jupyter-widgets/base",
            "_view_module_version": "1.2.0",
            "_view_name": "LayoutView",
            "align_content": null,
            "align_items": null,
            "align_self": null,
            "border": null,
            "bottom": null,
            "display": null,
            "flex": null,
            "flex_flow": null,
            "grid_area": null,
            "grid_auto_columns": null,
            "grid_auto_flow": null,
            "grid_auto_rows": null,
            "grid_column": null,
            "grid_gap": null,
            "grid_row": null,
            "grid_template_areas": null,
            "grid_template_columns": null,
            "grid_template_rows": null,
            "height": null,
            "justify_content": null,
            "justify_items": null,
            "left": null,
            "margin": null,
            "max_height": null,
            "max_width": null,
            "min_height": null,
            "min_width": null,
            "object_fit": null,
            "object_position": null,
            "order": null,
            "overflow": null,
            "overflow_x": null,
            "overflow_y": null,
            "padding": null,
            "right": null,
            "top": null,
            "visibility": null,
            "width": null
          }
        },
        "eb04a8f74baa4398a25a9b10abfb25b3": {
          "model_module": "@jupyter-widgets/controls",
          "model_module_version": "1.5.0",
          "model_name": "DescriptionStyleModel",
          "state": {
            "_model_module": "@jupyter-widgets/controls",
            "_model_module_version": "1.5.0",
            "_model_name": "DescriptionStyleModel",
            "_view_count": null,
            "_view_module": "@jupyter-widgets/base",
            "_view_module_version": "1.2.0",
            "_view_name": "StyleView",
            "description_width": ""
          }
        },
        "edcd222f3e8a41489476f3a399c7acee": {
          "model_module": "@jupyter-widgets/base",
          "model_module_version": "1.2.0",
          "model_name": "LayoutModel",
          "state": {
            "_model_module": "@jupyter-widgets/base",
            "_model_module_version": "1.2.0",
            "_model_name": "LayoutModel",
            "_view_count": null,
            "_view_module": "@jupyter-widgets/base",
            "_view_module_version": "1.2.0",
            "_view_name": "LayoutView",
            "align_content": null,
            "align_items": null,
            "align_self": null,
            "border": null,
            "bottom": null,
            "display": null,
            "flex": null,
            "flex_flow": null,
            "grid_area": null,
            "grid_auto_columns": null,
            "grid_auto_flow": null,
            "grid_auto_rows": null,
            "grid_column": null,
            "grid_gap": null,
            "grid_row": null,
            "grid_template_areas": null,
            "grid_template_columns": null,
            "grid_template_rows": null,
            "height": null,
            "justify_content": null,
            "justify_items": null,
            "left": null,
            "margin": null,
            "max_height": null,
            "max_width": null,
            "min_height": null,
            "min_width": null,
            "object_fit": null,
            "object_position": null,
            "order": null,
            "overflow": null,
            "overflow_x": null,
            "overflow_y": null,
            "padding": null,
            "right": null,
            "top": null,
            "visibility": null,
            "width": null
          }
        },
        "ee124bf5960d4e7580d241a0061f7ab0": {
          "model_module": "@jupyter-widgets/controls",
          "model_module_version": "1.5.0",
          "model_name": "DescriptionStyleModel",
          "state": {
            "_model_module": "@jupyter-widgets/controls",
            "_model_module_version": "1.5.0",
            "_model_name": "DescriptionStyleModel",
            "_view_count": null,
            "_view_module": "@jupyter-widgets/base",
            "_view_module_version": "1.2.0",
            "_view_name": "StyleView",
            "description_width": ""
          }
        },
        "ef5292d1077a429eb5b220defd562c13": {
          "model_module": "@jupyter-widgets/controls",
          "model_module_version": "1.5.0",
          "model_name": "HTMLModel",
          "state": {
            "_dom_classes": [],
            "_model_module": "@jupyter-widgets/controls",
            "_model_module_version": "1.5.0",
            "_model_name": "HTMLModel",
            "_view_count": null,
            "_view_module": "@jupyter-widgets/controls",
            "_view_module_version": "1.5.0",
            "_view_name": "HTMLView",
            "description": "",
            "description_tooltip": null,
            "layout": "IPY_MODEL_a8c39268ced84ac380e79820add1207f",
            "placeholder": "​",
            "style": "IPY_MODEL_b43800f9bdd14913b85d5a827699e878",
            "value": " 313/313 [00:04&lt;00:00, 53.41it/s]"
          }
        },
        "f3b7226375364d9fafb35aa00c6a3bd3": {
          "model_module": "@jupyter-widgets/controls",
          "model_module_version": "1.5.0",
          "model_name": "HTMLModel",
          "state": {
            "_dom_classes": [],
            "_model_module": "@jupyter-widgets/controls",
            "_model_module_version": "1.5.0",
            "_model_name": "HTMLModel",
            "_view_count": null,
            "_view_module": "@jupyter-widgets/controls",
            "_view_module_version": "1.5.0",
            "_view_name": "HTMLView",
            "description": "",
            "description_tooltip": null,
            "layout": "IPY_MODEL_77945f919fcf4c31b88cd888519cdec6",
            "placeholder": "​",
            "style": "IPY_MODEL_b80dcb54b22846609531f260f6e21186",
            "value": "100%"
          }
        },
        "f43c6d661e8941d1b2dc5330db83172f": {
          "model_module": "@jupyter-widgets/controls",
          "model_module_version": "1.5.0",
          "model_name": "FloatProgressModel",
          "state": {
            "_dom_classes": [],
            "_model_module": "@jupyter-widgets/controls",
            "_model_module_version": "1.5.0",
            "_model_name": "FloatProgressModel",
            "_view_count": null,
            "_view_module": "@jupyter-widgets/controls",
            "_view_module_version": "1.5.0",
            "_view_name": "ProgressView",
            "bar_style": "success",
            "description": "",
            "description_tooltip": null,
            "layout": "IPY_MODEL_1f44374018ca4b27a5682694514ecf8f",
            "max": 313,
            "min": 0,
            "orientation": "horizontal",
            "style": "IPY_MODEL_c774f3320d9a4b5daf2e22b05841ab96",
            "value": 313
          }
        },
        "f636776c9bfa433a8119b39100bc64ad": {
          "model_module": "@jupyter-widgets/base",
          "model_module_version": "1.2.0",
          "model_name": "LayoutModel",
          "state": {
            "_model_module": "@jupyter-widgets/base",
            "_model_module_version": "1.2.0",
            "_model_name": "LayoutModel",
            "_view_count": null,
            "_view_module": "@jupyter-widgets/base",
            "_view_module_version": "1.2.0",
            "_view_name": "LayoutView",
            "align_content": null,
            "align_items": null,
            "align_self": null,
            "border": null,
            "bottom": null,
            "display": null,
            "flex": null,
            "flex_flow": null,
            "grid_area": null,
            "grid_auto_columns": null,
            "grid_auto_flow": null,
            "grid_auto_rows": null,
            "grid_column": null,
            "grid_gap": null,
            "grid_row": null,
            "grid_template_areas": null,
            "grid_template_columns": null,
            "grid_template_rows": null,
            "height": null,
            "justify_content": null,
            "justify_items": null,
            "left": null,
            "margin": null,
            "max_height": null,
            "max_width": null,
            "min_height": null,
            "min_width": null,
            "object_fit": null,
            "object_position": null,
            "order": null,
            "overflow": null,
            "overflow_x": null,
            "overflow_y": null,
            "padding": null,
            "right": null,
            "top": null,
            "visibility": null,
            "width": null
          }
        },
        "f7c697a08da44aa0b1deb4351e524f27": {
          "model_module": "@jupyter-widgets/controls",
          "model_module_version": "1.5.0",
          "model_name": "DescriptionStyleModel",
          "state": {
            "_model_module": "@jupyter-widgets/controls",
            "_model_module_version": "1.5.0",
            "_model_name": "DescriptionStyleModel",
            "_view_count": null,
            "_view_module": "@jupyter-widgets/base",
            "_view_module_version": "1.2.0",
            "_view_name": "StyleView",
            "description_width": ""
          }
        },
        "f91b4adb964c43bdb7c8079e222e038f": {
          "model_module": "@jupyter-widgets/base",
          "model_module_version": "1.2.0",
          "model_name": "LayoutModel",
          "state": {
            "_model_module": "@jupyter-widgets/base",
            "_model_module_version": "1.2.0",
            "_model_name": "LayoutModel",
            "_view_count": null,
            "_view_module": "@jupyter-widgets/base",
            "_view_module_version": "1.2.0",
            "_view_name": "LayoutView",
            "align_content": null,
            "align_items": null,
            "align_self": null,
            "border": null,
            "bottom": null,
            "display": null,
            "flex": null,
            "flex_flow": null,
            "grid_area": null,
            "grid_auto_columns": null,
            "grid_auto_flow": null,
            "grid_auto_rows": null,
            "grid_column": null,
            "grid_gap": null,
            "grid_row": null,
            "grid_template_areas": null,
            "grid_template_columns": null,
            "grid_template_rows": null,
            "height": null,
            "justify_content": null,
            "justify_items": null,
            "left": null,
            "margin": null,
            "max_height": null,
            "max_width": null,
            "min_height": null,
            "min_width": null,
            "object_fit": null,
            "object_position": null,
            "order": null,
            "overflow": null,
            "overflow_x": null,
            "overflow_y": null,
            "padding": null,
            "right": null,
            "top": null,
            "visibility": null,
            "width": null
          }
        },
        "fcaca5c2e59c40bcb246082b5279e8ad": {
          "model_module": "@jupyter-widgets/base",
          "model_module_version": "1.2.0",
          "model_name": "LayoutModel",
          "state": {
            "_model_module": "@jupyter-widgets/base",
            "_model_module_version": "1.2.0",
            "_model_name": "LayoutModel",
            "_view_count": null,
            "_view_module": "@jupyter-widgets/base",
            "_view_module_version": "1.2.0",
            "_view_name": "LayoutView",
            "align_content": null,
            "align_items": null,
            "align_self": null,
            "border": null,
            "bottom": null,
            "display": null,
            "flex": null,
            "flex_flow": null,
            "grid_area": null,
            "grid_auto_columns": null,
            "grid_auto_flow": null,
            "grid_auto_rows": null,
            "grid_column": null,
            "grid_gap": null,
            "grid_row": null,
            "grid_template_areas": null,
            "grid_template_columns": null,
            "grid_template_rows": null,
            "height": null,
            "justify_content": null,
            "justify_items": null,
            "left": null,
            "margin": null,
            "max_height": null,
            "max_width": null,
            "min_height": null,
            "min_width": null,
            "object_fit": null,
            "object_position": null,
            "order": null,
            "overflow": null,
            "overflow_x": null,
            "overflow_y": null,
            "padding": null,
            "right": null,
            "top": null,
            "visibility": null,
            "width": null
          }
        },
        "ffee55c00e4c4a32896413fb473caf4e": {
          "model_module": "@jupyter-widgets/controls",
          "model_module_version": "1.5.0",
          "model_name": "HTMLModel",
          "state": {
            "_dom_classes": [],
            "_model_module": "@jupyter-widgets/controls",
            "_model_module_version": "1.5.0",
            "_model_name": "HTMLModel",
            "_view_count": null,
            "_view_module": "@jupyter-widgets/controls",
            "_view_module_version": "1.5.0",
            "_view_name": "HTMLView",
            "description": "",
            "description_tooltip": null,
            "layout": "IPY_MODEL_004df50bf3964cdcb489a35fb14c71d0",
            "placeholder": "​",
            "style": "IPY_MODEL_f7c697a08da44aa0b1deb4351e524f27",
            "value": "100%"
          }
        }
      }
    }
  },
  "nbformat": 4,
  "nbformat_minor": 0
}
