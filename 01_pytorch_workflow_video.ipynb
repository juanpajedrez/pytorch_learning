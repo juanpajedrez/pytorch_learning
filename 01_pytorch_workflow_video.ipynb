{
  "nbformat": 4,
  "nbformat_minor": 0,
  "metadata": {
    "colab": {
      "provenance": [],
      "gpuType": "T4",
      "authorship_tag": "ABX9TyO6Lb2SGPoo89MSZ9SoGZyY",
      "include_colab_link": true
    },
    "kernelspec": {
      "name": "python3",
      "display_name": "Python 3"
    },
    "language_info": {
      "name": "python"
    },
    "accelerator": "GPU"
  },
  "cells": [
    {
      "cell_type": "markdown",
      "metadata": {
        "id": "view-in-github",
        "colab_type": "text"
      },
      "source": [
        "<a href=\"https://colab.research.google.com/github/juanpajedrez/pytorch_learning/blob/main/01_pytorch_workflow_video.ipynb\" target=\"_parent\"><img src=\"https://colab.research.google.com/assets/colab-badge.svg\" alt=\"Open In Colab\"/></a>"
      ]
    },
    {
      "cell_type": "markdown",
      "source": [
        "# Pytorch Workflow\n",
        "\n",
        "Let's explore an example PyTorch end-to-end workflow.\n",
        "\n",
        "Resources:\n",
        "* Ground truth notebook - https://github.com/mrdbourke/pytorch-deep-learning/blob/main/01_pytorch_workflow.ipynb\n",
        "* Book version of notebook - https://www.learnpytorch.io/02_pytorch_classification/\n",
        "* Ask a question - https://github.com/mrdbourke/pytorch-deep-learning/discussions"
      ],
      "metadata": {
        "id": "ji05tCbCIvbx"
      }
    },
    {
      "cell_type": "code",
      "source": [
        "what_were_covering = {1: \"data (prepare and load)\",\n",
        "                      2: \"build model\",\n",
        "                      3: \"fitting the model to data (training)\",\n",
        "                      4: \"making predictions and evaluating a model (inference)\",\n",
        "                      5: \"saving and loading a model\",\n",
        "                      6: \"putting it all together\"}\n",
        "\n",
        "what_were_covering"
      ],
      "metadata": {
        "colab": {
          "base_uri": "https://localhost:8080/"
        },
        "id": "8CdWhdzyI6TC",
        "outputId": "de2b07ad-7307-4c0b-fc3d-797481f20d10"
      },
      "execution_count": null,
      "outputs": [
        {
          "output_type": "execute_result",
          "data": {
            "text/plain": [
              "{1: 'data (prepare and load)',\n",
              " 2: 'build model',\n",
              " 3: 'fitting the model to data (training)',\n",
              " 4: 'making predictions and evaluating a model (inference)',\n",
              " 5: 'saving and loading a model',\n",
              " 6: 'putting it all together'}"
            ]
          },
          "metadata": {},
          "execution_count": 114
        }
      ]
    },
    {
      "cell_type": "code",
      "source": [
        "import torch\n",
        "import numpy as np\n",
        "from torch import nn #nn contains all of Pytorch's building blocks for neural networks\n",
        "import matplotlib.pyplot as plt\n",
        "\n",
        "#Check Pytorch version\n",
        "torch.__version__"
      ],
      "metadata": {
        "colab": {
          "base_uri": "https://localhost:8080/",
          "height": 35
        },
        "id": "rrV5aZm6Kpdq",
        "outputId": "3dc33273-a447-4aa0-9cfe-14dd814976c1"
      },
      "execution_count": null,
      "outputs": [
        {
          "output_type": "execute_result",
          "data": {
            "text/plain": [
              "'2.5.1+cu121'"
            ],
            "application/vnd.google.colaboratory.intrinsic+json": {
              "type": "string"
            }
          },
          "metadata": {},
          "execution_count": 115
        }
      ]
    },
    {
      "cell_type": "markdown",
      "source": [
        "## 1. Data (preparing and loading)\n",
        "\n",
        "Data can be almost anything... in machine learning.\n",
        "\n",
        "* Excel spreadsheet\n",
        "* Images of any kind\n",
        "* Videos (Youtube has lots of data..)\n",
        "* Audio like songs or podcasts\n",
        "* DNA\n",
        "* Text\n",
        "\n",
        "Machine learning is a game of two parts:\n",
        "1. Get data into a numerical representation.\n",
        "2. Build a model to learn patters in the numerical representation.\n",
        "\n",
        "To showcase this, let's create some *known* data using the linear regression formula.\n",
        "\n",
        "We'll use a linear regression formula to make a straight line with known **parameters**."
      ],
      "metadata": {
        "id": "TSNL968MLPue"
      }
    },
    {
      "cell_type": "code",
      "source": [
        "# Create *known* parameters\n",
        "weight = 0.7\n",
        "bias = 0.3\n",
        "\n",
        "# Create some data\n",
        "start = 0\n",
        "end = 1\n",
        "step = 0.02\n",
        "X = torch.arange(start, end, step).unsqueeze(dim = 1)\n",
        "y = weight * X + bias\n",
        "\n",
        "print(X[:10], y[:10])"
      ],
      "metadata": {
        "colab": {
          "base_uri": "https://localhost:8080/"
        },
        "id": "HyYL3LrmM_Ya",
        "outputId": "cd097633-6368-4610-9547-121e7a67a497"
      },
      "execution_count": null,
      "outputs": [
        {
          "output_type": "stream",
          "name": "stdout",
          "text": [
            "tensor([[0.0000],\n",
            "        [0.0200],\n",
            "        [0.0400],\n",
            "        [0.0600],\n",
            "        [0.0800],\n",
            "        [0.1000],\n",
            "        [0.1200],\n",
            "        [0.1400],\n",
            "        [0.1600],\n",
            "        [0.1800]]) tensor([[0.3000],\n",
            "        [0.3140],\n",
            "        [0.3280],\n",
            "        [0.3420],\n",
            "        [0.3560],\n",
            "        [0.3700],\n",
            "        [0.3840],\n",
            "        [0.3980],\n",
            "        [0.4120],\n",
            "        [0.4260]])\n"
          ]
        }
      ]
    },
    {
      "cell_type": "code",
      "source": [
        "print(X.shape, y.shape)"
      ],
      "metadata": {
        "colab": {
          "base_uri": "https://localhost:8080/"
        },
        "id": "F58Ywgi5NhkV",
        "outputId": "eb7ad872-1d5a-491c-d97c-a019f6a546f4"
      },
      "execution_count": null,
      "outputs": [
        {
          "output_type": "stream",
          "name": "stdout",
          "text": [
            "torch.Size([50, 1]) torch.Size([50, 1])\n"
          ]
        }
      ]
    },
    {
      "cell_type": "markdown",
      "source": [
        "### Splitting data into training and test sets (one of the most important concepts in machine learning in general).\n",
        "\n",
        "Let's create a training and test set with our data."
      ],
      "metadata": {
        "id": "n3YQNhSAQX3s"
      }
    },
    {
      "cell_type": "code",
      "source": [
        "# Create a training/test split\n",
        "train_split = int(0.8 * len(X))\n",
        "X_train, y_train = X[:train_split], y[:train_split]\n",
        "X_test, y_test = X[train_split:], y[train_split:]\n",
        "\n",
        "len(X_train), len(y_train), len(X_test), len(y_test)"
      ],
      "metadata": {
        "colab": {
          "base_uri": "https://localhost:8080/"
        },
        "id": "I8Bm4ywQRYlD",
        "outputId": "f6f22684-133c-4c98-dee8-fa814d797796"
      },
      "execution_count": null,
      "outputs": [
        {
          "output_type": "execute_result",
          "data": {
            "text/plain": [
              "(40, 40, 10, 10)"
            ]
          },
          "metadata": {},
          "execution_count": 118
        }
      ]
    },
    {
      "cell_type": "markdown",
      "source": [
        "How might we better visualize our data?\n",
        "\n",
        "This is where the data explorer's motto comes in!\n",
        "\n",
        "\"Visualize, visualize, visualize\""
      ],
      "metadata": {
        "id": "ndkoRZjSSefc"
      }
    },
    {
      "cell_type": "code",
      "source": [
        "def plot_predictions(train_data = X_train,\n",
        "                     train_labels = y_train,\n",
        "                     test_data = X_test,\n",
        "                     test_labels = y_test,\n",
        "                     predictions = None):\n",
        "  '''\n",
        "  Plot training data, test data and compares predictions.\n",
        "  '''\n",
        "  plt.figure(figsize = (10, 7))\n",
        "\n",
        "  #Plot training data in blue\n",
        "  plt.scatter(train_data, train_labels, c = \"b\", s = 4, label = \"Training data\")\n",
        "\n",
        "  #Plot test data in green\n",
        "  plt.scatter(test_data, test_labels, c = \"g\", s = 4, label = \"Testing data\")\n",
        "\n",
        "  #Are there predictions\n",
        "  if predictions is not None:\n",
        "    #Plot the predictions if they exist\n",
        "    plt.scatter(test_data, predictions, c = \"r\", s = 4, label = \"Predictions\")\n",
        "\n",
        "  #Show the legend\n",
        "  plt.legend(prop = {\"size\":14})"
      ],
      "metadata": {
        "id": "vQNH0kXASlGl"
      },
      "execution_count": null,
      "outputs": []
    },
    {
      "cell_type": "code",
      "source": [
        "plot_predictions()"
      ],
      "metadata": {
        "colab": {
          "base_uri": "https://localhost:8080/",
          "height": 598
        },
        "id": "HrHN1gAya709",
        "outputId": "87108765-bc9a-4a03-d1aa-02f9a06ba87a"
      },
      "execution_count": null,
      "outputs": [
        {
          "output_type": "display_data",
          "data": {
            "text/plain": [
              "<Figure size 1000x700 with 1 Axes>"
            ],
            "image/png": "[encoded data removed]"
          },
          "metadata": {}
        }
      ]
    },
    {
      "cell_type": "markdown",
      "source": [
        "## 2. Build model\n",
        "\n",
        "Our first Pytorch Model.\n",
        "\n",
        "Lets do it! we would be using python OOP, to do so, you can use the following resource from Real Python:\n",
        "https://realpython.com/python3-object-oriented-programming/\n",
        "\n",
        "What our model does:\n",
        "* Start with random values (weight and bias).\n",
        "* Look at training data and adjust the random values to better represent (or get closer to) the ideal values (the wieght & bias values we used to create the data).\n",
        "\n",
        "How does it do so?\n",
        "\n",
        "Through two main algorithms:\n",
        "1. Gradient Descent: https://www.youtube.com/watch?v=IHZwWFHWa-w&t=444s&ab_channel=3Blue1Brown\n",
        "2. Backpropagation: https://www.youtube.com/watch?v=Ilg3gGewQ5U&ab_channel=3Blue1Brown"
      ],
      "metadata": {
        "id": "92ENeYR_fbyd"
      }
    },
    {
      "cell_type": "code",
      "source": [
        "from torch import nn\n",
        "\n",
        "#Create a linear regression model class\n",
        "class LinearRegressionModel(nn.Module): # <- almost everything in PyTorch inherits nn.Module\n",
        "  def __init__(self) -> None:\n",
        "    super().__init__()\n",
        "    self.weights = nn.Parameter(torch.randn(1,\n",
        "                                            requires_grad=True,\n",
        "                                            dtype = torch.float))\n",
        "    self.bias = nn.Parameter(torch.randn(1,\n",
        "                                         requires_grad = True,\n",
        "                                         dtype= torch.float))\n",
        "\n",
        "  #Forward method to define the computation of the model\n",
        "  def forward(self, x:torch.Tensor) -> torch.Tensor: #<- \"x\" is the input data\n",
        "    return self.weights * x + self.bias # this is the linear regression formula\n",
        "\n"
      ],
      "metadata": {
        "id": "syAiIiSdflMu"
      },
      "execution_count": null,
      "outputs": []
    },
    {
      "cell_type": "markdown",
      "source": [
        "### Pytorch model building essentials\n",
        "\n",
        "* torch.nn - contains all of the buildings for computational graphs (a neural network can be considered a compuational graph).\n",
        "* torch.nn.Parameter - what parameters should our model try and learn, often a PyTorch layer from torch.nn will set these for us.\n",
        "* torch.nn.Module - The base class for all neural network modules, if you subclass it, you should overwrite forward().\n",
        "*torch.optim - this is where the optimizers in PyTorch live, these will help with gradient descent.\n",
        "* def forward() -All nn.Module subclasses require you to overwrite forward(), this method defines what happens in the forward computation.\n",
        "\n",
        "See more of these essentials via the PyTorch Module: https://pytorch.org/tutorials/beginner/ptcheat.html\n"
      ],
      "metadata": {
        "id": "SCj66ADWRfCF"
      }
    },
    {
      "cell_type": "markdown",
      "source": [
        "### Checking the contents of our PyTorch Model\n",
        "\n",
        "Now we've created a model, let's see what's inside.\n",
        "\n",
        "So we can check out our model parameters or what's inside our model using `.parameters()`!"
      ],
      "metadata": {
        "id": "BiF62fuHtEKb"
      }
    },
    {
      "cell_type": "code",
      "source": [
        "# Create a random seed\n",
        "torch.manual_seed(42)\n",
        "\n",
        "#Create an instance of the model (this is a subclass of nn.Module)\n",
        "model_0 = LinearRegressionModel()\n",
        "\n",
        "#Check out the parameters (its a generator, so list it!)\n",
        "list(model_0.parameters())"
      ],
      "metadata": {
        "colab": {
          "base_uri": "https://localhost:8080/"
        },
        "id": "SRT6BXhFtZ08",
        "outputId": "ad2873bf-1407-4ded-8366-596150083657"
      },
      "execution_count": null,
      "outputs": [
        {
          "output_type": "execute_result",
          "data": {
            "text/plain": [
              "[Parameter containing:\n",
              " tensor([0.3367], requires_grad=True),\n",
              " Parameter containing:\n",
              " tensor([0.1288], requires_grad=True)]"
            ]
          },
          "metadata": {},
          "execution_count": 122
        }
      ]
    },
    {
      "cell_type": "code",
      "source": [
        "#List named parameters\n",
        "print(model_0.state_dict())\n",
        "\n",
        "#Print the necessary values now\n",
        "print(f\"Real Weights: {weight}, Real Bias: {bias}\")"
      ],
      "metadata": {
        "colab": {
          "base_uri": "https://localhost:8080/"
        },
        "id": "-B168Dmfuodb",
        "outputId": "52662b2b-a2c7-4ef1-9d82-fd4cf107f9f7"
      },
      "execution_count": null,
      "outputs": [
        {
          "output_type": "stream",
          "name": "stdout",
          "text": [
            "OrderedDict([('weights', tensor([0.3367])), ('bias', tensor([0.1288]))])\n",
            "Real Weights: 0.7, Real Bias: 0.3\n"
          ]
        }
      ]
    },
    {
      "cell_type": "markdown",
      "source": [
        "### Making prediction using `torch.inference_mode()`\n",
        "\n",
        "To check our model's predictive power, let's see how well it predicts `y_test` based on `X_test`.\n",
        "\n",
        "When we pass data through our model, it's going to run it through the 'forward()' method."
      ],
      "metadata": {
        "id": "DKS41CAIvSMc"
      }
    },
    {
      "cell_type": "code",
      "source": [
        "# Lets see what X_test\n",
        "X_test, y_test"
      ],
      "metadata": {
        "colab": {
          "base_uri": "https://localhost:8080/"
        },
        "id": "Pa-TApGYvv0U",
        "outputId": "e7aa7a65-d2c0-479c-ee93-2e49fa95b485"
      },
      "execution_count": null,
      "outputs": [
        {
          "output_type": "execute_result",
          "data": {
            "text/plain": [
              "(tensor([[0.8000],\n",
              "         [0.8200],\n",
              "         [0.8400],\n",
              "         [0.8600],\n",
              "         [0.8800],\n",
              "         [0.9000],\n",
              "         [0.9200],\n",
              "         [0.9400],\n",
              "         [0.9600],\n",
              "         [0.9800]]),\n",
              " tensor([[0.8600],\n",
              "         [0.8740],\n",
              "         [0.8880],\n",
              "         [0.9020],\n",
              "         [0.9160],\n",
              "         [0.9300],\n",
              "         [0.9440],\n",
              "         [0.9580],\n",
              "         [0.9720],\n",
              "         [0.9860]]))"
            ]
          },
          "metadata": {},
          "execution_count": 124
        }
      ]
    },
    {
      "cell_type": "code",
      "source": [
        "# Make predictions with model\n",
        "with torch.inference_mode():\n",
        "  y_preds = model_0(X_test)\n",
        "\n",
        "# You can also do something similar with torch.no_grad, however torch.inference_mode() is preferred\n",
        "# with torch.no_grad():\n",
        "# y_preds = model_0(X_test)\n",
        "\n",
        "y_preds, y_test"
      ],
      "metadata": {
        "colab": {
          "base_uri": "https://localhost:8080/"
        },
        "id": "0J3JCaznvomM",
        "outputId": "2c55e36e-08d1-4794-c095-2680fd764325"
      },
      "execution_count": null,
      "outputs": [
        {
          "output_type": "execute_result",
          "data": {
            "text/plain": [
              "(tensor([[0.3982],\n",
              "         [0.4049],\n",
              "         [0.4116],\n",
              "         [0.4184],\n",
              "         [0.4251],\n",
              "         [0.4318],\n",
              "         [0.4386],\n",
              "         [0.4453],\n",
              "         [0.4520],\n",
              "         [0.4588]]),\n",
              " tensor([[0.8600],\n",
              "         [0.8740],\n",
              "         [0.8880],\n",
              "         [0.9020],\n",
              "         [0.9160],\n",
              "         [0.9300],\n",
              "         [0.9440],\n",
              "         [0.9580],\n",
              "         [0.9720],\n",
              "         [0.9860]]))"
            ]
          },
          "metadata": {},
          "execution_count": 125
        }
      ]
    },
    {
      "cell_type": "code",
      "source": [
        "plot_predictions(predictions=y_preds)"
      ],
      "metadata": {
        "colab": {
          "base_uri": "https://localhost:8080/",
          "height": 598
        },
        "id": "Oat16-2gwdiy",
        "outputId": "5a7677c4-07ea-4fd4-b1ca-77a77aedac27"
      },
      "execution_count": null,
      "outputs": [
        {
          "output_type": "display_data",
          "data": {
            "text/plain": [
              "<Figure size 1000x700 with 1 Axes>"
            ],
            "image/png": "[encoded data removed]"
          },
          "metadata": {}
        }
      ]
    },
    {
      "cell_type": "markdown",
      "source": [
        "### 3. Train model\n",
        "\n",
        "The whole idea of training is for a model to move from some *unknown* parameters (these may be random) to some *known* parameters.\n",
        "\n",
        "Or in other words from a poor representation of the data to a better representation of the data.\n",
        "\n",
        "One way to measure how poor or how wrong your models predictions are us to use a loss function.\n",
        "\n",
        "* Note: Loss function may also be called cost function or criterion in different areas. For our case we're going to refer to it as a loss function.\n",
        "\n",
        "* **Loss function:** A function to measure how wrong your model's predictions are to the ideals outputs, lower is better.\n",
        "* **Optimizer** Takes into account the loss of a model and adjusts the model's parameters (e.g: weight and biases).\n",
        "Link: https://pytorch.org/docs/stable/optim.html\n",
        "\n",
        "\n",
        "And specifically for PyTorch, wee need:\n",
        "* A training loop.\n",
        "* A testing loop."
      ],
      "metadata": {
        "id": "WnxtXISgyxAw"
      }
    },
    {
      "cell_type": "code",
      "source": [
        "list(model_0.parameters())"
      ],
      "metadata": {
        "colab": {
          "base_uri": "https://localhost:8080/"
        },
        "id": "JD6ZOa_C2LTE",
        "outputId": "983db038-dd41-49e2-8c88-9fa8594a5b3e"
      },
      "execution_count": null,
      "outputs": [
        {
          "output_type": "execute_result",
          "data": {
            "text/plain": [
              "[Parameter containing:\n",
              " tensor([0.3367], requires_grad=True),\n",
              " Parameter containing:\n",
              " tensor([0.1288], requires_grad=True)]"
            ]
          },
          "metadata": {},
          "execution_count": 127
        }
      ]
    },
    {
      "cell_type": "code",
      "source": [
        "#Check our model's parameters (a parameter is a value that the model sets itself).\n",
        "model_0.state_dict()"
      ],
      "metadata": {
        "colab": {
          "base_uri": "https://localhost:8080/"
        },
        "id": "Y3W5XMgP2OTs",
        "outputId": "cfdc7070-5856-4a7b-f4b1-7c662ea951a4"
      },
      "execution_count": null,
      "outputs": [
        {
          "output_type": "execute_result",
          "data": {
            "text/plain": [
              "OrderedDict([('weights', tensor([0.3367])), ('bias', tensor([0.1288]))])"
            ]
          },
          "metadata": {},
          "execution_count": 128
        }
      ]
    },
    {
      "cell_type": "code",
      "source": [
        "# Setup a loss function\n",
        "loss_fn = nn.L1Loss()\n",
        "\n",
        "# Setup an optimizer (Stochastic gradient descent)\n",
        "optimizer = torch.optim.SGD(params = model_0.parameters(),\n",
        "                            lr=0.01) # lr = learning rate =  possibly the most important hyperparameter you can set"
      ],
      "metadata": {
        "id": "pu7aJ7JV4RCj"
      },
      "execution_count": null,
      "outputs": []
    },
    {
      "cell_type": "markdown",
      "source": [
        "**Q**: Which loss function and optimizer should I use?\n",
        "\n",
        "**A**: This will be problem specific. But with experience, you'll get an idea of what works and what doesn't work with your particular problem set.\n",
        "\n",
        "For example, for a regression problem (like ours, a loss function of `nn.L1Loss()` and an optimizer like `torch.optim.SGD()` will suffice).\n",
        "\n",
        "But for a classification problem like classifying wheter a photo is of a dog or a cat, you'll likely want to use a binary classification loss `nn.BCELoss()` (binary cross entropy loss).\n"
      ],
      "metadata": {
        "id": "RVTl2E4v9Th1"
      }
    },
    {
      "cell_type": "markdown",
      "source": [
        "### Building a training loop in PyTorch (and a testing loop) in PyTorch\n",
        "\n",
        "A couple of things we need in a training loop:\n",
        "0. Loop through the data and do...\n",
        "1. Forward pass (this involves data moving through our model's `forward()`) to make predictions on data - also called forward propagation.\n",
        "2. Calculate the loss (compare forward pass predictions to ground truth labels).\n",
        "3. Optimizer zero grad\n",
        "4. Loss backward - move backwards through the network to calculate the gradients of each of the parameters of our model with respect to the loss (cost) (**Backpropagation**).\n",
        "5. Optimizer step - Use the optimizer to adjust our model's parameters to try and improve the loss (**Gradient Descent**)."
      ],
      "metadata": {
        "id": "HQ1eolVB96Qf"
      }
    },
    {
      "cell_type": "code",
      "source": [
        "torch.manual_seed(42)\n",
        "\n",
        "# An epoch is one loop through the data... (this is a hyperparameter because we've set it ourselves)\n",
        "epochs = 200\n",
        "\n",
        "#Set up lists for tracking experiments\n",
        "epoch_count = []\n",
        "train_loss_values = []\n",
        "test_loss_values = []\n",
        "\n",
        "### Training\n",
        "# 0. Loop through the data\n",
        "for epoch in range(epochs):\n",
        "  # Set the model to training mode\n",
        "  model_0.train() # train mode in PyTorch sets all parameters that require gradients to update\n",
        "\n",
        "  # 1. Forward pass on training data\n",
        "  y_pred = model_0(X_train)\n",
        "\n",
        "  # 2. Calculate the loss on training data\n",
        "  loss = loss_fn(y_pred, y_train)\n",
        "\n",
        "  # 3. Optimizer zero grad\n",
        "  optimizer.zero_grad()\n",
        "\n",
        "  # 4. Perform backpropagation on the loss with respect to\n",
        "  loss.backward()\n",
        "\n",
        "  #5. Step the optimizer (perform gradient descent)\n",
        "  optimizer.step() # by default how the optimizer channges will accumulate through the loop so... we have to zero them before going into the loop again\n",
        "\n",
        "  ### Testing\n",
        "  model_0.eval() #turns off different settings in the model not needed for evaluation/testing (dropout/batchnorm_layers)\n",
        "  with torch.inference_mode(): #turns off gradient tracking with a couple more optimization lines: https://x.com/PyTorch/status/1437838231505096708\n",
        "  #with torch.no_grad() # you may also see this in old PyTorch CODE\n",
        "\n",
        "    #1. Do the forward pass\n",
        "    test_pred = model_0(X_test)\n",
        "\n",
        "    #2. Calculate the loss\n",
        "    test_loss = loss_fn(test_pred, y_test)\n",
        "\n",
        "  # Print out what's happenin'\n",
        "  if epoch % 10 == 0:\n",
        "    epoch_count.append(epoch)\n",
        "    train_loss_values.append(loss)\n",
        "    test_loss_values.append(test_loss)\n",
        "    print(f\"Epoch: {epoch} | Loss: {loss}| Test loss: {test_loss}\")\n",
        "    # Print out the model state dict\n",
        "    print(model_0.state_dict())\n"
      ],
      "metadata": {
        "colab": {
          "base_uri": "https://localhost:8080/"
        },
        "id": "UIngqKaXADG0",
        "outputId": "71863042-df0f-4b50-a815-d27d189be9b3"
      },
      "execution_count": null,
      "outputs": [
        {
          "output_type": "stream",
          "name": "stdout",
          "text": [
            "Epoch: 0 | Loss: 0.31288138031959534| Test loss: 0.48106518387794495\n",
            "OrderedDict([('weights', tensor([0.3406])), ('bias', tensor([0.1388]))])\n",
            "Epoch: 10 | Loss: 0.1976713240146637| Test loss: 0.3463551998138428\n",
            "OrderedDict([('weights', tensor([0.3796])), ('bias', tensor([0.2388]))])\n",
            "Epoch: 20 | Loss: 0.08908725529909134| Test loss: 0.21729660034179688\n",
            "OrderedDict([('weights', tensor([0.4184])), ('bias', tensor([0.3333]))])\n",
            "Epoch: 30 | Loss: 0.053148526698350906| Test loss: 0.14464017748832703\n",
            "OrderedDict([('weights', tensor([0.4512])), ('bias', tensor([0.3768]))])\n",
            "Epoch: 40 | Loss: 0.04543796554207802| Test loss: 0.11360953003168106\n",
            "OrderedDict([('weights', tensor([0.4748])), ('bias', tensor([0.3868]))])\n",
            "Epoch: 50 | Loss: 0.04167863354086876| Test loss: 0.09919948130846024\n",
            "OrderedDict([('weights', tensor([0.4938])), ('bias', tensor([0.3843]))])\n",
            "Epoch: 60 | Loss: 0.03818932920694351| Test loss: 0.08886633068323135\n",
            "OrderedDict([('weights', tensor([0.5116])), ('bias', tensor([0.3788]))])\n",
            "Epoch: 70 | Loss: 0.03476089984178543| Test loss: 0.0805937647819519\n",
            "OrderedDict([('weights', tensor([0.5288])), ('bias', tensor([0.3718]))])\n",
            "Epoch: 80 | Loss: 0.03132382780313492| Test loss: 0.07232122868299484\n",
            "OrderedDict([('weights', tensor([0.5459])), ('bias', tensor([0.3648]))])\n",
            "Epoch: 90 | Loss: 0.02788739837706089| Test loss: 0.06473556160926819\n",
            "OrderedDict([('weights', tensor([0.5629])), ('bias', tensor([0.3573]))])\n",
            "Epoch: 100 | Loss: 0.024458957836031914| Test loss: 0.05646304413676262\n",
            "OrderedDict([('weights', tensor([0.5800])), ('bias', tensor([0.3503]))])\n",
            "Epoch: 110 | Loss: 0.021020207554101944| Test loss: 0.04819049686193466\n",
            "OrderedDict([('weights', tensor([0.5972])), ('bias', tensor([0.3433]))])\n",
            "Epoch: 120 | Loss: 0.01758546568453312| Test loss: 0.04060482233762741\n",
            "OrderedDict([('weights', tensor([0.6141])), ('bias', tensor([0.3358]))])\n",
            "Epoch: 130 | Loss: 0.014155393466353416| Test loss: 0.03233227878808975\n",
            "OrderedDict([('weights', tensor([0.6313])), ('bias', tensor([0.3288]))])\n",
            "Epoch: 140 | Loss: 0.010716589167714119| Test loss: 0.024059748277068138\n",
            "OrderedDict([('weights', tensor([0.6485])), ('bias', tensor([0.3218]))])\n",
            "Epoch: 150 | Loss: 0.0072835334576666355| Test loss: 0.016474086791276932\n",
            "OrderedDict([('weights', tensor([0.6654])), ('bias', tensor([0.3143]))])\n",
            "Epoch: 160 | Loss: 0.0038517764769494534| Test loss: 0.008201557211577892\n",
            "OrderedDict([('weights', tensor([0.6826])), ('bias', tensor([0.3073]))])\n",
            "Epoch: 170 | Loss: 0.008932482451200485| Test loss: 0.005023092031478882\n",
            "OrderedDict([('weights', tensor([0.6951])), ('bias', tensor([0.2993]))])\n",
            "Epoch: 180 | Loss: 0.008932482451200485| Test loss: 0.005023092031478882\n",
            "OrderedDict([('weights', tensor([0.6951])), ('bias', tensor([0.2993]))])\n",
            "Epoch: 190 | Loss: 0.008932482451200485| Test loss: 0.005023092031478882\n",
            "OrderedDict([('weights', tensor([0.6951])), ('bias', tensor([0.2993]))])\n"
          ]
        }
      ]
    },
    {
      "cell_type": "code",
      "source": [
        "#Convert the list to numpy\n",
        "np_train_loss_values = np.array(torch.tensor(train_loss_values).cpu().numpy())\n",
        "np_test_loss_values = np.array(torch.tensor(test_loss_values).cpu().numpy())\n",
        "\n",
        "#Plot the loss curves\n",
        "plt.plot(epoch_count, np_train_loss_values, label = \"Train loss\")\n",
        "plt.plot(epoch_count, np_test_loss_values, label = \"Test loss\")\n",
        "plt.title(\"Training and test loss curves\")\n",
        "plt.ylabel(\"Loss\")\n",
        "plt.xlabel(\"Epochs\")\n",
        "plt.legend()"
      ],
      "metadata": {
        "colab": {
          "base_uri": "https://localhost:8080/",
          "height": 489
        },
        "id": "OL3CzV1DRqh5",
        "outputId": "dd941c31-6994-4a41-e258-6505b7a91119"
      },
      "execution_count": null,
      "outputs": [
        {
          "output_type": "execute_result",
          "data": {
            "text/plain": [
              "<matplotlib.legend.Legend at 0x7cabdcab5050>"
            ]
          },
          "metadata": {},
          "execution_count": 131
        },
        {
          "output_type": "display_data",
          "data": {
            "text/plain": [
              "<Figure size 640x480 with 1 Axes>"
            ],
            "image/png": "[encoded data removed]"
          },
          "metadata": {}
        }
      ]
    },
    {
      "cell_type": "code",
      "source": [
        "#Obtain the predictions new with trained model\n",
        "with torch.inference_mode():\n",
        "  model_0.eval()\n",
        "  y_preds_new = model_0(X_test)\n",
        "  print(model_0.state_dict())"
      ],
      "metadata": {
        "colab": {
          "base_uri": "https://localhost:8080/"
        },
        "id": "x4rUs5czyKOV",
        "outputId": "55008b2e-5c2f-403f-b878-ef4ade7e73ba"
      },
      "execution_count": null,
      "outputs": [
        {
          "output_type": "stream",
          "name": "stdout",
          "text": [
            "OrderedDict([('weights', tensor([0.6990])), ('bias', tensor([0.3093]))])\n"
          ]
        }
      ]
    },
    {
      "cell_type": "code",
      "source": [
        "weight, bias"
      ],
      "metadata": {
        "colab": {
          "base_uri": "https://localhost:8080/"
        },
        "id": "rD0qCj2qxj7Y",
        "outputId": "640be605-d777-4398-83f9-e70ec5a1065c"
      },
      "execution_count": null,
      "outputs": [
        {
          "output_type": "execute_result",
          "data": {
            "text/plain": [
              "(0.7, 0.3)"
            ]
          },
          "metadata": {},
          "execution_count": 133
        }
      ]
    },
    {
      "cell_type": "code",
      "source": [
        "#Plot the predcitions without training\n",
        "plot_predictions(predictions=y_preds)"
      ],
      "metadata": {
        "colab": {
          "base_uri": "https://localhost:8080/",
          "height": 598
        },
        "id": "4VIoga0vP0ni",
        "outputId": "c09d278c-51af-48dc-d7c7-c570b4936149"
      },
      "execution_count": null,
      "outputs": [
        {
          "output_type": "display_data",
          "data": {
            "text/plain": [
              "<Figure size 1000x700 with 1 Axes>"
            ],
            "image/png": "[encoded data removed]"
          },
          "metadata": {}
        }
      ]
    },
    {
      "cell_type": "code",
      "source": [
        "#Plot the new predictions\n",
        "plot_predictions(predictions = y_preds_new)"
      ],
      "metadata": {
        "colab": {
          "base_uri": "https://localhost:8080/",
          "height": 598
        },
        "id": "vtt-CSeLy1Oo",
        "outputId": "167ff2a4-c367-459a-c1cc-aed4d5981cd1"
      },
      "execution_count": null,
      "outputs": [
        {
          "output_type": "display_data",
          "data": {
            "text/plain": [
              "<Figure size 1000x700 with 1 Axes>"
            ],
            "image/png": "[encoded data removed]"
          },
          "metadata": {}
        }
      ]
    },
    {
      "cell_type": "markdown",
      "source": [
        "### Saving a model in PyTorch\n",
        "\n",
        "There are three main methods you should know about for saving and loading models in PyTorch.\n",
        "\n",
        "1. `torch.save()`: Saves you a PyTorch object in pickle format.\n",
        "2. `torch.load()`: Allows you load a saved PyTorch Object.\n",
        "3. `torch.nn.Module.load_state_dict()`: Allos you to load's a model's saved state dictionary.\n",
        "\n",
        "PyTorch save & load code tutorial + extra curriculum: https://pytorch.org/tutorials/beginner/saving_loading_models.html\n"
      ],
      "metadata": {
        "id": "Ds3am4QRaEgQ"
      }
    },
    {
      "cell_type": "code",
      "source": [
        "model_0.state_dict()"
      ],
      "metadata": {
        "colab": {
          "base_uri": "https://localhost:8080/"
        },
        "id": "9CswVSMeaG78",
        "outputId": "1988d54a-af43-4345-f815-9379ce7393ee"
      },
      "execution_count": null,
      "outputs": [
        {
          "output_type": "execute_result",
          "data": {
            "text/plain": [
              "OrderedDict([('weights', tensor([0.6990])), ('bias', tensor([0.3093]))])"
            ]
          },
          "metadata": {},
          "execution_count": 136
        }
      ]
    },
    {
      "cell_type": "code",
      "source": [
        "### Saving our PyTorch model\n",
        "from pathlib import Path\n",
        "\n",
        "#1. Create models directory\n",
        "MODEL_PATH = Path(\"models\")\n",
        "MODEL_PATH.mkdir(parents = True, exist_ok=True)\n",
        "\n",
        "#2. Create model save path (extension .pth for PyTorch Objects)\n",
        "MODEL_NAME = \"01_PyTorch_Workflow_0.pth\"\n",
        "MODEL_SAVE_PATH = MODEL_PATH / MODEL_NAME\n",
        "\n",
        "#3. Save the model_state_dict for inference (Recommended)\n",
        "print(f\"Saving model to:{MODEL_SAVE_PATH}\")\n",
        "torch.save(obj = model_0.state_dict(), f = MODEL_SAVE_PATH)"
      ],
      "metadata": {
        "colab": {
          "base_uri": "https://localhost:8080/"
        },
        "id": "JfiMWOuLESJG",
        "outputId": "4f4e8311-2404-495e-eceb-20cb9746dc0c"
      },
      "execution_count": null,
      "outputs": [
        {
          "output_type": "stream",
          "name": "stdout",
          "text": [
            "Saving model to:models/01_PyTorch_Workflow_0.pth\n"
          ]
        }
      ]
    },
    {
      "cell_type": "code",
      "source": [
        "!ls -l models"
      ],
      "metadata": {
        "colab": {
          "base_uri": "https://localhost:8080/"
        },
        "id": "Giz2Hc69FjiC",
        "outputId": "47d8b693-1bee-4c09-83f4-859de7a323ee"
      },
      "execution_count": null,
      "outputs": [
        {
          "output_type": "stream",
          "name": "stdout",
          "text": [
            "total 4\n",
            "-rw-r--r-- 1 root root 1580 Jan 23 23:48 01_PyTorch_Workflow_0.pth\n"
          ]
        }
      ]
    },
    {
      "cell_type": "markdown",
      "source": [
        "## Loading a PyTorch model\n",
        "\n",
        "Since we saved our model's `state_dict()`, we'll create a new instance of our\n",
        "model class and load the saved `state_dict()` into that."
      ],
      "metadata": {
        "id": "NBWKZppsGqd-"
      }
    },
    {
      "cell_type": "code",
      "source": [
        "# To load in a saved state_dict, we have to instantiate a new instance of our model class\n",
        "loaded_model_0 = LinearRegressionModel()\n",
        "\n",
        "# Load the saved state_dcit of model_0 (this will update the new instance with updated parameters).\n",
        "# ALWAYS use weights_only = True to protect your system :)\n",
        "loaded_model_0.load_state_dict(torch.load(f = MODEL_SAVE_PATH, weights_only=True))"
      ],
      "metadata": {
        "colab": {
          "base_uri": "https://localhost:8080/"
        },
        "id": "mEjM3uMYG4J5",
        "outputId": "e1faedd2-a183-4a7d-8e60-5267f2cd8cdf"
      },
      "execution_count": null,
      "outputs": [
        {
          "output_type": "execute_result",
          "data": {
            "text/plain": [
              "<All keys matched successfully>"
            ]
          },
          "metadata": {},
          "execution_count": 139
        }
      ]
    },
    {
      "cell_type": "code",
      "source": [
        "loaded_model_0.state_dict()"
      ],
      "metadata": {
        "colab": {
          "base_uri": "https://localhost:8080/"
        },
        "id": "sEPuf1SGHPwl",
        "outputId": "c4bfcf21-b554-45c4-995a-272ffc975671"
      },
      "execution_count": null,
      "outputs": [
        {
          "output_type": "execute_result",
          "data": {
            "text/plain": [
              "OrderedDict([('weights', tensor([0.6990])), ('bias', tensor([0.3093]))])"
            ]
          },
          "metadata": {},
          "execution_count": 140
        }
      ]
    },
    {
      "cell_type": "code",
      "source": [
        "# Make some predictions with our loaded model\n",
        "loaded_model_0.eval()\n",
        "with torch.inference_mode():\n",
        "  loaded_model_preds = loaded_model_0(X_test)\n",
        "\n",
        "loaded_model_preds"
      ],
      "metadata": {
        "colab": {
          "base_uri": "https://localhost:8080/"
        },
        "id": "OFbzYIyYIAoU",
        "outputId": "ee77c191-b74b-47fe-98de-c843823a8858"
      },
      "execution_count": null,
      "outputs": [
        {
          "output_type": "execute_result",
          "data": {
            "text/plain": [
              "tensor([[0.8685],\n",
              "        [0.8825],\n",
              "        [0.8965],\n",
              "        [0.9105],\n",
              "        [0.9245],\n",
              "        [0.9384],\n",
              "        [0.9524],\n",
              "        [0.9664],\n",
              "        [0.9804],\n",
              "        [0.9944]])"
            ]
          },
          "metadata": {},
          "execution_count": 141
        }
      ]
    },
    {
      "cell_type": "code",
      "source": [
        "#Compare loaded model preds with original model preds\n",
        "y_preds_new == loaded_model_preds"
      ],
      "metadata": {
        "colab": {
          "base_uri": "https://localhost:8080/"
        },
        "id": "23C_xATvINui",
        "outputId": "ed2705a4-cc3c-4703-9e37-c6dbef3e98c7"
      },
      "execution_count": null,
      "outputs": [
        {
          "output_type": "execute_result",
          "data": {
            "text/plain": [
              "tensor([[True],\n",
              "        [True],\n",
              "        [True],\n",
              "        [True],\n",
              "        [True],\n",
              "        [True],\n",
              "        [True],\n",
              "        [True],\n",
              "        [True],\n",
              "        [True]])"
            ]
          },
          "metadata": {},
          "execution_count": 142
        }
      ]
    },
    {
      "cell_type": "markdown",
      "source": [
        "## 6 Putting it all together\n",
        "\n",
        "Let's go back through the steps above and see it all in one place.\n"
      ],
      "metadata": {
        "id": "WYYC6qJLI5T5"
      }
    },
    {
      "cell_type": "code",
      "source": [
        "# Importing PyTorch and matplotlib\n",
        "import torch\n",
        "from torch import nn\n",
        "import matplotlib.pyplot as plt\n",
        "\n",
        "#Check PyTorch version\n",
        "torch.__version__"
      ],
      "metadata": {
        "colab": {
          "base_uri": "https://localhost:8080/",
          "height": 35
        },
        "id": "pR2R9X-2JA6Z",
        "outputId": "3ff5b09c-9437-4b35-c9ca-ed447602fc37"
      },
      "execution_count": null,
      "outputs": [
        {
          "output_type": "execute_result",
          "data": {
            "text/plain": [
              "'2.5.1+cu121'"
            ],
            "application/vnd.google.colaboratory.intrinsic+json": {
              "type": "string"
            }
          },
          "metadata": {},
          "execution_count": 143
        }
      ]
    },
    {
      "cell_type": "markdown",
      "source": [
        "### Create device Agnostic code\n",
        "This meas if we've got access to GPU, our code will use it (for potentially faster computing).\n",
        "\n",
        "If no GPU is available, the code will default to using CPU."
      ],
      "metadata": {
        "id": "QXfwNkZUJjGL"
      }
    },
    {
      "cell_type": "code",
      "source": [
        "#Setup device agnostic code\n",
        "device = \"cuda\" if torch.cuda.is_available() else \"cpu\"\n",
        "print(f\"Using device: {device}\")"
      ],
      "metadata": {
        "colab": {
          "base_uri": "https://localhost:8080/"
        },
        "id": "Gas7gCHiJtYe",
        "outputId": "56d4db26-b9aa-4c52-fb77-73d39096abcf"
      },
      "execution_count": null,
      "outputs": [
        {
          "output_type": "stream",
          "name": "stdout",
          "text": [
            "Using device: cuda\n"
          ]
        }
      ]
    },
    {
      "cell_type": "code",
      "source": [
        "if device == \"cuda\":\n",
        "  !nvidia-smi"
      ],
      "metadata": {
        "colab": {
          "base_uri": "https://localhost:8080/"
        },
        "id": "VrMQuMZhJ_dx",
        "outputId": "925522f3-92b7-4c03-b257-107b4005b91d"
      },
      "execution_count": null,
      "outputs": [
        {
          "output_type": "stream",
          "name": "stdout",
          "text": [
            "Thu Jan 23 23:48:58 2025       \n",
            "+---------------------------------------------------------------------------------------+\n",
            "| NVIDIA-SMI 535.104.05             Driver Version: 535.104.05   CUDA Version: 12.2     |\n",
            "|-----------------------------------------+----------------------+----------------------+\n",
            "| GPU  Name                 Persistence-M | Bus-Id        Disp.A | Volatile Uncorr. ECC |\n",
            "| Fan  Temp   Perf          Pwr:Usage/Cap |         Memory-Usage | GPU-Util  Compute M. |\n",
            "|                                         |                      |               MIG M. |\n",
            "|=========================================+======================+======================|\n",
            "|   0  Tesla T4                       Off | 00000000:00:04.0 Off |                    0 |\n",
            "| N/A   72C    P0              33W /  70W |    159MiB / 15360MiB |      0%      Default |\n",
            "|                                         |                      |                  N/A |\n",
            "+-----------------------------------------+----------------------+----------------------+\n",
            "                                                                                         \n",
            "+---------------------------------------------------------------------------------------+\n",
            "| Processes:                                                                            |\n",
            "|  GPU   GI   CI        PID   Type   Process name                            GPU Memory |\n",
            "|        ID   ID                                                             Usage      |\n",
            "|=======================================================================================|\n",
            "+---------------------------------------------------------------------------------------+\n"
          ]
        }
      ]
    },
    {
      "cell_type": "markdown",
      "source": [
        "## 6.1 Data"
      ],
      "metadata": {
        "id": "09bNTYemJf24"
      }
    },
    {
      "cell_type": "code",
      "source": [
        "# Create some data using the linear regression formula of y = weight*features + bias\n",
        "weight = 0.4\n",
        "bias = 0.2\n",
        "\n",
        "# Create range of values\n",
        "start = 0\n",
        "end = 1\n",
        "step = 0.02\n",
        "\n",
        "# Create X and y (features and labels)\n",
        "X = torch.arange(start, end, step).unsqueeze(dim = 1)\n",
        "y = weight * X + bias\n",
        "X[:10], y[:10]"
      ],
      "metadata": {
        "colab": {
          "base_uri": "https://localhost:8080/"
        },
        "id": "9jZoNpPWKRyW",
        "outputId": "fde65018-089a-44df-dfc1-8a2d6f6121da"
      },
      "execution_count": null,
      "outputs": [
        {
          "output_type": "execute_result",
          "data": {
            "text/plain": [
              "(tensor([[0.0000],\n",
              "         [0.0200],\n",
              "         [0.0400],\n",
              "         [0.0600],\n",
              "         [0.0800],\n",
              "         [0.1000],\n",
              "         [0.1200],\n",
              "         [0.1400],\n",
              "         [0.1600],\n",
              "         [0.1800]]),\n",
              " tensor([[0.2000],\n",
              "         [0.2080],\n",
              "         [0.2160],\n",
              "         [0.2240],\n",
              "         [0.2320],\n",
              "         [0.2400],\n",
              "         [0.2480],\n",
              "         [0.2560],\n",
              "         [0.2640],\n",
              "         [0.2720]]))"
            ]
          },
          "metadata": {},
          "execution_count": 146
        }
      ]
    },
    {
      "cell_type": "code",
      "source": [
        "#Split data\n",
        "train_split = int(0.8 * len(X))\n",
        "X_train, y_train = X[:train_split], y[:train_split]\n",
        "X_test, y_test = X[train_split:], y[train_split:]\n",
        "len(X_train), len(y_train), len(X_test), len(y_test)"
      ],
      "metadata": {
        "colab": {
          "base_uri": "https://localhost:8080/"
        },
        "id": "9opZbSOdK242",
        "outputId": "bc55cd77-14ea-445b-da20-4a8a2d04e36d"
      },
      "execution_count": null,
      "outputs": [
        {
          "output_type": "execute_result",
          "data": {
            "text/plain": [
              "(40, 40, 10, 10)"
            ]
          },
          "metadata": {},
          "execution_count": 147
        }
      ]
    },
    {
      "cell_type": "code",
      "source": [
        "def plot_predictions(train_data = X_train,\n",
        "                     train_labels = y_train,\n",
        "                     test_data = X_test,\n",
        "                     test_labels = y_test,\n",
        "                     predictions = None):\n",
        "  '''\n",
        "  Plot training data, test data and compares predictions.\n",
        "  '''\n",
        "  plt.figure(figsize = (10, 7))\n",
        "\n",
        "  #Plot training data in blue\n",
        "  plt.scatter(train_data, train_labels, c = \"b\", s = 4, label = \"Training data\")\n",
        "\n",
        "  #Plot test data in green\n",
        "  plt.scatter(test_data, test_labels, c = \"g\", s = 4, label = \"Testing data\")\n",
        "\n",
        "  #Are there predictions\n",
        "  if predictions is not None:\n",
        "    #Plot the predictions if they exist\n",
        "    plt.scatter(test_data, predictions, c = \"r\", s = 4, label = \"Predictions\")\n",
        "\n",
        "  #Show the legend\n",
        "  plt.legend(prop = {\"size\":14})"
      ],
      "metadata": {
        "id": "I5g64R7wLq4Q"
      },
      "execution_count": null,
      "outputs": []
    },
    {
      "cell_type": "code",
      "source": [
        "# Plot the data\n",
        "# Note: if you don't have the plot_predictions() function loaded, this will error\n",
        "plot_predictions()\n",
        "print(X.shape)\n",
        "print(y.shape)"
      ],
      "metadata": {
        "colab": {
          "base_uri": "https://localhost:8080/",
          "height": 627
        },
        "id": "aiUkTgHLLSD2",
        "outputId": "69a1980a-6696-4a89-ba30-479fb7693ed2"
      },
      "execution_count": null,
      "outputs": [
        {
          "output_type": "stream",
          "name": "stdout",
          "text": [
            "torch.Size([50, 1])\n",
            "torch.Size([50, 1])\n"
          ]
        },
        {
          "output_type": "display_data",
          "data": {
            "text/plain": [
              "<Figure size 1000x700 with 1 Axes>"
            ],
            "image/png": "[encoded data removed]"
          },
          "metadata": {}
        }
      ]
    },
    {
      "cell_type": "markdown",
      "source": [
        "## 6.2 Building a PyTorch Linear Model"
      ],
      "metadata": {
        "id": "4_OVEvYZL4cv"
      }
    },
    {
      "cell_type": "code",
      "source": [
        "m = nn.Linear(20, 30)\n",
        "input = torch.randn(128, 20)\n",
        "output = m(input)\n",
        "print(output.size())\n",
        "print(m)"
      ],
      "metadata": {
        "colab": {
          "base_uri": "https://localhost:8080/"
        },
        "id": "NttbJ_kSPjNG",
        "outputId": "67fe5421-0852-4d3f-bdcc-ea05d97da302"
      },
      "execution_count": null,
      "outputs": [
        {
          "output_type": "stream",
          "name": "stdout",
          "text": [
            "torch.Size([128, 30])\n",
            "Linear(in_features=20, out_features=30, bias=True)\n"
          ]
        }
      ]
    },
    {
      "cell_type": "code",
      "source": [
        "# lets create a class for a New Linear Model\n",
        "class LinearRegressionModelV2(nn.Module):\n",
        "  def __init__(self) -> None:\n",
        "    super().__init__() # Initialize the super class for all torch.nn functionalities\n",
        "\n",
        "    # Use nn.Linear() for creating the model parameters\n",
        "    self.linear_layer = nn.Linear(in_features=1,\n",
        "                                  out_features=1)\n",
        "\n",
        "  def forward(self, x: torch.Tensor) -> torch.Tensor:\n",
        "    # Perform the forward pass of it\n",
        "    return self.linear_layer(x)\n",
        "\n",
        "# Set the manual seed\n",
        "torch.manual_seed(42)\n",
        "model_1 = LinearRegressionModelV2()\n",
        "model_1, model_1.state_dict()"
      ],
      "metadata": {
        "colab": {
          "base_uri": "https://localhost:8080/"
        },
        "id": "oDx8ItgyL7eh",
        "outputId": "71891c80-15f0-4538-fe06-ed16cb7fffd7"
      },
      "execution_count": null,
      "outputs": [
        {
          "output_type": "execute_result",
          "data": {
            "text/plain": [
              "(LinearRegressionModelV2(\n",
              "   (linear_layer): Linear(in_features=1, out_features=1, bias=True)\n",
              " ),\n",
              " OrderedDict([('linear_layer.weight', tensor([[0.7645]])),\n",
              "              ('linear_layer.bias', tensor([0.8300]))]))"
            ]
          },
          "metadata": {},
          "execution_count": 151
        }
      ]
    },
    {
      "cell_type": "code",
      "source": [
        "#Check the model current device\n",
        "next(model_1.parameters()).device"
      ],
      "metadata": {
        "colab": {
          "base_uri": "https://localhost:8080/"
        },
        "id": "DPYeM--UfIGB",
        "outputId": "ca7e18ab-1674-4a7a-960e-e3a10b3922b6"
      },
      "execution_count": null,
      "outputs": [
        {
          "output_type": "execute_result",
          "data": {
            "text/plain": [
              "device(type='cpu')"
            ]
          },
          "metadata": {},
          "execution_count": 152
        }
      ]
    },
    {
      "cell_type": "code",
      "source": [
        "#Set the model to use the target device\n",
        "model_1.to(device)\n",
        "next(model_1.parameters()).device"
      ],
      "metadata": {
        "colab": {
          "base_uri": "https://localhost:8080/"
        },
        "id": "WX-7-RBQfC6x",
        "outputId": "f0bddb47-3a1d-4338-f0d6-864444900414"
      },
      "execution_count": null,
      "outputs": [
        {
          "output_type": "execute_result",
          "data": {
            "text/plain": [
              "device(type='cuda', index=0)"
            ]
          },
          "metadata": {},
          "execution_count": 153
        }
      ]
    },
    {
      "cell_type": "code",
      "source": [
        "model_1.state_dict()"
      ],
      "metadata": {
        "colab": {
          "base_uri": "https://localhost:8080/"
        },
        "id": "7dGgcdg_flZH",
        "outputId": "56c7a550-69f5-4758-e263-7733b567d536"
      },
      "execution_count": null,
      "outputs": [
        {
          "output_type": "execute_result",
          "data": {
            "text/plain": [
              "OrderedDict([('linear_layer.weight', tensor([[0.7645]], device='cuda:0')),\n",
              "             ('linear_layer.bias', tensor([0.8300], device='cuda:0'))])"
            ]
          },
          "metadata": {},
          "execution_count": 154
        }
      ]
    },
    {
      "cell_type": "markdown",
      "source": [
        "## 6.3 Training\n",
        "\n",
        "For training we need:\n",
        "* Loss function.\n",
        "* Optimizer.\n",
        "* Training loop.\n",
        "* Testing loop."
      ],
      "metadata": {
        "id": "514H-GdufPdL"
      }
    },
    {
      "cell_type": "code",
      "source": [
        "# Setup loss function using L1 loss\n",
        "loss_fn = nn.L1Loss() # Same as MAE\n",
        "\n",
        "#Setup our optimizer with stochaastic gradient descent\n",
        "optimizer = torch.optim.SGD(params = model_1.parameters(), \\\n",
        "                            lr = 0.01)"
      ],
      "metadata": {
        "id": "WU3WnaINfqtY"
      },
      "execution_count": null,
      "outputs": []
    },
    {
      "cell_type": "code",
      "source": [
        "#Lets write a training loop\n",
        "torch.manual_seed(42)\n",
        "epochs = 200\n",
        "\n",
        "#Put data on the target device (device agnostic code for data)\n",
        "X_train = X_train.to(device)\n",
        "y_train = y_train.to(device)\n",
        "X_test = X_test.to(device)\n",
        "y_test = y_test.to(device)\n",
        "\n",
        "for epoch in range(epochs):\n",
        "  model_1.train()\n",
        "\n",
        "  #1. Forward pass\n",
        "  y_pred = model_1(X_train)\n",
        "\n",
        "  #2. Calucalte the loss\n",
        "  loss = loss_fn(y_pred, y_train)\n",
        "\n",
        "  #3. Optimizer zero grad\n",
        "  optimizer.zero_grad()\n",
        "\n",
        "  #4. Perform backpropagation\n",
        "  loss.backward()\n",
        "\n",
        "  #5. Perform Optimizer step, step, step\n",
        "  optimizer.step()\n",
        "\n",
        "  ### Testing\n",
        "  model_1.eval()\n",
        "  with torch.inference_mode():\n",
        "    test_pred = model_1(X_test)\n",
        "    test_loss = loss_fn(test_pred, y_test)\n",
        "\n",
        "  #Print out whats happening\n",
        "\n",
        "  if epoch % 10 == 0:\n",
        "    print(f\"Epoch: {epoch}| Train loss: {loss}| Test loss {test_loss}\")"
      ],
      "metadata": {
        "colab": {
          "base_uri": "https://localhost:8080/"
        },
        "id": "5M984HU6f_AV",
        "outputId": "99760e7d-4923-4537-d979-8aa3b83e4b90"
      },
      "execution_count": null,
      "outputs": [
        {
          "output_type": "stream",
          "name": "stdout",
          "text": [
            "Epoch: 0| Train loss: 0.7721779942512512| Test loss 0.9409762620925903\n",
            "Epoch: 10| Train loss: 0.6569680571556091| Test loss 0.8062664270401001\n",
            "Epoch: 20| Train loss: 0.5417582392692566| Test loss 0.6715565919876099\n",
            "Epoch: 30| Train loss: 0.4265483021736145| Test loss 0.5368467569351196\n",
            "Epoch: 40| Train loss: 0.3113384246826172| Test loss 0.402136892080307\n",
            "Epoch: 50| Train loss: 0.19612857699394226| Test loss 0.2674270570278168\n",
            "Epoch: 60| Train loss: 0.08091866970062256| Test loss 0.13271720707416534\n",
            "Epoch: 70| Train loss: 0.01928839646279812| Test loss 0.047784872353076935\n",
            "Epoch: 80| Train loss: 0.015457023866474628| Test loss 0.03542662784457207\n",
            "Epoch: 90| Train loss: 0.01201879233121872| Test loss 0.027154160663485527\n",
            "Epoch: 100| Train loss: 0.008583522401750088| Test loss 0.019568556919693947\n",
            "Epoch: 110| Train loss: 0.005153974052518606| Test loss 0.01129607018083334\n",
            "Epoch: 120| Train loss: 0.0021402728743851185| Test loss 0.008357048034667969\n",
            "Epoch: 130| Train loss: 0.007573361974209547| Test loss 0.008357048034667969\n",
            "Epoch: 140| Train loss: 0.007573361974209547| Test loss 0.008357048034667969\n",
            "Epoch: 150| Train loss: 0.007573361974209547| Test loss 0.008357048034667969\n",
            "Epoch: 160| Train loss: 0.007573361974209547| Test loss 0.008357048034667969\n",
            "Epoch: 170| Train loss: 0.007573361974209547| Test loss 0.008357048034667969\n",
            "Epoch: 180| Train loss: 0.007573361974209547| Test loss 0.008357048034667969\n",
            "Epoch: 190| Train loss: 0.007573361974209547| Test loss 0.008357048034667969\n"
          ]
        }
      ]
    },
    {
      "cell_type": "code",
      "source": [
        "model_1.state_dict()"
      ],
      "metadata": {
        "colab": {
          "base_uri": "https://localhost:8080/"
        },
        "id": "Q4hNNF53iBCy",
        "outputId": "3a6eedac-c613-424d-9328-285b306fb756"
      },
      "execution_count": null,
      "outputs": [
        {
          "output_type": "execute_result",
          "data": {
            "text/plain": [
              "OrderedDict([('linear_layer.weight', tensor([[0.4049]], device='cuda:0')),\n",
              "             ('linear_layer.bias', tensor([0.1905], device='cuda:0'))])"
            ]
          },
          "metadata": {},
          "execution_count": 157
        }
      ]
    },
    {
      "cell_type": "code",
      "source": [
        "weight, bias"
      ],
      "metadata": {
        "colab": {
          "base_uri": "https://localhost:8080/"
        },
        "id": "Bz1qJbY5iEoO",
        "outputId": "86049887-c186-48a1-b762-e3378bc76e93"
      },
      "execution_count": null,
      "outputs": [
        {
          "output_type": "execute_result",
          "data": {
            "text/plain": [
              "(0.4, 0.2)"
            ]
          },
          "metadata": {},
          "execution_count": 158
        }
      ]
    },
    {
      "cell_type": "markdown",
      "source": [
        "## 6.4 Making and Evaluating predictions"
      ],
      "metadata": {
        "id": "swRKJVOQirGj"
      }
    },
    {
      "cell_type": "code",
      "source": [
        "# Turn model into evaluation model\n",
        "model_1.eval()\n",
        "\n",
        "# Make predictions on the test data\n",
        "with torch.inference_mode():\n",
        "  y_preds = model_1(X_test)\n",
        "print(y_preds)\n",
        "print(y_test)"
      ],
      "metadata": {
        "colab": {
          "base_uri": "https://localhost:8080/"
        },
        "id": "i24wJJGYiuMm",
        "outputId": "ef3d0fa2-87c8-46c4-bb37-2a457cd4510e"
      },
      "execution_count": null,
      "outputs": [
        {
          "output_type": "stream",
          "name": "stdout",
          "text": [
            "tensor([[0.5144],\n",
            "        [0.5225],\n",
            "        [0.5306],\n",
            "        [0.5387],\n",
            "        [0.5468],\n",
            "        [0.5549],\n",
            "        [0.5630],\n",
            "        [0.5711],\n",
            "        [0.5792],\n",
            "        [0.5873]], device='cuda:0')\n",
            "tensor([[0.5200],\n",
            "        [0.5280],\n",
            "        [0.5360],\n",
            "        [0.5440],\n",
            "        [0.5520],\n",
            "        [0.5600],\n",
            "        [0.5680],\n",
            "        [0.5760],\n",
            "        [0.5840],\n",
            "        [0.5920]], device='cuda:0')\n"
          ]
        }
      ]
    },
    {
      "cell_type": "code",
      "source": [
        "#Check out our model predictions visually\n",
        "plot_predictions(predictions = y_test.cpu())"
      ],
      "metadata": {
        "colab": {
          "base_uri": "https://localhost:8080/",
          "height": 619
        },
        "id": "lJET3-vDi9Ub",
        "outputId": "7d0b834d-2089-46d6-f069-943075fe4a3c"
      },
      "execution_count": null,
      "outputs": [
        {
          "output_type": "display_data",
          "data": {
            "text/plain": [
              "<Figure size 1000x700 with 1 Axes>"
            ],
            "image/png": "[encoded data removed]"
          },
          "metadata": {}
        }
      ]
    },
    {
      "cell_type": "markdown",
      "source": [
        "## 6.5 Saving & loading a trained model"
      ],
      "metadata": {
        "id": "IbrxZkzpko94"
      }
    },
    {
      "cell_type": "code",
      "source": [
        "from pathlib import Path\n",
        "\n",
        "#1. Create models directory\n",
        "MODEL_PATH = Path('models')\n",
        "MODEL_PATH.mkdir(parents = True, exist_ok = True)\n",
        "\n",
        "#2. Create model save path\n",
        "MODEL_NAME = \"01_pytorch_workflow_model_1.pth\"\n",
        "MODEL_SAVE_PATH = MODEL_PATH / MODEL_NAME\n",
        "MODEL_SAVE_PATH\n",
        "\n",
        "#3. Save the model saate dict\n",
        "print(f\"Saving model to: {MODEL_SAVE_PATH}\")\n",
        "torch.save(obj=model_1.state_dict(),\n",
        "          f = MODEL_SAVE_PATH)"
      ],
      "metadata": {
        "colab": {
          "base_uri": "https://localhost:8080/"
        },
        "id": "2cUcSKHrk23I",
        "outputId": "d8c1f0cb-f789-4858-96ae-8e047f0e3a2f"
      },
      "execution_count": null,
      "outputs": [
        {
          "output_type": "stream",
          "name": "stdout",
          "text": [
            "Saving model to: models/01_pytorch_workflow_model_1.pth\n"
          ]
        }
      ]
    },
    {
      "cell_type": "code",
      "source": [
        "# Load a PyTorch model\n",
        "\n",
        "# Create a new instance of linear regression model V2\n",
        "loaded_model_1 = LinearRegressionModelV2()\n",
        "\n",
        "# Load the saved model_1_state_dict\n",
        "loaded_model_1.load_state_dict(torch.load(MODEL_SAVE_PATH, weights_only=True))\n",
        "\n",
        "#Put the loaded model to device\n",
        "loaded_model_1.to(device)"
      ],
      "metadata": {
        "colab": {
          "base_uri": "https://localhost:8080/"
        },
        "id": "oQ3zAFVNl3Ui",
        "outputId": "4e50a2d0-fd1f-4c50-abc5-e40460bd9863"
      },
      "execution_count": null,
      "outputs": [
        {
          "output_type": "execute_result",
          "data": {
            "text/plain": [
              "LinearRegressionModelV2(\n",
              "  (linear_layer): Linear(in_features=1, out_features=1, bias=True)\n",
              ")"
            ]
          },
          "metadata": {},
          "execution_count": 167
        }
      ]
    },
    {
      "cell_type": "code",
      "source": [
        "next(loaded_model_1.parameters()).device"
      ],
      "metadata": {
        "colab": {
          "base_uri": "https://localhost:8080/"
        },
        "id": "iU04pmLRmajT",
        "outputId": "83eb6e01-3176-4969-e7ca-6fe9214d611f"
      },
      "execution_count": null,
      "outputs": [
        {
          "output_type": "execute_result",
          "data": {
            "text/plain": [
              "device(type='cuda', index=0)"
            ]
          },
          "metadata": {},
          "execution_count": 168
        }
      ]
    },
    {
      "cell_type": "code",
      "source": [
        "loaded_model_1.state_dict()"
      ],
      "metadata": {
        "colab": {
          "base_uri": "https://localhost:8080/"
        },
        "id": "J7wxNbFamamC",
        "outputId": "2851fadc-c6a2-4450-f267-1b8a7a067385"
      },
      "execution_count": null,
      "outputs": [
        {
          "output_type": "execute_result",
          "data": {
            "text/plain": [
              "OrderedDict([('linear_layer.weight', tensor([[0.4049]], device='cuda:0')),\n",
              "             ('linear_layer.bias', tensor([0.1905], device='cuda:0'))])"
            ]
          },
          "metadata": {},
          "execution_count": 169
        }
      ]
    },
    {
      "cell_type": "code",
      "source": [
        "#Evaluate loaded model\n",
        "loaded_model_1.eval()\n",
        "with torch.inference_mode():\n",
        "  loaded_model_1_preds = loaded_model_1(X_test)\n",
        "y_preds == loaded_model_1_preds"
      ],
      "metadata": {
        "colab": {
          "base_uri": "https://localhost:8080/"
        },
        "id": "EK3jHCCdmhks",
        "outputId": "4ad2f826-ab50-44a1-cbc6-5a3feaddf3eb"
      },
      "execution_count": null,
      "outputs": [
        {
          "output_type": "execute_result",
          "data": {
            "text/plain": [
              "tensor([[True],\n",
              "        [True],\n",
              "        [True],\n",
              "        [True],\n",
              "        [True],\n",
              "        [True],\n",
              "        [True],\n",
              "        [True],\n",
              "        [True],\n",
              "        [True]], device='cuda:0')"
            ]
          },
          "metadata": {},
          "execution_count": 171
        }
      ]
    },
    {
      "cell_type": "markdown",
      "source": [
        "## Excercises and Extra curriculum:\n",
        "\n",
        "For excercise & extra-curriculum, refer to:\n",
        "https://www.learnpytorch.io/01_pytorch_workflow/#extra-curriculum\n",
        "\n"
      ],
      "metadata": {
        "id": "SZCOdTO2Nac7"
      }
    }
  ]
}